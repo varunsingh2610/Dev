{
 "cells": [
  {
   "cell_type": "code",
   "execution_count": 4,
   "id": "b4659278",
   "metadata": {},
   "outputs": [
    {
     "name": "stderr",
     "output_type": "stream",
     "text": [
      "2021-11-10 21:20:31,914 Look out!\n",
      "[2021-11-11 02:50:31,914] None requested None\n",
      "WARNING in <ipython-input-4-ec416656c846>: Look out!\n"
     ]
    }
   ],
   "source": [
    "import logging\n",
    "import logging.config\n",
    "import time\n",
    "from flask import request, has_request_context\n",
    "\n",
    "class UTCFormatter(logging.Formatter):\n",
    "    converter = time.gmtime\n",
    "    \n",
    "class RequestFormatter(logging.Formatter):\n",
    "    def format(self, record):\n",
    "        if has_request_context():\n",
    "            record.url = request.url\n",
    "            record.remote_addr = request.remote_addr\n",
    "        else:\n",
    "            record.url = None\n",
    "            record.remote_addr = None\n",
    "\n",
    "        return super().format(record)\n",
    "\n",
    "LOGGING = {\n",
    "    'version': 1,\n",
    "    'disable_existing_loggers': False,\n",
    "    'formatters': {\n",
    "        'utc': {\n",
    "            '()': UTCFormatter,\n",
    "            'format': '%(asctime)s %(message)s',\n",
    "        },\n",
    "        'local': {\n",
    "        '()': RequestFormatter,\n",
    "            'format': \"[%(asctime)s] %(remote_addr)s requested %(url)s\\n\"\n",
    "                        \"%(levelname)s in %(module)s: %(message)s\",\n",
    "        }\n",
    "    },\n",
    "    'handlers': {\n",
    "        'console1': {\n",
    "            'class': 'logging.StreamHandler',\n",
    "            'formatter': 'utc',\n",
    "        },\n",
    "        'console2': {\n",
    "            'class': 'logging.StreamHandler',\n",
    "            'formatter': 'local',\n",
    "        },\n",
    "    },\n",
    "    'root': {\n",
    "        'handlers': ['console1', 'console2'],\n",
    "   }\n",
    "}\n",
    "\n",
    "\n",
    "logging.config.dictConfig(LOGGING)\n",
    "logging.warning('Look out!')"
   ]
  },
  {
   "cell_type": "code",
   "execution_count": null,
   "id": "afd4b4ff",
   "metadata": {},
   "outputs": [],
   "source": []
  }
 ],
 "metadata": {
  "kernelspec": {
   "display_name": "Python 3",
   "language": "python",
   "name": "python3"
  },
  "language_info": {
   "codemirror_mode": {
    "name": "ipython",
    "version": 3
   },
   "file_extension": ".py",
   "mimetype": "text/x-python",
   "name": "python",
   "nbconvert_exporter": "python",
   "pygments_lexer": "ipython3",
   "version": "3.8.11"
  }
 },
 "nbformat": 4,
 "nbformat_minor": 5
}
