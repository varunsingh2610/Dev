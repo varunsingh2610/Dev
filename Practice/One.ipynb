{
 "cells": [
  {
   "cell_type": "code",
   "execution_count": 1,
   "id": "c03967cd",
   "metadata": {},
   "outputs": [],
   "source": [
    "a=0"
   ]
  },
  {
   "cell_type": "code",
   "execution_count": 2,
   "id": "8faaebdc",
   "metadata": {},
   "outputs": [
    {
     "data": {
      "text/plain": [
       "0"
      ]
     },
     "execution_count": 2,
     "metadata": {},
     "output_type": "execute_result"
    }
   ],
   "source": [
    "a"
   ]
  },
  {
   "cell_type": "code",
   "execution_count": 1,
   "id": "f6136e82",
   "metadata": {},
   "outputs": [],
   "source": [
    "months = [u\"Januar\", u\"Februar\", u\"März\", u\"April\", u\"Mai\", u\"Juni\",\n",
    "          u\"Juli\", u\"August\", u\"September\", u\"Oktober\", u\"November\", u\"Dezember\"]"
   ]
  },
  {
   "cell_type": "code",
   "execution_count": 2,
   "id": "164b0203",
   "metadata": {},
   "outputs": [
    {
     "data": {
      "text/plain": [
       "'März'"
      ]
     },
     "execution_count": 2,
     "metadata": {},
     "output_type": "execute_result"
    }
   ],
   "source": [
    "months[2]"
   ]
  },
  {
   "cell_type": "code",
   "execution_count": 3,
   "id": "6529bfd0",
   "metadata": {},
   "outputs": [],
   "source": [
    "a = \"März\""
   ]
  },
  {
   "cell_type": "code",
   "execution_count": 4,
   "id": "10044c23",
   "metadata": {},
   "outputs": [
    {
     "data": {
      "text/plain": [
       "'März'"
      ]
     },
     "execution_count": 4,
     "metadata": {},
     "output_type": "execute_result"
    }
   ],
   "source": [
    "a"
   ]
  },
  {
   "cell_type": "code",
   "execution_count": 5,
   "id": "eebd1e60",
   "metadata": {},
   "outputs": [
    {
     "data": {
      "text/plain": [
       "'Januar'"
      ]
     },
     "execution_count": 5,
     "metadata": {},
     "output_type": "execute_result"
    }
   ],
   "source": [
    "months[0]"
   ]
  },
  {
   "cell_type": "code",
   "execution_count": 3,
   "id": "6560ec4c",
   "metadata": {},
   "outputs": [],
   "source": [
    "import pandas as pd"
   ]
  },
  {
   "cell_type": "code",
   "execution_count": 4,
   "id": "aae36201",
   "metadata": {},
   "outputs": [],
   "source": [
    "df = pd.read_excel(\"Countries.xlsx\")"
   ]
  },
  {
   "cell_type": "code",
   "execution_count": 5,
   "id": "a093d02a",
   "metadata": {},
   "outputs": [
    {
     "data": {
      "text/plain": [
       "0             Afghanistan\n",
       "1                Albanien\n",
       "2                Algerien\n",
       "3      Amerikanisch-Samoa\n",
       "4                 Andorra\n",
       "              ...        \n",
       "228     Wallis und Futuna\n",
       "229            Westsahara\n",
       "230                 Jemen\n",
       "231                Sambia\n",
       "232              Simbabwe\n",
       "Name: GERMAN, Length: 233, dtype: object"
      ]
     },
     "execution_count": 5,
     "metadata": {},
     "output_type": "execute_result"
    }
   ],
   "source": [
    "df['GERMAN']"
   ]
  },
  {
   "cell_type": "code",
   "execution_count": 8,
   "id": "242bcfed",
   "metadata": {},
   "outputs": [
    {
     "name": "stdout",
     "output_type": "stream",
     "text": [
      "Osttimor\n"
     ]
    }
   ],
   "source": [
    "lst = []\n",
    "for i in df['GERMAN']:\n",
    "    if i not in lst:\n",
    "        lst.append(i)\n",
    "    else:\n",
    "        print(i)"
   ]
  },
  {
   "cell_type": "code",
   "execution_count": null,
   "id": "e3c9df47",
   "metadata": {},
   "outputs": [],
   "source": []
  },
  {
   "cell_type": "code",
   "execution_count": null,
   "id": "bff77cbc",
   "metadata": {},
   "outputs": [],
   "source": []
  },
  {
   "cell_type": "code",
   "execution_count": 1,
   "id": "dcb74fa5",
   "metadata": {},
   "outputs": [
    {
     "ename": "NameError",
     "evalue": "name 'failed' is not defined",
     "output_type": "error",
     "traceback": [
      "\u001b[1;31m---------------------------------------------------------------------------\u001b[0m",
      "\u001b[1;31mNameError\u001b[0m                                 Traceback (most recent call last)",
      "\u001b[1;32m<ipython-input-1-d7dd5a6e42e2>\u001b[0m in \u001b[0;36m<module>\u001b[1;34m\u001b[0m\n\u001b[0;32m     37\u001b[0m \u001b[1;32mtry\u001b[0m\u001b[1;33m:\u001b[0m\u001b[1;33m\u001b[0m\u001b[1;33m\u001b[0m\u001b[0m\n\u001b[1;32m---> 38\u001b[1;33m     \u001b[0msuccess\u001b[0m\u001b[1;33m\u001b[0m\u001b[1;33m\u001b[0m\u001b[0m\n\u001b[0m\u001b[0;32m     39\u001b[0m \u001b[1;33m\u001b[0m\u001b[0m\n",
      "\u001b[1;31mNameError\u001b[0m: name 'success' is not defined",
      "\nDuring handling of the above exception, another exception occurred:\n",
      "\u001b[1;31mNameError\u001b[0m                                 Traceback (most recent call last)",
      "\u001b[1;32m<ipython-input-1-d7dd5a6e42e2>\u001b[0m in \u001b[0;36m<module>\u001b[1;34m\u001b[0m\n\u001b[0;32m     39\u001b[0m \u001b[1;33m\u001b[0m\u001b[0m\n\u001b[0;32m     40\u001b[0m \u001b[1;32mexcept\u001b[0m\u001b[1;33m:\u001b[0m\u001b[1;33m\u001b[0m\u001b[1;33m\u001b[0m\u001b[0m\n\u001b[1;32m---> 41\u001b[1;33m     \u001b[0mfailed\u001b[0m\u001b[1;33m\u001b[0m\u001b[1;33m\u001b[0m\u001b[0m\n\u001b[0m\u001b[0;32m     42\u001b[0m \u001b[1;33m\u001b[0m\u001b[0m\n\u001b[0;32m     43\u001b[0m \u001b[0mnum_1\u001b[0m \u001b[1;33m=\u001b[0m \u001b[1;36m20\u001b[0m\u001b[1;33m\u001b[0m\u001b[1;33m\u001b[0m\u001b[0m\n",
      "\u001b[1;31mNameError\u001b[0m: name 'failed' is not defined"
     ]
    }
   ],
   "source": [
    "\n",
    "import logging\n",
    "\n",
    "# DEBUG: Detailed information, typically of interest only when diagnosing problems.\n",
    "\n",
    "# INFO: Confirmation that things are working as expected.\n",
    "\n",
    "# WARNING: An indication that something unexpected happened, or indicative of some problem in the near future (e.g. ‘disk space low’). The software is still working as expected.\n",
    "\n",
    "# ERROR: Due to a more serious problem, the software has not been able to perform some function.\n",
    "\n",
    "# CRITICAL: A serious error, indicating that the program itself may be unable to continue running.\n",
    "\n",
    "logging.basicConfig(filename='test.log', level=logging.DEBUG,\n",
    "                    format='%(asctime)s:%(levelname)s:%(message)s')\n",
    "\n",
    "\n",
    "def add(x, y):\n",
    "    \"\"\"Add Function\"\"\"\n",
    "    return x + y\n",
    "\n",
    "\n",
    "def subtract(x, y):\n",
    "    \"\"\"Subtract Function\"\"\"\n",
    "    return x - y\n",
    "\n",
    "\n",
    "def multiply(x, y):\n",
    "    \"\"\"Multiply Function\"\"\"\n",
    "    return x * y\n",
    "\n",
    "\n",
    "def divide(x, y):\n",
    "    \n",
    "    \"\"\"Divide Function\"\"\"\n",
    "    \n",
    "    return x / y\n",
    "try:\n",
    "    success\n",
    "    \n",
    "except:\n",
    "    failed\n",
    "\n",
    "num_1 = 20\n",
    "num_2 = 10\n",
    "\n",
    "add_result = add(num_1, num_2)\n",
    "logging.info('Add: {} + {} = {}'.format(num_1, num_2, add_result))\n",
    "\n",
    "sub_result = subtract(num_1, num_2)\n",
    "logging.debug('Sub: {} - {} = {}'.format(num_1, num_2, sub_result))\n",
    "\n",
    "mul_result = multiply(num_1, num_2)\n",
    "logging.debug('Mul: {} * {} = {}'.format(num_1, num_2, mul_result))\n",
    "\n",
    "div_result = divide(num_1, num_2)\n",
    "logging.debug('Div: {} / {} = {}'.format(num_1, num_2, div_result))\n"
   ]
  },
  {
   "cell_type": "code",
   "execution_count": 1,
   "id": "0e72ba0e",
   "metadata": {},
   "outputs": [
    {
     "data": {
      "text/plain": [
       "OrderedDict([('method', 'constant'), ('data', '1.225')])"
      ]
     },
     "execution_count": 1,
     "metadata": {},
     "output_type": "execute_result"
    }
   ],
   "source": [
    "from collections import OrderedDict\n",
    "OrderedDict([('method', 'constant'), ('data', '1.225')])"
   ]
  },
  {
   "cell_type": "code",
   "execution_count": 2,
   "id": "3309148e",
   "metadata": {},
   "outputs": [
    {
     "data": {
      "text/plain": [
       "{'method': 'constant', 'data': '1.225'}"
      ]
     },
     "execution_count": 2,
     "metadata": {},
     "output_type": "execute_result"
    }
   ],
   "source": [
    "dict(OrderedDict([('method', 'constant'), ('data', '1.225')]))"
   ]
  },
  {
   "cell_type": "code",
   "execution_count": 4,
   "id": "a3c67e8d",
   "metadata": {},
   "outputs": [
    {
     "data": {
      "text/plain": [
       "list"
      ]
     },
     "execution_count": 4,
     "metadata": {},
     "output_type": "execute_result"
    }
   ],
   "source": [
    "type([OrderedDict([('id', 1), ('widget_valuation_overview', True), ('widget_map', False), ('widget_key_figures', True), ('widget_tax_base_by_state', True), ('widget_yearly_property_tax', True)])])"
   ]
  },
  {
   "cell_type": "code",
   "execution_count": 6,
   "id": "2821abe5",
   "metadata": {},
   "outputs": [
    {
     "data": {
      "text/plain": [
       "OrderedDict([('id', 1),\n",
       "             ('widget_valuation_overview', True),\n",
       "             ('widget_map', False),\n",
       "             ('widget_key_figures', True),\n",
       "             ('widget_tax_base_by_state', True),\n",
       "             ('widget_yearly_property_tax', True)])"
      ]
     },
     "execution_count": 6,
     "metadata": {},
     "output_type": "execute_result"
    }
   ],
   "source": [
    "[OrderedDict([('id', 1), ('widget_valuation_overview', True), ('widget_map', False), ('widget_key_figures', True), ('widget_tax_base_by_state', True), ('widget_yearly_property_tax', True)])][0]"
   ]
  },
  {
   "cell_type": "code",
   "execution_count": 1,
   "id": "b5714bf3",
   "metadata": {},
   "outputs": [],
   "source": [
    "a = 2"
   ]
  },
  {
   "cell_type": "code",
   "execution_count": 1,
   "id": "eb3292c2",
   "metadata": {},
   "outputs": [
    {
     "ename": "NameError",
     "evalue": "name 'a' is not defined",
     "output_type": "error",
     "traceback": [
      "\u001b[1;31m---------------------------------------------------------------------------\u001b[0m",
      "\u001b[1;31mNameError\u001b[0m                                 Traceback (most recent call last)",
      "\u001b[1;32m<ipython-input-1-3f786850e387>\u001b[0m in \u001b[0;36m<module>\u001b[1;34m\u001b[0m\n\u001b[1;32m----> 1\u001b[1;33m \u001b[0ma\u001b[0m\u001b[1;33m\u001b[0m\u001b[1;33m\u001b[0m\u001b[0m\n\u001b[0m",
      "\u001b[1;31mNameError\u001b[0m: name 'a' is not defined"
     ]
    }
   ],
   "source": [
    "a"
   ]
  },
  {
   "cell_type": "code",
   "execution_count": 3,
   "id": "ce05b34e",
   "metadata": {},
   "outputs": [],
   "source": [
    "import pandas as pd"
   ]
  },
  {
   "cell_type": "code",
   "execution_count": 4,
   "id": "72b11ecf",
   "metadata": {},
   "outputs": [],
   "source": [
    "df = pd.read_excel(\"Countries.xlsx\")"
   ]
  },
  {
   "cell_type": "code",
   "execution_count": 5,
   "id": "324cef9e",
   "metadata": {},
   "outputs": [
    {
     "data": {
      "text/html": [
       "<div>\n",
       "<style scoped>\n",
       "    .dataframe tbody tr th:only-of-type {\n",
       "        vertical-align: middle;\n",
       "    }\n",
       "\n",
       "    .dataframe tbody tr th {\n",
       "        vertical-align: top;\n",
       "    }\n",
       "\n",
       "    .dataframe thead th {\n",
       "        text-align: right;\n",
       "    }\n",
       "</style>\n",
       "<table border=\"1\" class=\"dataframe\">\n",
       "  <thead>\n",
       "    <tr style=\"text-align: right;\">\n",
       "      <th></th>\n",
       "      <th>ENGLISH</th>\n",
       "      <th>GERMAN</th>\n",
       "    </tr>\n",
       "  </thead>\n",
       "  <tbody>\n",
       "    <tr>\n",
       "      <th>0</th>\n",
       "      <td>Afghanistan</td>\n",
       "      <td>Afghanistan</td>\n",
       "    </tr>\n",
       "    <tr>\n",
       "      <th>1</th>\n",
       "      <td>Albania</td>\n",
       "      <td>Albanien</td>\n",
       "    </tr>\n",
       "    <tr>\n",
       "      <th>2</th>\n",
       "      <td>Algeria</td>\n",
       "      <td>Algerien</td>\n",
       "    </tr>\n",
       "    <tr>\n",
       "      <th>3</th>\n",
       "      <td>American Samoa</td>\n",
       "      <td>Amerikanisch-Samoa</td>\n",
       "    </tr>\n",
       "    <tr>\n",
       "      <th>4</th>\n",
       "      <td>Andorra</td>\n",
       "      <td>Andorra</td>\n",
       "    </tr>\n",
       "  </tbody>\n",
       "</table>\n",
       "</div>"
      ],
      "text/plain": [
       "          ENGLISH              GERMAN\n",
       "0     Afghanistan         Afghanistan\n",
       "1         Albania            Albanien\n",
       "2         Algeria            Algerien\n",
       "3  American Samoa  Amerikanisch-Samoa\n",
       "4         Andorra             Andorra"
      ]
     },
     "execution_count": 5,
     "metadata": {},
     "output_type": "execute_result"
    }
   ],
   "source": [
    "df.head()"
   ]
  },
  {
   "cell_type": "code",
   "execution_count": 7,
   "id": "d16154f5",
   "metadata": {},
   "outputs": [],
   "source": [
    "import numpy as np\n",
    "from matplotlib import pyplot as plt"
   ]
  },
  {
   "cell_type": "code",
   "execution_count": 8,
   "id": "2cf35d16",
   "metadata": {},
   "outputs": [
    {
     "data": {
      "image/png": "[encoded data removed]",
      "text/plain": [
       "<Figure size 640x480 with 1 Axes>"
      ]
     },
     "metadata": {},
     "output_type": "display_data"
    }
   ],
   "source": [
    "ys = 200 + np.random.randn(100)\n",
    "x = [x for x in range(len(ys))]\n",
    "\n",
    "plt.plot(x, ys, '-')\n",
    "plt.fill_between(x, ys, 195, where=(ys > 195), facecolor='g', alpha=0.6)\n",
    "\n",
    "plt.title(\"Sample Visualization\")\n",
    "plt.show()"
   ]
  },
  {
   "cell_type": "code",
   "execution_count": null,
   "id": "25312c9a",
   "metadata": {},
   "outputs": [],
   "source": []
  },
  {
   "cell_type": "code",
   "execution_count": null,
   "id": "fa16ee97",
   "metadata": {},
   "outputs": [],
   "source": []
  },
  {
   "cell_type": "code",
   "execution_count": 1,
   "id": "37de91cc",
   "metadata": {},
   "outputs": [
    {
     "data": {
      "text/plain": [
       "True"
      ]
     },
     "execution_count": 1,
     "metadata": {},
     "output_type": "execute_result"
    }
   ],
   "source": [
    "s='1-1'\n",
    "not s.isnumeric()"
   ]
  },
  {
   "cell_type": "markdown",
   "id": "1edbc869",
   "metadata": {},
   "source": []
  },
  {
   "cell_type": "code",
   "execution_count": null,
   "id": "8dd3b04f",
   "metadata": {},
   "outputs": [],
   "source": [
    "Write a python program to perform addition, subtraction, multiplication, integer division and modulo division on two integer and float."
   ]
  },
  {
   "cell_type": "code",
   "execution_count": 4,
   "id": "e2fb80cf",
   "metadata": {},
   "outputs": [
    {
     "name": "stdout",
     "output_type": "stream",
     "text": [
      "Enter first no1\n",
      "Enter second no23\n",
      "1 23\n"
     ]
    }
   ],
   "source": [
    "num_one = int(input(\"Enter first no\"))\n",
    "num_two = int(input(\"Enter second no\"))\n",
    "\n",
    "\n",
    "print(num_one,num_two)"
   ]
  },
  {
   "cell_type": "code",
   "execution_count": null,
   "id": "f946f81e",
   "metadata": {},
   "outputs": [],
   "source": [
    "Write a python program to check whether a given number is even or odd. If the \n",
    "number is even, print number’s square and if number is odd print number’s cube.\n",
    "For example if number is 2, it should be printed 22\n",
    "i.e. 4, if number is 3 it should be \n",
    "printed 33\n",
    "i.e. 27."
   ]
  },
  {
   "cell_type": "code",
   "execution_count": 7,
   "id": "dbe2d40c",
   "metadata": {},
   "outputs": [
    {
     "name": "stdout",
     "output_type": "stream",
     "text": [
      "Enter any a positive integer numbers:\n",
      "1\n",
      "1\n"
     ]
    }
   ],
   "source": [
    "# Python program to check whether a given number is even or odd\n",
    "print(\"Enter any a positive integer number:\")\n",
    "\n",
    "num = int(input())\n",
    "\n",
    "if num % 2 == 0:\n",
    "    print(num**2)\n",
    "else:\n",
    "    print(num**3)"
   ]
  },
  {
   "cell_type": "code",
   "execution_count": null,
   "id": "478fa5cd",
   "metadata": {},
   "outputs": [],
   "source": [
    "Write individual algorithm to find out the square root of a number by using both in \n",
    "built methods math.sqrt and math.pow."
   ]
  },
  {
   "cell_type": "code",
   "execution_count": null,
   "id": "4774e37c",
   "metadata": {},
   "outputs": [],
   "source": [
    "input: number to find square root\n",
    "output: square root of the given number\n",
    "    \n",
    "1. Take a number as input and save it to a variable\n",
    "num = input()\n",
    "2. convert the variable to integer \n",
    "num = int(num)\n",
    "3. import math from math module\n",
    "import math\n",
    "4. pass the varibale to math.sqrt function\n",
    "num2 = math.sqrt(num)\n",
    "5. pass the varibale to math.pow fucntion and pass .5 as second value to calculate square root\n",
    "num3 = math.pow(num,.5)\n",
    "5. print the output\n",
    "print(num2)\n",
    "print(num3)"
   ]
  },
  {
   "cell_type": "code",
   "execution_count": 8,
   "id": "5730ba94",
   "metadata": {},
   "outputs": [],
   "source": [
    "import math"
   ]
  },
  {
   "cell_type": "code",
   "execution_count": 9,
   "id": "c214a6a1",
   "metadata": {},
   "outputs": [
    {
     "data": {
      "text/plain": [
       "1.4142135623730951"
      ]
     },
     "execution_count": 9,
     "metadata": {},
     "output_type": "execute_result"
    }
   ],
   "source": [
    "math.sqrt(2)"
   ]
  },
  {
   "cell_type": "code",
   "execution_count": 10,
   "id": "f391f4e5",
   "metadata": {},
   "outputs": [
    {
     "data": {
      "text/plain": [
       "1.4142135623730951"
      ]
     },
     "execution_count": 10,
     "metadata": {},
     "output_type": "execute_result"
    }
   ],
   "source": [
    "math.pow(2,.5)"
   ]
  },
  {
   "cell_type": "code",
   "execution_count": null,
   "id": "d931c187",
   "metadata": {},
   "outputs": [],
   "source": []
  }
 ],
 "metadata": {
  "kernelspec": {
   "display_name": "Python 3",
   "language": "python",
   "name": "python3"
  },
  "language_info": {
   "codemirror_mode": {
    "name": "ipython",
    "version": 3
   },
   "file_extension": ".py",
   "mimetype": "text/x-python",
   "name": "python",
   "nbconvert_exporter": "python",
   "pygments_lexer": "ipython3",
   "version": "3.8.11"
  }
 },
 "nbformat": 4,
 "nbformat_minor": 5
}
