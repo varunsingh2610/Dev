{
 "cells": [
  {
   "cell_type": "code",
   "execution_count": 3,
   "metadata": {},
   "outputs": [],
   "source": [
    "# Creation of Singly Linked List\n",
    "\n",
    "class Node:\n",
    "    def __init__(self, value=None):\n",
    "        self.value = value\n",
    "        self.next = None\n",
    "\n",
    "class SinglyLinked:\n",
    "    def __init(self):\n",
    "        self.head = None\n",
    "        self.tail = None\n",
    "        \n",
    "singlyLinkedList = SinglyLinked()\n",
    "node1 = Node(1)\n",
    "node2 = Node(2)\n",
    "\n",
    "singlyLinkedList.head = node1\n",
    "singlyLinkedList.head.next = node2\n",
    "singlyLinkedList.tail = node2"
   ]
  },
  {
   "cell_type": "code",
   "execution_count": 79,
   "metadata": {},
   "outputs": [
    {
     "name": "stdout",
     "output_type": "stream",
     "text": [
      "[0, 1, 2, 3, 4]\n"
     ]
    }
   ],
   "source": [
    "# Singly Linked List\n",
    "\n",
    "class Node:\n",
    "    def __init__(self, value=None):\n",
    "        self.value = value\n",
    "        self.next = None\n",
    "\n",
    "class SinglyLinked:\n",
    "    def __init__(self):\n",
    "        self.head = None\n",
    "        self.tail = None\n",
    "        \n",
    "    def __iter__(self):\n",
    "        node = self.head\n",
    "        while node:\n",
    "            yield node\n",
    "            node = node.next\n",
    "            \n",
    "    # insert method\n",
    "    def insertSLL(self, value, location):\n",
    "        newNode = Node(value)\n",
    "        if self.head is None:\n",
    "            self.head = newNode\n",
    "            self.tail = newNode\n",
    "            \n",
    "        else:\n",
    "            if location == 0:\n",
    "                newNode.next = self.head\n",
    "                self.head = newNode\n",
    "            elif location == 1:\n",
    "                newNode.next == None\n",
    "                self.tail.next = newNode\n",
    "                self.tail = newNode\n",
    "            else:\n",
    "                tempNode = self.head\n",
    "                index = 0\n",
    "                while index < location - 1:\n",
    "                    tempNode = tempNode.next\n",
    "                    index += 1\n",
    "                tempNode.next, newNode.next = newNode, tempNode.next\n",
    "                \n",
    "    # Travers singlu linked list\n",
    "    def traverseSll(self):\n",
    "        if self.head is None:\n",
    "            print(\"The Singly Linked List does not exist.\")\n",
    "        else:\n",
    "            node = self.head\n",
    "            while node is not None:\n",
    "                print(node.value)\n",
    "                node = node.next\n",
    "    \n",
    "    # Search for a node in Singly Linked list\n",
    "    def searchSLL(self, nodeValue):\n",
    "        if self.head is None:\n",
    "            print(\"The Singly Linked List does not exist.\")\n",
    "        else:\n",
    "            node = self.head\n",
    "            index = 0\n",
    "            while node is not None:\n",
    "                if node.value == nodeValue:\n",
    "                    return index\n",
    "                index += 1\n",
    "                node = node.next\n",
    "            return \"The value does not exist in this list.\"\n",
    "        \n",
    "    # Delete a node from singly linked list\n",
    "    def deleteNode(self, location):\n",
    "        if self.head is None:\n",
    "            print(\"The Singly Linked List does not exist.\")\n",
    "        else:\n",
    "            if location == 0:\n",
    "                if self.head == self.tail:\n",
    "                    self.head = None\n",
    "                    self.tail = None\n",
    "                else:\n",
    "                    self.head = self.head.next\n",
    "            elif location == 1:\n",
    "                if self.head == self.tail:\n",
    "                    self.head = None\n",
    "                    self.tail = None\n",
    "                else:\n",
    "                    node = self.head\n",
    "                    while node is not None:\n",
    "                        if node.next == self.tail:\n",
    "                            break\n",
    "                        node = node.next\n",
    "                    node.next = None\n",
    "                    self.tail = node\n",
    "            else:\n",
    "                tempNode = self.head\n",
    "                index = 0\n",
    "                while index < location - 1:\n",
    "                    tempNode = tempNode.next\n",
    "                    index += 1\n",
    "                nextNode = tempNode.next\n",
    "                tempNode.next = nextNode.next\n",
    "                \n",
    "    # Delete entire Singly liked list                        \n",
    "    def deleteEntireSLL(self):\n",
    "        if self.head is None:\n",
    "            print(\"The Singly Linked List does not exist.\")\n",
    "        else:\n",
    "            self.head = None\n",
    "            self.tail = None\n",
    "    \n",
    "singlyLinkedList =  SinglyLinked()\n",
    "singlyLinkedList.insertSLL(0, 1)\n",
    "singlyLinkedList.insertSLL(1, 1)\n",
    "singlyLinkedList.insertSLL(2, 1)\n",
    "singlyLinkedList.insertSLL(4, 1)\n",
    "\n",
    "\n",
    "singlyLinkedList.insertSLL(3, 3)\n",
    "print([node.value for node in singlyLinkedList] )"
   ]
  },
  {
   "cell_type": "code",
   "execution_count": 83,
   "metadata": {},
   "outputs": [
    {
     "name": "stdout",
     "output_type": "stream",
     "text": [
      "The Singly Linked List does not exist.\n"
     ]
    }
   ],
   "source": [
    "singlyLinkedList.traverseSll()"
   ]
  },
  {
   "cell_type": "code",
   "execution_count": 73,
   "metadata": {},
   "outputs": [
    {
     "data": {
      "text/plain": [
       "0"
      ]
     },
     "execution_count": 73,
     "metadata": {},
     "output_type": "execute_result"
    }
   ],
   "source": [
    "singlyLinkedList.searchSLL(1)"
   ]
  },
  {
   "cell_type": "code",
   "execution_count": 71,
   "metadata": {},
   "outputs": [],
   "source": [
    "singlyLinkedList.deleteNode(0)"
   ]
  },
  {
   "cell_type": "code",
   "execution_count": 52,
   "metadata": {},
   "outputs": [],
   "source": [
    "singlyLinkedList.insertSLL(3, 0)"
   ]
  },
  {
   "cell_type": "code",
   "execution_count": 82,
   "metadata": {},
   "outputs": [
    {
     "name": "stdout",
     "output_type": "stream",
     "text": [
      "The Singly Linked List does not exist.\n"
     ]
    }
   ],
   "source": [
    "singlyLinkedList.deleteEntireSLL()"
   ]
  },
  {
   "cell_type": "code",
   "execution_count": null,
   "metadata": {},
   "outputs": [],
   "source": []
  },
  {
   "cell_type": "code",
   "execution_count": null,
   "metadata": {},
   "outputs": [],
   "source": []
  },
  {
   "cell_type": "code",
   "execution_count": null,
   "metadata": {},
   "outputs": [],
   "source": []
  },
  {
   "cell_type": "code",
   "execution_count": 66,
   "metadata": {},
   "outputs": [],
   "source": [
    "class Node:\n",
    "    def __init__(self,value=None):\n",
    "        self.value = value\n",
    "        self.next = None\n",
    "        \n",
    "class SinglyLinkedList:\n",
    "    def __init__(self):\n",
    "        self.head = None\n",
    "\n",
    "    def traverse(self):\n",
    "        temp = self.head\n",
    "        while temp:\n",
    "            print(temp.value)\n",
    "            temp = temp.next\n",
    "    def insert(self,value,location):\n",
    "        if self.head is None:\n",
    "            print(\"The linked list is empty\")\n",
    "        else:\n",
    "            node = Node(value)\n",
    "            if location == 0:\n",
    "                node.next = self.head\n",
    "                self.head = node\n",
    "            elif location == -1:\n",
    "                temp = self.head\n",
    "                while temp.next:\n",
    "                    temp = temp.next\n",
    "                temp.next = node\n",
    "            else:\n",
    "                temp = self.head\n",
    "                index = 0\n",
    "                while index < location-2:\n",
    "                    temp = temp.next\n",
    "                    index += 1\n",
    "                node.next = temp.next\n",
    "                temp.next = node\n",
    "            \n",
    "        "
   ]
  },
  {
   "cell_type": "code",
   "execution_count": 67,
   "metadata": {},
   "outputs": [],
   "source": [
    "singlyLL = SinglyLinkedList()"
   ]
  },
  {
   "cell_type": "code",
   "execution_count": 68,
   "metadata": {},
   "outputs": [],
   "source": [
    "node1 = Node(1)"
   ]
  },
  {
   "cell_type": "code",
   "execution_count": 69,
   "metadata": {},
   "outputs": [],
   "source": [
    "node2 = Node(2)\n",
    "singlyLL.head = node1\n",
    "singlyLL.head.next = node2\n",
    "singlyLL.tail = node2\n",
    "singlyLL.insert(0,0)\n",
    "singlyLL.insert(3,-1)"
   ]
  },
  {
   "cell_type": "code",
   "execution_count": 76,
   "metadata": {},
   "outputs": [
    {
     "name": "stdout",
     "output_type": "stream",
     "text": [
      "0\n",
      "3\n",
      "1\n",
      "1\n",
      "6\n",
      "2\n",
      "3\n"
     ]
    }
   ],
   "source": [
    "singlyLL.traverse()"
   ]
  },
  {
   "cell_type": "code",
   "execution_count": 75,
   "metadata": {},
   "outputs": [],
   "source": [
    "singlyLL.insert(3,1)"
   ]
  },
  {
   "cell_type": "code",
   "execution_count": null,
   "metadata": {},
   "outputs": [],
   "source": []
  },
  {
   "cell_type": "code",
   "execution_count": null,
   "metadata": {},
   "outputs": [],
   "source": []
  },
  {
   "cell_type": "code",
   "execution_count": 82,
   "metadata": {},
   "outputs": [],
   "source": [
    "class Node:\n",
    "    def __init__(self,value=None):\n",
    "        self.value = value\n",
    "        self.next = None\n",
    "\n",
    "class LinkedList:\n",
    "    def __init__(self):\n",
    "        self.head = None\n",
    "        \n",
    "    def printList(self):\n",
    "        temp = self.head\n",
    "        while temp:\n",
    "            print(temp.value, end=' ')\n",
    "            temp = temp.next\n",
    "    \n",
    "    def push(self, data):\n",
    "        if self.head == None:\n",
    "            node = Node(data)\n",
    "            self.head = node\n",
    "        else:\n",
    "            node = Node(data)\n",
    "            self.head, self.head.next = node, self.head\n",
    "            \n",
    "    def insertAfter(self, preData, data):\n",
    "        temp = self.head\n",
    "        while temp.value != preData:\n",
    "            temp = temp.next\n",
    "        node = Node(data)\n",
    "        temp.next, node.next = node, temp.next\n",
    "    \n",
    "    def append(self, data):\n",
    "        temp = self.head\n",
    "        while temp.next:\n",
    "            temp = temp.next\n",
    "        node = Node(data)\n",
    "        temp.next, node.next = node, temp.next\n",
    "        \n",
    "    def deleteNode(self, data):\n",
    "        temp = self.head\n",
    "        \n",
    "        if temp.value == data:\n",
    "            self.head = temp.next\n",
    "            temp = None\n",
    "            return\n",
    "        \n",
    "        while temp.next != None:\n",
    "            if temp.next.value == data:\n",
    "                break\n",
    "            temp = temp.next\n",
    "        \n",
    "        if temp.next == None:\n",
    "            print('Key is not present.')\n",
    "            return\n",
    "        \n",
    "        node = temp.next\n",
    "        temp.next, node.next = temp.next.next, None\n",
    "        \n",
    "    def deleteNodeAt(self, data):\n",
    "        temp = self.head\n",
    "        count = 0\n",
    "        \n",
    "        if data == 0:\n",
    "            self.head = temp.next\n",
    "            temp = None\n",
    "            return\n",
    "        \n",
    "        while temp.next != None:\n",
    "            if (data - 1) == count:\n",
    "                break\n",
    "            temp = temp.next\n",
    "            count += 1\n",
    "            \n",
    "        if temp.next == None:\n",
    "            print('Key is not present.')\n",
    "            return\n",
    "        \n",
    "        node = temp.next\n",
    "        temp.next, node.next = temp.next.next, None\n",
    "    \n",
    "    def deleteList(self):\n",
    "        current = self.head\n",
    "\n",
    "        while current:\n",
    "            nxt = current.next\n",
    "            current.next = None\n",
    "            current.value = None\n",
    "            current = nxt\n",
    "        self.head = None\n",
    "\n",
    "        # In python garbage collection happens\n",
    "        # therefore, only\n",
    "#         self.head = None\n",
    "        # would also delete the link list\n",
    "        \n",
    "    def reverse(self):\n",
    "        first = self.head\n",
    "        \n",
    "        second = first.next\n",
    "        first.next = None\n",
    "        third = second.next\n",
    "        second.next = first\n",
    "        \n",
    "        while third:\n",
    "            first = second\n",
    "            second = third\n",
    "            third = third.next\n",
    "            second.next = first   \n",
    "        self.head = second\n",
    "\n",
    "        \n",
    "\n",
    "\n"
   ]
  },
  {
   "cell_type": "code",
   "execution_count": 83,
   "metadata": {},
   "outputs": [],
   "source": [
    "llist = LinkedList()"
   ]
  },
  {
   "cell_type": "code",
   "execution_count": 70,
   "metadata": {},
   "outputs": [
    {
     "name": "stdout",
     "output_type": "stream",
     "text": [
      "1 2 3 \n",
      "1 2 3 4 \n",
      "1 2 3 4 5 6 7 8 \n",
      "Key is not present.\n",
      "1 2 3 4 5 6 7 \n",
      "Key is not present.\n",
      "1 2 3 4 5 6 \n"
     ]
    }
   ],
   "source": [
    "llist.push(3)\n",
    "llist.push(2)\n",
    "llist.push(1)\n",
    "llist.printList()\n",
    "print()\n",
    "\n",
    "llist.insertAfter(3,4)\n",
    "llist.printList()\n",
    "print()\n",
    "\n",
    "llist.append(5)\n",
    "llist.append(6)\n",
    "llist.append(7)\n",
    "llist.append(8)\n",
    "llist.printList()\n",
    "print()\n",
    "\n",
    "llist.deleteNode(8)\n",
    "llist.deleteNode(9)\n",
    "llist.printList()\n",
    "print()\n",
    "\n",
    "llist.deleteNodeAt(6)\n",
    "llist.deleteNodeAt(7)\n",
    "llist.printList()\n",
    "print()"
   ]
  },
  {
   "cell_type": "code",
   "execution_count": 87,
   "metadata": {},
   "outputs": [
    {
     "name": "stdout",
     "output_type": "stream",
     "text": [
      "1 1 "
     ]
    }
   ],
   "source": [
    "llist.reverse()\n",
    "llist.printList()"
   ]
  },
  {
   "cell_type": "code",
   "execution_count": 72,
   "metadata": {},
   "outputs": [],
   "source": [
    "llist.deleteList()\n",
    "llist.printList()"
   ]
  },
  {
   "cell_type": "code",
   "execution_count": 85,
   "metadata": {},
   "outputs": [],
   "source": [
    "llist.push(1)"
   ]
  },
  {
   "cell_type": "code",
   "execution_count": 86,
   "metadata": {},
   "outputs": [
    {
     "name": "stdout",
     "output_type": "stream",
     "text": [
      "1 1 "
     ]
    }
   ],
   "source": [
    "llist.printList()"
   ]
  },
  {
   "cell_type": "code",
   "execution_count": null,
   "metadata": {},
   "outputs": [],
   "source": []
  },
  {
   "cell_type": "code",
   "execution_count": 92,
   "metadata": {},
   "outputs": [
    {
     "data": {
      "text/plain": [
       "-21"
      ]
     },
     "execution_count": 92,
     "metadata": {},
     "output_type": "execute_result"
    }
   ],
   "source": [
    "int('-021')"
   ]
  },
  {
   "cell_type": "code",
   "execution_count": null,
   "metadata": {},
   "outputs": [],
   "source": []
  }
 ],
 "metadata": {
  "kernelspec": {
   "display_name": "Python 3",
   "language": "python",
   "name": "python3"
  },
  "language_info": {
   "codemirror_mode": {
    "name": "ipython",
    "version": 3
   },
   "file_extension": ".py",
   "mimetype": "text/x-python",
   "name": "python",
   "nbconvert_exporter": "python",
   "pygments_lexer": "ipython3",
   "version": "3.8.5"
  }
 },
 "nbformat": 4,
 "nbformat_minor": 4
}
