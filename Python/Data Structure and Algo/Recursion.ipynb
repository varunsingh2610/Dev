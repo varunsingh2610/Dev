{
 "cells": [
  {
   "cell_type": "code",
   "execution_count": 6,
   "metadata": {},
   "outputs": [
    {
     "name": "stdout",
     "output_type": "stream",
     "text": [
      "Doll no. 6 opened.\n",
      "Doll no. 5 opened.\n",
      "Doll no. 4 opened.\n",
      "Doll no. 3 opened.\n",
      "Doll no. 2 opened.\n",
      "Doll no. 1 opened.\n",
      "All dolls opened.\n"
     ]
    }
   ],
   "source": [
    "# Example 1, function to open n number of dolls recursively\n",
    "def openRussianDoll(n):\n",
    "    if n == 0:\n",
    "        print(\"All dolls opened.\")\n",
    "    else:\n",
    "        print(f\"Doll no. {n} opened.\")\n",
    "        openRussianDoll(n-1)\n",
    "\n",
    "openRussianDoll(6)"
   ]
  },
  {
   "cell_type": "code",
   "execution_count": 7,
   "metadata": {},
   "outputs": [
    {
     "name": "stdout",
     "output_type": "stream",
     "text": [
      "4\n",
      "3\n",
      "2\n",
      "1\n"
     ]
    }
   ],
   "source": [
    "# Example 2, Print function to print number from n to 1 recursively\n",
    "\n",
    "def Print(n):\n",
    "    if n == 0:\n",
    "        return None\n",
    "    else:\n",
    "        print(n)\n",
    "        return Print(n-1)\n",
    "Print(4)"
   ]
  },
  {
   "cell_type": "code",
   "execution_count": 8,
   "metadata": {},
   "outputs": [
    {
     "name": "stdout",
     "output_type": "stream",
     "text": [
      "1\n",
      "2\n",
      "3\n",
      "4\n"
     ]
    }
   ],
   "source": [
    "# Example 3, Print reverse number of list from given number n, from 1 to n\n",
    "\n",
    "def reverseNum(n):\n",
    "    if n<1:\n",
    "        return None\n",
    "    else:\n",
    "        reverseNum(n-1)\n",
    "        print(n)\n",
    "        \n",
    "reverseNum(4)"
   ]
  },
  {
   "cell_type": "code",
   "execution_count": 19,
   "metadata": {},
   "outputs": [],
   "source": [
    "# recursion vs iteration\n",
    "\n",
    "# recursion\n",
    "def powerOfTwo(n):\n",
    "    if n == 0:\n",
    "        return 1\n",
    "    else:\n",
    "        power = powerOfTwo(n-1)\n",
    "        return power * 2\n",
    "\n",
    "# iteration    \n",
    "def powerOfTwoIt(n):\n",
    "    power = 1\n",
    "    while n > 0:\n",
    "        power *=  2\n",
    "        n -= 1\n",
    "    return power"
   ]
  },
  {
   "cell_type": "code",
   "execution_count": 21,
   "metadata": {},
   "outputs": [],
   "source": [
    "# When to use Recursion\n",
    "# - When we can easily breakdown a problem into similar subproblem\n",
    "# - When we are fine with extra overhead (both time and space) that comes with it\n",
    "# - When we need a quick working solution instead of an efficient one\n",
    "# - When traverse a tree\n",
    "# - When we use memoization in recursion"
   ]
  },
  {
   "cell_type": "code",
   "execution_count": 43,
   "metadata": {},
   "outputs": [],
   "source": [
    "# Factorial using recursion\n",
    "\n",
    "def factorial(n):\n",
    "    assert n>=0 and int(n) == n, 'The number must be positive integer only'\n",
    "    if n == 0:\n",
    "        return 1\n",
    "    else:\n",
    "        return factorial(n-1) * n"
   ]
  },
  {
   "cell_type": "code",
   "execution_count": 44,
   "metadata": {},
   "outputs": [],
   "source": [
    "# Write recursion in 3 steps\n",
    "# Step 1: Recursive case, find the recursive flow how it should go like\n",
    "# Step 2: Find the base case to avoid infinite loop\n",
    "# step 3: Unintensional case - the constraint, like things we want to avoid using assert keyword."
   ]
  },
  {
   "cell_type": "code",
   "execution_count": 33,
   "metadata": {},
   "outputs": [
    {
     "data": {
      "text/plain": [
       "44"
      ]
     },
     "execution_count": 33,
     "metadata": {},
     "output_type": "execute_result"
    }
   ],
   "source": [
    "# Finding nth Fibonacci numbers using recursion\n",
    "# 0 1 1 2 3 5 8\n",
    "\n",
    "def fibonacci(n):\n",
    "    assert n>=0 and int(n) == n, 'The number must be positive integer only'\n",
    "    if n in [0,1]:\n",
    "        return n\n",
    "    else:\n",
    "        return fibonacci(n-1) + fibonacci(n-2)\n",
    "    \n",
    "    \n",
    "fibonacci(6)"
   ]
  },
  {
   "cell_type": "code",
   "execution_count": 93,
   "metadata": {},
   "outputs": [
    {
     "data": {
      "text/plain": [
       "9"
      ]
     },
     "execution_count": 93,
     "metadata": {},
     "output_type": "execute_result"
    }
   ],
   "source": [
    "# find sum of digits of a positive integer number using recursion\n",
    "\n",
    "def sumOfdigits(n):\n",
    "    assert n>=0 and int(n) == n, 'The number must be positive integer only'\n",
    "    if n == 0:\n",
    "        return 0\n",
    "    else:\n",
    "        return sum(n//10) + sum(n%10)\n",
    "    \n",
    "sumOfdigits(9)"
   ]
  },
  {
   "cell_type": "code",
   "execution_count": 99,
   "metadata": {},
   "outputs": [
    {
     "data": {
      "text/plain": [
       "8"
      ]
     },
     "execution_count": 99,
     "metadata": {},
     "output_type": "execute_result"
    }
   ],
   "source": [
    "# Calculate power of a number using recursion\n",
    "\n",
    "def powerOfNumber(base, exp):\n",
    "    if exp == 0:\n",
    "        return 1\n",
    "    elif exp == 1:\n",
    "        return base\n",
    "    else:\n",
    "        return base * powerOfNumber(base, exp-1)\n",
    "    \n",
    "powerOfNumber(2,3)"
   ]
  },
  {
   "cell_type": "code",
   "execution_count": 5,
   "metadata": {},
   "outputs": [],
   "source": [
    "# Find GCD(Greatest Common Divisor) of two numbers using recursion\n",
    "\n",
    "def greatestCommonDivisor(a,b):\n",
    "    assert int(a) == a and int(b) == b, 'The numbers must be interger only!'\n",
    "    if a < 0:\n",
    "        a = -1 * a\n",
    "    if a < 0:\n",
    "        a = -1 * a\n",
    "    if b == 0:\n",
    "        return a\n",
    "    else:\n",
    "        return greatestCommonDivisor(b,a%b)"
   ]
  },
  {
   "cell_type": "code",
   "execution_count": 24,
   "metadata": {},
   "outputs": [
    {
     "data": {
      "text/plain": [
       "1010"
      ]
     },
     "execution_count": 24,
     "metadata": {},
     "output_type": "execute_result"
    }
   ],
   "source": [
    "# Convert a number from decimal to Binary using recursion\n",
    "\n",
    "def decimalToBinary(n):\n",
    "    assert int(n) == n, 'The parameter must be an interger only!'\n",
    "    if n == 0:\n",
    "        return 0\n",
    "    else:\n",
    "        return n%2 + 10 * decimalToBinary(n // 2)\n",
    "    \n",
    "decimalToBinary(10)"
   ]
  },
  {
   "cell_type": "code",
   "execution_count": 35,
   "metadata": {},
   "outputs": [
    {
     "data": {
      "text/plain": [
       "44"
      ]
     },
     "execution_count": 35,
     "metadata": {},
     "output_type": "execute_result"
    }
   ],
   "source": [
    "# Finding nth Tribonacci numbers using recursion\n",
    "\n",
    "def tribonacci(n):\n",
    "    assert n>=0 and int(n) == n, 'The number must be positive integer only'\n",
    "    if n in [0,1,2]:\n",
    "        return 0\n",
    "    elif n == 3:\n",
    "        return 1\n",
    "    else:\n",
    "        return tribonacci(n-1) + tribonacci(n-2) + tribonacci(n-3)\n",
    "    \n",
    "    \n",
    "tribonacci(10)"
   ]
  },
  {
   "cell_type": "code",
   "execution_count": null,
   "metadata": {},
   "outputs": [],
   "source": []
  },
  {
   "cell_type": "code",
   "execution_count": null,
   "metadata": {},
   "outputs": [],
   "source": []
  },
  {
   "cell_type": "code",
   "execution_count": null,
   "metadata": {},
   "outputs": [],
   "source": []
  },
  {
   "cell_type": "code",
   "execution_count": null,
   "metadata": {},
   "outputs": [],
   "source": []
  }
 ],
 "metadata": {
  "kernelspec": {
   "display_name": "Python 3",
   "language": "python",
   "name": "python3"
  },
  "language_info": {
   "codemirror_mode": {
    "name": "ipython",
    "version": 3
   },
   "file_extension": ".py",
   "mimetype": "text/x-python",
   "name": "python",
   "nbconvert_exporter": "python",
   "pygments_lexer": "ipython3",
   "version": "3.8.5"
  }
 },
 "nbformat": 4,
 "nbformat_minor": 4
}
