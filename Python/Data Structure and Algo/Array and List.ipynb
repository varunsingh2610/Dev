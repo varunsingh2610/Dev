{
 "cells": [
  {
   "cell_type": "code",
   "execution_count": 21,
   "metadata": {},
   "outputs": [],
   "source": [
    "# Find the missing number with knowing number of item in the array with having array in sequence like missing number between 1 to 100\n",
    "# this will work same for unsorted array if only one number is missing.\n",
    "\n",
    "def findMissing(lst, n):\n",
    "    sum1 = n*(n+1)/2\n",
    "    sum2 = sum(lst)\n",
    "    return sum1-sum2"
   ]
  },
  {
   "cell_type": "code",
   "execution_count": 51,
   "metadata": {},
   "outputs": [],
   "source": [
    "# Find duplicate number on a given integer array?\n",
    "distinct = []\n",
    "duplicate = []\n",
    "def findDuplicate(lst):\n",
    "\n",
    "    for i in lst:\n",
    "        if i in distinct and i not in duplicate:\n",
    "            duplicate.append(i)\n",
    "        else:\n",
    "            distinct.append(i)\n",
    "            \n",
    "findDuplicate(lst)"
   ]
  },
  {
   "cell_type": "code",
   "execution_count": 70,
   "metadata": {},
   "outputs": [],
   "source": [
    "# Write a program to find all pairs of integers whose sum is equal to a given number\n",
    "\n",
    "def findNUmber(lst, sum):\n",
    "    for i in range(len(lst)):\n",
    "        for j in range(i+1, len(lst)):\n",
    "            if (lst[i] + lst[j] == sum):\n",
    "                print(lst[i], lst[j])"
   ]
  },
  {
   "cell_type": "code",
   "execution_count": 82,
   "metadata": {},
   "outputs": [],
   "source": [
    "# How to find maximum product of two integers in the array where all elements are positive\n",
    "\n",
    "def findMaxProduct(lst):\n",
    "    maxProduct = 0\n",
    "    for i in range(len(lst)):\n",
    "        for j in range(i+1, len(lst)):\n",
    "            if lst[i] * lst[j] > maxProduct:\n",
    "                maxProduct = lst[i] * lst[j]\n",
    "                pairs = str(lst[i]) + ', ' + str(lst[j])\n",
    "    print(pairs + ' -> ' + str(maxProduct))\n",
    "\n",
    "    \n",
    "    \n",
    "# This can also be done but doing a sorting first and then product of last two integers. That will be of O(NlogN) when sorting algo is of O(NlogN)\n",
    "\n",
    "def findMaxProductagain(lst):\n",
    "    maxProduct = 0\n",
    "    lst.sort() # Merge sort or any sorting algo with less time complexity.\n",
    "    print(str(lst[-2])+', '+str(lst[-1]) + ' -> ' + str(lst[-1]*lst[-2]))"
   ]
  },
  {
   "cell_type": "code",
   "execution_count": 99,
   "metadata": {},
   "outputs": [
    {
     "name": "stdout",
     "output_type": "stream",
     "text": [
      "9\n",
      "False\n"
     ]
    }
   ],
   "source": [
    "# Is Unique: Implement an algorith to detemine if a list has all unique characters\n",
    "def isUnique(lst):\n",
    "    a=[]\n",
    "    for i in lst:\n",
    "        if i in a:\n",
    "            print(i)\n",
    "            return False\n",
    "        else:\n",
    "            a.append(i)\n",
    "    return True\n",
    "\n",
    "print(isUnique(lst))"
   ]
  },
  {
   "cell_type": "code",
   "execution_count": null,
   "metadata": {},
   "outputs": [],
   "source": []
  },
  {
   "cell_type": "code",
   "execution_count": 98,
   "metadata": {},
   "outputs": [],
   "source": [
    "lst = [1,2,3,4,5,9,6,7,9,8,9,8,10]"
   ]
  },
  {
   "cell_type": "code",
   "execution_count": 84,
   "metadata": {},
   "outputs": [
    {
     "name": "stdout",
     "output_type": "stream",
     "text": [
      "9, 10 -> 90\n"
     ]
    }
   ],
   "source": [
    "findMaxProductagain(lst)"
   ]
  },
  {
   "cell_type": "code",
   "execution_count": null,
   "metadata": {},
   "outputs": [],
   "source": []
  }
 ],
 "metadata": {
  "kernelspec": {
   "display_name": "Python 3",
   "language": "python",
   "name": "python3"
  },
  "language_info": {
   "codemirror_mode": {
    "name": "ipython",
    "version": 3
   },
   "file_extension": ".py",
   "mimetype": "text/x-python",
   "name": "python",
   "nbconvert_exporter": "python",
   "pygments_lexer": "ipython3",
   "version": "3.8.5"
  }
 },
 "nbformat": 4,
 "nbformat_minor": 4
}
