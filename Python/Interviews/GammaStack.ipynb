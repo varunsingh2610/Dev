{
 "cells": [
  {
   "cell_type": "code",
   "execution_count": 160,
   "metadata": {},
   "outputs": [],
   "source": [
    "# write a program to find the 2nd maximum element in an list using single loop without any inbuilt function"
   ]
  },
  {
   "cell_type": "code",
   "execution_count": 16,
   "metadata": {},
   "outputs": [],
   "source": [
    "def secondLargest(lst):\n",
    "    mx = 0\n",
    "    num = 0\n",
    "    sec = 0\n",
    "    for i in lst:\n",
    "        if i > mx:\n",
    "            sec = mx\n",
    "            mx = i\n",
    "        else:\n",
    "            if i > num and num >= sec:\n",
    "                sec = i\n",
    "            num = i\n",
    "    return sec"
   ]
  },
  {
   "cell_type": "code",
   "execution_count": 21,
   "metadata": {},
   "outputs": [
    {
     "data": {
      "text/plain": [
       "58"
      ]
     },
     "execution_count": 21,
     "metadata": {},
     "output_type": "execute_result"
    }
   ],
   "source": [
    "secondLargest(lst)"
   ]
  },
  {
   "cell_type": "code",
   "execution_count": 15,
   "metadata": {},
   "outputs": [],
   "source": [
    "lst = [3,4,5,212,58,54]"
   ]
  },
  {
   "cell_type": "code",
   "execution_count": 20,
   "metadata": {},
   "outputs": [],
   "source": [
    "def secondLargest(numbers):\n",
    "    mx = 0\n",
    "    num = 0\n",
    "    sec = 0\n",
    "    for i in numbers:\n",
    "        if i == mx and num != sec:\n",
    "            mx=i\n",
    "        elif i > mx:\n",
    "            sec = mx\n",
    "            mx = i\n",
    "        elif i > sec:\n",
    "            sec = i\n",
    "    return sec"
   ]
  },
  {
   "cell_type": "code",
   "execution_count": null,
   "metadata": {},
   "outputs": [],
   "source": []
  },
  {
   "cell_type": "code",
   "execution_count": null,
   "metadata": {},
   "outputs": [],
   "source": []
  }
 ],
 "metadata": {
  "kernelspec": {
   "display_name": "Python 3",
   "language": "python",
   "name": "python3"
  },
  "language_info": {
   "codemirror_mode": {
    "name": "ipython",
    "version": 3
   },
   "file_extension": ".py",
   "mimetype": "text/x-python",
   "name": "python",
   "nbconvert_exporter": "python",
   "pygments_lexer": "ipython3",
   "version": "3.8.5"
  }
 },
 "nbformat": 4,
 "nbformat_minor": 4
}
