{
 "cells": [
  {
   "cell_type": "code",
   "execution_count": 1,
   "metadata": {},
   "outputs": [],
   "source": [
    "stocksPriceBuy = 413\n",
    "amount = 36000\n",
    "stoplossPercent = 0.01\n",
    "tragetPercent = 0.025"
   ]
  },
  {
   "cell_type": "code",
   "execution_count": 2,
   "metadata": {},
   "outputs": [
    {
     "name": "stdout",
     "output_type": "stream",
     "text": [
      "Stock Buy Price: 413\n",
      "No. of stock to buy: 435\n",
      "\n",
      "# Going Long with Margin\n",
      "Stoploss at:412.9655172413793 Total Loss: 1800.0\n",
      "Traget at: 415.86206896551727 Total Profit: 4500.0\n",
      "\n",
      "Stock Buy Price: 413\n",
      "\n",
      "# Going Long without Margin\n",
      "No. of stock to buy: 87\n",
      "Stoploss at:409.6551724137931\n",
      "Traget at: 424.13793103448273\n",
      "\n"
     ]
    }
   ],
   "source": [
    "import math\n",
    "# Going Long\n",
    "print(\"Stock Buy Price: \"+str(stocksPriceBuy))\n",
    "\n",
    "numOfStocks = math.floor((amount * 5)/stocksPriceBuy)\n",
    "print(\"No. of stock to buy: \"+str(numOfStocks))\n",
    "print()\n",
    "\n",
    "print(\"# Going Long with Margin\")\n",
    "\n",
    "stoploss = ((amount * 5) - (amount*stoplossPercent))/numOfStocks\n",
    "target = ((amount * 5) + (amount*tragetPercent))/numOfStocks\n",
    "\n",
    "print(\"Stoploss at:\"+str(stoploss)+ \" Total Loss: \"+str((amount * 5)*stoplossPercent))\n",
    "print(\"Traget at: \"+str(target)+ \" Total Profit: \"+str((amount * 5)*tragetPercent))\n",
    "print()\n",
    "\n",
    "\n",
    "# Going Long\n",
    "print(\"Stock Buy Price: \"+str(stocksPriceBuy))\n",
    "print()\n",
    "print(\"# Going Long without Margin\")\n",
    "\n",
    "numOfStocks = math.floor(amount/stocksPriceBuy)\n",
    "print(\"No. of stock to buy: \"+str(numOfStocks))\n",
    "\n",
    "\n",
    "stoploss = (amount - (amount*stoplossPercent))/numOfStocks\n",
    "target = (amount + (amount*tragetPercent))/numOfStocks\n",
    "\n",
    "print(\"Stoploss at:\"+str(stoploss))\n",
    "print(\"Traget at: \"+str(target))\n",
    "print()"
   ]
  },
  {
   "cell_type": "code",
   "execution_count": 15,
   "metadata": {},
   "outputs": [],
   "source": [
    "stocksPriceSell = 159.70\n",
    "stoplossPercent = 0.005\n",
    "tragetPercent = 0.015"
   ]
  },
  {
   "cell_type": "code",
   "execution_count": 16,
   "metadata": {},
   "outputs": [
    {
     "name": "stdout",
     "output_type": "stream",
     "text": [
      "Stock Buy Price: 159.7\n",
      "\n",
      "#Going Short with Margin\n",
      "No. of stock to buy: 1353\n",
      "\n",
      "Stoploss at:159.86260162601624\n",
      "Traget at: 159.2121951219512\n",
      "\n",
      "Stock Buy Price: 159.7\n",
      "\n",
      "#Going Short\n",
      "No. of stock to buy: 270\n",
      "Stoploss at:160.51481481481483\n",
      "Traget at: 157.25555555555556\n"
     ]
    }
   ],
   "source": [
    "import math\n",
    "# Going Short\n",
    "print(\"Stock Buy Price: \"+str(stocksPriceSell))\n",
    "print()\n",
    "print(\"#Going Short with Margin\")\n",
    "\n",
    "numOfStocks = math.floor((amount * 5)/stocksPriceBuy)\n",
    "print(\"No. of stock to buy: \"+str(numOfStocks))\n",
    "print()\n",
    "\n",
    "stoploss = ((numOfStocks * stocksPriceSell) + (amount*stoplossPercent))/numOfStocks\n",
    "target = ((numOfStocks * stocksPriceSell) - (amount*tragetPercent))/numOfStocks\n",
    "\n",
    "\n",
    "print(\"Stoploss at:\"+str(stoploss))\n",
    "print(\"Traget at: \"+str(target))\n",
    "print()\n",
    "\n",
    "# Going Short\n",
    "print(\"Stock Buy Price: \"+str(stocksPriceSell))\n",
    "print()\n",
    "print(\"#Going Short\")\n",
    "\n",
    "numOfStocks = math.floor(amount/stocksPriceBuy)\n",
    "print(\"No. of stock to buy: \"+str(numOfStocks))\n",
    "\n",
    "stoploss = ((numOfStocks * stocksPriceSell) + (amount*stoplossPercent))/numOfStocks\n",
    "target = ((numOfStocks * stocksPriceSell) - (amount*tragetPercent))/numOfStocks\n",
    "\n",
    "print(\"Stoploss at:\"+str(stoploss))\n",
    "print(\"Traget at: \"+str(target))"
   ]
  },
  {
   "cell_type": "code",
   "execution_count": null,
   "metadata": {},
   "outputs": [],
   "source": []
  }
 ],
 "metadata": {
  "kernelspec": {
   "display_name": "Python 3",
   "language": "python",
   "name": "python3"
  },
  "language_info": {
   "codemirror_mode": {
    "name": "ipython",
    "version": 3
   },
   "file_extension": ".py",
   "mimetype": "text/x-python",
   "name": "python",
   "nbconvert_exporter": "python",
   "pygments_lexer": "ipython3",
   "version": "3.7.7"
  }
 },
 "nbformat": 4,
 "nbformat_minor": 4
}
