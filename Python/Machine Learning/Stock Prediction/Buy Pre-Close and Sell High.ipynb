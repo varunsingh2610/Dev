{
 "cells": [
  {
   "cell_type": "code",
   "execution_count": 1,
   "metadata": {},
   "outputs": [],
   "source": [
    "#Import the libraries\n",
    "import pandas_datareader as pdr\n",
    "import yfinance as yf\n",
    "import datetime\n",
    "# import mplfinance as mpf\n",
    "\n",
    "import warnings\n",
    "import pandas as pd\n",
    "import matplotlib.pyplot as plt\n",
    "plt.style.use('fivethirtyeight')\n",
    "warnings.filterwarnings('ignore')"
   ]
  },
  {
   "cell_type": "code",
   "execution_count": 2,
   "metadata": {},
   "outputs": [],
   "source": [
    "years = 1\n",
    "\n",
    "now = datetime.datetime.now()\n",
    "\n",
    "start_date = (datetime.date((int(now.year) - years),now.month,1) - datetime.timedelta(days=4)).strftime(\"%Y-%m-%d\")\n",
    "end_date = (datetime.date((int(now.year) - years),now.month,1) - datetime.timedelta(days=1)).strftime(\"%Y-%m-%d\")\n",
    "stock = pdr.DataReader(\"NEOGEN.NS\", data_source='yahoo', start=start_date, end=end_date)\n",
    "num = stock.index[-1].strftime(\"%Y-%m-%d\")\n",
    "preClose = stock.iloc[-1]['Close']\n",
    "\n",
    "start_date = (datetime.date((int(now.year) - years),now.month,1)).strftime(\"%Y-%m-%d\")\n",
    "end_date =  now.strftime(\"%Y-%m-%d\")\n",
    "\n",
    "stock = pdr.DataReader(\"NEOGEN.NS\", data_source='yahoo', start=start_date, end=end_date)"
   ]
  },
  {
   "cell_type": "code",
   "execution_count": 11,
   "metadata": {},
   "outputs": [
    {
     "data": {
      "text/html": [
       "<div>\n",
       "<style scoped>\n",
       "    .dataframe tbody tr th:only-of-type {\n",
       "        vertical-align: middle;\n",
       "    }\n",
       "\n",
       "    .dataframe tbody tr th {\n",
       "        vertical-align: top;\n",
       "    }\n",
       "\n",
       "    .dataframe thead th {\n",
       "        text-align: right;\n",
       "    }\n",
       "</style>\n",
       "<table border=\"1\" class=\"dataframe\">\n",
       "  <thead>\n",
       "    <tr style=\"text-align: right;\">\n",
       "      <th></th>\n",
       "      <th>High</th>\n",
       "      <th>Low</th>\n",
       "      <th>Open</th>\n",
       "      <th>Close</th>\n",
       "      <th>Volume</th>\n",
       "      <th>Adj Close</th>\n",
       "    </tr>\n",
       "    <tr>\n",
       "      <th>Date</th>\n",
       "      <th></th>\n",
       "      <th></th>\n",
       "      <th></th>\n",
       "      <th></th>\n",
       "      <th></th>\n",
       "      <th></th>\n",
       "    </tr>\n",
       "  </thead>\n",
       "  <tbody>\n",
       "    <tr>\n",
       "      <th>2020-07-01</th>\n",
       "      <td>479.000000</td>\n",
       "      <td>469.250000</td>\n",
       "      <td>475.350006</td>\n",
       "      <td>477.799988</td>\n",
       "      <td>14468.0</td>\n",
       "      <td>476.425720</td>\n",
       "    </tr>\n",
       "    <tr>\n",
       "      <th>2020-07-02</th>\n",
       "      <td>525.549988</td>\n",
       "      <td>485.049988</td>\n",
       "      <td>489.950012</td>\n",
       "      <td>525.549988</td>\n",
       "      <td>84982.0</td>\n",
       "      <td>524.038391</td>\n",
       "    </tr>\n",
       "    <tr>\n",
       "      <th>2020-07-03</th>\n",
       "      <td>537.000000</td>\n",
       "      <td>504.000000</td>\n",
       "      <td>533.950012</td>\n",
       "      <td>525.250000</td>\n",
       "      <td>132170.0</td>\n",
       "      <td>523.739258</td>\n",
       "    </tr>\n",
       "    <tr>\n",
       "      <th>2020-07-06</th>\n",
       "      <td>531.950012</td>\n",
       "      <td>511.000000</td>\n",
       "      <td>530.000000</td>\n",
       "      <td>519.049988</td>\n",
       "      <td>24745.0</td>\n",
       "      <td>517.557068</td>\n",
       "    </tr>\n",
       "    <tr>\n",
       "      <th>2020-07-07</th>\n",
       "      <td>570.950012</td>\n",
       "      <td>515.000000</td>\n",
       "      <td>528.500000</td>\n",
       "      <td>569.849976</td>\n",
       "      <td>173350.0</td>\n",
       "      <td>568.210938</td>\n",
       "    </tr>\n",
       "  </tbody>\n",
       "</table>\n",
       "</div>"
      ],
      "text/plain": [
       "                  High         Low        Open       Close    Volume  \\\n",
       "Date                                                                   \n",
       "2020-07-01  479.000000  469.250000  475.350006  477.799988   14468.0   \n",
       "2020-07-02  525.549988  485.049988  489.950012  525.549988   84982.0   \n",
       "2020-07-03  537.000000  504.000000  533.950012  525.250000  132170.0   \n",
       "2020-07-06  531.950012  511.000000  530.000000  519.049988   24745.0   \n",
       "2020-07-07  570.950012  515.000000  528.500000  569.849976  173350.0   \n",
       "\n",
       "             Adj Close  \n",
       "Date                    \n",
       "2020-07-01  476.425720  \n",
       "2020-07-02  524.038391  \n",
       "2020-07-03  523.739258  \n",
       "2020-07-06  517.557068  \n",
       "2020-07-07  568.210938  "
      ]
     },
     "execution_count": 11,
     "metadata": {},
     "output_type": "execute_result"
    }
   ],
   "source": [
    "stock.head()"
   ]
  },
  {
   "cell_type": "code",
   "execution_count": null,
   "metadata": {},
   "outputs": [],
   "source": [
    "total = 0\n",
    "for index, row in stock.iterrows():\n",
    "    print(index.strftime(\"%Y-%m-%d\"))"
   ]
  },
  {
   "cell_type": "code",
   "execution_count": 93,
   "metadata": {},
   "outputs": [
    {
     "data": {
      "text/plain": [
       "0.7996607103017502"
      ]
     },
     "execution_count": 93,
     "metadata": {},
     "output_type": "execute_result"
    }
   ],
   "source": [
    "((stock.iloc[1]['High'] - stock.iloc[0]['Close'])/stock.iloc[0]['Close'])*100"
   ]
  },
  {
   "cell_type": "code",
   "execution_count": 94,
   "metadata": {},
   "outputs": [
    {
     "data": {
      "text/plain": [
       "10.0"
      ]
     },
     "execution_count": 94,
     "metadata": {},
     "output_type": "execute_result"
    }
   ],
   "source": [
    "num"
   ]
  },
  {
   "cell_type": "code",
   "execution_count": 71,
   "metadata": {},
   "outputs": [
    {
     "data": {
      "text/html": [
       "<div>\n",
       "<style scoped>\n",
       "    .dataframe tbody tr th:only-of-type {\n",
       "        vertical-align: middle;\n",
       "    }\n",
       "\n",
       "    .dataframe tbody tr th {\n",
       "        vertical-align: top;\n",
       "    }\n",
       "\n",
       "    .dataframe thead th {\n",
       "        text-align: right;\n",
       "    }\n",
       "</style>\n",
       "<table border=\"1\" class=\"dataframe\">\n",
       "  <thead>\n",
       "    <tr style=\"text-align: right;\">\n",
       "      <th></th>\n",
       "      <th>High</th>\n",
       "      <th>Low</th>\n",
       "      <th>Open</th>\n",
       "      <th>Close</th>\n",
       "      <th>Volume</th>\n",
       "      <th>Adj Close</th>\n",
       "    </tr>\n",
       "    <tr>\n",
       "      <th>Date</th>\n",
       "      <th></th>\n",
       "      <th></th>\n",
       "      <th></th>\n",
       "      <th></th>\n",
       "      <th></th>\n",
       "      <th></th>\n",
       "    </tr>\n",
       "  </thead>\n",
       "  <tbody>\n",
       "    <tr>\n",
       "      <th>2021-02-25</th>\n",
       "      <td>882.849976</td>\n",
       "      <td>821.250000</td>\n",
       "      <td>871.950012</td>\n",
       "      <td>832.950012</td>\n",
       "      <td>61432</td>\n",
       "      <td>832.950012</td>\n",
       "    </tr>\n",
       "    <tr>\n",
       "      <th>2021-02-26</th>\n",
       "      <td>843.750000</td>\n",
       "      <td>810.000000</td>\n",
       "      <td>822.000000</td>\n",
       "      <td>819.049988</td>\n",
       "      <td>42473</td>\n",
       "      <td>819.049988</td>\n",
       "    </tr>\n",
       "    <tr>\n",
       "      <th>2021-03-01</th>\n",
       "      <td>851.900024</td>\n",
       "      <td>816.049988</td>\n",
       "      <td>830.000000</td>\n",
       "      <td>829.700012</td>\n",
       "      <td>38575</td>\n",
       "      <td>829.700012</td>\n",
       "    </tr>\n",
       "    <tr>\n",
       "      <th>2021-03-02</th>\n",
       "      <td>844.150024</td>\n",
       "      <td>812.000000</td>\n",
       "      <td>834.849976</td>\n",
       "      <td>822.700012</td>\n",
       "      <td>48132</td>\n",
       "      <td>822.700012</td>\n",
       "    </tr>\n",
       "    <tr>\n",
       "      <th>2021-03-03</th>\n",
       "      <td>938.000000</td>\n",
       "      <td>848.849976</td>\n",
       "      <td>849.000000</td>\n",
       "      <td>890.000000</td>\n",
       "      <td>297989</td>\n",
       "      <td>890.000000</td>\n",
       "    </tr>\n",
       "    <tr>\n",
       "      <th>...</th>\n",
       "      <td>...</td>\n",
       "      <td>...</td>\n",
       "      <td>...</td>\n",
       "      <td>...</td>\n",
       "      <td>...</td>\n",
       "      <td>...</td>\n",
       "    </tr>\n",
       "    <tr>\n",
       "      <th>2021-07-16</th>\n",
       "      <td>919.750000</td>\n",
       "      <td>885.000000</td>\n",
       "      <td>915.000000</td>\n",
       "      <td>890.299988</td>\n",
       "      <td>67636</td>\n",
       "      <td>890.299988</td>\n",
       "    </tr>\n",
       "    <tr>\n",
       "      <th>2021-07-19</th>\n",
       "      <td>914.000000</td>\n",
       "      <td>882.500000</td>\n",
       "      <td>892.000000</td>\n",
       "      <td>894.200012</td>\n",
       "      <td>57788</td>\n",
       "      <td>894.200012</td>\n",
       "    </tr>\n",
       "    <tr>\n",
       "      <th>2021-07-20</th>\n",
       "      <td>898.700012</td>\n",
       "      <td>875.000000</td>\n",
       "      <td>890.000000</td>\n",
       "      <td>879.849976</td>\n",
       "      <td>34295</td>\n",
       "      <td>879.849976</td>\n",
       "    </tr>\n",
       "    <tr>\n",
       "      <th>2021-07-22</th>\n",
       "      <td>905.000000</td>\n",
       "      <td>877.750000</td>\n",
       "      <td>899.950012</td>\n",
       "      <td>890.000000</td>\n",
       "      <td>64052</td>\n",
       "      <td>890.000000</td>\n",
       "    </tr>\n",
       "    <tr>\n",
       "      <th>2021-07-23</th>\n",
       "      <td>905.000000</td>\n",
       "      <td>885.000000</td>\n",
       "      <td>892.099976</td>\n",
       "      <td>892.099976</td>\n",
       "      <td>36219</td>\n",
       "      <td>892.099976</td>\n",
       "    </tr>\n",
       "  </tbody>\n",
       "</table>\n",
       "<p>100 rows × 6 columns</p>\n",
       "</div>"
      ],
      "text/plain": [
       "                  High         Low        Open       Close  Volume   Adj Close\n",
       "Date                                                                          \n",
       "2021-02-25  882.849976  821.250000  871.950012  832.950012   61432  832.950012\n",
       "2021-02-26  843.750000  810.000000  822.000000  819.049988   42473  819.049988\n",
       "2021-03-01  851.900024  816.049988  830.000000  829.700012   38575  829.700012\n",
       "2021-03-02  844.150024  812.000000  834.849976  822.700012   48132  822.700012\n",
       "2021-03-03  938.000000  848.849976  849.000000  890.000000  297989  890.000000\n",
       "...                ...         ...         ...         ...     ...         ...\n",
       "2021-07-16  919.750000  885.000000  915.000000  890.299988   67636  890.299988\n",
       "2021-07-19  914.000000  882.500000  892.000000  894.200012   57788  894.200012\n",
       "2021-07-20  898.700012  875.000000  890.000000  879.849976   34295  879.849976\n",
       "2021-07-22  905.000000  877.750000  899.950012  890.000000   64052  890.000000\n",
       "2021-07-23  905.000000  885.000000  892.099976  892.099976   36219  892.099976\n",
       "\n",
       "[100 rows x 6 columns]"
      ]
     },
     "execution_count": 71,
     "metadata": {},
     "output_type": "execute_result"
    }
   ],
   "source": [
    "pdr.DataReader(\"NEOGEN.NS\", data_source='yahoo', start='2021-02-25', end=end_date)"
   ]
  },
  {
   "cell_type": "code",
   "execution_count": 7,
   "metadata": {},
   "outputs": [
    {
     "data": {
      "text/plain": [
       "'2020-06-30'"
      ]
     },
     "execution_count": 7,
     "metadata": {},
     "output_type": "execute_result"
    }
   ],
   "source": [
    "stock.index[-1].strftime(\"%Y-%m-%d\")"
   ]
  },
  {
   "cell_type": "code",
   "execution_count": 9,
   "metadata": {},
   "outputs": [
    {
     "data": {
      "text/plain": [
       "'2020-07-01'"
      ]
     },
     "execution_count": 9,
     "metadata": {},
     "output_type": "execute_result"
    }
   ],
   "source": [
    "(datetime.date((int(now.year) - years),now.month,1)).strftime(\"%Y-%m-%d\")"
   ]
  },
  {
   "cell_type": "code",
   "execution_count": 86,
   "metadata": {},
   "outputs": [
    {
     "data": {
      "text/plain": [
       "True"
      ]
     },
     "execution_count": 86,
     "metadata": {},
     "output_type": "execute_result"
    }
   ],
   "source": [
    "stock.index[-1] > stock.index[-2]"
   ]
  },
  {
   "cell_type": "code",
   "execution_count": 79,
   "metadata": {},
   "outputs": [
    {
     "data": {
      "text/html": [
       "<div>\n",
       "<style scoped>\n",
       "    .dataframe tbody tr th:only-of-type {\n",
       "        vertical-align: middle;\n",
       "    }\n",
       "\n",
       "    .dataframe tbody tr th {\n",
       "        vertical-align: top;\n",
       "    }\n",
       "\n",
       "    .dataframe thead th {\n",
       "        text-align: right;\n",
       "    }\n",
       "</style>\n",
       "<table border=\"1\" class=\"dataframe\">\n",
       "  <thead>\n",
       "    <tr style=\"text-align: right;\">\n",
       "      <th></th>\n",
       "      <th>High</th>\n",
       "      <th>Low</th>\n",
       "      <th>Open</th>\n",
       "      <th>Close</th>\n",
       "      <th>Volume</th>\n",
       "      <th>Adj Close</th>\n",
       "    </tr>\n",
       "    <tr>\n",
       "      <th>Date</th>\n",
       "      <th></th>\n",
       "      <th></th>\n",
       "      <th></th>\n",
       "      <th></th>\n",
       "      <th></th>\n",
       "      <th></th>\n",
       "    </tr>\n",
       "  </thead>\n",
       "  <tbody>\n",
       "    <tr>\n",
       "      <th>2020-06-29</th>\n",
       "      <td>494.899994</td>\n",
       "      <td>476.000000</td>\n",
       "      <td>494.899994</td>\n",
       "      <td>480.899994</td>\n",
       "      <td>11866</td>\n",
       "      <td>479.516815</td>\n",
       "    </tr>\n",
       "    <tr>\n",
       "      <th>2020-06-30</th>\n",
       "      <td>490.000000</td>\n",
       "      <td>474.899994</td>\n",
       "      <td>489.799988</td>\n",
       "      <td>475.200012</td>\n",
       "      <td>17365</td>\n",
       "      <td>473.833221</td>\n",
       "    </tr>\n",
       "  </tbody>\n",
       "</table>\n",
       "</div>"
      ],
      "text/plain": [
       "                  High         Low        Open       Close  Volume   Adj Close\n",
       "Date                                                                          \n",
       "2020-06-29  494.899994  476.000000  494.899994  480.899994   11866  479.516815\n",
       "2020-06-30  490.000000  474.899994  489.799988  475.200012   17365  473.833221"
      ]
     },
     "execution_count": 79,
     "metadata": {},
     "output_type": "execute_result"
    }
   ],
   "source": [
    "stock"
   ]
  },
  {
   "cell_type": "code",
   "execution_count": 77,
   "metadata": {},
   "outputs": [
    {
     "data": {
      "text/html": [
       "<div>\n",
       "<style scoped>\n",
       "    .dataframe tbody tr th:only-of-type {\n",
       "        vertical-align: middle;\n",
       "    }\n",
       "\n",
       "    .dataframe tbody tr th {\n",
       "        vertical-align: top;\n",
       "    }\n",
       "\n",
       "    .dataframe thead th {\n",
       "        text-align: right;\n",
       "    }\n",
       "</style>\n",
       "<table border=\"1\" class=\"dataframe\">\n",
       "  <thead>\n",
       "    <tr style=\"text-align: right;\">\n",
       "      <th></th>\n",
       "      <th>High</th>\n",
       "      <th>Low</th>\n",
       "      <th>Open</th>\n",
       "      <th>Close</th>\n",
       "      <th>Volume</th>\n",
       "      <th>Adj Close</th>\n",
       "    </tr>\n",
       "    <tr>\n",
       "      <th>Date</th>\n",
       "      <th></th>\n",
       "      <th></th>\n",
       "      <th></th>\n",
       "      <th></th>\n",
       "      <th></th>\n",
       "      <th></th>\n",
       "    </tr>\n",
       "  </thead>\n",
       "  <tbody>\n",
       "    <tr>\n",
       "      <th>2021-07-22</th>\n",
       "      <td>905</td>\n",
       "      <td>877.75</td>\n",
       "      <td>899.950012</td>\n",
       "      <td>890.000000</td>\n",
       "      <td>64052</td>\n",
       "      <td>890.000000</td>\n",
       "    </tr>\n",
       "    <tr>\n",
       "      <th>2021-07-23</th>\n",
       "      <td>905</td>\n",
       "      <td>885.00</td>\n",
       "      <td>892.099976</td>\n",
       "      <td>892.099976</td>\n",
       "      <td>36219</td>\n",
       "      <td>892.099976</td>\n",
       "    </tr>\n",
       "  </tbody>\n",
       "</table>\n",
       "</div>"
      ],
      "text/plain": [
       "            High     Low        Open       Close  Volume   Adj Close\n",
       "Date                                                                \n",
       "2021-07-22   905  877.75  899.950012  890.000000   64052  890.000000\n",
       "2021-07-23   905  885.00  892.099976  892.099976   36219  892.099976"
      ]
     },
     "execution_count": 77,
     "metadata": {},
     "output_type": "execute_result"
    }
   ],
   "source": [
    "pdr.DataReader(\"NEOGEN.NS\", data_source='yahoo', start='2021-07-21', end='2021-07-23')"
   ]
  },
  {
   "cell_type": "code",
   "execution_count": 16,
   "metadata": {},
   "outputs": [
    {
     "data": {
      "text/plain": [
       "909.1500244140625"
      ]
     },
     "execution_count": 16,
     "metadata": {},
     "output_type": "execute_result"
    }
   ],
   "source": [
    "stock.iloc[-1]['Close']"
   ]
  },
  {
   "cell_type": "code",
   "execution_count": null,
   "metadata": {},
   "outputs": [],
   "source": []
  },
  {
   "cell_type": "code",
   "execution_count": 35,
   "metadata": {},
   "outputs": [],
   "source": [
    "lst = [1,2,3,4,5,6,7,8,9,10,1,2,3,4,5,6,7,8,1,2,3,4,5,6,7,8,9,1,2,3,4,5,6,7,8,10]"
   ]
  },
  {
   "cell_type": "code",
   "execution_count": 41,
   "metadata": {},
   "outputs": [
    {
     "name": "stdout",
     "output_type": "stream",
     "text": [
      "55\n",
      "36\n",
      "45\n"
     ]
    },
    {
     "data": {
      "text/plain": [
       "46"
      ]
     },
     "execution_count": 41,
     "metadata": {},
     "output_type": "execute_result"
    }
   ],
   "source": [
    "num=0\n",
    "total=0\n",
    "for i in lst:\n",
    "    if i > num:\n",
    "        total += i\n",
    "        num = i\n",
    "    else:\n",
    "        print(total)\n",
    "        total=i\n",
    "        num=0\n",
    "total"
   ]
  },
  {
   "cell_type": "code",
   "execution_count": 40,
   "metadata": {},
   "outputs": [
    {
     "data": {
      "text/plain": [
       "45"
      ]
     },
     "execution_count": 40,
     "metadata": {},
     "output_type": "execute_result"
    }
   ],
   "source": [
    "t=0\n",
    "for i in [1,2,3,4,5,6,7,8,9]:\n",
    "    t+=i\n",
    "t"
   ]
  },
  {
   "cell_type": "code",
   "execution_count": 24,
   "metadata": {},
   "outputs": [],
   "source": [
    "from dateutil.relativedelta import relativedelta\n",
    "\n",
    "new_date = now - relativedelta(years=1)"
   ]
  },
  {
   "cell_type": "code",
   "execution_count": 26,
   "metadata": {},
   "outputs": [
    {
     "data": {
      "text/plain": [
       "'2020-07-25'"
      ]
     },
     "execution_count": 26,
     "metadata": {},
     "output_type": "execute_result"
    }
   ],
   "source": [
    "new_date.strftime(\"%Y-%m-%d\")"
   ]
  },
  {
   "cell_type": "code",
   "execution_count": 47,
   "metadata": {},
   "outputs": [
    {
     "data": {
      "text/plain": [
       "datetime.date(2020, 7, 25)"
      ]
     },
     "execution_count": 47,
     "metadata": {},
     "output_type": "execute_result"
    }
   ],
   "source": [
    "datetime.date(2020,7,25)"
   ]
  },
  {
   "cell_type": "code",
   "execution_count": null,
   "metadata": {},
   "outputs": [],
   "source": []
  }
 ],
 "metadata": {
  "kernelspec": {
   "display_name": "Python 3",
   "language": "python",
   "name": "python3"
  },
  "language_info": {
   "codemirror_mode": {
    "name": "ipython",
    "version": 3
   },
   "file_extension": ".py",
   "mimetype": "text/x-python",
   "name": "python",
   "nbconvert_exporter": "python",
   "pygments_lexer": "ipython3",
   "version": "3.8.5"
  }
 },
 "nbformat": 4,
 "nbformat_minor": 4
}
