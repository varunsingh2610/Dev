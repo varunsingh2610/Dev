{
 "cells": [
  {
   "cell_type": "code",
   "execution_count": 1,
   "metadata": {},
   "outputs": [],
   "source": [
    "#Import the libraries\n",
    "# import math\n",
    "import pandas_datareader as pdr\n",
    "import yfinance as yf\n",
    "import datetime\n",
    "# import mplfinance as mpf\n",
    "\n",
    "import warnings\n",
    "import numpy as np\n",
    "import pandas as pd\n",
    "import matplotlib.pyplot as plt\n",
    "plt.style.use('fivethirtyeight')\n",
    "warnings.filterwarnings('ignore')"
   ]
  },
  {
   "cell_type": "code",
   "execution_count": 2,
   "metadata": {},
   "outputs": [],
   "source": [
    "# df['MA5'] = df.Close.rolling(5).mean()\n",
    "# df['MA20'] = df.Close.rolling(20).mean()\n",
    "\n",
    "# Pivot = (High + Low + Close)/3\n",
    "# Bottom CPR = (High + Low)/ 2\n",
    "# Top CPR = (Pivot – BC) + Pivot\n",
    "\n",
    "#To calculate the Base Pivot Point: Pivot Point (P) = (High + Low + Close)/3 \n",
    "#To calculate the First Support Level: Support 1 (S1) = P – {.382 * (High  –  Low)} \n",
    "#To calculate the Second Support Level: Support 2 (S2) = P – {.618 * (High  –  Low)} \n",
    "#To calculate the First Resistance Level: Resistance 1 (R1) = P + {.382 * (High  –  Low)} \n",
    "#To calculate the Second Resistance Level: Resistance 2 (R2) = P + {.618 * (High  –  Low)} \n",
    "#To calculate the Third Resistance Level: Resistance 3 (R3) = P + {1 * (High  –  Low)}"
   ]
  },
  {
   "cell_type": "code",
   "execution_count": 3,
   "metadata": {},
   "outputs": [
    {
     "name": "stdout",
     "output_type": "stream",
     "text": [
      "288\n"
     ]
    }
   ],
   "source": [
    "# Top 500 companies\n",
    "df = pd.read_excel(\"Nifty 500.xlsx\")\n",
    "df = df[df['Volume']>500000]\n",
    "print(df.shape[0])"
   ]
  },
  {
   "cell_type": "code",
   "execution_count": 4,
   "metadata": {},
   "outputs": [],
   "source": [
    "# Top 200 companies\n",
    "df = pd.read_csv(\"ind_nifty200list.csv\")\n",
    "df.columns.values[2] = \"Ticker\""
   ]
  },
  {
   "cell_type": "code",
   "execution_count": 5,
   "metadata": {},
   "outputs": [],
   "source": [
    "# # Top 100 companies\n",
    "# df = pd.read_csv(\"ind_nifty100list.csv\")\n",
    "# df.columns.values[2] = \"Ticker\""
   ]
  },
  {
   "cell_type": "code",
   "execution_count": 6,
   "metadata": {},
   "outputs": [],
   "source": [
    "values = [\"INDUSTOWER\",]\n",
    "df.drop(df[df['Ticker'].isin(values)].index, inplace = True)"
   ]
  },
  {
   "cell_type": "code",
   "execution_count": 7,
   "metadata": {},
   "outputs": [],
   "source": [
    "now = datetime.datetime.now()\n",
    "last_month = now.month-1 if now.month > 1 else 12\n",
    "last_month_start = str(now.year) + '-' + str(last_month) + '-01'\n",
    "last_month_end = (datetime.date(now.year, now.month, 1) - datetime.timedelta(days=1)).strftime(\"%Y-%m-%d\")\n",
    "\n",
    "current_month_start = str(now.year) + '-' + str(now.month) + '-01'\n",
    "current_month_end = datetime.datetime.now().strftime(\"%Y-%m-%d\")"
   ]
  },
  {
   "cell_type": "code",
   "execution_count": 8,
   "metadata": {},
   "outputs": [],
   "source": [
    "def stock_data(ticker, start, end):\n",
    "    stock = pdr.DataReader(ticker+\".NS\", data_source='yahoo', start=start, end=end)\n",
    "#     stock = yf.Ticker(ticker+\".NS\").history(start=start, end=end)\n",
    "    return stock"
   ]
  },
  {
   "cell_type": "code",
   "execution_count": 9,
   "metadata": {},
   "outputs": [],
   "source": [
    "def pivot_points(stock):\n",
    "    \n",
    "    high = stock['High'].max()\n",
    "    low = stock['Low'].min()\n",
    "    close = stock['Close'].iloc[-1]\n",
    "    pivot = (high + low + close)/3\n",
    "    pivotBottom = (high + low)/2\n",
    "    pivotTop = (pivot - pivotBottom) + pivot\n",
    "    s1 = pivot - (.382 * (high  -  low))\n",
    "    s2 = pivot - (.618 * (high  -  low))\n",
    "    s3 = pivot - (1 * (high  -  low))\n",
    "    r1 = pivot + (.382 * (high  -  low))\n",
    "    r2 = pivot + (.618 * (high  -  low))\n",
    "    r3 = pivot + (1 * (high  -  low))\n",
    "    \n",
    "    pivotDict = {\n",
    "        'Pivot': pivot, 'Pivot Bottom': pivotBottom, 'Pivot Top': pivotTop, \n",
    "        'S1': s1, 'S2': s2, 'S3': s3, 'R1': r1, 'R2': r2, 'R3': r3\n",
    "    }\n",
    "    \n",
    "    return pivotDict"
   ]
  },
  {
   "cell_type": "code",
   "execution_count": 10,
   "metadata": {},
   "outputs": [],
   "source": [
    "def stocks_position(ticker):\n",
    "    \n",
    "    stock_last_month = stock_data(ticker, last_month_start, last_month_end) # Getting last month stock data\n",
    "    pivotPoints = pivot_points(stock_last_month) # Calculating Pivot points from last month data\n",
    "\n",
    "    stock_current_month = stock_data(ticker, current_month_start, current_month_end) # Getting current month stock data\n",
    "    if stock_current_month['Close'].iloc[-1] < pivotPoints['Pivot']:\n",
    "        if stock_current_month['Close'].iloc[-1] < pivotPoints['S1']:\n",
    "            if stock_current_month['Close'].iloc[-1] < pivotPoints['S2']:\n",
    "                if stock_current_month['Close'].iloc[-1] < pivotPoints['S3']:\n",
    "                    return ticker + ' Below S3'\n",
    "                return ticker + ' Below S2'\n",
    "            return ticker + ' Below S1'\n",
    "#         return ticker + ' Below Pivot'"
   ]
  },
  {
   "cell_type": "code",
   "execution_count": 11,
   "metadata": {
    "scrolled": false
   },
   "outputs": [
    {
     "name": "stdout",
     "output_type": "stream",
     "text": [
      "ABCAPITAL Below S1\n",
      "AMARAJABAT Below S1\n",
      "AMBUJACEM Below S1\n",
      "APOLLOHOSP Below S1\n",
      "ASIANPAINT Below S1\n",
      "BIOCON Below S1\n",
      "BBTC Below S1\n",
      "BRITANNIA Below S3\n",
      "CADILAHC Below S2\n",
      "CIPLA Below S2\n",
      "COLPAL Below S2\n",
      "CONCOR Below S1\n",
      "CROMPTON Below S1\n",
      "CUMMINSIND Below S2\n",
      "DABUR Below S2\n",
      "DALBHARAT Below S1\n",
      "EICHERMOT Below S1\n",
      "EMAMILTD Below S2\n",
      "GODREJCP Below S1\n",
      "HDFCLIFE Below S1\n",
      "HINDUNILVR Below S3\n",
      "ICICIGI Below S2\n",
      "ICICIPRULI Below S2\n",
      "IGL Below S1\n",
      "MGL Below S1\n",
      "MFSL Below S1\n",
      "NAVINFLUOR Below S1\n",
      "NESTLEIND Below S1\n",
      "PETRONET Below S1\n",
      "PFIZER Below S2\n",
      "SHREECEM Below S1\n",
      "TCS Below S2\n",
      "TORNTPHARM Below S1\n",
      "ULTRACEMCO Below S1\n"
     ]
    }
   ],
   "source": [
    "for i in df['Ticker']:\n",
    "    position = stocks_position(i)\n",
    "    if position != None:\n",
    "        print(position)"
   ]
  },
  {
   "cell_type": "code",
   "execution_count": null,
   "metadata": {},
   "outputs": [],
   "source": []
  },
  {
   "cell_type": "code",
   "execution_count": null,
   "metadata": {},
   "outputs": [],
   "source": []
  },
  {
   "cell_type": "code",
   "execution_count": 2,
   "metadata": {},
   "outputs": [
    {
     "data": {
      "text/html": [
       "<div>\n",
       "<style scoped>\n",
       "    .dataframe tbody tr th:only-of-type {\n",
       "        vertical-align: middle;\n",
       "    }\n",
       "\n",
       "    .dataframe tbody tr th {\n",
       "        vertical-align: top;\n",
       "    }\n",
       "\n",
       "    .dataframe thead th {\n",
       "        text-align: right;\n",
       "    }\n",
       "</style>\n",
       "<table border=\"1\" class=\"dataframe\">\n",
       "  <thead>\n",
       "    <tr style=\"text-align: right;\">\n",
       "      <th></th>\n",
       "      <th>Open</th>\n",
       "      <th>High</th>\n",
       "      <th>Low</th>\n",
       "      <th>Close</th>\n",
       "      <th>Volume</th>\n",
       "      <th>Dividends</th>\n",
       "      <th>Stock Splits</th>\n",
       "    </tr>\n",
       "    <tr>\n",
       "      <th>Date</th>\n",
       "      <th></th>\n",
       "      <th></th>\n",
       "      <th></th>\n",
       "      <th></th>\n",
       "      <th></th>\n",
       "      <th></th>\n",
       "      <th></th>\n",
       "    </tr>\n",
       "  </thead>\n",
       "  <tbody>\n",
       "    <tr>\n",
       "      <th>2021-07-12</th>\n",
       "      <td>126.349998</td>\n",
       "      <td>127.400002</td>\n",
       "      <td>124.349998</td>\n",
       "      <td>124.849998</td>\n",
       "      <td>28310351</td>\n",
       "      <td>0</td>\n",
       "      <td>0</td>\n",
       "    </tr>\n",
       "  </tbody>\n",
       "</table>\n",
       "</div>"
      ],
      "text/plain": [
       "                  Open        High         Low       Close    Volume  \\\n",
       "Date                                                                   \n",
       "2021-07-12  126.349998  127.400002  124.349998  124.849998  28310351   \n",
       "\n",
       "            Dividends  Stock Splits  \n",
       "Date                                 \n",
       "2021-07-12          0             0  "
      ]
     },
     "execution_count": 2,
     "metadata": {},
     "output_type": "execute_result"
    }
   ],
   "source": [
    "yf.Ticker(\"SAIL.NS\").history(threads = False,start='2021-07-12', end='2021-07-13')"
   ]
  },
  {
   "cell_type": "code",
   "execution_count": 3,
   "metadata": {},
   "outputs": [
    {
     "data": {
      "text/html": [
       "<div>\n",
       "<style scoped>\n",
       "    .dataframe tbody tr th:only-of-type {\n",
       "        vertical-align: middle;\n",
       "    }\n",
       "\n",
       "    .dataframe tbody tr th {\n",
       "        vertical-align: top;\n",
       "    }\n",
       "\n",
       "    .dataframe thead th {\n",
       "        text-align: right;\n",
       "    }\n",
       "</style>\n",
       "<table border=\"1\" class=\"dataframe\">\n",
       "  <thead>\n",
       "    <tr style=\"text-align: right;\">\n",
       "      <th></th>\n",
       "      <th>High</th>\n",
       "      <th>Low</th>\n",
       "      <th>Open</th>\n",
       "      <th>Close</th>\n",
       "      <th>Volume</th>\n",
       "      <th>Adj Close</th>\n",
       "    </tr>\n",
       "    <tr>\n",
       "      <th>Date</th>\n",
       "      <th></th>\n",
       "      <th></th>\n",
       "      <th></th>\n",
       "      <th></th>\n",
       "      <th></th>\n",
       "      <th></th>\n",
       "    </tr>\n",
       "  </thead>\n",
       "  <tbody>\n",
       "    <tr>\n",
       "      <th>2021-07-12</th>\n",
       "      <td>127.400002</td>\n",
       "      <td>124.349998</td>\n",
       "      <td>126.349998</td>\n",
       "      <td>124.849998</td>\n",
       "      <td>28310351</td>\n",
       "      <td>124.849998</td>\n",
       "    </tr>\n",
       "    <tr>\n",
       "      <th>2021-07-13</th>\n",
       "      <td>127.250000</td>\n",
       "      <td>124.300003</td>\n",
       "      <td>125.599998</td>\n",
       "      <td>125.349998</td>\n",
       "      <td>22303327</td>\n",
       "      <td>125.349998</td>\n",
       "    </tr>\n",
       "  </tbody>\n",
       "</table>\n",
       "</div>"
      ],
      "text/plain": [
       "                  High         Low        Open       Close    Volume  \\\n",
       "Date                                                                   \n",
       "2021-07-12  127.400002  124.349998  126.349998  124.849998  28310351   \n",
       "2021-07-13  127.250000  124.300003  125.599998  125.349998  22303327   \n",
       "\n",
       "             Adj Close  \n",
       "Date                    \n",
       "2021-07-12  124.849998  \n",
       "2021-07-13  125.349998  "
      ]
     },
     "execution_count": 3,
     "metadata": {},
     "output_type": "execute_result"
    }
   ],
   "source": [
    "pdr.DataReader(\"SAIL.NS\", data_source='yahoo', start='2021-07-12', end='2021-07-13')"
   ]
  },
  {
   "cell_type": "code",
   "execution_count": null,
   "metadata": {},
   "outputs": [],
   "source": [
    "# Download last month data\n",
    "NoData = []\n",
    "for i in df['Ticker']:\n",
    "    try:\n",
    "        stock = stock_data(i, last_month_start, last_month_end)\n",
    "        stock.to_excel('Last Month Data/'+i+'.xlsx')\n",
    "    except:\n",
    "        NoData.append(i)\n",
    "        print()\n",
    "        print(f'No Data for stock {i}')\n",
    "        print()"
   ]
  },
  {
   "cell_type": "code",
   "execution_count": null,
   "metadata": {},
   "outputs": [],
   "source": []
  }
 ],
 "metadata": {
  "kernelspec": {
   "display_name": "Python 3",
   "language": "python",
   "name": "python3"
  },
  "language_info": {
   "codemirror_mode": {
    "name": "ipython",
    "version": 3
   },
   "file_extension": ".py",
   "mimetype": "text/x-python",
   "name": "python",
   "nbconvert_exporter": "python",
   "pygments_lexer": "ipython3",
   "version": "3.8.5"
  }
 },
 "nbformat": 4,
 "nbformat_minor": 4
}
