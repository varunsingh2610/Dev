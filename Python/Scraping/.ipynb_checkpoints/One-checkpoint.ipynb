{
 "cells": [
  {
   "cell_type": "code",
   "execution_count": 3,
   "metadata": {},
   "outputs": [],
   "source": [
    "from telegram.ext import Updater, CommandHandler\n",
    "import requests\n",
    "import re"
   ]
  },
  {
   "cell_type": "code",
   "execution_count": 2,
   "metadata": {},
   "outputs": [],
   "source": [
    "def telegramBot(message):\n",
    "\n",
    "    bot_token = '869841352:AAHKqw7LDWSuGmIUdeuPWBP2aXY1G484-wU'\n",
    "    bot_chatID = '-305083559'\n",
    "    send_text = 'https://api.telegram.org/bot' + bot_token + '/sendMessage?chat_id=' + \\\n",
    "        bot_chatID + '&parse_mode=Markdown&text=' + message\n",
    "\n",
    "    response = requests.get(send_text)\n",
    "    return response.json()"
   ]
  },
  {
   "cell_type": "code",
   "execution_count": 3,
   "metadata": {},
   "outputs": [
    {
     "data": {
      "text/plain": [
       "{'ok': True,\n",
       " 'result': {'message_id': 24,\n",
       "  'from': {'id': 869841352,\n",
       "   'is_bot': True,\n",
       "   'first_name': 'varunBot',\n",
       "   'username': 'varunsinghbot'},\n",
       "  'chat': {'id': -305083559,\n",
       "   'title': 'Price',\n",
       "   'type': 'group',\n",
       "   'all_members_are_administrators': True},\n",
       "  'date': 1591777808,\n",
       "  'text': 'working'}}"
      ]
     },
     "execution_count": 3,
     "metadata": {},
     "output_type": "execute_result"
    }
   ],
   "source": [
    "telegramBot(\"working\")"
   ]
  },
  {
   "cell_type": "code",
   "execution_count": null,
   "metadata": {},
   "outputs": [],
   "source": [
    "def telegramCheck(message):\n",
    "\n",
    "    bot_token = '869841352:AAHKqw7LDWSuGmIUdeuPWBP2aXY1G484-wU'\n",
    "    bot_chatID = '-305083559'\n",
    "    send_text = 'https://api.telegram.org/bot' + bot_token + '/sendMessage?chat_id=' + \\\n",
    "        bot_chatID + '&parse_mode=Markdown&text=' + message\n",
    "\n",
    "    response = requests.get(send_text)\n",
    "    return response.json()"
   ]
  },
  {
   "cell_type": "code",
   "execution_count": null,
   "metadata": {},
   "outputs": [],
   "source": [
    "telegramCheck()"
   ]
  },
  {
   "cell_type": "code",
   "execution_count": null,
   "metadata": {},
   "outputs": [],
   "source": [
    "# As you know you can send a contact in telegram bot using its phoneNumber and a firsName\n",
    "#n(Doesn't need to be the real first name of the contact who owns that number).\n",
    "# After sending the contact to a chatID(no matter what chatID you choose, can be your own personal chat ID), \n",
    "# you can look for its UserID.\n",
    "# Now if the person exists in Telegram you will get a long number that stands for his/her UserID or chatID but\n",
    "#if not the long will be 0.\n",
    "\n",
    "# In C# I used this piece of code to see whether a phone number exists in telegram or not and it worked very well.\n",
    "\n",
    "\n",
    "\n",
    "string s = \"+44....\";    //the phone number\n",
    "var req2 = await bot.MakeRequestAsync(new SendContact(update.Message.Chat.Id, s, \"Name\"));\n",
    "if(req2.Contact.UserId == 0)\n",
    "{\n",
    "   Console.WriteLine(\"The contact does not exist in Telegram\");\n",
    "}else\n",
    "{\n",
    " Console.WriteLine(\"The contact exists in telegram with UserID:{0}\",req2.Contact.UserId.ToString());\n",
    "}"
   ]
  },
  {
   "cell_type": "code",
   "execution_count": 63,
   "metadata": {},
   "outputs": [
    {
     "name": "stdout",
     "output_type": "stream",
     "text": [
      "{'ok': False, 'error_code': 429, 'description': 'Too Many Requests: retry after 78806', 'parameters': {'retry_after': 78806}}\n"
     ]
    },
    {
     "ename": "KeyError",
     "evalue": "'result'",
     "output_type": "error",
     "traceback": [
      "\u001b[0;31m---------------------------------------------------------------------------\u001b[0m",
      "\u001b[0;31mKeyError\u001b[0m                                  Traceback (most recent call last)",
      "\u001b[0;32m<ipython-input-63-cf1611f19251>\u001b[0m in \u001b[0;36m<module>\u001b[0;34m\u001b[0m\n\u001b[1;32m     15\u001b[0m \u001b[0;34m\u001b[0m\u001b[0m\n\u001b[1;32m     16\u001b[0m \u001b[0mcontactInfo\u001b[0m \u001b[0;34m=\u001b[0m \u001b[0mresponse\u001b[0m\u001b[0;34m.\u001b[0m\u001b[0mjson\u001b[0m\u001b[0;34m(\u001b[0m\u001b[0;34m)\u001b[0m\u001b[0;34m\u001b[0m\u001b[0;34m\u001b[0m\u001b[0m\n\u001b[0;32m---> 17\u001b[0;31m \u001b[0;32mif\u001b[0m \u001b[0;34m'user_id'\u001b[0m \u001b[0;32min\u001b[0m \u001b[0mcontactInfo\u001b[0m\u001b[0;34m[\u001b[0m\u001b[0;34m'result'\u001b[0m\u001b[0;34m]\u001b[0m\u001b[0;34m[\u001b[0m\u001b[0;34m'contact'\u001b[0m\u001b[0;34m]\u001b[0m\u001b[0;34m:\u001b[0m\u001b[0;34m\u001b[0m\u001b[0;34m\u001b[0m\u001b[0m\n\u001b[0m\u001b[1;32m     18\u001b[0m     \u001b[0mprint\u001b[0m\u001b[0;34m(\u001b[0m\u001b[0;34m\"Number exists in Telegram\"\u001b[0m\u001b[0;34m)\u001b[0m\u001b[0;34m\u001b[0m\u001b[0;34m\u001b[0m\u001b[0m\n\u001b[1;32m     19\u001b[0m \u001b[0;34m\u001b[0m\u001b[0m\n",
      "\u001b[0;31mKeyError\u001b[0m: 'result'"
     ]
    }
   ],
   "source": [
    "# https://api.telegram.org/{BOT_TOKEN}/sendContact?chat_id=123456789&phone_number=+989123456789&first_name=Some+Random+String\n",
    "\n",
    "import requests\n",
    "\n",
    "chat_id = '-305083559'\n",
    "number = '+919907686767'\n",
    "name = \"Some Name\"\n",
    "\n",
    "bot_token = '869841352:AAHKqw7LDWSuGmIUdeuPWBP2aXY1G484-wU'\n",
    "# sendContact(bot_chatID, number, \"Varun\")\n",
    "\n",
    "url = 'https://api.telegram.org/bot' + bot_token + '/sendContact?chat_id=' + chat_id + '&phone_number=' + number + '&first_name=' + name\n",
    "response = requests.get(url)\n",
    "print(response.json())\n",
    "\n",
    "contactInfo = response.json()\n",
    "if 'user_id' in contactInfo['result']['contact']:\n",
    "    print(\"Number exists in Telegram\")\n",
    "\n",
    "print()\n",
    "print(response.json())\n",
    "\n",
    "message_id = str(contactInfo['result']['message_id'])\n",
    "url = 'https://api.telegram.org/bot' + bot_token + '/deleteMessage?chat_id=' + chat_id + '&message_id=' + message_id\n",
    "response = requests.get(url)\n",
    "\n"
   ]
  },
  {
   "cell_type": "code",
   "execution_count": 53,
   "metadata": {},
   "outputs": [],
   "source": [
    "contactInfo = response.json()"
   ]
  },
  {
   "cell_type": "code",
   "execution_count": 44,
   "metadata": {},
   "outputs": [
    {
     "data": {
      "text/plain": [
       "{'ok': True,\n",
       " 'result': {'message_id': 45,\n",
       "  'from': {'id': 869841352,\n",
       "   'is_bot': True,\n",
       "   'first_name': 'varunBot',\n",
       "   'username': 'varunsinghbot'},\n",
       "  'chat': {'id': -305083559,\n",
       "   'title': 'Price',\n",
       "   'type': 'group',\n",
       "   'all_members_are_administrators': True},\n",
       "  'date': 1591828574,\n",
       "  'contact': {'phone_number': '917415570460', 'first_name': 'Some Name'}}}"
      ]
     },
     "execution_count": 44,
     "metadata": {},
     "output_type": "execute_result"
    }
   ],
   "source": [
    "contactInfo"
   ]
  },
  {
   "cell_type": "code",
   "execution_count": 45,
   "metadata": {},
   "outputs": [
    {
     "ename": "KeyError",
     "evalue": "'user_id'",
     "output_type": "error",
     "traceback": [
      "\u001b[0;31m---------------------------------------------------------------------------\u001b[0m",
      "\u001b[0;31mKeyError\u001b[0m                                  Traceback (most recent call last)",
      "\u001b[0;32m<ipython-input-45-5667feb414fc>\u001b[0m in \u001b[0;36m<module>\u001b[0;34m\u001b[0m\n\u001b[0;32m----> 1\u001b[0;31m \u001b[0mcontactInfo\u001b[0m\u001b[0;34m[\u001b[0m\u001b[0;34m'result'\u001b[0m\u001b[0;34m]\u001b[0m\u001b[0;34m[\u001b[0m\u001b[0;34m'contact'\u001b[0m\u001b[0;34m]\u001b[0m\u001b[0;34m[\u001b[0m\u001b[0;34m'user_id'\u001b[0m\u001b[0;34m]\u001b[0m\u001b[0;34m\u001b[0m\u001b[0;34m\u001b[0m\u001b[0m\n\u001b[0m",
      "\u001b[0;31mKeyError\u001b[0m: 'user_id'"
     ]
    }
   ],
   "source": [
    "contactInfo['result']['contact']['user_id']"
   ]
  },
  {
   "cell_type": "code",
   "execution_count": null,
   "metadata": {},
   "outputs": [],
   "source": [
    "def bop(bot, update):\n",
    "    url = get_image_url()\n",
    "    chat_id = update.message.chat_id\n",
    "    bot.send_photo(chat_id=chat_id, photo=url)\n",
    "    "
   ]
  },
  {
   "cell_type": "code",
   "execution_count": null,
   "metadata": {},
   "outputs": [],
   "source": [
    "chat_id = '-305083559'\n",
    "number = '8109055354'\n",
    "sendContact(chat_id=chat_id, phone_number=number, first_name='Name')"
   ]
  },
  {
   "cell_type": "code",
   "execution_count": null,
   "metadata": {},
   "outputs": [],
   "source": []
  },
  {
   "cell_type": "code",
   "execution_count": 9,
   "metadata": {},
   "outputs": [],
   "source": [
    "import telegram\n",
    "\n",
    "\n",
    "#token that can be generated talking with @BotFather on telegram\n",
    "my_token = '869841352:AAHKqw7LDWSuGmIUdeuPWBP2aXY1G484-wU'\n",
    "\n",
    "def send(msg, chat_id, token=my_token):\n",
    "    \"\"\"\n",
    "    Send a message to a telegram user or group specified on chatId\n",
    "    chat_id must be a number!\n",
    "    \"\"\"\n",
    "    bot = telegram.Bot(token=token)\n",
    "    response = bot.sendMessage(chat_id=chat_id, text=msg)\n",
    "    return response"
   ]
  },
  {
   "cell_type": "code",
   "execution_count": 10,
   "metadata": {},
   "outputs": [
    {
     "data": {
      "text/plain": [
       "<telegram.message.Message at 0x7f04ec1cb1f0>"
      ]
     },
     "execution_count": 10,
     "metadata": {},
     "output_type": "execute_result"
    }
   ],
   "source": [
    "send(\"gu kha lo\", '-305083559')"
   ]
  },
  {
   "cell_type": "code",
   "execution_count": 4,
   "metadata": {},
   "outputs": [],
   "source": [
    "chat_id = '-305083559'\n",
    "number = '8109055354'"
   ]
  },
  {
   "cell_type": "code",
   "execution_count": 17,
   "metadata": {},
   "outputs": [],
   "source": [
    "import telegram\n",
    "\n",
    "#token that can be generated talking with @BotFather on telegram\n",
    "my_token = '869841352:AAHKqw7LDWSuGmIUdeuPWBP2aXY1G484-wU'\n",
    "\n",
    "def sendCon(chat_id, number,):\n",
    "    \"\"\"\n",
    "    Send a message to a telegram user or group specified on chatId\n",
    "    chat_id must be a number!\n",
    "    \"\"\"\n",
    "    bot = telegram.Bot(token=my_token)\n",
    "    response = bot.sendContact(chat_id=chat_id, phone_number=number, first_name='Name')\n",
    "    print(response)\n",
    "    return response"
   ]
  },
  {
   "cell_type": "code",
   "execution_count": 18,
   "metadata": {},
   "outputs": [
    {
     "name": "stdout",
     "output_type": "stream",
     "text": [
      "{'message_id': 31, 'date': 1591823277, 'chat': {'id': -305083559, 'type': 'group', 'title': 'Price', 'all_members_are_administrators': True}, 'entities': [], 'caption_entities': [], 'photo': [], 'contact': {'phone_number': '8109055354', 'first_name': 'Name'}, 'new_chat_members': [], 'new_chat_photo': [], 'delete_chat_photo': False, 'group_chat_created': False, 'supergroup_chat_created': False, 'channel_chat_created': False, 'from': {'id': 869841352, 'first_name': 'varunBot', 'is_bot': True, 'username': 'varunsinghbot'}}\n"
     ]
    },
    {
     "data": {
      "text/plain": [
       "<telegram.message.Message at 0x7f04de5fcd00>"
      ]
     },
     "execution_count": 18,
     "metadata": {},
     "output_type": "execute_result"
    }
   ],
   "source": [
    "sendCon(chat_id, number)"
   ]
  },
  {
   "cell_type": "code",
   "execution_count": 19,
   "metadata": {},
   "outputs": [
    {
     "name": "stdout",
     "output_type": "stream",
     "text": [
      "{'message_id': 32, 'date': 1591823338, 'chat': {'id': -305083559, 'type': 'group', 'title': 'Price', 'all_members_are_administrators': True}, 'entities': [], 'caption_entities': [], 'photo': [], 'contact': {'phone_number': '7415570460', 'first_name': 'Name'}, 'new_chat_members': [], 'new_chat_photo': [], 'delete_chat_photo': False, 'group_chat_created': False, 'supergroup_chat_created': False, 'channel_chat_created': False, 'from': {'id': 869841352, 'first_name': 'varunBot', 'is_bot': True, 'username': 'varunsinghbot'}}\n"
     ]
    },
    {
     "data": {
      "text/plain": [
       "<telegram.message.Message at 0x7f04ec1d04f0>"
      ]
     },
     "execution_count": 19,
     "metadata": {},
     "output_type": "execute_result"
    }
   ],
   "source": [
    "sendCon(chat_id, '7415570460')"
   ]
  },
  {
   "cell_type": "code",
   "execution_count": null,
   "metadata": {},
   "outputs": [],
   "source": []
  }
 ],
 "metadata": {
  "kernelspec": {
   "display_name": "Python 3",
   "language": "python",
   "name": "python3"
  },
  "language_info": {
   "codemirror_mode": {
    "name": "ipython",
    "version": 3
   },
   "file_extension": ".py",
   "mimetype": "text/x-python",
   "name": "python",
   "nbconvert_exporter": "python",
   "pygments_lexer": "ipython3",
   "version": "3.8.2"
  }
 },
 "nbformat": 4,
 "nbformat_minor": 4
}
