{
 "cells": [
  {
   "cell_type": "code",
   "execution_count": 1,
   "metadata": {},
   "outputs": [],
   "source": [
    "from telegram.ext import Updater, CommandHandler\n",
    "import requests\n",
    "import re798"
   ]
  },
  {
   "cell_type": "code",
   "execution_count": 6,
   "metadata": {},
   "outputs": [],
   "source": [
    "# https://www.freecodecamp.org/news/learn-to-build-your-first-bot-in-telegram-with-python-4c99526765e4/\n",
    "\n",
    "def get_url():\n",
    "    contents = requests.get('https://random.dog/woof.json').json()    \n",
    "    url = contents['url']\n",
    "    return url\n",
    "\n",
    "def get_image_url():\n",
    "    allowed_extension = ['jpg','jpeg','png']\n",
    "    file_extension = ''\n",
    "    while file_extension not in allowed_extension:\n",
    "        url = get_url()\n",
    "        file_extension = re.search(\"([^.]*)$\",url).group(1).lower()\n",
    "    return url\n",
    "\n",
    "def bop(bot, update):\n",
    "    url = get_image_url()\n",
    "    chat_id = update.message.chat_id\n",
    "    bot.send_photo(chat_id=chat_id, photo=url)\n",
    "\n",
    "def main():\n",
    "    updater = Updater('869841352:AAHKqw7LDWSuGmIUdeuPWBP2aXY1G484-wU')\n",
    "    dp = updater.dispatcher\n",
    "    dp.add_handler(CommandHandler('bop',bop))\n",
    "    updater.start_polling()\n",
    "    updater.idle()\n"
   ]
  },
  {
   "cell_type": "code",
   "execution_count": null,
   "metadata": {},
   "outputs": [],
   "source": []
  }
 ],
 "metadata": {
  "kernelspec": {
   "display_name": "Python 3",
   "language": "python",
   "name": "python3"
  },
  "language_info": {
   "codemirror_mode": {
    "name": "ipython",
    "version": 3
   },
   "file_extension": ".py",
   "mimetype": "text/x-python",
   "name": "python",
   "nbconvert_exporter": "python",
   "pygments_lexer": "ipython3",
   "version": "3.8.2"
  }
 },
 "nbformat": 4,
 "nbformat_minor": 4
}
