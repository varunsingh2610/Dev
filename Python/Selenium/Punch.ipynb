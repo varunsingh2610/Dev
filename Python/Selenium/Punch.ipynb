{
 "cells": [
  {
   "cell_type": "code",
   "execution_count": 3,
   "metadata": {},
   "outputs": [
    {
     "ename": "KeyboardInterrupt",
     "evalue": "",
     "output_type": "error",
     "traceback": [
      "\u001b[0;31m---------------------------------------------------------------------------\u001b[0m",
      "\u001b[0;31mKeyboardInterrupt\u001b[0m                         Traceback (most recent call last)",
      "\u001b[0;32m<ipython-input-3-5346e3079874>\u001b[0m in \u001b[0;36m<module>\u001b[0;34m\u001b[0m\n\u001b[1;32m     93\u001b[0m \u001b[0;32mwhile\u001b[0m \u001b[0;32mTrue\u001b[0m\u001b[0;34m:\u001b[0m\u001b[0;34m\u001b[0m\u001b[0;34m\u001b[0m\u001b[0m\n\u001b[1;32m     94\u001b[0m     \u001b[0mschedule\u001b[0m\u001b[0;34m.\u001b[0m\u001b[0mrun_pending\u001b[0m\u001b[0;34m(\u001b[0m\u001b[0;34m)\u001b[0m\u001b[0;34m\u001b[0m\u001b[0;34m\u001b[0m\u001b[0m\n\u001b[0;32m---> 95\u001b[0;31m     \u001b[0mtime\u001b[0m\u001b[0;34m.\u001b[0m\u001b[0msleep\u001b[0m\u001b[0;34m(\u001b[0m\u001b[0;36m1\u001b[0m\u001b[0;34m)\u001b[0m\u001b[0;34m\u001b[0m\u001b[0;34m\u001b[0m\u001b[0m\n\u001b[0m",
      "\u001b[0;31mKeyboardInterrupt\u001b[0m: "
     ]
    }
   ],
   "source": [
    "#!/usr/bin/python3\n",
    "\n",
    "from selenium import webdriver\n",
    "import schedule\n",
    "import time\n",
    "import datetime\n",
    "import requests\n",
    "\n",
    "data = {\"varun\":{\"username\":\"IA0892\", \"password\":\"Pass@1234\"},\n",
    "        \"shweta\":{\"username\":\"IA0597\", \"password\":\"Anvi@2819\"}}\n",
    "\n",
    "def telegramBot(message):\n",
    "\n",
    "    bot_token = '869841352:AAHKqw7LDWSuGmIUdeuPWBP2aXY1G484-wU'\n",
    "    bot_chatID = '-305083559'\n",
    "    send_text = 'https://api.telegram.org/bot' + bot_token + '/sendMessage?chat_id=' + \\\n",
    "        bot_chatID + '&parse_mode=Markdown&text=' + message\n",
    "\n",
    "    response = requests.get(send_text)\n",
    "    return response.json()\n",
    "\n",
    "\n",
    "\n",
    "def punch():\n",
    "\n",
    "    day = datetime.datetime.today().weekday()\n",
    "    date = datetime.datetime.now().day\n",
    "\n",
    "    if (day == 5) and ((7 < date < 15) or (21 < date < 29)):\n",
    "        pass\n",
    "        print(\"Pass\")\n",
    "\n",
    "    else:\n",
    "        print(\"Punching\")\n",
    "        for i in data:\n",
    "\n",
    "            browser = webdriver.Firefox()\n",
    "            browser.get(\"http://hralign.avenues.info/HRAlign_Avenue_LIVE/login.spr\")\n",
    "\n",
    "            time.sleep(10)\n",
    "\n",
    "            username = browser.find_element_by_id(\"username\")\n",
    "            password = browser.find_element_by_id(\"password\")\n",
    "\n",
    "            username.send_keys(data[i][\"username\"])\n",
    "            password.send_keys(data[i][\"password\"])\n",
    "\n",
    "            browser.find_element_by_xpath('//*[@id=\"contact\"]/div/div/div[4]/button').click()\n",
    "\n",
    "            time.sleep(5)\n",
    "\n",
    "            try:\n",
    "                browser.find_element_by_xpath('//*[@id=\"moodIe\"]/div/div/ul/li[1]/img').click()\n",
    "            except:\n",
    "                print(\"Unable to locate element: Sad Smiley\")\n",
    "            try:\n",
    "                time.sleep(5)\n",
    "                browser.find_element_by_xpath('//*[@id=\"header\"]/header/ul/li[1]').click()\n",
    "\n",
    "                time.sleep(5)\n",
    "                try:\n",
    "                    browser.find_element_by_xpath('/html/body/div[6]/div/div[4]/div[1]/button').click()\n",
    "                except:\n",
    "                    browser.find_element_by_xpath('/html/body/div[3]/div/div[4]/div[1]/button').click()\n",
    "                time.sleep(10)\n",
    "                telegramBot(i + \" punching Done!\")\n",
    "                browser.quit()\n",
    "                time.sleep(60)\n",
    "            except:\n",
    "                print(\"Unable to locate element: Log Button\")\n",
    "\n",
    "\n",
    "schedule.every().monday.at(\"09:30\").do(punch)\n",
    "schedule.every().monday.at(\"19:00\").do(punch)\n",
    "\n",
    "schedule.every().tuesday.at(\"09:30\").do(punch)\n",
    "schedule.every().tuesday.at(\"19:00\").do(punch)\n",
    "\n",
    "schedule.every().wednesday.at(\"09:30\").do(punch)\n",
    "schedule.every().wednesday.at(\"19:00\").do(punch)\n",
    "\n",
    "schedule.every().thursday.at(\"09:30\").do(punch)\n",
    "schedule.every().thursday.at(\"19:00\").do(punch)\n",
    "\n",
    "schedule.every().friday.at(\"09:30\").do(punch)\n",
    "schedule.every().friday.at(\"19:00\").do(punch)\n",
    "\n",
    "schedule.every().saturday.at(\"09:30\").do(punch)\n",
    "schedule.every().saturday.at(\"14:00\").do(punch)\n",
    "\n",
    "\n",
    "\n",
    "while True:\n",
    "    schedule.run_pending()\n",
    "    time.sleep(1)\n"
   ]
  },
  {
   "cell_type": "code",
   "execution_count": 1,
   "metadata": {},
   "outputs": [],
   "source": [
    "import requests\n",
    "\n",
    "def telegramBot(message):\n",
    "\n",
    "    bot_token = '869841352:AAHKqw7LDWSuGmIUdeuPWBP2aXY1G484-wU'\n",
    "    bot_chatID = '-305083559'\n",
    "    send_text = 'https://api.telegram.org/bot' + bot_token + '/sendMessage?chat_id=' + \\\n",
    "        bot_chatID + '&parse_mode=Markdown&text=' + message\n",
    "\n",
    "    response = requests.get(send_text)\n",
    "    return response.json()"
   ]
  },
  {
   "cell_type": "code",
   "execution_count": 2,
   "metadata": {},
   "outputs": [
    {
     "data": {
      "text/plain": [
       "{'ok': True,\n",
       " 'result': {'message_id': 53,\n",
       "  'from': {'id': 869841352,\n",
       "   'is_bot': True,\n",
       "   'first_name': 'varunBot',\n",
       "   'username': 'varunsinghbot'},\n",
       "  'chat': {'id': -305083559,\n",
       "   'title': 'Price',\n",
       "   'type': 'group',\n",
       "   'all_members_are_administrators': True},\n",
       "  'date': 1592387362,\n",
       "  'text': 'working'}}"
      ]
     },
     "execution_count": 2,
     "metadata": {},
     "output_type": "execute_result"
    }
   ],
   "source": [
    "telegramBot(\"working\")"
   ]
  },
  {
   "cell_type": "code",
   "execution_count": 5,
   "metadata": {},
   "outputs": [
    {
     "name": "stdout",
     "output_type": "stream",
     "text": [
      "16:58:28\n"
     ]
    }
   ],
   "source": [
    "from datetime import datetime\n",
    "from datetime import timedelta\n",
    "\n",
    "\n",
    "timee = (datetime.now()+ timedelta(seconds=60)).strftime('%H:%M:%S')\n",
    "day = 3\n",
    "date = 18\n",
    "print(timee)"
   ]
  },
  {
   "cell_type": "code",
   "execution_count": null,
   "metadata": {},
   "outputs": [
    {
     "name": "stdout",
     "output_type": "stream",
     "text": [
      "Punching\n",
      "{'username': 'avenues', 'password': 'zerb5rv', 'type': '0', 'dlr': '1', 'destination': '8109055354', 'source': 'CCAVEN', 'message': 'varun is Done!'}\n",
      "{'username': 'avenues', 'password': 'zerb5rv', 'type': '0', 'dlr': '1', 'destination': '8109055354', 'source': 'CCAVEN', 'message': 'shweta is Done!'}\n"
     ]
    }
   ],
   "source": [
    "#!/usr/bin/python3\n",
    "\n",
    "from selenium import webdriver\n",
    "import schedule\n",
    "import time\n",
    "import datetime\n",
    "import requests\n",
    "\n",
    "data = {\"varun\":{\"username\":\"IA0892\", \"password\":\"Pass@1234\"},\n",
    "        \"shweta\":{\"username\":\"IA0597\", \"password\":\"Anvi@2819\"}}\n",
    "\n",
    "URL = \"http://sms6.rmlconnect.net/bulksms/bulksms?\"\n",
    "destination = \"8109055354\"\n",
    "\n",
    "PARAMS = {'username': \"avenues\", \"password\": \"zerb5rv\", \"type\": \"0\",\n",
    "          \"dlr\": \"1\", \"destination\": destination, \"source\": \"CCAVEN\"}\n",
    "\n",
    "\n",
    "\n",
    "\n",
    "def punch():\n",
    "\n",
    "    day = datetime.datetime.today().weekday()\n",
    "    date = datetime.datetime.now().day\n",
    "\n",
    "    if (day == 5) and ((7 < date < 15) or (21 < date < 29)):\n",
    "        pass\n",
    "        print(\"Pass\")\n",
    "\n",
    "    else:\n",
    "        print(\"Punching\")\n",
    "        for i in data:\n",
    "            PARAMS[\"message\"] = i + \" is Done!\"\n",
    "            response = requests.get(url=URL, params=PARAMS)\n",
    "            print(PARAMS)\n",
    "\n",
    "\n",
    "\n",
    "schedule.every().monday.at(timee).do(punch)\n",
    "\n",
    "schedule.every().tuesday.at(timee).do(punch)\n",
    "\n",
    "schedule.every().wednesday.at(timee).do(punch)\n",
    "\n",
    "schedule.every().thursday.at(timee).do(punch)\n",
    "\n",
    "schedule.every().friday.at(timee).do(punch)\n",
    "\n",
    "schedule.every().saturday.at(timee).do(punch)\n",
    "\n",
    "\n",
    "\n",
    "\n",
    "while True:\n",
    "    schedule.run_pending()\n",
    "    time.sleep(1)\n"
   ]
  },
  {
   "cell_type": "code",
   "execution_count": null,
   "metadata": {},
   "outputs": [],
   "source": [
    "URL = \"http://sms6.rmlconnect.net/bulksms/bulksms?\"\n",
    "destination = \"8109055354\"\n",
    "message = \"Hello from Office\"\n",
    "PARAMS = {'username': \"avenues\", \"password\": \"zerb5rv\", \"type\": \"0\",\n",
    "          \"dlr\": \"1\", \"destination\": destination, \"source\": \"CCAVEN\", \"message\": message}\n",
    "response = requests.get(url=URL, params=PARAMS)"
   ]
  }
 ],
 "metadata": {
  "kernelspec": {
   "display_name": "Python 3",
   "language": "python",
   "name": "python3"
  },
  "language_info": {
   "codemirror_mode": {
    "name": "ipython",
    "version": 3
   },
   "file_extension": ".py",
   "mimetype": "text/x-python",
   "name": "python",
   "nbconvert_exporter": "python",
   "pygments_lexer": "ipython3",
   "version": "3.7.7"
  }
 },
 "nbformat": 4,
 "nbformat_minor": 4
}
