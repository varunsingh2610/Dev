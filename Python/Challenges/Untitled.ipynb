{
 "cells": [
  {
   "cell_type": "code",
   "execution_count": 1,
   "metadata": {},
   "outputs": [],
   "source": [
    "ints = {1,2,3}"
   ]
  },
  {
   "cell_type": "code",
   "execution_count": 2,
   "metadata": {},
   "outputs": [
    {
     "name": "stdout",
     "output_type": "stream",
     "text": [
      "0\n",
      "1\n",
      "2\n"
     ]
    }
   ],
   "source": [
    "for i, v in enumerate(ints):\n",
    "    print(i)"
   ]
  },
  {
   "cell_type": "code",
   "execution_count": 3,
   "metadata": {},
   "outputs": [],
   "source": [
    "from operator import itemgetter\n",
    "from collections import OrderedDict"
   ]
  },
  {
   "cell_type": "code",
   "execution_count": 7,
   "metadata": {},
   "outputs": [],
   "source": [
    "y = {10:22, 31:42, 42:33, 22:122, 110:1220}"
   ]
  },
  {
   "cell_type": "code",
   "execution_count": 8,
   "metadata": {},
   "outputs": [],
   "source": [
    "x = OrderedDict(sorted(y.items(), key=itemgetter(1)))"
   ]
  },
  {
   "cell_type": "code",
   "execution_count": 9,
   "metadata": {},
   "outputs": [
    {
     "name": "stdout",
     "output_type": "stream",
     "text": [
      "10 22\n",
      "42 33\n",
      "31 42\n",
      "22 122\n",
      "110 1220\n"
     ]
    }
   ],
   "source": [
    "for k, v in x.items():\n",
    "    print(k,v)"
   ]
  },
  {
   "cell_type": "code",
   "execution_count": null,
   "metadata": {},
   "outputs": [],
   "source": []
  },
  {
   "cell_type": "code",
   "execution_count": 10,
   "metadata": {},
   "outputs": [],
   "source": [
    "num = [1,4,-5,10,-7,2,3,-1]"
   ]
  },
  {
   "cell_type": "code",
   "execution_count": 11,
   "metadata": {},
   "outputs": [],
   "source": [
    "fsq = map(lambda x: x ** 2, filter( lambda x: x > 0, num))"
   ]
  },
  {
   "cell_type": "code",
   "execution_count": 14,
   "metadata": {},
   "outputs": [
    {
     "name": "stdout",
     "output_type": "stream",
     "text": [
      "[1, 16, 100, 4, 9]\n"
     ]
    }
   ],
   "source": [
    "print(list(fsq))"
   ]
  },
  {
   "cell_type": "code",
   "execution_count": 15,
   "metadata": {},
   "outputs": [],
   "source": [
    "def foo(i, x=[]):\n",
    "    x.append(x.append(i))\n",
    "    return x\n",
    "for i in range(3):\n",
    "    y = foo(i)\n",
    "    "
   ]
  },
  {
   "cell_type": "code",
   "execution_count": 16,
   "metadata": {},
   "outputs": [
    {
     "data": {
      "text/plain": [
       "[0, None, 1, None, 2, None]"
      ]
     },
     "execution_count": 16,
     "metadata": {},
     "output_type": "execute_result"
    }
   ],
   "source": [
    "y"
   ]
  },
  {
   "cell_type": "code",
   "execution_count": 19,
   "metadata": {},
   "outputs": [],
   "source": [
    "if 1 and 0:\n",
    "    print('a')"
   ]
  },
  {
   "cell_type": "code",
   "execution_count": 20,
   "metadata": {},
   "outputs": [],
   "source": [
    "class Foo():\n",
    "    value = \"test\"\n",
    "    \n",
    "class Bar(Foo):\n",
    "    pass\n",
    "class Baz(Foo):\n",
    "    pass\n",
    "\n",
    "Bar.value = \"bar replaced\"\n",
    "Foo.value = \"foo replaced\""
   ]
  },
  {
   "cell_type": "code",
   "execution_count": 21,
   "metadata": {},
   "outputs": [
    {
     "data": {
      "text/plain": [
       "'bar replaced'"
      ]
     },
     "execution_count": 21,
     "metadata": {},
     "output_type": "execute_result"
    }
   ],
   "source": [
    "Bar.value"
   ]
  },
  {
   "cell_type": "code",
   "execution_count": 22,
   "metadata": {},
   "outputs": [
    {
     "data": {
      "text/plain": [
       "2"
      ]
     },
     "execution_count": 22,
     "metadata": {},
     "output_type": "execute_result"
    }
   ],
   "source": [
    "len([1,2])\n",
    "    "
   ]
  },
  {
   "cell_type": "code",
   "execution_count": 35,
   "metadata": {},
   "outputs": [],
   "source": [
    "\n",
    "def GetNumbers(arr,sum):\n",
    "    for i in range(len(arr)-1):\n",
    "        print(arr[i], arr[i+1])\n",
    "        if arr[i] + arr[i+1] == sum:\n",
    "            return (arr[i], arr[i+1])\n",
    "    return -1"
   ]
  },
  {
   "cell_type": "code",
   "execution_count": 36,
   "metadata": {},
   "outputs": [
    {
     "name": "stdout",
     "output_type": "stream",
     "text": [
      "1 3\n",
      "3 6\n",
      "6 8\n",
      "8 9\n"
     ]
    },
    {
     "data": {
      "text/plain": [
       "(8, 9)"
      ]
     },
     "execution_count": 36,
     "metadata": {},
     "output_type": "execute_result"
    }
   ],
   "source": [
    "GetNumbers([1,3,6,8,9],17)"
   ]
  },
  {
   "cell_type": "code",
   "execution_count": 5,
   "metadata": {},
   "outputs": [],
   "source": [
    "# count same words in list \n",
    "lst = [\"hello\", \"wello\", \"hello\", \"is\", \"the\", \"is\", \"hello\"]"
   ]
  },
  {
   "cell_type": "code",
   "execution_count": 6,
   "metadata": {},
   "outputs": [
    {
     "name": "stdout",
     "output_type": "stream",
     "text": [
      "{'hello': 3, 'wello': 1, 'is': 2, 'the': 1}\n"
     ]
    }
   ],
   "source": [
    "dic = {}\n",
    "for i in range(len(lst)):\n",
    "    count = 0\n",
    "    for j in range(i,len(lst)):\n",
    "        if lst[i] == lst[j]:\n",
    "            count += 1\n",
    "    if lst[i] not in dic:\n",
    "        dic[lst[i]] = count\n",
    "print(dic)"
   ]
  },
  {
   "cell_type": "code",
   "execution_count": 43,
   "metadata": {},
   "outputs": [
    {
     "name": "stdout",
     "output_type": "stream",
     "text": [
      "hello 3\n",
      "wello 1\n",
      "hello 3\n",
      "is 2\n",
      "the 1\n",
      "is 2\n",
      "hello 3\n"
     ]
    }
   ],
   "source": [
    "for i in lst:\n",
    "    print(i,lst.count(i))"
   ]
  },
  {
   "cell_type": "code",
   "execution_count": 49,
   "metadata": {},
   "outputs": [
    {
     "data": {
      "text/plain": [
       "['hello 3', 'wello 1', 'hello 3', 'is 2', 'the 1', 'is 2', 'hello 3']"
      ]
     },
     "execution_count": 49,
     "metadata": {},
     "output_type": "execute_result"
    }
   ],
   "source": [
    "list(map(lambda x: x + \" \" +str(lst.count(x)),lst))"
   ]
  },
  {
   "cell_type": "code",
   "execution_count": null,
   "metadata": {},
   "outputs": [],
   "source": [
    "wordfreq=[l.count(p) for p in l]\n",
    "print(list(zip(l,wordfreq)))"
   ]
  },
  {
   "cell_type": "code",
   "execution_count": 4,
   "metadata": {},
   "outputs": [
    {
     "data": {
      "text/plain": [
       "2"
      ]
     },
     "execution_count": 4,
     "metadata": {},
     "output_type": "execute_result"
    }
   ],
   "source": [
    "-2-5+6-2+3-1-5+6 +( -5+6-2+3-1-5+6) "
   ]
  },
  {
   "cell_type": "code",
   "execution_count": 5,
   "metadata": {},
   "outputs": [
    {
     "data": {
      "text/plain": [
       "2"
      ]
     },
     "execution_count": 5,
     "metadata": {},
     "output_type": "execute_result"
    }
   ],
   "source": [
    "-5+6-2+3-1-5+6"
   ]
  },
  {
   "cell_type": "code",
   "execution_count": 6,
   "metadata": {},
   "outputs": [
    {
     "data": {
      "text/plain": [
       "7"
      ]
     },
     "execution_count": 6,
     "metadata": {},
     "output_type": "execute_result"
    }
   ],
   "source": [
    "+6-2+3-1-5+6"
   ]
  },
  {
   "cell_type": "code",
   "execution_count": 7,
   "metadata": {},
   "outputs": [
    {
     "data": {
      "text/plain": [
       "1"
      ]
     },
     "execution_count": 7,
     "metadata": {},
     "output_type": "execute_result"
    }
   ],
   "source": [
    "-2+3-1-5+6"
   ]
  },
  {
   "cell_type": "code",
   "execution_count": 8,
   "metadata": {},
   "outputs": [
    {
     "data": {
      "text/plain": [
       "3"
      ]
     },
     "execution_count": 8,
     "metadata": {},
     "output_type": "execute_result"
    }
   ],
   "source": [
    "+3-1-5+6"
   ]
  },
  {
   "cell_type": "code",
   "execution_count": 12,
   "metadata": {},
   "outputs": [],
   "source": [
    "__x__ = 3"
   ]
  },
  {
   "cell_type": "code",
   "execution_count": 13,
   "metadata": {},
   "outputs": [],
   "source": [
    "x=c=1"
   ]
  },
  {
   "cell_type": "code",
   "execution_count": 14,
   "metadata": {},
   "outputs": [
    {
     "ename": "SyntaxError",
     "evalue": "cannot assign to operator (<ipython-input-14-69d0bb402ddc>, line 1)",
     "output_type": "error",
     "traceback": [
      "\u001b[1;36m  File \u001b[1;32m\"<ipython-input-14-69d0bb402ddc>\"\u001b[1;36m, line \u001b[1;32m1\u001b[0m\n\u001b[1;33m    x&y=1\u001b[0m\n\u001b[1;37m    ^\u001b[0m\n\u001b[1;31mSyntaxError\u001b[0m\u001b[1;31m:\u001b[0m cannot assign to operator\n"
     ]
    }
   ],
   "source": [
    "x&y=1"
   ]
  },
  {
   "cell_type": "code",
   "execution_count": 16,
   "metadata": {},
   "outputs": [
    {
     "name": "stdout",
     "output_type": "stream",
     "text": [
      "10 20\n"
     ]
    }
   ],
   "source": [
    "class Parent:\n",
    "    def __init__(self):\n",
    "        self.x = 10\n",
    "        self.y=20\n",
    "    def print(self):\n",
    "        print(self.x, self.y)\n",
    "class Child(Parent):\n",
    "    def __init(self):\n",
    "        super().__init__()\n",
    "        self.x=30\n",
    "        self.y=40\n",
    "        \n",
    "d=Child()\n",
    "d.print()"
   ]
  },
  {
   "cell_type": "code",
   "execution_count": 17,
   "metadata": {},
   "outputs": [
    {
     "ename": "TypeError",
     "evalue": "can't multiply sequence by non-int of type 'str'",
     "output_type": "error",
     "traceback": [
      "\u001b[1;31m---------------------------------------------------------------------------\u001b[0m",
      "\u001b[1;31mTypeError\u001b[0m                                 Traceback (most recent call last)",
      "\u001b[1;32m<ipython-input-17-b33f5c749717>\u001b[0m in \u001b[0;36m<module>\u001b[1;34m\u001b[0m\n\u001b[1;32m----> 1\u001b[1;33m \u001b[0ms\u001b[0m \u001b[1;33m=\u001b[0m \u001b[1;34m'a'\u001b[0m\u001b[1;33m*\u001b[0m\u001b[1;34m'b'\u001b[0m\u001b[1;33m\u001b[0m\u001b[1;33m\u001b[0m\u001b[0m\n\u001b[0m",
      "\u001b[1;31mTypeError\u001b[0m: can't multiply sequence by non-int of type 'str'"
     ]
    }
   ],
   "source": [
    "s = 'a'*'b'"
   ]
  },
  {
   "cell_type": "code",
   "execution_count": 19,
   "metadata": {},
   "outputs": [
    {
     "data": {
      "text/plain": [
       "'ab'"
      ]
     },
     "execution_count": 19,
     "metadata": {},
     "output_type": "execute_result"
    }
   ],
   "source": [
    "'a'.__add__('b')"
   ]
  },
  {
   "cell_type": "code",
   "execution_count": 21,
   "metadata": {},
   "outputs": [
    {
     "data": {
      "text/plain": [
       "3"
      ]
     },
     "execution_count": 21,
     "metadata": {},
     "output_type": "execute_result"
    }
   ],
   "source": [
    "import sys\n",
    "len(sys.argv)"
   ]
  },
  {
   "cell_type": "code",
   "execution_count": 22,
   "metadata": {},
   "outputs": [],
   "source": [
    "lst = []"
   ]
  },
  {
   "cell_type": "code",
   "execution_count": 23,
   "metadata": {},
   "outputs": [],
   "source": [
    "lst.append([15,6])"
   ]
  },
  {
   "cell_type": "code",
   "execution_count": 24,
   "metadata": {},
   "outputs": [
    {
     "data": {
      "text/plain": [
       "[[15, 6]]"
      ]
     },
     "execution_count": 24,
     "metadata": {},
     "output_type": "execute_result"
    }
   ],
   "source": [
    "lst"
   ]
  },
  {
   "cell_type": "code",
   "execution_count": 25,
   "metadata": {},
   "outputs": [],
   "source": [
    "lst.append([10,30,20])"
   ]
  },
  {
   "cell_type": "code",
   "execution_count": 27,
   "metadata": {},
   "outputs": [],
   "source": [
    "lst.sort()"
   ]
  },
  {
   "cell_type": "code",
   "execution_count": 28,
   "metadata": {},
   "outputs": [
    {
     "data": {
      "text/plain": [
       "[[10, 30, 20], [15, 6]]"
      ]
     },
     "execution_count": 28,
     "metadata": {},
     "output_type": "execute_result"
    }
   ],
   "source": [
    "lst"
   ]
  },
  {
   "cell_type": "code",
   "execution_count": 29,
   "metadata": {},
   "outputs": [
    {
     "data": {
      "text/plain": [
       "float"
      ]
     },
     "execution_count": 29,
     "metadata": {},
     "output_type": "execute_result"
    }
   ],
   "source": [
    "type(1/2)"
   ]
  },
  {
   "cell_type": "code",
   "execution_count": 30,
   "metadata": {},
   "outputs": [
    {
     "data": {
      "text/plain": [
       "116"
      ]
     },
     "execution_count": 30,
     "metadata": {},
     "output_type": "execute_result"
    }
   ],
   "source": [
    "def ev(default=5,*num,**data):\n",
    "    count = default\n",
    "    for x in num:\n",
    "        count+=x\n",
    "    for i in data:\n",
    "        count+=data[i]\n",
    "        return count\n",
    "ev(100,1,2,3,age=10,points=20)"
   ]
  },
  {
   "cell_type": "code",
   "execution_count": 31,
   "metadata": {},
   "outputs": [],
   "source": [
    "a = [(x,y) for x in [0,2] for y in [2,4,0] if x!=y]"
   ]
  },
  {
   "cell_type": "code",
   "execution_count": 32,
   "metadata": {},
   "outputs": [
    {
     "data": {
      "text/plain": [
       "[(0, 2), (0, 4), (2, 4), (2, 0)]"
      ]
     },
     "execution_count": 32,
     "metadata": {},
     "output_type": "execute_result"
    }
   ],
   "source": [
    "a"
   ]
  },
  {
   "cell_type": "code",
   "execution_count": 33,
   "metadata": {},
   "outputs": [
    {
     "data": {
      "text/plain": [
       "25.0"
      ]
     },
     "execution_count": 33,
     "metadata": {},
     "output_type": "execute_result"
    }
   ],
   "source": [
    "import math\n",
    "math.pow(5,2)"
   ]
  },
  {
   "cell_type": "code",
   "execution_count": 34,
   "metadata": {},
   "outputs": [
    {
     "name": "stdout",
     "output_type": "stream",
     "text": [
      "p\n",
      "o\n",
      "i\n",
      "n\n",
      "t\n"
     ]
    }
   ],
   "source": [
    "for i in ['t','n','i','o','p'][::-1]:\n",
    "    print(i)"
   ]
  },
  {
   "cell_type": "code",
   "execution_count": 35,
   "metadata": {},
   "outputs": [
    {
     "ename": "TypeError",
     "evalue": "'tuple' object does not support item assignment",
     "output_type": "error",
     "traceback": [
      "\u001b[1;31m---------------------------------------------------------------------------\u001b[0m",
      "\u001b[1;31mTypeError\u001b[0m                                 Traceback (most recent call last)",
      "\u001b[1;32m<ipython-input-35-cd3f52291f5d>\u001b[0m in \u001b[0;36m<module>\u001b[1;34m\u001b[0m\n\u001b[0;32m      1\u001b[0m \u001b[0ma\u001b[0m \u001b[1;33m=\u001b[0m \u001b[1;33m(\u001b[0m\u001b[1;36m1\u001b[0m\u001b[1;33m,\u001b[0m\u001b[1;36m2\u001b[0m\u001b[1;33m)\u001b[0m\u001b[1;33m\u001b[0m\u001b[1;33m\u001b[0m\u001b[0m\n\u001b[1;32m----> 2\u001b[1;33m \u001b[0ma\u001b[0m\u001b[1;33m[\u001b[0m\u001b[1;36m0\u001b[0m\u001b[1;33m]\u001b[0m \u001b[1;33m+=\u001b[0m\u001b[1;36m1\u001b[0m\u001b[1;33m\u001b[0m\u001b[1;33m\u001b[0m\u001b[0m\n\u001b[0m\u001b[0;32m      3\u001b[0m \u001b[0ma\u001b[0m\u001b[1;33m\u001b[0m\u001b[1;33m\u001b[0m\u001b[0m\n",
      "\u001b[1;31mTypeError\u001b[0m: 'tuple' object does not support item assignment"
     ]
    }
   ],
   "source": [
    "a = (1,2)\n",
    "a[0] +=1\n",
    "a"
   ]
  },
  {
   "cell_type": "code",
   "execution_count": 36,
   "metadata": {},
   "outputs": [],
   "source": [
    "import sys"
   ]
  },
  {
   "cell_type": "code",
   "execution_count": 37,
   "metadata": {},
   "outputs": [
    {
     "data": {
      "text/plain": [
       "['D:\\\\Dev\\\\Python\\\\Challenges',\n",
       " 'C:\\\\Users\\\\varun\\\\anaconda3\\\\envs\\\\env\\\\python38.zip',\n",
       " 'C:\\\\Users\\\\varun\\\\anaconda3\\\\envs\\\\env\\\\DLLs',\n",
       " 'C:\\\\Users\\\\varun\\\\anaconda3\\\\envs\\\\env\\\\lib',\n",
       " 'C:\\\\Users\\\\varun\\\\anaconda3\\\\envs\\\\env',\n",
       " '',\n",
       " 'C:\\\\Users\\\\varun\\\\anaconda3\\\\envs\\\\env\\\\lib\\\\site-packages',\n",
       " 'C:\\\\Users\\\\varun\\\\anaconda3\\\\envs\\\\env\\\\lib\\\\site-packages\\\\win32',\n",
       " 'C:\\\\Users\\\\varun\\\\anaconda3\\\\envs\\\\env\\\\lib\\\\site-packages\\\\win32\\\\lib',\n",
       " 'C:\\\\Users\\\\varun\\\\anaconda3\\\\envs\\\\env\\\\lib\\\\site-packages\\\\Pythonwin',\n",
       " 'C:\\\\Users\\\\varun\\\\anaconda3\\\\envs\\\\env\\\\lib\\\\site-packages\\\\IPython\\\\extensions',\n",
       " 'C:\\\\Users\\\\varun\\\\.ipython']"
      ]
     },
     "execution_count": 37,
     "metadata": {},
     "output_type": "execute_result"
    }
   ],
   "source": [
    "sys.path"
   ]
  },
  {
   "cell_type": "code",
   "execution_count": 38,
   "metadata": {},
   "outputs": [
    {
     "data": {
      "text/plain": [
       "'win32'"
      ]
     },
     "execution_count": 38,
     "metadata": {},
     "output_type": "execute_result"
    }
   ],
   "source": [
    "sys.platform"
   ]
  },
  {
   "cell_type": "code",
   "execution_count": 39,
   "metadata": {},
   "outputs": [
    {
     "ename": "AttributeError",
     "evalue": "module 'sys' has no attribute 'readline'",
     "output_type": "error",
     "traceback": [
      "\u001b[1;31m---------------------------------------------------------------------------\u001b[0m",
      "\u001b[1;31mAttributeError\u001b[0m                            Traceback (most recent call last)",
      "\u001b[1;32m<ipython-input-39-952ce94eb0e3>\u001b[0m in \u001b[0;36m<module>\u001b[1;34m\u001b[0m\n\u001b[1;32m----> 1\u001b[1;33m \u001b[0msys\u001b[0m\u001b[1;33m.\u001b[0m\u001b[0mreadline\u001b[0m\u001b[1;33m\u001b[0m\u001b[1;33m\u001b[0m\u001b[0m\n\u001b[0m",
      "\u001b[1;31mAttributeError\u001b[0m: module 'sys' has no attribute 'readline'"
     ]
    }
   ],
   "source": [
    "sys.readline"
   ]
  },
  {
   "cell_type": "code",
   "execution_count": 41,
   "metadata": {},
   "outputs": [
    {
     "data": {
      "text/plain": [
       "False"
      ]
     },
     "execution_count": 41,
     "metadata": {},
     "output_type": "execute_result"
    }
   ],
   "source": [
    "import random\n",
    "a = random.randrange(4)\n",
    "b = random.choice(range(0,3))\n",
    "a==b"
   ]
  },
  {
   "cell_type": "code",
   "execution_count": 43,
   "metadata": {},
   "outputs": [
    {
     "data": {
      "text/plain": [
       "'p'"
      ]
     },
     "execution_count": 43,
     "metadata": {},
     "output_type": "execute_result"
    }
   ],
   "source": [
    "'p'*int('1')"
   ]
  },
  {
   "cell_type": "code",
   "execution_count": 44,
   "metadata": {},
   "outputs": [
    {
     "ename": "TypeError",
     "evalue": "can only concatenate str (not \"int\") to str",
     "output_type": "error",
     "traceback": [
      "\u001b[1;31m---------------------------------------------------------------------------\u001b[0m",
      "\u001b[1;31mTypeError\u001b[0m                                 Traceback (most recent call last)",
      "\u001b[1;32m<ipython-input-44-0c1d04599d28>\u001b[0m in \u001b[0;36m<module>\u001b[1;34m\u001b[0m\n\u001b[1;32m----> 1\u001b[1;33m \u001b[1;34m'p'\u001b[0m\u001b[1;33m+\u001b[0m\u001b[1;36m1\u001b[0m\u001b[1;33m\u001b[0m\u001b[1;33m\u001b[0m\u001b[0m\n\u001b[0m",
      "\u001b[1;31mTypeError\u001b[0m: can only concatenate str (not \"int\") to str"
     ]
    }
   ],
   "source": [
    "'p'+1"
   ]
  },
  {
   "cell_type": "code",
   "execution_count": 33,
   "metadata": {},
   "outputs": [],
   "source": [
    "# Barter market hackerrank\n",
    "\n",
    "def barterMarket(comicBooks, coins, coinsNeeded, coinsOffered):\n",
    "    if comicBooks == 0:\n",
    "        return 0\n",
    "    elif coins/comicBooks == coinsNeeded:\n",
    "        return comicBooks\n",
    "    elif comicBooks * coinsNeeded < coins:\n",
    "        return comicBooks\n",
    "    else:\n",
    "        while comicBooks * coinsNeeded > coins:\n",
    "            print(str(comicBooks) +'*' +str(coinsNeeded) +'>' +str(coins))\n",
    "            comicBooks -= 1000\n",
    "            coins += coinsOffered*1000\n",
    "                \n",
    "        comicBooks += 1000\n",
    "        coins -= (coinsOffered*1000)\n",
    "        \n",
    "        while comicBooks * coinsNeeded > coins:\n",
    "                comicBooks -= 1\n",
    "                coins += coinsOffered\n",
    "\n",
    "        return comicBooks\n",
    "        \n",
    "        "
   ]
  },
  {
   "cell_type": "code",
   "execution_count": 34,
   "metadata": {},
   "outputs": [
    {
     "name": "stdout",
     "output_type": "stream",
     "text": [
      "30*70>80\n",
      "17*70>1250\n"
     ]
    },
    {
     "data": {
      "text/plain": [
       "17"
      ]
     },
     "execution_count": 34,
     "metadata": {},
     "output_type": "execute_result"
    }
   ],
   "source": [
    "barterMarket(30,80,70,90)"
   ]
  },
  {
   "cell_type": "code",
   "execution_count": 14,
   "metadata": {},
   "outputs": [
    {
     "data": {
      "text/plain": [
       "2100"
      ]
     },
     "execution_count": 14,
     "metadata": {},
     "output_type": "execute_result"
    }
   ],
   "source": [
    "30*70"
   ]
  },
  {
   "cell_type": "code",
   "execution_count": 169,
   "metadata": {},
   "outputs": [],
   "source": [
    "# Restocking the warehouse\n",
    "def restock(itemCount, target):\n",
    "    units = 0\n",
    "    for i in itemCount:\n",
    "        units += i\n",
    "        if units >= target:\n",
    "            break\n",
    "    if units > target:\n",
    "        return units - target\n",
    "    else:\n",
    "        return target - units\n"
   ]
  },
  {
   "cell_type": "code",
   "execution_count": 175,
   "metadata": {},
   "outputs": [
    {
     "data": {
      "text/plain": [
       "1"
      ]
     },
     "execution_count": 175,
     "metadata": {},
     "output_type": "execute_result"
    }
   ],
   "source": [
    "restock([10,20,30,20,15], 96)"
   ]
  },
  {
   "cell_type": "code",
   "execution_count": 36,
   "metadata": {},
   "outputs": [],
   "source": [
    "# Digit Sum\n",
    "def waysToChooseSum(lowLimit, highLimit):\n",
    "    itr = 0\n",
    "    cycle = highLimit+1\n",
    "    while cycle > 9:\n",
    "        cycle = cycle//10\n",
    "        itr += 1\n",
    "\n",
    "    def sumDigit(x):\n",
    "        sums = 0\n",
    "        while x>0:\n",
    "            sums += x%10\n",
    "            x = x//10\n",
    "        return sums\n",
    "\n",
    "    lst = [sumDigit(x) if x>9 else x for x in range(lowLimit, highLimit+1)]\n",
    "    for _ in range(itr-1):\n",
    "        lst = [sumDigit(x) if x>9 else x for x in lst]\n",
    "\n",
    "    flag = 0\n",
    "    nums = 0\n",
    "    for elements in range(1, len(lst)):\n",
    "        nums += 1\n",
    "        if lst[0] == lst[elements]:\n",
    "            flag = 1\n",
    "            break\n",
    "\n",
    "    if flag==0:\n",
    "        return [elements+1,1]\n",
    "\n",
    "    repeat = 0\n",
    "    for i in range(0,len(lst),9):\n",
    "        repeat+=1\n",
    "    return [len(lst[i:]),repeat]"
   ]
  },
  {
   "cell_type": "code",
   "execution_count": 37,
   "metadata": {},
   "outputs": [
    {
     "data": {
      "text/plain": [
       "[2, 832]"
      ]
     },
     "execution_count": 37,
     "metadata": {},
     "output_type": "execute_result"
    }
   ],
   "source": [
    "waysToChooseSum(48444,55924)"
   ]
  },
  {
   "cell_type": "code",
   "execution_count": 38,
   "metadata": {},
   "outputs": [
    {
     "ename": "NameError",
     "evalue": "name 'lst' is not defined",
     "output_type": "error",
     "traceback": [
      "\u001b[1;31m---------------------------------------------------------------------------\u001b[0m",
      "\u001b[1;31mNameError\u001b[0m                                 Traceback (most recent call last)",
      "\u001b[1;32m<ipython-input-38-702948fbc9d4>\u001b[0m in \u001b[0;36m<module>\u001b[1;34m\u001b[0m\n\u001b[0;32m      1\u001b[0m \u001b[1;31m# 1,504\u001b[0m\u001b[1;33m\u001b[0m\u001b[1;33m\u001b[0m\u001b[1;33m\u001b[0m\u001b[0m\n\u001b[1;32m----> 2\u001b[1;33m \u001b[0mlst\u001b[0m\u001b[1;33m[\u001b[0m\u001b[0mi\u001b[0m\u001b[1;33m:\u001b[0m\u001b[1;33m]\u001b[0m\u001b[1;33m\u001b[0m\u001b[1;33m\u001b[0m\u001b[0m\n\u001b[0m",
      "\u001b[1;31mNameError\u001b[0m: name 'lst' is not defined"
     ]
    }
   ],
   "source": [
    "# 1,504\n",
    "lst[i:]"
   ]
  },
  {
   "cell_type": "code",
   "execution_count": 98,
   "metadata": {},
   "outputs": [
    {
     "name": "stdout",
     "output_type": "stream",
     "text": [
      "[5, 1]\n",
      "[1, 1]\n"
     ]
    }
   ],
   "source": [
    "# 48444,55924\n",
    "lowLimit = 1\n",
    "highLimit = 5\n",
    "\n",
    "itr = 0\n",
    "cycle = highLimit+1\n",
    "while cycle > 9:\n",
    "    cycle = cycle//10\n",
    "    itr += 1\n",
    "\n",
    "def sumDigit(x):\n",
    "    sums = 0\n",
    "    while x>0:\n",
    "        sums += x%10\n",
    "        x = x//10\n",
    "    return sums\n",
    "\n",
    "lst = [sumDigit(x) if x>9 else x for x in range(lowLimit, highLimit+1)]\n",
    "for _ in range(itr-1):\n",
    "    lst = [sumDigit(x) if x>9 else x for x in lst]\n",
    "\n",
    "# lst = [sum(list(map(int,list(str(x))))) if x>9 else x for x in range(lowLimit, highLimit+1)]\n",
    "    \n",
    "if len(lst) < 10:\n",
    "    print([len(lst), 1]) \n",
    "\n",
    "print([1,lst.count(lst[-1])])"
   ]
  },
  {
   "cell_type": "code",
   "execution_count": 89,
   "metadata": {},
   "outputs": [
    {
     "data": {
      "text/plain": [
       "[6,\n",
       " 7,\n",
       " 8,\n",
       " 9,\n",
       " 1,\n",
       " 2,\n",
       " 3,\n",
       " 4,\n",
       " 5,\n",
       " 6,\n",
       " 7,\n",
       " 8,\n",
       " 9,\n",
       " 1,\n",
       " 2,\n",
       " 3,\n",
       " 4,\n",
       " 5,\n",
       " 6,\n",
       " 7,\n",
       " 8,\n",
       " 9,\n",
       " 1,\n",
       " 2,\n",
       " 3,\n",
       " 4,\n",
       " 5,\n",
       " 6,\n",
       " 7,\n",
       " 8,\n",
       " 9,\n",
       " 1,\n",
       " 2,\n",
       " 3,\n",
       " 4,\n",
       " 5,\n",
       " 6,\n",
       " 7,\n",
       " 8,\n",
       " 9,\n",
       " 1,\n",
       " 2,\n",
       " 3,\n",
       " 4,\n",
       " 5,\n",
       " 6,\n",
       " 7,\n",
       " 8,\n",
       " 9,\n",
       " 1,\n",
       " 2,\n",
       " 3,\n",
       " 4,\n",
       " 5,\n",
       " 6,\n",
       " 7,\n",
       " 8,\n",
       " 9,\n",
       " 1,\n",
       " 2,\n",
       " 3,\n",
       " 4,\n",
       " 5,\n",
       " 6,\n",
       " 7,\n",
       " 8,\n",
       " 9,\n",
       " 1,\n",
       " 2,\n",
       " 3,\n",
       " 4,\n",
       " 5,\n",
       " 6,\n",
       " 7,\n",
       " 8,\n",
       " 9,\n",
       " 1,\n",
       " 2,\n",
       " 3,\n",
       " 4,\n",
       " 5,\n",
       " 6,\n",
       " 7,\n",
       " 8,\n",
       " 9,\n",
       " 1,\n",
       " 2,\n",
       " 3,\n",
       " 4,\n",
       " 5,\n",
       " 6,\n",
       " 7,\n",
       " 8,\n",
       " 9,\n",
       " 1,\n",
       " 2,\n",
       " 3,\n",
       " 4,\n",
       " 5,\n",
       " 6,\n",
       " 7,\n",
       " 8,\n",
       " 9,\n",
       " 1,\n",
       " 2,\n",
       " 3,\n",
       " 4,\n",
       " 5,\n",
       " 6,\n",
       " 7,\n",
       " 8,\n",
       " 9,\n",
       " 1,\n",
       " 2,\n",
       " 3,\n",
       " 4,\n",
       " 5,\n",
       " 6,\n",
       " 7,\n",
       " 8,\n",
       " 9,\n",
       " 1,\n",
       " 2,\n",
       " 3,\n",
       " 4,\n",
       " 5,\n",
       " 6,\n",
       " 7,\n",
       " 8,\n",
       " 9,\n",
       " 1,\n",
       " 2,\n",
       " 3,\n",
       " 4,\n",
       " 5,\n",
       " 6,\n",
       " 7,\n",
       " 8,\n",
       " 9,\n",
       " 1,\n",
       " 2,\n",
       " 3,\n",
       " 4,\n",
       " 5,\n",
       " 6,\n",
       " 7,\n",
       " 8,\n",
       " 9,\n",
       " 1,\n",
       " 2,\n",
       " 3,\n",
       " 4,\n",
       " 5,\n",
       " 6,\n",
       " 7,\n",
       " 8,\n",
       " 9,\n",
       " 1,\n",
       " 2,\n",
       " 3,\n",
       " 4,\n",
       " 5,\n",
       " 6,\n",
       " 7,\n",
       " 8,\n",
       " 9,\n",
       " 1,\n",
       " 2,\n",
       " 3,\n",
       " 4,\n",
       " 5,\n",
       " 6,\n",
       " 7,\n",
       " 8,\n",
       " 9,\n",
       " 1,\n",
       " 2,\n",
       " 3,\n",
       " 4,\n",
       " 5,\n",
       " 6,\n",
       " 7,\n",
       " 8,\n",
       " 9,\n",
       " 1,\n",
       " 2,\n",
       " 3,\n",
       " 4,\n",
       " 5,\n",
       " 6,\n",
       " 7,\n",
       " 8,\n",
       " 9,\n",
       " 1,\n",
       " 2,\n",
       " 3,\n",
       " 4,\n",
       " 5,\n",
       " 6,\n",
       " 7,\n",
       " 8,\n",
       " 9,\n",
       " 1,\n",
       " 2,\n",
       " 3,\n",
       " 4,\n",
       " 5,\n",
       " 6,\n",
       " 7,\n",
       " 8,\n",
       " 9,\n",
       " 1,\n",
       " 2,\n",
       " 3,\n",
       " 4,\n",
       " 5,\n",
       " 6,\n",
       " 7,\n",
       " 8,\n",
       " 9,\n",
       " 1,\n",
       " 2,\n",
       " 3,\n",
       " 4,\n",
       " 5,\n",
       " 6,\n",
       " 7,\n",
       " 8,\n",
       " 9,\n",
       " 1,\n",
       " 2,\n",
       " 3,\n",
       " 4,\n",
       " 5,\n",
       " 6,\n",
       " 7,\n",
       " 8,\n",
       " 9,\n",
       " 1,\n",
       " 2,\n",
       " 3,\n",
       " 4,\n",
       " 5,\n",
       " 6,\n",
       " 7,\n",
       " 8,\n",
       " 9,\n",
       " 1,\n",
       " 2,\n",
       " 3,\n",
       " 4,\n",
       " 5,\n",
       " 6,\n",
       " 7,\n",
       " 8,\n",
       " 9,\n",
       " 1,\n",
       " 2,\n",
       " 3,\n",
       " 4,\n",
       " 5,\n",
       " 6,\n",
       " 7,\n",
       " 8,\n",
       " 9,\n",
       " 1,\n",
       " 2,\n",
       " 3,\n",
       " 4,\n",
       " 5,\n",
       " 6,\n",
       " 7,\n",
       " 8,\n",
       " 9,\n",
       " 1,\n",
       " 2,\n",
       " 3,\n",
       " 4,\n",
       " 5,\n",
       " 6,\n",
       " 7,\n",
       " 8,\n",
       " 9,\n",
       " 1,\n",
       " 2,\n",
       " 3,\n",
       " 4,\n",
       " 5,\n",
       " 6,\n",
       " 7,\n",
       " 8,\n",
       " 9,\n",
       " 1,\n",
       " 2,\n",
       " 3,\n",
       " 4,\n",
       " 5,\n",
       " 6,\n",
       " 7,\n",
       " 8,\n",
       " 9,\n",
       " 1,\n",
       " 2,\n",
       " 3,\n",
       " 4,\n",
       " 5,\n",
       " 6,\n",
       " 7,\n",
       " 8,\n",
       " 9,\n",
       " 1,\n",
       " 2,\n",
       " 3,\n",
       " 4,\n",
       " 5,\n",
       " 6,\n",
       " 7,\n",
       " 8,\n",
       " 9,\n",
       " 1,\n",
       " 2,\n",
       " 3,\n",
       " 4,\n",
       " 5,\n",
       " 6,\n",
       " 7,\n",
       " 8,\n",
       " 9,\n",
       " 1,\n",
       " 2,\n",
       " 3,\n",
       " 4,\n",
       " 5,\n",
       " 6,\n",
       " 7,\n",
       " 8,\n",
       " 9,\n",
       " 1,\n",
       " 2,\n",
       " 3,\n",
       " 4,\n",
       " 5,\n",
       " 6,\n",
       " 7,\n",
       " 8,\n",
       " 9,\n",
       " 1,\n",
       " 2,\n",
       " 3,\n",
       " 4,\n",
       " 5,\n",
       " 6,\n",
       " 7,\n",
       " 8,\n",
       " 9,\n",
       " 1,\n",
       " 2,\n",
       " 3,\n",
       " 4,\n",
       " 5,\n",
       " 6,\n",
       " 7,\n",
       " 8,\n",
       " 9,\n",
       " 1,\n",
       " 2,\n",
       " 3,\n",
       " 4,\n",
       " 5,\n",
       " 6,\n",
       " 7,\n",
       " 8,\n",
       " 9,\n",
       " 1,\n",
       " 2,\n",
       " 3,\n",
       " 4,\n",
       " 5,\n",
       " 6,\n",
       " 7,\n",
       " 8,\n",
       " 9,\n",
       " 1,\n",
       " 2,\n",
       " 3,\n",
       " 4,\n",
       " 5,\n",
       " 6,\n",
       " 7,\n",
       " 8,\n",
       " 9,\n",
       " 1,\n",
       " 2,\n",
       " 3,\n",
       " 4,\n",
       " 5,\n",
       " 6,\n",
       " 7,\n",
       " 8,\n",
       " 9,\n",
       " 1,\n",
       " 2,\n",
       " 3,\n",
       " 4,\n",
       " 5,\n",
       " 6,\n",
       " 7,\n",
       " 8,\n",
       " 9,\n",
       " 1,\n",
       " 2,\n",
       " 3,\n",
       " 4,\n",
       " 5,\n",
       " 6,\n",
       " 7,\n",
       " 8,\n",
       " 9,\n",
       " 1,\n",
       " 2,\n",
       " 3,\n",
       " 4,\n",
       " 5,\n",
       " 6,\n",
       " 7,\n",
       " 8,\n",
       " 9,\n",
       " 1,\n",
       " 2,\n",
       " 3,\n",
       " 4,\n",
       " 5,\n",
       " 6,\n",
       " 7,\n",
       " 8,\n",
       " 9,\n",
       " 1,\n",
       " 2,\n",
       " 3,\n",
       " 4,\n",
       " 5,\n",
       " 6,\n",
       " 7,\n",
       " 8,\n",
       " 9,\n",
       " 1,\n",
       " 2,\n",
       " 3,\n",
       " 4,\n",
       " 5,\n",
       " 6,\n",
       " 7,\n",
       " 8,\n",
       " 9,\n",
       " 1,\n",
       " 2,\n",
       " 3,\n",
       " 4,\n",
       " 5,\n",
       " 6,\n",
       " 7,\n",
       " 8,\n",
       " 9,\n",
       " 1,\n",
       " 2,\n",
       " 3,\n",
       " 4,\n",
       " 5,\n",
       " 6,\n",
       " 7,\n",
       " 8,\n",
       " 9,\n",
       " 1,\n",
       " 2,\n",
       " 3,\n",
       " 4,\n",
       " 5,\n",
       " 6,\n",
       " 7,\n",
       " 8,\n",
       " 9,\n",
       " 1,\n",
       " 2,\n",
       " 3,\n",
       " 4,\n",
       " 5,\n",
       " 6,\n",
       " 7,\n",
       " 8,\n",
       " 9,\n",
       " 1,\n",
       " 2,\n",
       " 3,\n",
       " 4,\n",
       " 5,\n",
       " 6,\n",
       " 7,\n",
       " 8,\n",
       " 9,\n",
       " 1,\n",
       " 2,\n",
       " 3,\n",
       " 4,\n",
       " 5,\n",
       " 6,\n",
       " 7,\n",
       " 8,\n",
       " 9,\n",
       " 1,\n",
       " 2,\n",
       " 3,\n",
       " 4,\n",
       " 5,\n",
       " 6,\n",
       " 7,\n",
       " 8,\n",
       " 9,\n",
       " 1,\n",
       " 2,\n",
       " 3,\n",
       " 4,\n",
       " 5,\n",
       " 6,\n",
       " 7,\n",
       " 8,\n",
       " 9,\n",
       " 1,\n",
       " 2,\n",
       " 3,\n",
       " 4,\n",
       " 5,\n",
       " 6,\n",
       " 7,\n",
       " 8,\n",
       " 9,\n",
       " 1,\n",
       " 2,\n",
       " 3,\n",
       " 4,\n",
       " 5,\n",
       " 6,\n",
       " 7,\n",
       " 8,\n",
       " 9,\n",
       " 1,\n",
       " 2,\n",
       " 3,\n",
       " 4,\n",
       " 5,\n",
       " 6,\n",
       " 7,\n",
       " 8,\n",
       " 9,\n",
       " 1,\n",
       " 2,\n",
       " 3,\n",
       " 4,\n",
       " 5,\n",
       " 6,\n",
       " 7,\n",
       " 8,\n",
       " 9,\n",
       " 1,\n",
       " 2,\n",
       " 3,\n",
       " 4,\n",
       " 5,\n",
       " 6,\n",
       " 7,\n",
       " 8,\n",
       " 9,\n",
       " 1,\n",
       " 2,\n",
       " 3,\n",
       " 4,\n",
       " 5,\n",
       " 6,\n",
       " 7,\n",
       " 8,\n",
       " 9,\n",
       " 1,\n",
       " 2,\n",
       " 3,\n",
       " 4,\n",
       " 5,\n",
       " 6,\n",
       " 7,\n",
       " 8,\n",
       " 9,\n",
       " 1,\n",
       " 2,\n",
       " 3,\n",
       " 4,\n",
       " 5,\n",
       " 6,\n",
       " 7,\n",
       " 8,\n",
       " 9,\n",
       " 1,\n",
       " 2,\n",
       " 3,\n",
       " 4,\n",
       " 5,\n",
       " 6,\n",
       " 7,\n",
       " 8,\n",
       " 9,\n",
       " 1,\n",
       " 2,\n",
       " 3,\n",
       " 4,\n",
       " 5,\n",
       " 6,\n",
       " 7,\n",
       " 8,\n",
       " 9,\n",
       " 1,\n",
       " 2,\n",
       " 3,\n",
       " 4,\n",
       " 5,\n",
       " 6,\n",
       " 7,\n",
       " 8,\n",
       " 9,\n",
       " 1,\n",
       " 2,\n",
       " 3,\n",
       " 4,\n",
       " 5,\n",
       " 6,\n",
       " 7,\n",
       " 8,\n",
       " 9,\n",
       " 1,\n",
       " 2,\n",
       " 3,\n",
       " 4,\n",
       " 5,\n",
       " 6,\n",
       " 7,\n",
       " 8,\n",
       " 9,\n",
       " 1,\n",
       " 2,\n",
       " 3,\n",
       " 4,\n",
       " 5,\n",
       " 6,\n",
       " 7,\n",
       " 8,\n",
       " 9,\n",
       " 1,\n",
       " 2,\n",
       " 3,\n",
       " 4,\n",
       " 5,\n",
       " 6,\n",
       " 7,\n",
       " 8,\n",
       " 9,\n",
       " 1,\n",
       " 2,\n",
       " 3,\n",
       " 4,\n",
       " 5,\n",
       " 6,\n",
       " 7,\n",
       " 8,\n",
       " 9,\n",
       " 1,\n",
       " 2,\n",
       " 3,\n",
       " 4,\n",
       " 5,\n",
       " 6,\n",
       " 7,\n",
       " 8,\n",
       " 9,\n",
       " 1,\n",
       " 2,\n",
       " 3,\n",
       " 4,\n",
       " 5,\n",
       " 6,\n",
       " 7,\n",
       " 8,\n",
       " 9,\n",
       " 1,\n",
       " 2,\n",
       " 3,\n",
       " 4,\n",
       " 5,\n",
       " 6,\n",
       " 7,\n",
       " 8,\n",
       " 9,\n",
       " 1,\n",
       " 2,\n",
       " 3,\n",
       " 4,\n",
       " 5,\n",
       " 6,\n",
       " 7,\n",
       " 8,\n",
       " 9,\n",
       " 1,\n",
       " 2,\n",
       " 3,\n",
       " 4,\n",
       " 5,\n",
       " 6,\n",
       " 7,\n",
       " 8,\n",
       " 9,\n",
       " 1,\n",
       " 2,\n",
       " 3,\n",
       " 4,\n",
       " 5,\n",
       " 6,\n",
       " 7,\n",
       " 8,\n",
       " 9,\n",
       " 1,\n",
       " 2,\n",
       " 3,\n",
       " 4,\n",
       " 5,\n",
       " 6,\n",
       " 7,\n",
       " 8,\n",
       " 9,\n",
       " 1,\n",
       " 2,\n",
       " 3,\n",
       " 4,\n",
       " 5,\n",
       " 6,\n",
       " 7,\n",
       " 8,\n",
       " 9,\n",
       " 1,\n",
       " 2,\n",
       " 3,\n",
       " 4,\n",
       " 5,\n",
       " 6,\n",
       " 7,\n",
       " 8,\n",
       " 9,\n",
       " 1,\n",
       " 2,\n",
       " 3,\n",
       " 4,\n",
       " 5,\n",
       " 6,\n",
       " 7,\n",
       " 8,\n",
       " 9,\n",
       " 1,\n",
       " 2,\n",
       " 3,\n",
       " 4,\n",
       " 5,\n",
       " 6,\n",
       " 7,\n",
       " 8,\n",
       " 9,\n",
       " 1,\n",
       " 2,\n",
       " 3,\n",
       " 4,\n",
       " 5,\n",
       " 6,\n",
       " 7,\n",
       " 8,\n",
       " 9,\n",
       " 1,\n",
       " 2,\n",
       " 3,\n",
       " 4,\n",
       " 5,\n",
       " 6,\n",
       " 7,\n",
       " 8,\n",
       " 9,\n",
       " 1,\n",
       " 2,\n",
       " 3,\n",
       " 4,\n",
       " 5,\n",
       " 6,\n",
       " 7,\n",
       " 8,\n",
       " 9,\n",
       " 1,\n",
       " 2,\n",
       " 3,\n",
       " 4,\n",
       " 5,\n",
       " 6,\n",
       " 7,\n",
       " 8,\n",
       " 9,\n",
       " 1,\n",
       " 2,\n",
       " 3,\n",
       " 4,\n",
       " 5,\n",
       " 6,\n",
       " 7,\n",
       " 8,\n",
       " 9,\n",
       " 1,\n",
       " 2,\n",
       " 3,\n",
       " 4,\n",
       " 5,\n",
       " 6,\n",
       " 7,\n",
       " 8,\n",
       " 9,\n",
       " 1,\n",
       " 2,\n",
       " 3,\n",
       " 4,\n",
       " 5,\n",
       " 6,\n",
       " 7,\n",
       " 8,\n",
       " 9,\n",
       " 1,\n",
       " 2,\n",
       " 3,\n",
       " 4,\n",
       " 5,\n",
       " 6,\n",
       " 7,\n",
       " 8,\n",
       " 9,\n",
       " 1,\n",
       " 2,\n",
       " 3,\n",
       " 4,\n",
       " 5,\n",
       " 6,\n",
       " 7,\n",
       " 8,\n",
       " 9,\n",
       " 1,\n",
       " 2,\n",
       " 3,\n",
       " 4,\n",
       " 5,\n",
       " 6,\n",
       " 7,\n",
       " 8,\n",
       " 9,\n",
       " 1,\n",
       " 2,\n",
       " 3,\n",
       " 4,\n",
       " 5,\n",
       " 6,\n",
       " 7,\n",
       " 8,\n",
       " 9,\n",
       " 1,\n",
       " 2,\n",
       " 3,\n",
       " 4,\n",
       " 5,\n",
       " 6,\n",
       " 7,\n",
       " 8,\n",
       " 9,\n",
       " 1,\n",
       " 2,\n",
       " 3,\n",
       " 4,\n",
       " 5,\n",
       " 6,\n",
       " 7,\n",
       " 8,\n",
       " 9,\n",
       " 1,\n",
       " 2,\n",
       " 3,\n",
       " 4,\n",
       " 5,\n",
       " 6,\n",
       " 7,\n",
       " 8,\n",
       " 9,\n",
       " 1,\n",
       " 2,\n",
       " 3,\n",
       " 4,\n",
       " 5,\n",
       " 6,\n",
       " 7,\n",
       " 8,\n",
       " 9,\n",
       " 1,\n",
       " 2,\n",
       " 3,\n",
       " 4,\n",
       " 5,\n",
       " 6,\n",
       " 7,\n",
       " 8,\n",
       " 9,\n",
       " 1,\n",
       " 2,\n",
       " 3,\n",
       " 4,\n",
       " 5,\n",
       " 6,\n",
       " 7,\n",
       " 8,\n",
       " 9,\n",
       " 1,\n",
       " 2,\n",
       " 3,\n",
       " 4,\n",
       " 5,\n",
       " 6,\n",
       " 7,\n",
       " 8,\n",
       " 9,\n",
       " 1,\n",
       " 2,\n",
       " 3,\n",
       " 4,\n",
       " 5,\n",
       " 6,\n",
       " 7,\n",
       " 8,\n",
       " 9,\n",
       " 1,\n",
       " 2,\n",
       " 3,\n",
       " 4,\n",
       " 5,\n",
       " 6,\n",
       " 7,\n",
       " 8,\n",
       " 9,\n",
       " 1,\n",
       " 2,\n",
       " 3,\n",
       " 4,\n",
       " 5,\n",
       " 6,\n",
       " 7,\n",
       " 8,\n",
       " 9,\n",
       " 1,\n",
       " 2,\n",
       " 3,\n",
       " 4,\n",
       " 5,\n",
       " 6,\n",
       " 7,\n",
       " 8,\n",
       " 9,\n",
       " 1,\n",
       " 2,\n",
       " 3,\n",
       " 4,\n",
       " 5,\n",
       " 6,\n",
       " 7,\n",
       " 8,\n",
       " 9,\n",
       " 1,\n",
       " 2,\n",
       " 3,\n",
       " 4,\n",
       " 5,\n",
       " 6,\n",
       " 7,\n",
       " 8,\n",
       " 9,\n",
       " 1,\n",
       " 2,\n",
       " 3,\n",
       " 4,\n",
       " 5,\n",
       " 6,\n",
       " 7,\n",
       " 8,\n",
       " 9,\n",
       " 1,\n",
       " 2,\n",
       " 3,\n",
       " 4,\n",
       " 5,\n",
       " 6,\n",
       " ...]"
      ]
     },
     "execution_count": 89,
     "metadata": {},
     "output_type": "execute_result"
    }
   ],
   "source": [
    "lst"
   ]
  },
  {
   "cell_type": "code",
   "execution_count": 90,
   "metadata": {},
   "outputs": [
    {
     "data": {
      "text/plain": [
       "7"
      ]
     },
     "execution_count": 90,
     "metadata": {},
     "output_type": "execute_result"
    }
   ],
   "source": [
    "lst[-1]"
   ]
  },
  {
   "cell_type": "code",
   "execution_count": null,
   "metadata": {},
   "outputs": [],
   "source": [
    "6, 7, 8, 9, 1, 2, 3, 4, 5, 6, 7, 8, 9, 1, 2, 3, 4, 5, 6, 7, 8, 9, 1, 2, 3, 4, 5, 6, 7"
   ]
  },
  {
   "cell_type": "code",
   "execution_count": 42,
   "metadata": {},
   "outputs": [
    {
     "data": {
      "text/plain": [
       "7481"
      ]
     },
     "execution_count": 42,
     "metadata": {},
     "output_type": "execute_result"
    }
   ],
   "source": [
    "len(lst)"
   ]
  },
  {
   "cell_type": "code",
   "execution_count": 48,
   "metadata": {},
   "outputs": [
    {
     "data": {
      "text/plain": [
       "-7480"
      ]
     },
     "execution_count": 48,
     "metadata": {},
     "output_type": "execute_result"
    }
   ],
   "source": [
    " 48444-55924"
   ]
  },
  {
   "cell_type": "code",
   "execution_count": 49,
   "metadata": {},
   "outputs": [
    {
     "data": {
      "text/plain": [
       "(1, 7480)"
      ]
     },
     "execution_count": 49,
     "metadata": {},
     "output_type": "execute_result"
    }
   ],
   "source": [
    "1,7480"
   ]
  },
  {
   "cell_type": "code",
   "execution_count": null,
   "metadata": {},
   "outputs": [],
   "source": []
  },
  {
   "cell_type": "code",
   "execution_count": 71,
   "metadata": {},
   "outputs": [],
   "source": [
    "def sumDigit(x):\n",
    "    sums = 0\n",
    "    x = x//10\n",
    "    if x < 10:\n",
    "        return sums\n",
    "    sums += x%10\n",
    "    print(sums,x)\n",
    "    \n",
    "    return sumDigit(x)"
   ]
  },
  {
   "cell_type": "code",
   "execution_count": 72,
   "metadata": {},
   "outputs": [
    {
     "name": "stdout",
     "output_type": "stream",
     "text": [
      "4 4844\n",
      "4 484\n",
      "8 48\n"
     ]
    },
    {
     "data": {
      "text/plain": [
       "0"
      ]
     },
     "execution_count": 72,
     "metadata": {},
     "output_type": "execute_result"
    }
   ],
   "source": [
    "sumDigit(48444)"
   ]
  },
  {
   "cell_type": "code",
   "execution_count": 2,
   "metadata": {},
   "outputs": [],
   "source": [
    "# Remove nested lists\n",
    "def itrs(a):\n",
    "    for i in a:\n",
    "        if type(i) == list:\n",
    "            itrs(i)\n",
    "        else:\n",
    "            print(i, end=' ')"
   ]
  },
  {
   "cell_type": "code",
   "execution_count": 30,
   "metadata": {},
   "outputs": [
    {
     "data": {
      "text/plain": [
       "3"
      ]
     },
     "execution_count": 30,
     "metadata": {},
     "output_type": "execute_result"
    }
   ],
   "source": [
    "# count sub string\n",
    "a = 'fdwrfsztqfmgv qadsfmepgwlfmdlfiwf'\n",
    "b='fm'\n",
    "def subStringCount(string,sub):\n",
    "    num = 0\n",
    "    times = 0\n",
    "    for i in string:\n",
    "        if i == sub[num]:\n",
    "            num +=1\n",
    "            if num == len(sub):\n",
    "                times += 1\n",
    "                num = 0\n",
    "        else:\n",
    "            num = 0\n",
    "    return times\n",
    "\n",
    "subStringCount(a,b)"
   ]
  },
  {
   "cell_type": "code",
   "execution_count": 141,
   "metadata": {},
   "outputs": [],
   "source": [
    "def maximumWater(arr, n):\n",
    "    cols=len(arr)\n",
    "    rows=max(arr)\n",
    "\n",
    "    lst=[]\n",
    "    lst1 = []\n",
    "\n",
    "    for i in range(cols):\n",
    "            lst1.append(0)\n",
    "    for i in range(rows):\n",
    "        lst.append(lst1)\n",
    "    lst = [sublist[:] for sublist in lst] #decopling\n",
    "\n",
    "    for n in range(len(arr)):\n",
    "        times=rows-1\n",
    "        for i in range(arr[n]):\n",
    "            lst[times][n] = 1\n",
    "            times -= 1\n",
    "\n",
    "    result=0\n",
    "    for i in range(rows):\n",
    "        for j in range(cols):\n",
    "            if lst[i][j] == 1:\n",
    "                start = j\n",
    "                break\n",
    "\n",
    "        for k in range(cols-1,-1,-1):\n",
    "            if lst[i][k] == 1:\n",
    "                end = k\n",
    "                break\n",
    "\n",
    "        for l in range(start+1,end):\n",
    "            if lst[i][l] == 0:\n",
    "                result+=1\n",
    "    \n",
    "    return result"
   ]
  },
  {
   "cell_type": "code",
   "execution_count": 142,
   "metadata": {},
   "outputs": [
    {
     "data": {
      "text/plain": [
       "7"
      ]
     },
     "execution_count": 142,
     "metadata": {},
     "output_type": "execute_result"
    }
   ],
   "source": [
    "arr = [3,0,2,0,4]  # 7\n",
    "n = 1\n",
    "maximumWater(arr, n)"
   ]
  },
  {
   "cell_type": "code",
   "execution_count": 143,
   "metadata": {},
   "outputs": [
    {
     "data": {
      "text/plain": [
       "2147483648"
      ]
     },
     "execution_count": 143,
     "metadata": {},
     "output_type": "execute_result"
    }
   ],
   "source": [
    "2**31"
   ]
  },
  {
   "cell_type": "code",
   "execution_count": 144,
   "metadata": {},
   "outputs": [
    {
     "data": {
      "text/plain": [
       "-2147483648"
      ]
     },
     "execution_count": 144,
     "metadata": {},
     "output_type": "execute_result"
    }
   ],
   "source": [
    "-2**31"
   ]
  },
  {
   "cell_type": "code",
   "execution_count": 146,
   "metadata": {},
   "outputs": [
    {
     "data": {
      "text/plain": [
       "True"
      ]
     },
     "execution_count": 146,
     "metadata": {},
     "output_type": "execute_result"
    }
   ],
   "source": [
    "9646324351>2147483648"
   ]
  },
  {
   "cell_type": "code",
   "execution_count": 59,
   "metadata": {},
   "outputs": [],
   "source": [
    "words=[\"aaaaa\",  \"aabbbaa\",  \"bbbaabbb\",  \"ccc\",  \"ccbbbc\"]\n",
    "k= 3"
   ]
  },
  {
   "cell_type": "code",
   "execution_count": 187,
   "metadata": {},
   "outputs": [],
   "source": [
    "words=[\"dragon\",  \"rage\",  \"age\",  \"savage\"]\n",
    "k= 2"
   ]
  },
  {
   "cell_type": "code",
   "execution_count": 204,
   "metadata": {},
   "outputs": [],
   "source": [
    "words= [\"x\"]\n",
    "k= 1"
   ]
  },
  {
   "cell_type": "code",
   "execution_count": 215,
   "metadata": {},
   "outputs": [],
   "source": [
    "words=[\"snwarquawizvtctnmddwgjpudbhpwisvxshkazzuhhoqndnnsv\",  \"ckyuztwmdtrluuinrtlqzbaxmbwttnsmrhwwzwptxuwxndnnsv\",  \"bbgmvtitmqouwpkprejxhkhyrweezjllxwfqrcekgwtkmekfqz\",  \"kcvbncmwoqbffgsmbeerjeashslhsnwarqqdindnnsvogclxfr\",  \"svzppvdypctgkpmlzdiiokaraqcbrndnnsvsnwarqjlhvqtrcx\",  \"qrzeqpqycwajmdcinidbhcfqleppyxkfppmricgeprgindnnsv\",  \"dwxlitnwcaxibqxdtzapvndnnsvxunvuzjlrlakrwzywqkvjcm\",  \"ndnnsvzwxgyjmyqxkyjzcdnkobbrxohfbzpskxxgeqihwcwozw\",  \"cbztvteexxgbvylkiyqaqfowgtyhcdyinwzuvwwlqndnnsvngb\",  \"ndnnsvxhufvkjxyizthowtklyxdxxexdhvadylpvxlctcgbile\",  \"znuocepaswuliuwssndnnsvjxzhbnggaemmxooxtxcezmvvohl\",  \"agedpilwiuddbpnqmjuvtbrucejwrkqtejkckcerfienndnnsv\",  \"vxwmgolwndnnsvbjmxcmsnwarqmqgcnmdthokuqlcmvwuloqxc\",  \"ndnnsvhyywdplhgfbtwpssopyfnelupoiwmpvkgqstnzrdvodg\",  \"snwarqgkgvwxhfymsinorjfpnvqontdzdivpubkgevlcetzdwe\",  \"ravokxdfnktoblngpjrndnnsvrtmafpthiekjbkhroxjjsygke\",  \"snwarqxmdudnbnhwpwuuujabyrvhhphhkfqhnghgyllndnnsvc\",  \"ndnnsvbvlzghdtqesnwarqdftyilpjelvlmfzdxsdpvwhllpjx\",  \"ezmuvmunzqueneemnblndnnsvtyfsqqyuuuaqckpvnbmxoxoii\",  \"kamfoyptanndnnsvuhtefxnmflkrdldipjzqdsoqxrrardvqwf\",  \"mnyhndnnsvvfmizjjwohzirsrhdsskqdfnkjvmndfwywwlgwzo\",  \"ndnnsvzqvikrupbfbeokbvviuyzzcwkzfygtmldrusiovuzjqs\",  \"ndnnsvnbjogfaoiowvdrvrkbcedxkhbardbsfphqzvdunerxzr\",  \"ndnnsvusdetdxptgdmbgluwrlrdhwcnpqwfaizkocnryiuibmo\",  \"nvmuorqpzmxvfpndnnsvntanrwvyhmpvbmodkuycuiuohwojzf\",  \"ncsurlgoexakmnzmzxbqjbsmpbmppndnnsvphydjkoojdetvpl\",  \"kyejpoftksnwarqsofvfvinrpfuwqsexjrdkwkzyijvapownzm\",  \"peymjoeibmkoalbhljbqstfzgxkyswjfehskjndnnsvyewaesf\",  \"nzhcywzmfmxtddxyokyyhmwmelzmlsjmqndnnsvcfzyfhtqzex\",  \"tijlolhfeenxhvtsjbxstpwtsghjagzhdrvwkkwnuqfmkfhlqj\",  \"lxcdantcwvtrgrwzkexrzqbmfxjdglvygfindnnsvielcdxmkw\",  \"jxizdvfsnmcbrkursanfpfnvsgczkhvxkzxbstsnwarqndnnsv\",  \"qqrabfkgdwrzuagbqpflhoncrugixvypnymbdwecpuucndnnsv\",  \"ndnnsvhisiggivprupowemshgeiskbcahtrjoyzdzskunhckdi\",  \"wmdnuurcbdtxqtxvwfuidmuosnwarqnrkzadkvbbtaqwpvlcwk\",  \"tgzcvwlihcirgfpttoogavtsgldncfqtivkkmxtmqvuceioqtl\",  \"geaggntuezqtrawkvyindnnsvebzhztywvgtmbmkwcmnufsxco\",  \"gcubtmgpkcnobimlkhmztmkveicxeicbfxzqqnaigvgzndnnsv\",  \"dalcuqhxasrkacwaimbqmcnqmaqzsriuqmjsokfcxabkpgujew\",  \"snwarqndnnsvpogeuybqogjssccektrbnbpuwcrmikpnejdbtn\",  \"endnnsviybuiovvkojwsdewzlvwkynpbnauisinzoadygtonwi\",  \"ndnnsvopoeudhsdvvpbdkkxbjfgmwzbtcoqwwcoxusytfzootf\",  \"tdtzpjtdlbfxvpjbjohznfsffjtwomlrsnwarqmajjqwebbzxm\",  \"fdxmlctncgyfazgulohalatuhnhzkyrqnmlkghsnwarqndnnsv\",  \"ndnnsvthnscdmbcvyfokawrrzrumjllkxjouhciohuoxudlgqm\",  \"pqnkglnkegecwqukkeeerstbhgndnnsvcrexyxrllbbilbkgws\",  \"ndnnsvsnwarqxbeusmjmzzdqocdmvczrtxvbbriigdlynhyijn\",  \"jeuogcodgdwolvjhvdnxroiintxaahootchandnnsvdpxgcwys\",  \"uylwfhmbwxpimjmuwblltoybvokhmsfbitkysiybmdftbmdkfm\",  \"ndnnsvkyggxtlkzlzhmtmddlsnwarqezzbdqopblhtglsvjrcc\",  \"mxrugzsesbvtckrcvwwttvfckyjrndnnsvasiijrctumfgdcsr\",  \"fzbmzebndnnsvgtebbswjxgjxakaxbnfjphfqfapkninrqpquk\",  \"fftoetcdwlqgolyulbhcgizhlymhbflsputsfndnnsvodyablr\",  \"lpidowrfevxjpnezawhtehqkuparzqurgzjvupfikepfndnnsv\",  \"raakgzphgevucderadbmxhsbnfeuyondnnsvwlselforhxhhiu\",  \"fdndnnsvopcweonxemuzeomznnsvokrhkcbvgrmibktrmswyjp\",  \"ndnnsvzdnfcadanszkfqqrbudfhvatccbpfasijqkdtihjursc\",  \"vncrdqlsnwarqrvvhwndnnsvudtouoswcfztxxilbmbybkgvej\",  \"ndnnsvqddfppbybupnyhccjmzgntvknynwvsnwarqrwiqteruv\",  \"aywblxcmdavvnpthyxdqmvtjozrwuismtgqqndnnsvmjftgxlj\",  \"srbcqecpvlyxqwrasqszhtflvtfqywuudqcverpcndnnsvhqpz\",  \"ndnnsvovskmqyfiyrjqghpqavtmseimxvbfzgrsivtxinqrtqv\",  \"ndnnsvcqcsqvsfdlkblkutsgzxuxhtrbvkqhisrelwjjccccix\",  \"ofgryqkvsaqjmikwhhxymjrtuftakiasndnnsvhmpekrpmoqjf\",  \"qiuydmndnnsvfqcuiowmfnuhkgupiqaedupljakrlqexwboowv\",  \"ixneetpkkdawahiueoimenyuppduohqfqjxsndnnsvdhtpswis\",  \"ndnnsvqrnrhwshokpoppjayfktsozznysbrrwimgisnwarqzlt\",  \"oxicplreayymcakzvzvdrlsnibvztvsowndnnsvwjpmjgsfxpf\",  \"rwhkcktsigrotpeijaowuiyvyfehblifgvndnnsvwedlaoeuwp\",  \"mdbwuokvszpgdpwfnnvkifuyqbqfvirnphmhkahdvtgpndnnsv\",  \"gxeofvycutjpufjndnnsvqoxqtbznammvytqrkpkpznpmzrozf\",  \"xicyboczxpegnmvjcsbbbsuxrgqbvmtfliircundnnsvsxocks\",  \"ftocvgndnnsvuiiqlcnffzschwsnzdywhyqpfdnsnzzcvmetzm\",  \"kktzrkfoqjjrqtunaqnkvvhcuucscorvfvkqmiocyvvbndnnsv\",  \"xmaevzldjmndnnsvtuwiutjlthcqocxosrwdwfnvqezrsnwarq\",  \"pwtxpkzmvozmhbacicqblybotbjfxdgpwtufusdlcgaubetxlo\",  \"snwarqxvtxvjrcgdkqzshsgcqvkjboahigrpwwnozuendnnsvn\",  \"egezwvcnukcaxazzjerxxicdlpztnkvnjpzfznpijndnnsvtih\",  \"disbmdhofqgswzhpcijzduildorkhocpsmvupevcsxybquovyc\",  \"zbensdkmzcslayiasybwyqryrrtwmeuvsniwxpefpndxndnnsv\",  \"kmitltvutnmoohnbkberatusygbtfnvfrlmycvdcndnnsvcrzn\",  \"vwaeyloacdwpwmfaundcnnbyxhqnukkyahvdsvxndnnsvdofos\",  \"ndnnsvznkhlzfqpqemcgunqfosoyihvbeijabbwyumjbzpkhsq\",  \"ndnnsvdzdbijeepqavzcpyeuheooaraukkcdahbnawanvbecbh\",  \"gasmerwsnniacdznqsoxcpmrmdvigzutsufaqoqzunfdwnzdfv\",  \"vosyuvgeqgjuehoxwytgbfkgqlauaaxprwltljdhryscndnnsv\",  \"xrqmfckxfzwmvsnwarqndnnsvoobeheiabmawkmwpbncsxifer\",  \"werleynutikrsidcndnnsvirdxckvrfehhnomiegmkqqkdzxza\",  \"dufsnmxjqdfftfdvkeqagdfdmfjpadcahsqioavnvndnnsvphw\",  \"wgykqxcfpjbrwuzpuyrdbbmcaloskeebwuqjadbhevimqxwrkj\"]\n",
    "k= 5 # cndnnsv"
   ]
  },
  {
   "cell_type": "code",
   "execution_count": 216,
   "metadata": {},
   "outputs": [],
   "source": [
    "import datetime\n",
    "\n",
    "def maxCommonSubstringMultiLang(words, k):\n",
    "    kth = []\n",
    "    lst=[]\n",
    "    flag=0\n",
    "    for i in words:\n",
    "        kth.append(len(i))\n",
    "    kth.sort()\n",
    "    \n",
    "    for length in range(kth[-k],0,-1):\n",
    "        for word in words:\n",
    "            if len(word) >= length:\n",
    "                itr = 0\n",
    "                while itr+length < len(word)+1:\n",
    "                    count = 0\n",
    "                    for i in words:\n",
    "                        if word[itr:length+itr] in i:\n",
    "                            count += 1\n",
    "                            if count == k:\n",
    "                                lst.append(word[itr:length+itr])\n",
    "                                flag=1\n",
    "                    itr += 1\n",
    "        if flag==1:\n",
    "            break\n",
    "    \n",
    "    lst.sort()\n",
    "    return lst[0]\n",
    "    \n",
    "\n"
   ]
  },
  {
   "cell_type": "code",
   "execution_count": 229,
   "metadata": {},
   "outputs": [
    {
     "name": "stdout",
     "output_type": "stream",
     "text": [
      "16:47:37\n",
      "1\n",
      "1\n",
      "1\n",
      "1\n",
      "1\n",
      "1\n",
      "1\n",
      "1\n",
      "1\n",
      "1\n",
      "1\n",
      "1\n",
      "1\n",
      "1\n",
      "1\n",
      "1\n",
      "1\n",
      "1\n",
      "1\n",
      "1\n",
      "1\n",
      "1\n",
      "1\n",
      "1\n",
      "1\n",
      "1\n",
      "1\n",
      "1\n",
      "1\n",
      "1\n",
      "1\n",
      "1\n",
      "1\n",
      "1\n",
      "1\n",
      "1\n",
      "1\n",
      "1\n",
      "1\n",
      "1\n",
      "1\n",
      "1\n",
      "1\n",
      "1\n",
      "1\n",
      "1\n",
      "1\n",
      "1\n",
      "1\n",
      "1\n",
      "1\n",
      "1\n",
      "1\n",
      "1\n",
      "1\n",
      "1\n",
      "1\n",
      "1\n",
      "1\n",
      "1\n",
      "1\n",
      "1\n",
      "1\n",
      "1\n",
      "1\n",
      "1\n",
      "1\n",
      "1\n",
      "1\n",
      "1\n",
      "1\n",
      "1\n",
      "1\n",
      "1\n",
      "1\n",
      "1\n",
      "1\n",
      "1\n",
      "1\n",
      "1\n",
      "1\n",
      "1\n",
      "1\n",
      "1\n",
      "1\n",
      "1\n",
      "1\n",
      "1\n",
      "1\n",
      "1\n",
      "1\n",
      "1\n",
      "1\n",
      "1\n",
      "1\n",
      "1\n",
      "1\n",
      "1\n",
      "1\n",
      "1\n",
      "1\n",
      "1\n",
      "[]\n"
     ]
    },
    {
     "ename": "IndexError",
     "evalue": "list index out of range",
     "output_type": "error",
     "traceback": [
      "\u001b[1;31m---------------------------------------------------------------------------\u001b[0m",
      "\u001b[1;31mIndexError\u001b[0m                                Traceback (most recent call last)",
      "\u001b[1;32m<ipython-input-229-6fb06429bcc4>\u001b[0m in \u001b[0;36m<module>\u001b[1;34m\u001b[0m\n\u001b[0;32m      1\u001b[0m \u001b[0mprint\u001b[0m\u001b[1;33m(\u001b[0m\u001b[0mdatetime\u001b[0m\u001b[1;33m.\u001b[0m\u001b[0mdatetime\u001b[0m\u001b[1;33m.\u001b[0m\u001b[0mnow\u001b[0m\u001b[1;33m(\u001b[0m\u001b[1;33m)\u001b[0m\u001b[1;33m.\u001b[0m\u001b[0mstrftime\u001b[0m\u001b[1;33m(\u001b[0m\u001b[1;34m'%H:%M:%S'\u001b[0m\u001b[1;33m)\u001b[0m\u001b[1;33m)\u001b[0m\u001b[1;33m\u001b[0m\u001b[1;33m\u001b[0m\u001b[0m\n\u001b[1;32m----> 2\u001b[1;33m \u001b[0mprint\u001b[0m\u001b[1;33m(\u001b[0m\u001b[0mmaxCommonSubstringMultiLang\u001b[0m\u001b[1;33m(\u001b[0m\u001b[0mwords\u001b[0m\u001b[1;33m,\u001b[0m \u001b[0mk\u001b[0m\u001b[1;33m)\u001b[0m\u001b[1;33m)\u001b[0m\u001b[1;33m\u001b[0m\u001b[1;33m\u001b[0m\u001b[0m\n\u001b[0m\u001b[0;32m      3\u001b[0m \u001b[0mprint\u001b[0m\u001b[1;33m(\u001b[0m\u001b[0mdatetime\u001b[0m\u001b[1;33m.\u001b[0m\u001b[0mdatetime\u001b[0m\u001b[1;33m.\u001b[0m\u001b[0mnow\u001b[0m\u001b[1;33m(\u001b[0m\u001b[1;33m)\u001b[0m\u001b[1;33m.\u001b[0m\u001b[0mstrftime\u001b[0m\u001b[1;33m(\u001b[0m\u001b[1;34m'%H:%M:%S'\u001b[0m\u001b[1;33m)\u001b[0m\u001b[1;33m)\u001b[0m\u001b[1;33m\u001b[0m\u001b[1;33m\u001b[0m\u001b[0m\n",
      "\u001b[1;32m<ipython-input-228-4c747f0cf9c0>\u001b[0m in \u001b[0;36mmaxCommonSubstringMultiLang\u001b[1;34m(words, k)\u001b[0m\n\u001b[0;32m     28\u001b[0m     \u001b[0mlst\u001b[0m\u001b[1;33m.\u001b[0m\u001b[0msort\u001b[0m\u001b[1;33m(\u001b[0m\u001b[1;33m)\u001b[0m\u001b[1;33m\u001b[0m\u001b[1;33m\u001b[0m\u001b[0m\n\u001b[0;32m     29\u001b[0m     \u001b[0mprint\u001b[0m\u001b[1;33m(\u001b[0m\u001b[0mlst\u001b[0m\u001b[1;33m)\u001b[0m\u001b[1;33m\u001b[0m\u001b[1;33m\u001b[0m\u001b[0m\n\u001b[1;32m---> 30\u001b[1;33m     \u001b[1;32mreturn\u001b[0m \u001b[0mlst\u001b[0m\u001b[1;33m[\u001b[0m\u001b[1;36m0\u001b[0m\u001b[1;33m]\u001b[0m\u001b[1;33m\u001b[0m\u001b[1;33m\u001b[0m\u001b[0m\n\u001b[0m\u001b[0;32m     31\u001b[0m \u001b[1;33m\u001b[0m\u001b[0m\n\u001b[0;32m     32\u001b[0m \u001b[1;33m\u001b[0m\u001b[0m\n",
      "\u001b[1;31mIndexError\u001b[0m: list index out of range"
     ]
    }
   ],
   "source": [
    "print(datetime.datetime.now().strftime('%H:%M:%S'))\n",
    "print(maxCommonSubstringMultiLang(words, k))\n",
    "print(datetime.datetime.now().strftime('%H:%M:%S'))"
   ]
  },
  {
   "cell_type": "code",
   "execution_count": 226,
   "metadata": {},
   "outputs": [],
   "source": [
    "words=[\"aaaaa\",  \"aabbbaa\",  \"bbbaabbb\",  \"ccc\",  \"ccbbbc\"]\n",
    "k= 3"
   ]
  },
  {
   "cell_type": "code",
   "execution_count": 219,
   "metadata": {},
   "outputs": [
    {
     "data": {
      "text/plain": [
       "False"
      ]
     },
     "execution_count": 219,
     "metadata": {},
     "output_type": "execute_result"
    }
   ],
   "source": [
    "'bbb' in words"
   ]
  },
  {
   "cell_type": "code",
   "execution_count": 227,
   "metadata": {},
   "outputs": [
    {
     "data": {
      "text/plain": [
       "True"
      ]
     },
     "execution_count": 227,
     "metadata": {},
     "output_type": "execute_result"
    }
   ],
   "source": [
    "any('bbb' in word for word in words)"
   ]
  },
  {
   "cell_type": "code",
   "execution_count": 228,
   "metadata": {},
   "outputs": [],
   "source": [
    "import datetime\n",
    "\n",
    "def maxCommonSubstringMultiLang(words, k):\n",
    "    kth = []\n",
    "    lst=[]\n",
    "    flag=0\n",
    "    for i in words:\n",
    "        kth.append(len(i))\n",
    "    kth.sort()\n",
    "    \n",
    "    for length in range(kth[-k],0,-1):\n",
    "        for word in words:\n",
    "            if len(word) >= length:\n",
    "                itr = 0\n",
    "                while itr+length < len(word)+1:\n",
    "                    count = 0\n",
    "\n",
    "                    if any(word[itr:length+itr] in i for i in words):\n",
    "                        count += 1\n",
    "                        print(count)\n",
    "                        if count == k:\n",
    "                            lst.append(word[itr:length+itr])\n",
    "                            flag=1\n",
    "                    itr += 1\n",
    "        if flag==1:\n",
    "            break\n",
    "    \n",
    "    lst.sort()\n",
    "    print(lst)\n",
    "    return lst[0]\n",
    "    \n",
    "\n"
   ]
  },
  {
   "cell_type": "code",
   "execution_count": 35,
   "metadata": {},
   "outputs": [
    {
     "data": {
      "text/plain": [
       "{'t': 2, 'h': 1, 'i': 2, 's': 4, ' ': 3, 'a': 1, 'e': 3, 'n': 2}"
      ]
     },
     "execution_count": 35,
     "metadata": {},
     "output_type": "execute_result"
    }
   ],
   "source": [
    "s = 'this is a sentense'\n",
    "num = 0\n",
    "d = {}\n",
    "\n",
    "\n",
    "for i in range(len(s)):\n",
    "    num = 0\n",
    "    if s[i] not in d:\n",
    "        for j in range(i,len(s)):\n",
    "            if s[i] == s[j]:\n",
    "                num+=1\n",
    "        d[s[i]]=num\n",
    "d    "
   ]
  },
  {
   "cell_type": "code",
   "execution_count": 8,
   "metadata": {},
   "outputs": [],
   "source": [
    "from abc import ABC, abstractmethod\n",
    "\n",
    "class P(ABC):\n",
    "    \n",
    "    @abstractmethod\n",
    "    def side(self):\n",
    "        pass\n",
    "    \n",
    "class Tri(P):\n",
    "    def side(self):\n",
    "        print(\"Sides 3\")"
   ]
  },
  {
   "cell_type": "code",
   "execution_count": 24,
   "metadata": {},
   "outputs": [],
   "source": [
    "#a,b,c\n",
    "#d,e,f\n",
    "#g,h,i\n",
    "\n",
    "#[['a','b','c'],]"
   ]
  },
  {
   "cell_type": "code",
   "execution_count": 23,
   "metadata": {},
   "outputs": [
    {
     "data": {
      "text/plain": [
       "[['a', 'b', 'c'], ['d', 'e', 'f'], ['g', 'h', 'i']]"
      ]
     },
     "execution_count": 23,
     "metadata": {},
     "output_type": "execute_result"
    }
   ],
   "source": [
    "data = []\n",
    "with open('text.txt', 'r') as filestream:\n",
    "    for line in filestream:\n",
    "        a = line.split(',')\n",
    "        a[-1] = a[-1].split()[0]\n",
    "        data.append(a)\n",
    "        \n",
    "\n",
    "data"
   ]
  },
  {
   "cell_type": "code",
   "execution_count": 56,
   "metadata": {},
   "outputs": [],
   "source": [
    "file = open('text.txt', 'r')"
   ]
  },
  {
   "cell_type": "code",
   "execution_count": 57,
   "metadata": {},
   "outputs": [
    {
     "name": "stdout",
     "output_type": "stream",
     "text": [
      "a,b,c\n",
      "\n",
      "d,e,f\n",
      "\n",
      "g,h,i\n"
     ]
    }
   ],
   "source": [
    "for line in file:\n",
    "    print(line)"
   ]
  },
  {
   "cell_type": "code",
   "execution_count": 31,
   "metadata": {},
   "outputs": [],
   "source": [
    "class A:\n",
    "    d = 20\n",
    "    def __init__(self):\n",
    "        self.a = 10\n",
    "    def b(self):\n",
    "        print(self.d)\n",
    "    @classmethod\n",
    "    def e(cls):\n",
    "        print(cls.d)"
   ]
  },
  {
   "cell_type": "code",
   "execution_count": 32,
   "metadata": {},
   "outputs": [],
   "source": [
    "a = A()"
   ]
  },
  {
   "cell_type": "code",
   "execution_count": 35,
   "metadata": {},
   "outputs": [
    {
     "name": "stdout",
     "output_type": "stream",
     "text": [
      "20\n"
     ]
    }
   ],
   "source": [
    "A.e()"
   ]
  },
  {
   "cell_type": "code",
   "execution_count": 12,
   "metadata": {},
   "outputs": [],
   "source": [
    "A.b = 30"
   ]
  },
  {
   "cell_type": "code",
   "execution_count": 13,
   "metadata": {},
   "outputs": [
    {
     "data": {
      "text/plain": [
       "30"
      ]
     },
     "execution_count": 13,
     "metadata": {},
     "output_type": "execute_result"
    }
   ],
   "source": [
    "A.b"
   ]
  },
  {
   "cell_type": "code",
   "execution_count": 1,
   "metadata": {},
   "outputs": [
    {
     "name": "stdout",
     "output_type": "stream",
     "text": [
      "56\n",
      "<class 'str'>\n"
     ]
    }
   ],
   "source": [
    "# int to string\n",
    "# The idea is to use the ASCII value of the digits from 0 to 9 start from 48 – 57.\n",
    "num = 56\n",
    "\n",
    "s = [0 if not num else '']\n",
    "while num:\n",
    "    s.append(chr(48 + num % 10))\n",
    "    num = num // 10\n",
    "a= \"\".join(reversed(s))\n",
    "\n",
    "print(a)\n",
    "print(type(a))"
   ]
  },
  {
   "cell_type": "code",
   "execution_count": 5,
   "metadata": {},
   "outputs": [
    {
     "data": {
      "text/plain": [
       "'\\x01'"
      ]
     },
     "execution_count": 5,
     "metadata": {},
     "output_type": "execute_result"
    }
   ],
   "source": [
    "chr(1)"
   ]
  },
  {
   "cell_type": "code",
   "execution_count": null,
   "metadata": {},
   "outputs": [],
   "source": []
  },
  {
   "cell_type": "code",
   "execution_count": null,
   "metadata": {},
   "outputs": [],
   "source": []
  },
  {
   "cell_type": "code",
   "execution_count": null,
   "metadata": {},
   "outputs": [],
   "source": []
  },
  {
   "cell_type": "code",
   "execution_count": null,
   "metadata": {},
   "outputs": [],
   "source": []
  },
  {
   "cell_type": "code",
   "execution_count": null,
   "metadata": {},
   "outputs": [],
   "source": []
  },
  {
   "cell_type": "code",
   "execution_count": null,
   "metadata": {},
   "outputs": [],
   "source": []
  },
  {
   "cell_type": "code",
   "execution_count": null,
   "metadata": {},
   "outputs": [],
   "source": []
  },
  {
   "cell_type": "code",
   "execution_count": null,
   "metadata": {},
   "outputs": [],
   "source": []
  },
  {
   "cell_type": "code",
   "execution_count": null,
   "metadata": {},
   "outputs": [],
   "source": []
  },
  {
   "cell_type": "code",
   "execution_count": null,
   "metadata": {},
   "outputs": [],
   "source": []
  },
  {
   "cell_type": "code",
   "execution_count": null,
   "metadata": {},
   "outputs": [],
   "source": []
  },
  {
   "cell_type": "code",
   "execution_count": null,
   "metadata": {},
   "outputs": [],
   "source": []
  },
  {
   "cell_type": "code",
   "execution_count": null,
   "metadata": {},
   "outputs": [],
   "source": []
  },
  {
   "cell_type": "code",
   "execution_count": null,
   "metadata": {},
   "outputs": [],
   "source": []
  },
  {
   "cell_type": "code",
   "execution_count": 21,
   "metadata": {},
   "outputs": [],
   "source": [
    "lst = [1,2,3,4,5,6]"
   ]
  },
  {
   "cell_type": "code",
   "execution_count": 22,
   "metadata": {},
   "outputs": [
    {
     "name": "stdout",
     "output_type": "stream",
     "text": [
      "[1, 3, 4, 5, 6]\n",
      "[1, 3, 5, 6]\n",
      "[1, 3, 5]\n"
     ]
    },
    {
     "ename": "IndexError",
     "evalue": "list index out of range",
     "output_type": "error",
     "traceback": [
      "\u001b[1;31m---------------------------------------------------------------------------\u001b[0m",
      "\u001b[1;31mIndexError\u001b[0m                                Traceback (most recent call last)",
      "\u001b[1;32m<ipython-input-22-f6a2f1aa6e75>\u001b[0m in \u001b[0;36m<module>\u001b[1;34m\u001b[0m\n\u001b[0;32m      1\u001b[0m \u001b[1;32mfor\u001b[0m \u001b[0mi\u001b[0m \u001b[1;32min\u001b[0m \u001b[0mrange\u001b[0m\u001b[1;33m(\u001b[0m\u001b[0mlen\u001b[0m\u001b[1;33m(\u001b[0m\u001b[0mlst\u001b[0m\u001b[1;33m)\u001b[0m\u001b[1;33m-\u001b[0m\u001b[1;36m1\u001b[0m\u001b[1;33m)\u001b[0m\u001b[1;33m:\u001b[0m\u001b[1;33m\u001b[0m\u001b[1;33m\u001b[0m\u001b[0m\n\u001b[1;32m----> 2\u001b[1;33m     \u001b[1;32mif\u001b[0m \u001b[0mlst\u001b[0m\u001b[1;33m[\u001b[0m\u001b[0mi\u001b[0m\u001b[1;33m]\u001b[0m \u001b[1;33m%\u001b[0m \u001b[1;36m2\u001b[0m \u001b[1;33m==\u001b[0m \u001b[1;36m0\u001b[0m\u001b[1;33m:\u001b[0m\u001b[1;33m\u001b[0m\u001b[1;33m\u001b[0m\u001b[0m\n\u001b[0m\u001b[0;32m      3\u001b[0m         \u001b[1;32mdel\u001b[0m \u001b[0mlst\u001b[0m\u001b[1;33m[\u001b[0m\u001b[0mi\u001b[0m\u001b[1;33m]\u001b[0m\u001b[1;33m\u001b[0m\u001b[1;33m\u001b[0m\u001b[0m\n\u001b[0;32m      4\u001b[0m         \u001b[0mprint\u001b[0m\u001b[1;33m(\u001b[0m\u001b[0mlst\u001b[0m\u001b[1;33m)\u001b[0m\u001b[1;33m\u001b[0m\u001b[1;33m\u001b[0m\u001b[0m\n",
      "\u001b[1;31mIndexError\u001b[0m: list index out of range"
     ]
    }
   ],
   "source": [
    "for i in range(len(lst)-1):\n",
    "    if lst[i] % 2 == 0:\n",
    "        del lst[i]\n",
    "        print(lst)"
   ]
  },
  {
   "cell_type": "code",
   "execution_count": 20,
   "metadata": {},
   "outputs": [
    {
     "name": "stdout",
     "output_type": "stream",
     "text": [
      "0\n",
      "1\n",
      "2\n",
      "3\n",
      "4\n",
      "5\n"
     ]
    }
   ],
   "source": [
    "for i in range(len(lst)):\n",
    "    print(i)"
   ]
  },
  {
   "cell_type": "code",
   "execution_count": null,
   "metadata": {},
   "outputs": [],
   "source": []
  },
  {
   "cell_type": "code",
   "execution_count": null,
   "metadata": {},
   "outputs": [],
   "source": []
  },
  {
   "cell_type": "code",
   "execution_count": null,
   "metadata": {},
   "outputs": [],
   "source": []
  },
  {
   "cell_type": "code",
   "execution_count": null,
   "metadata": {},
   "outputs": [],
   "source": []
  },
  {
   "cell_type": "code",
   "execution_count": null,
   "metadata": {},
   "outputs": [],
   "source": []
  },
  {
   "cell_type": "code",
   "execution_count": null,
   "metadata": {},
   "outputs": [],
   "source": []
  },
  {
   "cell_type": "code",
   "execution_count": null,
   "metadata": {},
   "outputs": [],
   "source": []
  },
  {
   "cell_type": "code",
   "execution_count": null,
   "metadata": {},
   "outputs": [],
   "source": []
  },
  {
   "cell_type": "code",
   "execution_count": null,
   "metadata": {},
   "outputs": [],
   "source": []
  },
  {
   "cell_type": "code",
   "execution_count": null,
   "metadata": {},
   "outputs": [],
   "source": []
  },
  {
   "cell_type": "code",
   "execution_count": null,
   "metadata": {},
   "outputs": [],
   "source": []
  },
  {
   "cell_type": "code",
   "execution_count": 172,
   "metadata": {},
   "outputs": [
    {
     "data": {
      "text/plain": [
       "[\"'this'\", ' \"interview\"', \" 'is okay'\", \"'34'\", '23', ' 90.34']"
      ]
     },
     "execution_count": 172,
     "metadata": {},
     "output_type": "execute_result"
    }
   ],
   "source": [
    "d[1:-1].split(\",\")"
   ]
  },
  {
   "cell_type": "code",
   "execution_count": 167,
   "metadata": {},
   "outputs": [
    {
     "data": {
      "text/plain": [
       "['this', 'interview', 'isokay', '34', '23', '9034']"
      ]
     },
     "execution_count": 167,
     "metadata": {},
     "output_type": "execute_result"
    }
   ],
   "source": [
    "\n",
    "[\"\".join(list(filter(str.isalnum, line))) for line in d.split(\",\")]"
   ]
  },
  {
   "cell_type": "code",
   "execution_count": 164,
   "metadata": {},
   "outputs": [
    {
     "data": {
      "text/plain": [
       "['this', 'interview', 'is', 'okay', '34', '23', '90.34']"
      ]
     },
     "execution_count": 164,
     "metadata": {},
     "output_type": "execute_result"
    }
   ],
   "source": [
    "d.translate ({ord(c): \" \" for c in \"[],\\\"'\"}).split()"
   ]
  },
  {
   "cell_type": "code",
   "execution_count": 177,
   "metadata": {},
   "outputs": [],
   "source": [
    "a = \"['this', 'interview', 'is okay', '34', 23]\"\n",
    "b = ['this', 'interview', 'is okay', '34', 23]\n",
    "d= \"['this', \\\"interview\\\", 'is okay','34',23, 90.34]\""
   ]
  },
  {
   "cell_type": "code",
   "execution_count": 173,
   "metadata": {},
   "outputs": [],
   "source": [
    "def parse_list(a):\n",
    "    lst = []\n",
    "    for i in a.split(\",\"):\n",
    "        lst.append(i.replace('[', '').replace(']', '').replace(\"'\", '').replace('\"', '').strip())\n",
    "        \n",
    "    for i in range(len(lst)):\n",
    "        try:\n",
    "            if '.' in lst[i]:\n",
    "                lst[i] = float(lst[i])\n",
    "            else:\n",
    "                lst[i] = int(lst[i])\n",
    "        except:\n",
    "            pass\n",
    "    return lst\n"
   ]
  },
  {
   "cell_type": "code",
   "execution_count": 182,
   "metadata": {},
   "outputs": [
    {
     "data": {
      "text/plain": [
       "['this', 'interview', 'is okay', 34, 23]"
      ]
     },
     "execution_count": 182,
     "metadata": {},
     "output_type": "execute_result"
    }
   ],
   "source": [
    "parse_list(a)"
   ]
  },
  {
   "cell_type": "code",
   "execution_count": 10,
   "metadata": {},
   "outputs": [],
   "source": [
    "c = parse_list(a)"
   ]
  },
  {
   "cell_type": "code",
   "execution_count": 11,
   "metadata": {},
   "outputs": [
    {
     "data": {
      "text/plain": [
       "False"
      ]
     },
     "execution_count": 11,
     "metadata": {},
     "output_type": "execute_result"
    }
   ],
   "source": [
    "c==b"
   ]
  },
  {
   "cell_type": "code",
   "execution_count": 180,
   "metadata": {},
   "outputs": [
    {
     "data": {
      "text/plain": [
       "'this, interview, is okay, 34, 23'"
      ]
     },
     "execution_count": 180,
     "metadata": {},
     "output_type": "execute_result"
    }
   ],
   "source": [
    "txt = \"['this', 'interview', 'is okay', '34', 23]\"\n",
    "x = \"\"\n",
    "y = \"\"\n",
    "z = \"[]'\"\n",
    "mytable = txt.maketrans(x, y, z)\n",
    "txt.translate(mytable)"
   ]
  },
  {
   "cell_type": "code",
   "execution_count": 7,
   "metadata": {},
   "outputs": [],
   "source": [
    "fs = ['aa','cc','bb','dd']"
   ]
  },
  {
   "cell_type": "code",
   "execution_count": 3,
   "metadata": {},
   "outputs": [],
   "source": [
    "for f in fs:\n",
    "    f = f.capitalize()\n",
    "    if f == 'Cc':\n",
    "        break\n",
    "else:\n",
    "    print('Hello')"
   ]
  },
  {
   "cell_type": "code",
   "execution_count": 8,
   "metadata": {},
   "outputs": [],
   "source": [
    "fs.sort()"
   ]
  },
  {
   "cell_type": "code",
   "execution_count": 9,
   "metadata": {},
   "outputs": [
    {
     "data": {
      "text/plain": [
       "['aa', 'bb', 'cc', 'dd']"
      ]
     },
     "execution_count": 9,
     "metadata": {},
     "output_type": "execute_result"
    }
   ],
   "source": [
    "fs"
   ]
  },
  {
   "cell_type": "code",
   "execution_count": 10,
   "metadata": {},
   "outputs": [
    {
     "data": {
      "text/plain": [
       "'5'"
      ]
     },
     "execution_count": 10,
     "metadata": {},
     "output_type": "execute_result"
    }
   ],
   "source": [
    "max(\"12345\")"
   ]
  },
  {
   "cell_type": "code",
   "execution_count": 11,
   "metadata": {},
   "outputs": [
    {
     "data": {
      "text/plain": [
       "4"
      ]
     },
     "execution_count": 11,
     "metadata": {},
     "output_type": "execute_result"
    }
   ],
   "source": [
    "'abcdefghijkl'.find('efg')"
   ]
  },
  {
   "cell_type": "code",
   "execution_count": 13,
   "metadata": {},
   "outputs": [],
   "source": [
    "fs.extend('ee')"
   ]
  },
  {
   "cell_type": "code",
   "execution_count": 14,
   "metadata": {},
   "outputs": [
    {
     "data": {
      "text/plain": [
       "['aa', 'bb', 'cc', 'dd', 'e', 'e']"
      ]
     },
     "execution_count": 14,
     "metadata": {},
     "output_type": "execute_result"
    }
   ],
   "source": [
    "fs"
   ]
  },
  {
   "cell_type": "code",
   "execution_count": 15,
   "metadata": {},
   "outputs": [],
   "source": [
    "d = {1,2,3,4}"
   ]
  },
  {
   "cell_type": "code",
   "execution_count": 16,
   "metadata": {},
   "outputs": [
    {
     "data": {
      "text/plain": [
       "set"
      ]
     },
     "execution_count": 16,
     "metadata": {},
     "output_type": "execute_result"
    }
   ],
   "source": [
    "type(d)"
   ]
  },
  {
   "cell_type": "code",
   "execution_count": 17,
   "metadata": {},
   "outputs": [],
   "source": [
    "d = {'a':1}"
   ]
  },
  {
   "cell_type": "code",
   "execution_count": 20,
   "metadata": {},
   "outputs": [
    {
     "data": {
      "text/plain": [
       "True"
      ]
     },
     "execution_count": 20,
     "metadata": {},
     "output_type": "execute_result"
    }
   ],
   "source": [
    "'a' in d"
   ]
  },
  {
   "cell_type": "code",
   "execution_count": 21,
   "metadata": {},
   "outputs": [],
   "source": [
    "t = (1)"
   ]
  },
  {
   "cell_type": "code",
   "execution_count": 22,
   "metadata": {},
   "outputs": [
    {
     "data": {
      "text/plain": [
       "int"
      ]
     },
     "execution_count": 22,
     "metadata": {},
     "output_type": "execute_result"
    }
   ],
   "source": [
    "type(t)"
   ]
  },
  {
   "cell_type": "code",
   "execution_count": 23,
   "metadata": {},
   "outputs": [],
   "source": [
    "s = \"SMARTQ\""
   ]
  },
  {
   "cell_type": "code",
   "execution_count": 24,
   "metadata": {},
   "outputs": [
    {
     "data": {
      "text/plain": [
       "''"
      ]
     },
     "execution_count": 24,
     "metadata": {},
     "output_type": "execute_result"
    }
   ],
   "source": [
    "s[-2:-4]"
   ]
  },
  {
   "cell_type": "code",
   "execution_count": 25,
   "metadata": {},
   "outputs": [],
   "source": [
    "def f():\n",
    "    try:\n",
    "        return 1\n",
    "    except:\n",
    "        return 2\n",
    "    finally:\n",
    "        return 3"
   ]
  },
  {
   "cell_type": "code",
   "execution_count": 26,
   "metadata": {},
   "outputs": [
    {
     "data": {
      "text/plain": [
       "3"
      ]
     },
     "execution_count": 26,
     "metadata": {},
     "output_type": "execute_result"
    }
   ],
   "source": [
    "f()"
   ]
  },
  {
   "cell_type": "code",
   "execution_count": 27,
   "metadata": {},
   "outputs": [
    {
     "data": {
      "text/plain": [
       "'Old'"
      ]
     },
     "execution_count": 27,
     "metadata": {},
     "output_type": "execute_result"
    }
   ],
   "source": [
    "class test:\n",
    "    def __init__(self):\n",
    "        self.var = 'Old'\n",
    "        self.Change(self.var)\n",
    "    def Change(self, var):\n",
    "        var = 'New'\n",
    "obj = test()\n",
    "obj.var"
   ]
  },
  {
   "cell_type": "code",
   "execution_count": 32,
   "metadata": {},
   "outputs": [
    {
     "data": {
      "text/plain": [
       "['he', '', 'o wor', 'd']"
      ]
     },
     "execution_count": 32,
     "metadata": {},
     "output_type": "execute_result"
    }
   ],
   "source": [
    "\"hello world\".split('l')"
   ]
  },
  {
   "cell_type": "code",
   "execution_count": 30,
   "metadata": {},
   "outputs": [],
   "source": [
    "a = \"hello word\""
   ]
  },
  {
   "cell_type": "code",
   "execution_count": 31,
   "metadata": {},
   "outputs": [
    {
     "data": {
      "text/plain": [
       "['he', '', 'o word']"
      ]
     },
     "execution_count": 31,
     "metadata": {},
     "output_type": "execute_result"
    }
   ],
   "source": [
    "a.split('l')"
   ]
  },
  {
   "cell_type": "code",
   "execution_count": null,
   "metadata": {},
   "outputs": [],
   "source": []
  },
  {
   "cell_type": "code",
   "execution_count": null,
   "metadata": {},
   "outputs": [],
   "source": [
    "1.Function to find if a menu item is available at the moment or not\n",
    "\n",
    "\n",
    "A menu item ( eg: Dosa ) in a restaurant menu is available during certain period of time\n",
    "in a day. For example Dosa might be available from 7:00 to 10:00 and from 17:00 to\n",
    "21:00. Objective of the program is to find out if this item is currently available or not\n",
    "based on the system time.\n",
    "\n",
    "\n",
    "Implement a function called ‘IsItemAvailable’ which accepts ‘itemname’ and ‘timestring’\n",
    "as parameters and returns yes or no based on current\n",
    "Input:\n",
    "itemname = ‘Dosa’\n",
    "timestring = ‘17:00-21:00,7:00-10:00,10:45-12:00’\n",
    "\n",
    "\n",
    "Output:\n",
    "If current time is 17:15\n",
    "Dosa available\n",
    "if current time is 12:30\n",
    "Dosa not available"
   ]
  },
  {
   "cell_type": "code",
   "execution_count": 1,
   "metadata": {},
   "outputs": [],
   "source": []
  },
  {
   "cell_type": "code",
   "execution_count": 3,
   "metadata": {},
   "outputs": [
    {
     "data": {
      "text/plain": [
       "'16:10'"
      ]
     },
     "execution_count": 3,
     "metadata": {},
     "output_type": "execute_result"
    }
   ],
   "source": [
    "datetime.datetime.now().strftime('%H:%M')"
   ]
  },
  {
   "cell_type": "code",
   "execution_count": 1,
   "metadata": {},
   "outputs": [],
   "source": [
    "import datetime\n",
    "\n",
    "def IsItemAvailable(itemname, timestring):\n",
    "    current_date = datetime.datetime.today().strftime('%d/%m/%y')\n",
    "    now =  datetime.datetime.now()\n",
    "    \n",
    "    for i in timestring.split(','):\n",
    "        start, end = i.split('-')\n",
    "        if now >= datetime.datetime.strptime(current_date+start, '%d/%m/%y%H:%M') and now <= datetime.datetime.strptime(current_date+end, '%d/%m/%y%H:%M'):\n",
    "            return itemname + ' available'\n",
    "    \n",
    "    return itemname + ' not available'\n",
    "    \n",
    "    \n",
    "    "
   ]
  },
  {
   "cell_type": "code",
   "execution_count": 2,
   "metadata": {},
   "outputs": [
    {
     "data": {
      "text/plain": [
       "'Dosa not available'"
      ]
     },
     "execution_count": 2,
     "metadata": {},
     "output_type": "execute_result"
    }
   ],
   "source": [
    "itemname = 'Dosa'\n",
    "timestring = '16:00-21:00,7:00-10:00,10:45-12:00'\n",
    "                        \n",
    "IsItemAvailable(itemname, timestring)"
   ]
  },
  {
   "cell_type": "code",
   "execution_count": 7,
   "metadata": {},
   "outputs": [
    {
     "data": {
      "text/plain": [
       "'2021-06-20'"
      ]
     },
     "execution_count": 7,
     "metadata": {},
     "output_type": "execute_result"
    }
   ],
   "source": [
    "from datetime import datetime\n",
    "str(datetime.date(datetime.now()))"
   ]
  },
  {
   "cell_type": "code",
   "execution_count": 10,
   "metadata": {},
   "outputs": [
    {
     "data": {
      "text/plain": [
       "'20/06/21'"
      ]
     },
     "execution_count": 10,
     "metadata": {},
     "output_type": "execute_result"
    }
   ],
   "source": [
    "from datetime import date\n",
    "\n",
    "date.today().strftime('%d/%m/%y')"
   ]
  },
  {
   "cell_type": "code",
   "execution_count": 12,
   "metadata": {},
   "outputs": [
    {
     "data": {
      "text/plain": [
       "datetime.datetime(2021, 6, 20, 12, 15, 2, 631022)"
      ]
     },
     "execution_count": 12,
     "metadata": {},
     "output_type": "execute_result"
    }
   ],
   "source": [
    "from datetime import datetime\n",
    "\n",
    "datetime.now()"
   ]
  },
  {
   "cell_type": "code",
   "execution_count": 1,
   "metadata": {},
   "outputs": [
    {
     "ename": "IndexError",
     "evalue": "list index out of range",
     "output_type": "error",
     "traceback": [
      "\u001b[1;31m---------------------------------------------------------------------------\u001b[0m",
      "\u001b[1;31mIndexError\u001b[0m                                Traceback (most recent call last)",
      "\u001b[1;32m<ipython-input-1-df6f9731321b>\u001b[0m in \u001b[0;36m<module>\u001b[1;34m\u001b[0m\n\u001b[0;32m      1\u001b[0m \u001b[0mmy1\u001b[0m \u001b[1;33m=\u001b[0m \u001b[1;33m[\u001b[0m\u001b[1;36m3\u001b[0m\u001b[1;33m,\u001b[0m\u001b[1;36m4\u001b[0m\u001b[1;33m,\u001b[0m\u001b[1;36m5\u001b[0m\u001b[1;33m,\u001b[0m\u001b[1;36m6\u001b[0m\u001b[1;33m,\u001b[0m\u001b[1;36m3\u001b[0m\u001b[1;33m]\u001b[0m\u001b[1;33m\u001b[0m\u001b[1;33m\u001b[0m\u001b[0m\n\u001b[0;32m      2\u001b[0m \u001b[1;32mfor\u001b[0m \u001b[0mi\u001b[0m \u001b[1;32min\u001b[0m \u001b[0mrange\u001b[0m\u001b[1;33m(\u001b[0m\u001b[1;36m5\u001b[0m\u001b[1;33m,\u001b[0m\u001b[1;36m10\u001b[0m\u001b[1;33m)\u001b[0m\u001b[1;33m:\u001b[0m\u001b[1;33m\u001b[0m\u001b[1;33m\u001b[0m\u001b[0m\n\u001b[1;32m----> 3\u001b[1;33m     \u001b[0mmy1\u001b[0m\u001b[1;33m[\u001b[0m\u001b[0mi\u001b[0m\u001b[1;33m-\u001b[0m\u001b[1;36m1\u001b[0m\u001b[1;33m]\u001b[0m \u001b[1;33m=\u001b[0m \u001b[0mmy1\u001b[0m\u001b[1;33m[\u001b[0m\u001b[0mi\u001b[0m\u001b[1;33m]\u001b[0m\u001b[1;33m\u001b[0m\u001b[1;33m\u001b[0m\u001b[0m\n\u001b[0m\u001b[0;32m      4\u001b[0m \u001b[1;33m\u001b[0m\u001b[0m\n\u001b[0;32m      5\u001b[0m \u001b[1;32mfor\u001b[0m \u001b[0mi\u001b[0m \u001b[1;32min\u001b[0m \u001b[0mrange\u001b[0m\u001b[1;33m(\u001b[0m\u001b[1;36m10\u001b[0m\u001b[1;33m,\u001b[0m \u001b[1;36m6\u001b[0m\u001b[1;33m,\u001b[0m\u001b[1;33m-\u001b[0m\u001b[1;36m1\u001b[0m\u001b[1;33m)\u001b[0m\u001b[1;33m:\u001b[0m\u001b[1;33m\u001b[0m\u001b[1;33m\u001b[0m\u001b[0m\n",
      "\u001b[1;31mIndexError\u001b[0m: list index out of range"
     ]
    }
   ],
   "source": [
    "my1 = [3,4,5,6,3]\n",
    "for i in range(5,10):\n",
    "    my1[i-1] = my1[i]\n",
    "    \n",
    "for i in range(10, 6,-1):\n",
    "    print(my1[i])"
   ]
  },
  {
   "cell_type": "code",
   "execution_count": 2,
   "metadata": {},
   "outputs": [
    {
     "data": {
      "text/plain": [
       "20"
      ]
     },
     "execution_count": 2,
     "metadata": {},
     "output_type": "execute_result"
    }
   ],
   "source": [
    "x=y=[10,20]\n",
    "y.pop()"
   ]
  },
  {
   "cell_type": "code",
   "execution_count": 3,
   "metadata": {},
   "outputs": [
    {
     "data": {
      "text/plain": [
       "1"
      ]
     },
     "execution_count": 3,
     "metadata": {},
     "output_type": "execute_result"
    }
   ],
   "source": [
    "len(x)"
   ]
  },
  {
   "cell_type": "code",
   "execution_count": 4,
   "metadata": {},
   "outputs": [
    {
     "data": {
      "text/plain": [
       "'Welcome'"
      ]
     },
     "execution_count": 4,
     "metadata": {},
     "output_type": "execute_result"
    }
   ],
   "source": [
    "\"\\t\\tWelcome\\n\".strip()"
   ]
  },
  {
   "cell_type": "code",
   "execution_count": 5,
   "metadata": {},
   "outputs": [
    {
     "data": {
      "text/plain": [
       "97"
      ]
     },
     "execution_count": 5,
     "metadata": {},
     "output_type": "execute_result"
    }
   ],
   "source": [
    "ord('a')"
   ]
  },
  {
   "cell_type": "code",
   "execution_count": 8,
   "metadata": {},
   "outputs": [
    {
     "data": {
      "text/plain": [
       "14"
      ]
     },
     "execution_count": 8,
     "metadata": {},
     "output_type": "execute_result"
    }
   ],
   "source": [
    "ord('n')-96"
   ]
  },
  {
   "cell_type": "code",
   "execution_count": 16,
   "metadata": {},
   "outputs": [],
   "source": [
    "def maximum_importance (S, M, N):\n",
    "    lst = []\n",
    "    num = 0\n",
    "    for i in S:\n",
    "        lst.append(ord(i)-96)\n",
    "        \n",
    "    lst.sort(reverse = True)\n",
    "    \n",
    "    for i in range(M,N+1,M):\n",
    "        if len(lst[i:]) >= M or len(lst[i:]) == 0:\n",
    "            num+=lst[:i][-1]\n",
    "        else:\n",
    "            num+=lst[i:][-1]\n",
    "        \n",
    "    return num"
   ]
  },
  {
   "cell_type": "code",
   "execution_count": 22,
   "metadata": {},
   "outputs": [
    {
     "data": {
      "text/plain": [
       "31"
      ]
     },
     "execution_count": 22,
     "metadata": {},
     "output_type": "execute_result"
    }
   ],
   "source": [
    "maximum_importance('lenzz',2,5)"
   ]
  },
  {
   "cell_type": "code",
   "execution_count": 27,
   "metadata": {},
   "outputs": [
    {
     "data": {
      "text/plain": [
       "[26, 26, 14, 12, 5, 1]"
      ]
     },
     "execution_count": 27,
     "metadata": {},
     "output_type": "execute_result"
    }
   ],
   "source": [
    "S, M, N = 'lenazz',3,6\n",
    "lst = []\n",
    "for i in S:\n",
    "    lst.append(ord(i)-96)\n",
    "\n",
    "lst.sort(reverse = True)\n",
    "lst"
   ]
  },
  {
   "cell_type": "code",
   "execution_count": 28,
   "metadata": {},
   "outputs": [
    {
     "name": "stdout",
     "output_type": "stream",
     "text": [
      "3\n",
      "14\n",
      "6\n",
      "1\n"
     ]
    },
    {
     "data": {
      "text/plain": [
       "15"
      ]
     },
     "execution_count": 28,
     "metadata": {},
     "output_type": "execute_result"
    }
   ],
   "source": [
    "num = 0\n",
    "for i in range(M,N+1,M):\n",
    "    print(i)\n",
    "    if len(lst[i:]) >= M or len(lst[i:]) == 0:\n",
    "        num+=lst[:i][-1]\n",
    "        print(lst[:i][-1])\n",
    "    else:\n",
    "        num+=lst[i:][-1]\n",
    "        print(lst[:i][-1])\n",
    "num"
   ]
  },
  {
   "cell_type": "code",
   "execution_count": 8,
   "metadata": {},
   "outputs": [
    {
     "data": {
      "text/plain": [
       "[]"
      ]
     },
     "execution_count": 8,
     "metadata": {},
     "output_type": "execute_result"
    }
   ],
   "source": [
    "lst[6:]"
   ]
  },
  {
   "cell_type": "code",
   "execution_count": 19,
   "metadata": {},
   "outputs": [
    {
     "data": {
      "text/plain": [
       "False"
      ]
     },
     "execution_count": 19,
     "metadata": {},
     "output_type": "execute_result"
    }
   ],
   "source": [
    "len(lst[:6]) <= len(lst[6:])"
   ]
  },
  {
   "cell_type": "code",
   "execution_count": 20,
   "metadata": {},
   "outputs": [
    {
     "data": {
      "text/plain": [
       "[]"
      ]
     },
     "execution_count": 20,
     "metadata": {},
     "output_type": "execute_result"
    }
   ],
   "source": [
    "lst[6:]"
   ]
  },
  {
   "cell_type": "code",
   "execution_count": null,
   "metadata": {},
   "outputs": [],
   "source": []
  },
  {
   "cell_type": "code",
   "execution_count": null,
   "metadata": {},
   "outputs": [],
   "source": []
  },
  {
   "cell_type": "code",
   "execution_count": 1,
   "metadata": {},
   "outputs": [
    {
     "name": "stdout",
     "output_type": "stream",
     "text": [
      "[True, False, False, True, False]\n"
     ]
    }
   ],
   "source": [
    "fruit = [\"Apple\", \"Banana\", \"Pear\", \"Apricot\", \"Orange\"]\n",
    "map_object = map(lambda s: s[0] == \"A\", fruit)\n",
    "\n",
    "print(list(map_object))"
   ]
  },
  {
   "cell_type": "code",
   "execution_count": 2,
   "metadata": {},
   "outputs": [
    {
     "name": "stdout",
     "output_type": "stream",
     "text": [
      "['Apple', 'Apricot']\n"
     ]
    }
   ],
   "source": [
    "fruit = [\"Apple\", \"Banana\", \"Pear\", \"Apricot\", \"Orange\"]\n",
    "filter_object = filter(lambda s: s[0] == \"A\", fruit)\n",
    "\n",
    "print(list(filter_object))"
   ]
  },
  {
   "cell_type": "code",
   "execution_count": 7,
   "metadata": {},
   "outputs": [
    {
     "name": "stdout",
     "output_type": "stream",
     "text": [
      "16\n",
      "With an initial value: 26\n"
     ]
    }
   ],
   "source": [
    "from functools import reduce\n",
    "\n",
    "list = [2, 4, 7, 3]\n",
    "print(reduce(lambda x, y: x + y, list))\n",
    "print(\"With an initial value: \" + str(reduce(lambda x, y: x + y, list, 10)))"
   ]
  },
  {
   "cell_type": "code",
   "execution_count": null,
   "metadata": {},
   "outputs": [],
   "source": []
  },
  {
   "cell_type": "code",
   "execution_count": 22,
   "metadata": {},
   "outputs": [],
   "source": [
    "import requests\n",
    "\n",
    "res = requests.get('https://jsonplaceholder.typicode.com/todos/')\n",
    "# print(res.text)"
   ]
  },
  {
   "cell_type": "code",
   "execution_count": 23,
   "metadata": {},
   "outputs": [],
   "source": [
    "import json\n",
    "json1_data = json.loads(res.text)"
   ]
  },
  {
   "cell_type": "code",
   "execution_count": 24,
   "metadata": {},
   "outputs": [
    {
     "data": {
      "text/plain": [
       "list"
      ]
     },
     "execution_count": 24,
     "metadata": {},
     "output_type": "execute_result"
    }
   ],
   "source": [
    "type(json1_data)"
   ]
  },
  {
   "cell_type": "code",
   "execution_count": 25,
   "metadata": {},
   "outputs": [
    {
     "data": {
      "text/plain": [
       "[{'userId': 1, 'id': 1, 'title': 'delectus aut autem', 'completed': False},\n",
       " {'userId': 1,\n",
       "  'id': 2,\n",
       "  'title': 'quis ut nam facilis et officia qui',\n",
       "  'completed': False},\n",
       " {'userId': 1, 'id': 3, 'title': 'fugiat veniam minus', 'completed': False},\n",
       " {'userId': 1, 'id': 4, 'title': 'et porro tempora', 'completed': True},\n",
       " {'userId': 1,\n",
       "  'id': 5,\n",
       "  'title': 'laboriosam mollitia et enim quasi adipisci quia provident illum',\n",
       "  'completed': False},\n",
       " {'userId': 1,\n",
       "  'id': 6,\n",
       "  'title': 'qui ullam ratione quibusdam voluptatem quia omnis',\n",
       "  'completed': False},\n",
       " {'userId': 1,\n",
       "  'id': 7,\n",
       "  'title': 'illo expedita consequatur quia in',\n",
       "  'completed': False},\n",
       " {'userId': 1,\n",
       "  'id': 8,\n",
       "  'title': 'quo adipisci enim quam ut ab',\n",
       "  'completed': True},\n",
       " {'userId': 1,\n",
       "  'id': 9,\n",
       "  'title': 'molestiae perspiciatis ipsa',\n",
       "  'completed': False},\n",
       " {'userId': 1,\n",
       "  'id': 10,\n",
       "  'title': 'illo est ratione doloremque quia maiores aut',\n",
       "  'completed': True},\n",
       " {'userId': 1,\n",
       "  'id': 11,\n",
       "  'title': 'vero rerum temporibus dolor',\n",
       "  'completed': True},\n",
       " {'userId': 1,\n",
       "  'id': 12,\n",
       "  'title': 'ipsa repellendus fugit nisi',\n",
       "  'completed': True},\n",
       " {'userId': 1, 'id': 13, 'title': 'et doloremque nulla', 'completed': False},\n",
       " {'userId': 1,\n",
       "  'id': 14,\n",
       "  'title': 'repellendus sunt dolores architecto voluptatum',\n",
       "  'completed': True},\n",
       " {'userId': 1,\n",
       "  'id': 15,\n",
       "  'title': 'ab voluptatum amet voluptas',\n",
       "  'completed': True},\n",
       " {'userId': 1,\n",
       "  'id': 16,\n",
       "  'title': 'accusamus eos facilis sint et aut voluptatem',\n",
       "  'completed': True},\n",
       " {'userId': 1,\n",
       "  'id': 17,\n",
       "  'title': 'quo laboriosam deleniti aut qui',\n",
       "  'completed': True},\n",
       " {'userId': 1,\n",
       "  'id': 18,\n",
       "  'title': 'dolorum est consequatur ea mollitia in culpa',\n",
       "  'completed': False},\n",
       " {'userId': 1,\n",
       "  'id': 19,\n",
       "  'title': 'molestiae ipsa aut voluptatibus pariatur dolor nihil',\n",
       "  'completed': True},\n",
       " {'userId': 1,\n",
       "  'id': 20,\n",
       "  'title': 'ullam nobis libero sapiente ad optio sint',\n",
       "  'completed': True},\n",
       " {'userId': 2,\n",
       "  'id': 21,\n",
       "  'title': 'suscipit repellat esse quibusdam voluptatem incidunt',\n",
       "  'completed': False},\n",
       " {'userId': 2,\n",
       "  'id': 22,\n",
       "  'title': 'distinctio vitae autem nihil ut molestias quo',\n",
       "  'completed': True},\n",
       " {'userId': 2,\n",
       "  'id': 23,\n",
       "  'title': 'et itaque necessitatibus maxime molestiae qui quas velit',\n",
       "  'completed': False},\n",
       " {'userId': 2,\n",
       "  'id': 24,\n",
       "  'title': 'adipisci non ad dicta qui amet quaerat doloribus ea',\n",
       "  'completed': False},\n",
       " {'userId': 2,\n",
       "  'id': 25,\n",
       "  'title': 'voluptas quo tenetur perspiciatis explicabo natus',\n",
       "  'completed': True},\n",
       " {'userId': 2, 'id': 26, 'title': 'aliquam aut quasi', 'completed': True},\n",
       " {'userId': 2,\n",
       "  'id': 27,\n",
       "  'title': 'veritatis pariatur delectus',\n",
       "  'completed': True},\n",
       " {'userId': 2,\n",
       "  'id': 28,\n",
       "  'title': 'nesciunt totam sit blanditiis sit',\n",
       "  'completed': False},\n",
       " {'userId': 2, 'id': 29, 'title': 'laborum aut in quam', 'completed': False},\n",
       " {'userId': 2,\n",
       "  'id': 30,\n",
       "  'title': 'nemo perspiciatis repellat ut dolor libero commodi blanditiis omnis',\n",
       "  'completed': True},\n",
       " {'userId': 2,\n",
       "  'id': 31,\n",
       "  'title': 'repudiandae totam in est sint facere fuga',\n",
       "  'completed': False},\n",
       " {'userId': 2,\n",
       "  'id': 32,\n",
       "  'title': 'earum doloribus ea doloremque quis',\n",
       "  'completed': False},\n",
       " {'userId': 2, 'id': 33, 'title': 'sint sit aut vero', 'completed': False},\n",
       " {'userId': 2,\n",
       "  'id': 34,\n",
       "  'title': 'porro aut necessitatibus eaque distinctio',\n",
       "  'completed': False},\n",
       " {'userId': 2,\n",
       "  'id': 35,\n",
       "  'title': 'repellendus veritatis molestias dicta incidunt',\n",
       "  'completed': True},\n",
       " {'userId': 2,\n",
       "  'id': 36,\n",
       "  'title': 'excepturi deleniti adipisci voluptatem et neque optio illum ad',\n",
       "  'completed': True},\n",
       " {'userId': 2, 'id': 37, 'title': 'sunt cum tempora', 'completed': False},\n",
       " {'userId': 2, 'id': 38, 'title': 'totam quia non', 'completed': False},\n",
       " {'userId': 2,\n",
       "  'id': 39,\n",
       "  'title': 'doloremque quibusdam asperiores libero corrupti illum qui omnis',\n",
       "  'completed': False},\n",
       " {'userId': 2,\n",
       "  'id': 40,\n",
       "  'title': 'totam atque quo nesciunt',\n",
       "  'completed': True},\n",
       " {'userId': 3,\n",
       "  'id': 41,\n",
       "  'title': 'aliquid amet impedit consequatur aspernatur placeat eaque fugiat suscipit',\n",
       "  'completed': False},\n",
       " {'userId': 3,\n",
       "  'id': 42,\n",
       "  'title': 'rerum perferendis error quia ut eveniet',\n",
       "  'completed': False},\n",
       " {'userId': 3,\n",
       "  'id': 43,\n",
       "  'title': 'tempore ut sint quis recusandae',\n",
       "  'completed': True},\n",
       " {'userId': 3,\n",
       "  'id': 44,\n",
       "  'title': 'cum debitis quis accusamus doloremque ipsa natus sapiente omnis',\n",
       "  'completed': True},\n",
       " {'userId': 3,\n",
       "  'id': 45,\n",
       "  'title': 'velit soluta adipisci molestias reiciendis harum',\n",
       "  'completed': False},\n",
       " {'userId': 3,\n",
       "  'id': 46,\n",
       "  'title': 'vel voluptatem repellat nihil placeat corporis',\n",
       "  'completed': False},\n",
       " {'userId': 3,\n",
       "  'id': 47,\n",
       "  'title': 'nam qui rerum fugiat accusamus',\n",
       "  'completed': False},\n",
       " {'userId': 3,\n",
       "  'id': 48,\n",
       "  'title': 'sit reprehenderit omnis quia',\n",
       "  'completed': False},\n",
       " {'userId': 3,\n",
       "  'id': 49,\n",
       "  'title': 'ut necessitatibus aut maiores debitis officia blanditiis velit et',\n",
       "  'completed': False},\n",
       " {'userId': 3,\n",
       "  'id': 50,\n",
       "  'title': 'cupiditate necessitatibus ullam aut quis dolor voluptate',\n",
       "  'completed': True},\n",
       " {'userId': 3,\n",
       "  'id': 51,\n",
       "  'title': 'distinctio exercitationem ab doloribus',\n",
       "  'completed': False},\n",
       " {'userId': 3,\n",
       "  'id': 52,\n",
       "  'title': 'nesciunt dolorum quis recusandae ad pariatur ratione',\n",
       "  'completed': False},\n",
       " {'userId': 3,\n",
       "  'id': 53,\n",
       "  'title': 'qui labore est occaecati recusandae aliquid quam',\n",
       "  'completed': False},\n",
       " {'userId': 3,\n",
       "  'id': 54,\n",
       "  'title': 'quis et est ut voluptate quam dolor',\n",
       "  'completed': True},\n",
       " {'userId': 3,\n",
       "  'id': 55,\n",
       "  'title': 'voluptatum omnis minima qui occaecati provident nulla voluptatem ratione',\n",
       "  'completed': True},\n",
       " {'userId': 3,\n",
       "  'id': 56,\n",
       "  'title': 'deleniti ea temporibus enim',\n",
       "  'completed': True},\n",
       " {'userId': 3,\n",
       "  'id': 57,\n",
       "  'title': 'pariatur et magnam ea doloribus similique voluptatem rerum quia',\n",
       "  'completed': False},\n",
       " {'userId': 3,\n",
       "  'id': 58,\n",
       "  'title': 'est dicta totam qui explicabo doloribus qui dignissimos',\n",
       "  'completed': False},\n",
       " {'userId': 3,\n",
       "  'id': 59,\n",
       "  'title': 'perspiciatis velit id laborum placeat iusto et aliquam odio',\n",
       "  'completed': False},\n",
       " {'userId': 3,\n",
       "  'id': 60,\n",
       "  'title': 'et sequi qui architecto ut adipisci',\n",
       "  'completed': True},\n",
       " {'userId': 4,\n",
       "  'id': 61,\n",
       "  'title': 'odit optio omnis qui sunt',\n",
       "  'completed': True},\n",
       " {'userId': 4,\n",
       "  'id': 62,\n",
       "  'title': 'et placeat et tempore aspernatur sint numquam',\n",
       "  'completed': False},\n",
       " {'userId': 4,\n",
       "  'id': 63,\n",
       "  'title': 'doloremque aut dolores quidem fuga qui nulla',\n",
       "  'completed': True},\n",
       " {'userId': 4,\n",
       "  'id': 64,\n",
       "  'title': 'voluptas consequatur qui ut quia magnam nemo esse',\n",
       "  'completed': False},\n",
       " {'userId': 4,\n",
       "  'id': 65,\n",
       "  'title': 'fugiat pariatur ratione ut asperiores necessitatibus magni',\n",
       "  'completed': False},\n",
       " {'userId': 4,\n",
       "  'id': 66,\n",
       "  'title': 'rerum eum molestias autem voluptatum sit optio',\n",
       "  'completed': False},\n",
       " {'userId': 4,\n",
       "  'id': 67,\n",
       "  'title': 'quia voluptatibus voluptatem quos similique maiores repellat',\n",
       "  'completed': False},\n",
       " {'userId': 4,\n",
       "  'id': 68,\n",
       "  'title': 'aut id perspiciatis voluptatem iusto',\n",
       "  'completed': False},\n",
       " {'userId': 4,\n",
       "  'id': 69,\n",
       "  'title': 'doloribus sint dolorum ab adipisci itaque dignissimos aliquam suscipit',\n",
       "  'completed': False},\n",
       " {'userId': 4,\n",
       "  'id': 70,\n",
       "  'title': 'ut sequi accusantium et mollitia delectus sunt',\n",
       "  'completed': False},\n",
       " {'userId': 4, 'id': 71, 'title': 'aut velit saepe ullam', 'completed': False},\n",
       " {'userId': 4,\n",
       "  'id': 72,\n",
       "  'title': 'praesentium facilis facere quis harum voluptatibus voluptatem eum',\n",
       "  'completed': False},\n",
       " {'userId': 4,\n",
       "  'id': 73,\n",
       "  'title': 'sint amet quia totam corporis qui exercitationem commodi',\n",
       "  'completed': True},\n",
       " {'userId': 4,\n",
       "  'id': 74,\n",
       "  'title': 'expedita tempore nobis eveniet laborum maiores',\n",
       "  'completed': False},\n",
       " {'userId': 4,\n",
       "  'id': 75,\n",
       "  'title': 'occaecati adipisci est possimus totam',\n",
       "  'completed': False},\n",
       " {'userId': 4, 'id': 76, 'title': 'sequi dolorem sed', 'completed': True},\n",
       " {'userId': 4,\n",
       "  'id': 77,\n",
       "  'title': 'maiores aut nesciunt delectus exercitationem vel assumenda eligendi at',\n",
       "  'completed': False},\n",
       " {'userId': 4,\n",
       "  'id': 78,\n",
       "  'title': 'reiciendis est magnam amet nemo iste recusandae impedit quaerat',\n",
       "  'completed': False},\n",
       " {'userId': 4, 'id': 79, 'title': 'eum ipsa maxime ut', 'completed': True},\n",
       " {'userId': 4,\n",
       "  'id': 80,\n",
       "  'title': 'tempore molestias dolores rerum sequi voluptates ipsum consequatur',\n",
       "  'completed': True},\n",
       " {'userId': 5, 'id': 81, 'title': 'suscipit qui totam', 'completed': True},\n",
       " {'userId': 5,\n",
       "  'id': 82,\n",
       "  'title': 'voluptates eum voluptas et dicta',\n",
       "  'completed': False},\n",
       " {'userId': 5,\n",
       "  'id': 83,\n",
       "  'title': 'quidem at rerum quis ex aut sit quam',\n",
       "  'completed': True},\n",
       " {'userId': 5,\n",
       "  'id': 84,\n",
       "  'title': 'sunt veritatis ut voluptate',\n",
       "  'completed': False},\n",
       " {'userId': 5, 'id': 85, 'title': 'et quia ad iste a', 'completed': True},\n",
       " {'userId': 5,\n",
       "  'id': 86,\n",
       "  'title': 'incidunt ut saepe autem',\n",
       "  'completed': True},\n",
       " {'userId': 5,\n",
       "  'id': 87,\n",
       "  'title': 'laudantium quae eligendi consequatur quia et vero autem',\n",
       "  'completed': True},\n",
       " {'userId': 5,\n",
       "  'id': 88,\n",
       "  'title': 'vitae aut excepturi laboriosam sint aliquam et et accusantium',\n",
       "  'completed': False},\n",
       " {'userId': 5, 'id': 89, 'title': 'sequi ut omnis et', 'completed': True},\n",
       " {'userId': 5,\n",
       "  'id': 90,\n",
       "  'title': 'molestiae nisi accusantium tenetur dolorem et',\n",
       "  'completed': True},\n",
       " {'userId': 5,\n",
       "  'id': 91,\n",
       "  'title': 'nulla quis consequatur saepe qui id expedita',\n",
       "  'completed': True},\n",
       " {'userId': 5, 'id': 92, 'title': 'in omnis laboriosam', 'completed': True},\n",
       " {'userId': 5,\n",
       "  'id': 93,\n",
       "  'title': 'odio iure consequatur molestiae quibusdam necessitatibus quia sint',\n",
       "  'completed': True},\n",
       " {'userId': 5,\n",
       "  'id': 94,\n",
       "  'title': 'facilis modi saepe mollitia',\n",
       "  'completed': False},\n",
       " {'userId': 5,\n",
       "  'id': 95,\n",
       "  'title': 'vel nihil et molestiae iusto assumenda nemo quo ut',\n",
       "  'completed': True},\n",
       " {'userId': 5,\n",
       "  'id': 96,\n",
       "  'title': 'nobis suscipit ducimus enim asperiores voluptas',\n",
       "  'completed': False},\n",
       " {'userId': 5,\n",
       "  'id': 97,\n",
       "  'title': 'dolorum laboriosam eos qui iure aliquam',\n",
       "  'completed': False},\n",
       " {'userId': 5,\n",
       "  'id': 98,\n",
       "  'title': 'debitis accusantium ut quo facilis nihil quis sapiente necessitatibus',\n",
       "  'completed': True},\n",
       " {'userId': 5,\n",
       "  'id': 99,\n",
       "  'title': 'neque voluptates ratione',\n",
       "  'completed': False},\n",
       " {'userId': 5,\n",
       "  'id': 100,\n",
       "  'title': 'excepturi a et neque qui expedita vel voluptate',\n",
       "  'completed': False},\n",
       " {'userId': 6,\n",
       "  'id': 101,\n",
       "  'title': 'explicabo enim cumque porro aperiam occaecati minima',\n",
       "  'completed': False},\n",
       " {'userId': 6, 'id': 102, 'title': 'sed ab consequatur', 'completed': False},\n",
       " {'userId': 6,\n",
       "  'id': 103,\n",
       "  'title': 'non sunt delectus illo nulla tenetur enim omnis',\n",
       "  'completed': False},\n",
       " {'userId': 6,\n",
       "  'id': 104,\n",
       "  'title': 'excepturi non laudantium quo',\n",
       "  'completed': False},\n",
       " {'userId': 6,\n",
       "  'id': 105,\n",
       "  'title': 'totam quia dolorem et illum repellat voluptas optio',\n",
       "  'completed': True},\n",
       " {'userId': 6,\n",
       "  'id': 106,\n",
       "  'title': 'ad illo quis voluptatem temporibus',\n",
       "  'completed': True},\n",
       " {'userId': 6,\n",
       "  'id': 107,\n",
       "  'title': 'praesentium facilis omnis laudantium fugit ad iusto nihil nesciunt',\n",
       "  'completed': False},\n",
       " {'userId': 6,\n",
       "  'id': 108,\n",
       "  'title': 'a eos eaque nihil et exercitationem incidunt delectus',\n",
       "  'completed': True},\n",
       " {'userId': 6,\n",
       "  'id': 109,\n",
       "  'title': 'autem temporibus harum quisquam in culpa',\n",
       "  'completed': True},\n",
       " {'userId': 6, 'id': 110, 'title': 'aut aut ea corporis', 'completed': True},\n",
       " {'userId': 6,\n",
       "  'id': 111,\n",
       "  'title': 'magni accusantium labore et id quis provident',\n",
       "  'completed': False},\n",
       " {'userId': 6,\n",
       "  'id': 112,\n",
       "  'title': 'consectetur impedit quisquam qui deserunt non rerum consequuntur eius',\n",
       "  'completed': False},\n",
       " {'userId': 6,\n",
       "  'id': 113,\n",
       "  'title': 'quia atque aliquam sunt impedit voluptatum rerum assumenda nisi',\n",
       "  'completed': False},\n",
       " {'userId': 6,\n",
       "  'id': 114,\n",
       "  'title': 'cupiditate quos possimus corporis quisquam exercitationem beatae',\n",
       "  'completed': False},\n",
       " {'userId': 6, 'id': 115, 'title': 'sed et ea eum', 'completed': False},\n",
       " {'userId': 6,\n",
       "  'id': 116,\n",
       "  'title': 'ipsa dolores vel facilis ut',\n",
       "  'completed': True},\n",
       " {'userId': 6,\n",
       "  'id': 117,\n",
       "  'title': 'sequi quae est et qui qui eveniet asperiores',\n",
       "  'completed': False},\n",
       " {'userId': 6,\n",
       "  'id': 118,\n",
       "  'title': 'quia modi consequatur vero fugiat',\n",
       "  'completed': False},\n",
       " {'userId': 6,\n",
       "  'id': 119,\n",
       "  'title': 'corporis ducimus ea perspiciatis iste',\n",
       "  'completed': False},\n",
       " {'userId': 6,\n",
       "  'id': 120,\n",
       "  'title': 'dolorem laboriosam vel voluptas et aliquam quasi',\n",
       "  'completed': False},\n",
       " {'userId': 7,\n",
       "  'id': 121,\n",
       "  'title': 'inventore aut nihil minima laudantium hic qui omnis',\n",
       "  'completed': True},\n",
       " {'userId': 7,\n",
       "  'id': 122,\n",
       "  'title': 'provident aut nobis culpa',\n",
       "  'completed': True},\n",
       " {'userId': 7,\n",
       "  'id': 123,\n",
       "  'title': 'esse et quis iste est earum aut impedit',\n",
       "  'completed': False},\n",
       " {'userId': 7, 'id': 124, 'title': 'qui consectetur id', 'completed': False},\n",
       " {'userId': 7,\n",
       "  'id': 125,\n",
       "  'title': 'aut quasi autem iste tempore illum possimus',\n",
       "  'completed': False},\n",
       " {'userId': 7,\n",
       "  'id': 126,\n",
       "  'title': 'ut asperiores perspiciatis veniam ipsum rerum saepe',\n",
       "  'completed': True},\n",
       " {'userId': 7,\n",
       "  'id': 127,\n",
       "  'title': 'voluptatem libero consectetur rerum ut',\n",
       "  'completed': True},\n",
       " {'userId': 7,\n",
       "  'id': 128,\n",
       "  'title': 'eius omnis est qui voluptatem autem',\n",
       "  'completed': False},\n",
       " {'userId': 7,\n",
       "  'id': 129,\n",
       "  'title': 'rerum culpa quis harum',\n",
       "  'completed': False},\n",
       " {'userId': 7,\n",
       "  'id': 130,\n",
       "  'title': 'nulla aliquid eveniet harum laborum libero alias ut unde',\n",
       "  'completed': True},\n",
       " {'userId': 7, 'id': 131, 'title': 'qui ea incidunt quis', 'completed': False},\n",
       " {'userId': 7,\n",
       "  'id': 132,\n",
       "  'title': 'qui molestiae voluptatibus velit iure harum quisquam',\n",
       "  'completed': True},\n",
       " {'userId': 7,\n",
       "  'id': 133,\n",
       "  'title': 'et labore eos enim rerum consequatur sunt',\n",
       "  'completed': True},\n",
       " {'userId': 7,\n",
       "  'id': 134,\n",
       "  'title': 'molestiae doloribus et laborum quod ea',\n",
       "  'completed': False},\n",
       " {'userId': 7,\n",
       "  'id': 135,\n",
       "  'title': 'facere ipsa nam eum voluptates reiciendis vero qui',\n",
       "  'completed': False},\n",
       " {'userId': 7,\n",
       "  'id': 136,\n",
       "  'title': 'asperiores illo tempora fuga sed ut quasi adipisci',\n",
       "  'completed': False},\n",
       " {'userId': 7, 'id': 137, 'title': 'qui sit non', 'completed': False},\n",
       " {'userId': 7,\n",
       "  'id': 138,\n",
       "  'title': 'placeat minima consequatur rem qui ut',\n",
       "  'completed': True},\n",
       " {'userId': 7,\n",
       "  'id': 139,\n",
       "  'title': 'consequatur doloribus id possimus voluptas a voluptatem',\n",
       "  'completed': False},\n",
       " {'userId': 7,\n",
       "  'id': 140,\n",
       "  'title': 'aut consectetur in blanditiis deserunt quia sed laboriosam',\n",
       "  'completed': True},\n",
       " {'userId': 8,\n",
       "  'id': 141,\n",
       "  'title': 'explicabo consectetur debitis voluptates quas quae culpa rerum non',\n",
       "  'completed': True},\n",
       " {'userId': 8,\n",
       "  'id': 142,\n",
       "  'title': 'maiores accusantium architecto necessitatibus reiciendis ea aut',\n",
       "  'completed': True},\n",
       " {'userId': 8,\n",
       "  'id': 143,\n",
       "  'title': 'eum non recusandae cupiditate animi',\n",
       "  'completed': False},\n",
       " {'userId': 8,\n",
       "  'id': 144,\n",
       "  'title': 'ut eum exercitationem sint',\n",
       "  'completed': False},\n",
       " {'userId': 8,\n",
       "  'id': 145,\n",
       "  'title': 'beatae qui ullam incidunt voluptatem non nisi aliquam',\n",
       "  'completed': False},\n",
       " {'userId': 8,\n",
       "  'id': 146,\n",
       "  'title': 'molestiae suscipit ratione nihil odio libero impedit vero totam',\n",
       "  'completed': True},\n",
       " {'userId': 8,\n",
       "  'id': 147,\n",
       "  'title': 'eum itaque quod reprehenderit et facilis dolor autem ut',\n",
       "  'completed': True},\n",
       " {'userId': 8,\n",
       "  'id': 148,\n",
       "  'title': 'esse quas et quo quasi exercitationem',\n",
       "  'completed': False},\n",
       " {'userId': 8,\n",
       "  'id': 149,\n",
       "  'title': 'animi voluptas quod perferendis est',\n",
       "  'completed': False},\n",
       " {'userId': 8,\n",
       "  'id': 150,\n",
       "  'title': 'eos amet tempore laudantium fugit a',\n",
       "  'completed': False},\n",
       " {'userId': 8,\n",
       "  'id': 151,\n",
       "  'title': 'accusamus adipisci dicta qui quo ea explicabo sed vero',\n",
       "  'completed': True},\n",
       " {'userId': 8,\n",
       "  'id': 152,\n",
       "  'title': 'odit eligendi recusandae doloremque cumque non',\n",
       "  'completed': False},\n",
       " {'userId': 8,\n",
       "  'id': 153,\n",
       "  'title': 'ea aperiam consequatur qui repellat eos',\n",
       "  'completed': False},\n",
       " {'userId': 8, 'id': 154, 'title': 'rerum non ex sapiente', 'completed': True},\n",
       " {'userId': 8,\n",
       "  'id': 155,\n",
       "  'title': 'voluptatem nobis consequatur et assumenda magnam',\n",
       "  'completed': True},\n",
       " {'userId': 8,\n",
       "  'id': 156,\n",
       "  'title': 'nam quia quia nulla repellat assumenda quibusdam sit nobis',\n",
       "  'completed': True},\n",
       " {'userId': 8,\n",
       "  'id': 157,\n",
       "  'title': 'dolorem veniam quisquam deserunt repellendus',\n",
       "  'completed': True},\n",
       " {'userId': 8,\n",
       "  'id': 158,\n",
       "  'title': 'debitis vitae delectus et harum accusamus aut deleniti a',\n",
       "  'completed': True},\n",
       " {'userId': 8,\n",
       "  'id': 159,\n",
       "  'title': 'debitis adipisci quibusdam aliquam sed dolore ea praesentium nobis',\n",
       "  'completed': True},\n",
       " {'userId': 8,\n",
       "  'id': 160,\n",
       "  'title': 'et praesentium aliquam est',\n",
       "  'completed': False},\n",
       " {'userId': 9,\n",
       "  'id': 161,\n",
       "  'title': 'ex hic consequuntur earum omnis alias ut occaecati culpa',\n",
       "  'completed': True},\n",
       " {'userId': 9,\n",
       "  'id': 162,\n",
       "  'title': 'omnis laboriosam molestias animi sunt dolore',\n",
       "  'completed': True},\n",
       " {'userId': 9,\n",
       "  'id': 163,\n",
       "  'title': 'natus corrupti maxime laudantium et voluptatem laboriosam odit',\n",
       "  'completed': False},\n",
       " {'userId': 9,\n",
       "  'id': 164,\n",
       "  'title': 'reprehenderit quos aut aut consequatur est sed',\n",
       "  'completed': False},\n",
       " {'userId': 9,\n",
       "  'id': 165,\n",
       "  'title': 'fugiat perferendis sed aut quidem',\n",
       "  'completed': False},\n",
       " {'userId': 9,\n",
       "  'id': 166,\n",
       "  'title': 'quos quo possimus suscipit minima ut',\n",
       "  'completed': False},\n",
       " {'userId': 9,\n",
       "  'id': 167,\n",
       "  'title': 'et quis minus quo a asperiores molestiae',\n",
       "  'completed': False},\n",
       " {'userId': 9,\n",
       "  'id': 168,\n",
       "  'title': 'recusandae quia qui sunt libero',\n",
       "  'completed': False},\n",
       " {'userId': 9,\n",
       "  'id': 169,\n",
       "  'title': 'ea odio perferendis officiis',\n",
       "  'completed': True},\n",
       " {'userId': 9,\n",
       "  'id': 170,\n",
       "  'title': 'quisquam aliquam quia doloribus aut',\n",
       "  'completed': False},\n",
       " {'userId': 9,\n",
       "  'id': 171,\n",
       "  'title': 'fugiat aut voluptatibus corrupti deleniti velit iste odio',\n",
       "  'completed': True},\n",
       " {'userId': 9,\n",
       "  'id': 172,\n",
       "  'title': 'et provident amet rerum consectetur et voluptatum',\n",
       "  'completed': False},\n",
       " {'userId': 9,\n",
       "  'id': 173,\n",
       "  'title': 'harum ad aperiam quis',\n",
       "  'completed': False},\n",
       " {'userId': 9, 'id': 174, 'title': 'similique aut quo', 'completed': False},\n",
       " {'userId': 9,\n",
       "  'id': 175,\n",
       "  'title': 'laudantium eius officia perferendis provident perspiciatis asperiores',\n",
       "  'completed': True},\n",
       " {'userId': 9,\n",
       "  'id': 176,\n",
       "  'title': 'magni soluta corrupti ut maiores rem quidem',\n",
       "  'completed': False},\n",
       " {'userId': 9,\n",
       "  'id': 177,\n",
       "  'title': 'et placeat temporibus voluptas est tempora quos quibusdam',\n",
       "  'completed': False},\n",
       " {'userId': 9,\n",
       "  'id': 178,\n",
       "  'title': 'nesciunt itaque commodi tempore',\n",
       "  'completed': True},\n",
       " {'userId': 9,\n",
       "  'id': 179,\n",
       "  'title': 'omnis consequuntur cupiditate impedit itaque ipsam quo',\n",
       "  'completed': True},\n",
       " {'userId': 9,\n",
       "  'id': 180,\n",
       "  'title': 'debitis nisi et dolorem repellat et',\n",
       "  'completed': True},\n",
       " {'userId': 10,\n",
       "  'id': 181,\n",
       "  'title': 'ut cupiditate sequi aliquam fuga maiores',\n",
       "  'completed': False},\n",
       " {'userId': 10,\n",
       "  'id': 182,\n",
       "  'title': 'inventore saepe cumque et aut illum enim',\n",
       "  'completed': True},\n",
       " {'userId': 10,\n",
       "  'id': 183,\n",
       "  'title': 'omnis nulla eum aliquam distinctio',\n",
       "  'completed': True},\n",
       " {'userId': 10,\n",
       "  'id': 184,\n",
       "  'title': 'molestias modi perferendis perspiciatis',\n",
       "  'completed': False},\n",
       " {'userId': 10,\n",
       "  'id': 185,\n",
       "  'title': 'voluptates dignissimos sed doloribus animi quaerat aut',\n",
       "  'completed': False},\n",
       " {'userId': 10,\n",
       "  'id': 186,\n",
       "  'title': 'explicabo odio est et',\n",
       "  'completed': False},\n",
       " {'userId': 10,\n",
       "  'id': 187,\n",
       "  'title': 'consequuntur animi possimus',\n",
       "  'completed': False},\n",
       " {'userId': 10, 'id': 188, 'title': 'vel non beatae est', 'completed': True},\n",
       " {'userId': 10,\n",
       "  'id': 189,\n",
       "  'title': 'culpa eius et voluptatem et',\n",
       "  'completed': True},\n",
       " {'userId': 10,\n",
       "  'id': 190,\n",
       "  'title': 'accusamus sint iusto et voluptatem exercitationem',\n",
       "  'completed': True},\n",
       " {'userId': 10,\n",
       "  'id': 191,\n",
       "  'title': 'temporibus atque distinctio omnis eius impedit tempore molestias pariatur',\n",
       "  'completed': True},\n",
       " {'userId': 10,\n",
       "  'id': 192,\n",
       "  'title': 'ut quas possimus exercitationem sint voluptates',\n",
       "  'completed': False},\n",
       " {'userId': 10,\n",
       "  'id': 193,\n",
       "  'title': 'rerum debitis voluptatem qui eveniet tempora distinctio a',\n",
       "  'completed': True},\n",
       " {'userId': 10,\n",
       "  'id': 194,\n",
       "  'title': 'sed ut vero sit molestiae',\n",
       "  'completed': False},\n",
       " {'userId': 10,\n",
       "  'id': 195,\n",
       "  'title': 'rerum ex veniam mollitia voluptatibus pariatur',\n",
       "  'completed': True},\n",
       " {'userId': 10,\n",
       "  'id': 196,\n",
       "  'title': 'consequuntur aut ut fugit similique',\n",
       "  'completed': True},\n",
       " {'userId': 10,\n",
       "  'id': 197,\n",
       "  'title': 'dignissimos quo nobis earum saepe',\n",
       "  'completed': True},\n",
       " {'userId': 10,\n",
       "  'id': 198,\n",
       "  'title': 'quis eius est sint explicabo',\n",
       "  'completed': True},\n",
       " {'userId': 10,\n",
       "  'id': 199,\n",
       "  'title': 'numquam repellendus a magnam',\n",
       "  'completed': True},\n",
       " {'userId': 10,\n",
       "  'id': 200,\n",
       "  'title': 'ipsam aperiam voluptates qui',\n",
       "  'completed': False}]"
      ]
     },
     "execution_count": 25,
     "metadata": {},
     "output_type": "execute_result"
    }
   ],
   "source": [
    "json1_data"
   ]
  },
  {
   "cell_type": "code",
   "execution_count": 12,
   "metadata": {},
   "outputs": [],
   "source": [
    "lst = [9,2,8,9,3,4,2,3,3]"
   ]
  },
  {
   "cell_type": "code",
   "execution_count": 13,
   "metadata": {},
   "outputs": [],
   "source": []
  },
  {
   "cell_type": "code",
   "execution_count": 4,
   "metadata": {},
   "outputs": [],
   "source": [
    "import random\n",
    "\n",
    "lst = [random.randrange(1,10,1) for i in range(1000000)]"
   ]
  },
  {
   "cell_type": "code",
   "execution_count": 5,
   "metadata": {},
   "outputs": [],
   "source": [
    "from time import time\n",
    "\n",
    "def time_f(func):\n",
    "    def wrap_f(*args):\n",
    "        t1 = time()\n",
    "        result = func(*args)\n",
    "        t2 = time()\n",
    "        print(f'Time:{(t2-t1):.10f}s')\n",
    "        return result\n",
    "    return wrap_f\n",
    "\n",
    "@time_f\n",
    "def inUse(lst):\n",
    "    lst1 = set()\n",
    "    for i in lst:\n",
    "        if i in lst1:\n",
    "            lst1.remove(i)\n",
    "        else:\n",
    "            lst1.add(i)\n",
    "    return lst1\n",
    "\n"
   ]
  },
  {
   "cell_type": "code",
   "execution_count": 6,
   "metadata": {},
   "outputs": [
    {
     "name": "stdout",
     "output_type": "stream",
     "text": [
      "Time:0.1276574135s\n"
     ]
    },
    {
     "data": {
      "text/plain": [
       "{1, 3, 8, 9}"
      ]
     },
     "execution_count": 6,
     "metadata": {},
     "output_type": "execute_result"
    }
   ],
   "source": [
    "inUse(lst)"
   ]
  },
  {
   "cell_type": "code",
   "execution_count": 3,
   "metadata": {},
   "outputs": [
    {
     "name": "stderr",
     "output_type": "stream",
     "text": [
      "Exception in thread Thread-406:\n",
      "Traceback (most recent call last):\n",
      "  File \"C:\\Users\\varun\\anaconda3\\envs\\env\\lib\\threading.py\", line 932, in _bootstrap_inner\n",
      "Exception in thread Thread-407:\n",
      "Traceback (most recent call last):\n",
      "  File \"C:\\Users\\varun\\anaconda3\\envs\\env\\lib\\threading.py\", line 932, in _bootstrap_inner\n",
      "    self.run()\n",
      "  File \"C:\\Users\\varun\\anaconda3\\envs\\env\\lib\\threading.py\", line 870, in run\n",
      "    self.run()\n",
      "  File \"C:\\Users\\varun\\anaconda3\\envs\\env\\lib\\threading.py\", line 870, in run\n",
      "    self._target(*self._args, **self._kwargs)\n",
      "  File \"<ipython-input-3-7bab108dae24>\", line 7, in thread_task\n",
      "    self._target(*self._args, **self._kwargs)\n",
      "  File \"<ipython-input-3-7bab108dae24>\", line 7, in thread_task\n",
      "NameError: name 'x_lock' is not defined\n",
      "NameError: name 'x_lock' is not defined\n",
      "Exception in thread Thread-408:\n",
      "Traceback (most recent call last):\n",
      "  File \"C:\\Users\\varun\\anaconda3\\envs\\env\\lib\\threading.py\", line 932, in _bootstrap_inner\n",
      "Exception in thread Thread-409:\n",
      "Traceback (most recent call last):\n",
      "  File \"C:\\Users\\varun\\anaconda3\\envs\\env\\lib\\threading.py\", line 932, in _bootstrap_inner\n",
      "    self.run()\n",
      "  File \"C:\\Users\\varun\\anaconda3\\envs\\env\\lib\\threading.py\", line 870, in run\n",
      "    self.run()\n",
      "  File \"C:\\Users\\varun\\anaconda3\\envs\\env\\lib\\threading.py\", line 870, in run\n",
      "    self._target(*self._args, **self._kwargs)\n",
      "  File \"<ipython-input-3-7bab108dae24>\", line 7, in thread_task\n",
      "    self._target(*self._args, **self._kwargs)\n",
      "  File \"<ipython-input-3-7bab108dae24>\", line 7, in thread_task\n",
      "NameError: name 'x_lock' is not defined\n",
      "NameError: name 'x_lock' is not defined\n",
      "Exception in thread Thread-410:\n",
      "Traceback (most recent call last):\n",
      "  File \"C:\\Users\\varun\\anaconda3\\envs\\env\\lib\\threading.py\", line 932, in _bootstrap_inner\n",
      "Exception in thread Thread-411:\n",
      "Traceback (most recent call last):\n",
      "  File \"C:\\Users\\varun\\anaconda3\\envs\\env\\lib\\threading.py\", line 932, in _bootstrap_inner\n",
      "        self.run()\n",
      "  File \"C:\\Users\\varun\\anaconda3\\envs\\env\\lib\\threading.py\", line 870, in run\n",
      "self.run()\n",
      "  File \"C:\\Users\\varun\\anaconda3\\envs\\env\\lib\\threading.py\", line 870, in run\n",
      "    self._target(*self._args, **self._kwargs)\n",
      "      File \"<ipython-input-3-7bab108dae24>\", line 7, in thread_task\n",
      "self._target(*self._args, **self._kwargs)\n",
      "  File \"<ipython-input-3-7bab108dae24>\", line 7, in thread_task\n",
      "NameError: NameErrorname 'x_lock' is not defined\n",
      ": name 'x_lock' is not defined\n",
      "Exception in thread Thread-412:\n",
      "Traceback (most recent call last):\n",
      "  File \"C:\\Users\\varun\\anaconda3\\envs\\env\\lib\\threading.py\", line 932, in _bootstrap_inner\n",
      "Exception in thread Thread-413    :\n",
      "self.run()Traceback (most recent call last):\n",
      "\n",
      "  File \"C:\\Users\\varun\\anaconda3\\envs\\env\\lib\\threading.py\", line 932, in _bootstrap_inner\n",
      "  File \"C:\\Users\\varun\\anaconda3\\envs\\env\\lib\\threading.py\", line 870, in run\n",
      "    self.run()\n",
      "  File \"C:\\Users\\varun\\anaconda3\\envs\\env\\lib\\threading.py\", line 870, in run\n",
      "    self._target(*self._args, **self._kwargs)\n",
      "  File \"<ipython-input-3-7bab108dae24>\", line 7, in thread_task\n",
      "    self._target(*self._args, **self._kwargs)\n",
      "  File \"<ipython-input-3-7bab108dae24>\", line 7, in thread_task\n",
      "NameError: name 'x_lock' is not defined\n",
      "NameError: name 'x_lock' is not defined\n",
      "Exception in thread Thread-414:\n",
      "Traceback (most recent call last):\n",
      "  File \"C:\\Users\\varun\\anaconda3\\envs\\env\\lib\\threading.py\", line 932, in _bootstrap_inner\n",
      "Exception in thread Thread-415:\n",
      "Traceback (most recent call last):\n",
      "  File \"C:\\Users\\varun\\anaconda3\\envs\\env\\lib\\threading.py\", line 932, in _bootstrap_inner\n",
      "    self.run()\n",
      "  File \"C:\\Users\\varun\\anaconda3\\envs\\env\\lib\\threading.py\", line 870, in run\n",
      "    self.run()\n",
      "  File \"C:\\Users\\varun\\anaconda3\\envs\\env\\lib\\threading.py\", line 870, in run\n",
      "    self._target(*self._args, **self._kwargs)\n",
      "  File \"<ipython-input-3-7bab108dae24>\", line 7, in thread_task\n",
      "    self._target(*self._args, **self._kwargs)\n",
      "  File \"<ipython-input-3-7bab108dae24>\", line 7, in thread_task\n",
      "NameError: NameError: name 'x_lock' is not defined\n",
      "name 'x_lock' is not defined\n",
      "Exception in thread Thread-416:\n",
      "Traceback (most recent call last):\n",
      "  File \"C:\\Users\\varun\\anaconda3\\envs\\env\\lib\\threading.py\", line 932, in _bootstrap_inner\n",
      "Exception in thread Thread-417:\n",
      "Traceback (most recent call last):\n",
      "  File \"C:\\Users\\varun\\anaconda3\\envs\\env\\lib\\threading.py\", line 932, in _bootstrap_inner\n",
      "    self.run()\n",
      "  File \"C:\\Users\\varun\\anaconda3\\envs\\env\\lib\\threading.py\", line 870, in run\n",
      "    self.run()\n",
      "  File \"C:\\Users\\varun\\anaconda3\\envs\\env\\lib\\threading.py\", line 870, in run\n",
      "    self._target(*self._args, **self._kwargs)\n",
      "  File \"<ipython-input-3-7bab108dae24>\", line 7, in thread_task\n",
      "    self._target(*self._args, **self._kwargs)\n",
      "  File \"<ipython-input-3-7bab108dae24>\", line 7, in thread_task\n",
      "NameError: name 'x_lock' is not defined\n",
      "NameError: name 'x_lock' is not defined\n",
      "Exception in thread Thread-418:\n",
      "Traceback (most recent call last):\n",
      "  File \"C:\\Users\\varun\\anaconda3\\envs\\env\\lib\\threading.py\", line 932, in _bootstrap_inner\n",
      "Exception in thread Thread-419:\n",
      "Traceback (most recent call last):\n",
      "  File \"C:\\Users\\varun\\anaconda3\\envs\\env\\lib\\threading.py\", line 932, in _bootstrap_inner\n",
      "    self.run()\n",
      "  File \"C:\\Users\\varun\\anaconda3\\envs\\env\\lib\\threading.py\", line 870, in run\n",
      "    self.run()\n",
      "  File \"C:\\Users\\varun\\anaconda3\\envs\\env\\lib\\threading.py\", line 870, in run\n",
      "    self._target(*self._args, **self._kwargs)\n",
      "  File \"<ipython-input-3-7bab108dae24>\", line 7, in thread_task\n",
      "    self._target(*self._args, **self._kwargs)\n",
      "  File \"<ipython-input-3-7bab108dae24>\", line 7, in thread_task\n",
      "NameError: name 'x_lock' is not defined\n",
      "NameError: name 'x_lock' is not defined\n",
      "Exception in thread Thread-420:\n",
      "Traceback (most recent call last):\n",
      "  File \"C:\\Users\\varun\\anaconda3\\envs\\env\\lib\\threading.py\", line 932, in _bootstrap_inner\n",
      "Exception in thread Thread-421:\n",
      "Traceback (most recent call last):\n",
      "  File \"C:\\Users\\varun\\anaconda3\\envs\\env\\lib\\threading.py\", line 932, in _bootstrap_inner\n",
      "        self.run()\n",
      "  File \"C:\\Users\\varun\\anaconda3\\envs\\env\\lib\\threading.py\", line 870, in run\n",
      "self.run()\n",
      "  File \"C:\\Users\\varun\\anaconda3\\envs\\env\\lib\\threading.py\", line 870, in run\n",
      "    self._target(*self._args, **self._kwargs)\n",
      "    self._target(*self._args, **self._kwargs)  File \"<ipython-input-3-7bab108dae24>\", line 7, in thread_task\n",
      "\n",
      "  File \"<ipython-input-3-7bab108dae24>\", line 7, in thread_task\n",
      "NameErrorNameError: : name 'x_lock' is not defined\n",
      "name 'x_lock' is not defined\n",
      "Exception in thread Thread-422:\n",
      "Traceback (most recent call last):\n",
      "  File \"C:\\Users\\varun\\anaconda3\\envs\\env\\lib\\threading.py\", line 932, in _bootstrap_inner\n",
      "Exception in thread     self.run()Thread-423\n",
      "  File \"C:\\Users\\varun\\anaconda3\\envs\\env\\lib\\threading.py\", line 870, in run\n",
      ":\n",
      "Traceback (most recent call last):\n",
      "  File \"C:\\Users\\varun\\anaconda3\\envs\\env\\lib\\threading.py\", line 932, in _bootstrap_inner\n",
      "    self._target(*self._args, **self._kwargs)    \n",
      "  File \"<ipython-input-3-7bab108dae24>\", line 7, in thread_task\n",
      "self.run()\n",
      "  File \"C:\\Users\\varun\\anaconda3\\envs\\env\\lib\\threading.py\", line 870, in run\n",
      "    NameErrorself._target(*self._args, **self._kwargs): name 'x_lock' is not defined\n",
      "\n",
      "  File \"<ipython-input-3-7bab108dae24>\", line 7, in thread_task\n",
      "NameError: name 'x_lock' is not defined\n",
      "Exception in thread Thread-424:\n",
      "Traceback (most recent call last):\n",
      "  File \"C:\\Users\\varun\\anaconda3\\envs\\env\\lib\\threading.py\", line 932, in _bootstrap_inner\n",
      "Exception in thread Thread-425:\n",
      "Traceback (most recent call last):\n",
      "  File \"C:\\Users\\varun\\anaconda3\\envs\\env\\lib\\threading.py\", line 932, in _bootstrap_inner\n",
      "        self.run()\n",
      "  File \"C:\\Users\\varun\\anaconda3\\envs\\env\\lib\\threading.py\", line 870, in run\n",
      "self.run()\n",
      "  File \"C:\\Users\\varun\\anaconda3\\envs\\env\\lib\\threading.py\", line 870, in run\n",
      "    self._target(*self._args, **self._kwargs)\n",
      "  File \"<ipython-input-3-7bab108dae24>\", line 7, in thread_task\n",
      "    self._target(*self._args, **self._kwargs)\n",
      "  File \"<ipython-input-3-7bab108dae24>\", line 7, in thread_task\n",
      "NameError: name 'x_lock' is not defined\n",
      "NameError: name 'x_lock' is not defined\n"
     ]
    },
    {
     "name": "stdout",
     "output_type": "stream",
     "text": [
      "Iteration 0: x = 0\n",
      "Iteration 1: x = 0\n",
      "Iteration 2: x = 0\n",
      "Iteration 3: x = 0\n",
      "Iteration 4: x = 0\n",
      "Iteration 5: x = 0\n",
      "Iteration 6: x = 0\n",
      "Iteration 7: x = 0\n",
      "Iteration 8: x = 0\n",
      "Iteration 9: x = 0\n"
     ]
    }
   ],
   "source": [
    "import threading\n",
    "x = 0\n",
    "def increment():\n",
    "    global x\n",
    "    x += 1 \n",
    "def thread_task():\n",
    "    x_lock.acquire() \n",
    "    for _ in range(100000):\n",
    "        increment()\n",
    "       \n",
    "    x_lock.release()\n",
    "def main_task():\n",
    "    global x\n",
    "    x = 0\n",
    "    t1 = threading.Thread(target=thread_task)\n",
    "    t2 = threading.Thread(target=thread_task)\n",
    "    t1.start()\n",
    "    t2.start()\n",
    "    t1.join()\n",
    "    t2.join() \n",
    "if __name__ == \"__main__\":\n",
    "    for i in range(10):\n",
    "        main_task()\n",
    "        print(\"Iteration {0}: x = {1}\".format(i,x))"
   ]
  },
  {
   "cell_type": "code",
   "execution_count": null,
   "metadata": {},
   "outputs": [],
   "source": []
  },
  {
   "cell_type": "code",
   "execution_count": null,
   "metadata": {},
   "outputs": [],
   "source": []
  },
  {
   "cell_type": "code",
   "execution_count": null,
   "metadata": {},
   "outputs": [],
   "source": []
  }
 ],
 "metadata": {
  "kernelspec": {
   "display_name": "Python 3",
   "language": "python",
   "name": "python3"
  },
  "language_info": {
   "codemirror_mode": {
    "name": "ipython",
    "version": 3
   },
   "file_extension": ".py",
   "mimetype": "text/x-python",
   "name": "python",
   "nbconvert_exporter": "python",
   "pygments_lexer": "ipython3",
   "version": "3.8.5"
  }
 },
 "nbformat": 4,
 "nbformat_minor": 4
}
