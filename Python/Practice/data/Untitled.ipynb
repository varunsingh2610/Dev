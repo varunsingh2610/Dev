{
 "cells": [
  {
   "cell_type": "code",
   "execution_count": 2,
   "metadata": {},
   "outputs": [],
   "source": [
    "import pandas as pd\n",
    "import re\n",
    "import dateutil.parser as parser\n",
    "import datetime"
   ]
  },
  {
   "cell_type": "code",
   "execution_count": 18,
   "metadata": {},
   "outputs": [],
   "source": [
    "df = pd.read_excel(\"HDFC Gateway Need to.xlsx\")"
   ]
  },
  {
   "cell_type": "code",
   "execution_count": 3,
   "metadata": {},
   "outputs": [
    {
     "data": {
      "text/html": [
       "<div>\n",
       "<style scoped>\n",
       "    .dataframe tbody tr th:only-of-type {\n",
       "        vertical-align: middle;\n",
       "    }\n",
       "\n",
       "    .dataframe tbody tr th {\n",
       "        vertical-align: top;\n",
       "    }\n",
       "\n",
       "    .dataframe thead th {\n",
       "        text-align: right;\n",
       "    }\n",
       "</style>\n",
       "<table border=\"1\" class=\"dataframe\">\n",
       "  <thead>\n",
       "    <tr style=\"text-align: right;\">\n",
       "      <th></th>\n",
       "      <th>reg_id</th>\n",
       "      <th>reg_rsl_code</th>\n",
       "      <th>reg_startup_date</th>\n",
       "      <th>reg_biz_website</th>\n",
       "      <th>setting_merchant_mcc</th>\n",
       "      <th>biz_category_name</th>\n",
       "      <th>reg_biz_product_type</th>\n",
       "      <th>reg_biz_desc</th>\n",
       "      <th>cat_mid_code</th>\n",
       "      <th>CC_VISA_mid</th>\n",
       "      <th>CC_MSTR_mid</th>\n",
       "      <th>DC_MSTR_mid</th>\n",
       "      <th>DC_VISA_mid</th>\n",
       "      <th>CC_Rupay_mid</th>\n",
       "      <th>DC_Rupay_mid</th>\n",
       "      <th>MSP_Allocated</th>\n",
       "      <th>Remark</th>\n",
       "    </tr>\n",
       "  </thead>\n",
       "  <tbody>\n",
       "    <tr>\n",
       "      <th>0</th>\n",
       "      <td>22</td>\n",
       "      <td>CCAV</td>\n",
       "      <td>2014-01-11 17:52:40.837</td>\n",
       "      <td>http://www.karnatakastatedentalcouncil.com</td>\n",
       "      <td>8021</td>\n",
       "      <td>Government Agency</td>\n",
       "      <td>Online Delivery</td>\n",
       "      <td>Renewal and registration of about 25000 practi...</td>\n",
       "      <td>Retail</td>\n",
       "      <td>NaN</td>\n",
       "      <td>NaN</td>\n",
       "      <td>75020019.0</td>\n",
       "      <td>75020019.0</td>\n",
       "      <td>NaN</td>\n",
       "      <td>75020019.0</td>\n",
       "      <td>N</td>\n",
       "      <td>CC Need to be Allocated</td>\n",
       "    </tr>\n",
       "    <tr>\n",
       "      <th>1</th>\n",
       "      <td>33</td>\n",
       "      <td>CCAV</td>\n",
       "      <td>2014-01-11 17:52:40.863</td>\n",
       "      <td>http://www.hyderabadgiftsdelivery.com</td>\n",
       "      <td>5947</td>\n",
       "      <td>Sole Proprietor</td>\n",
       "      <td>Physical Delivery</td>\n",
       "      <td>Delivery of Gifts like flowers, cakes, chocola...</td>\n",
       "      <td>Retail</td>\n",
       "      <td>NaN</td>\n",
       "      <td>NaN</td>\n",
       "      <td>75020019.0</td>\n",
       "      <td>75020019.0</td>\n",
       "      <td>NaN</td>\n",
       "      <td>75020019.0</td>\n",
       "      <td>N</td>\n",
       "      <td>CC Need to be Allocated</td>\n",
       "    </tr>\n",
       "    <tr>\n",
       "      <th>2</th>\n",
       "      <td>38</td>\n",
       "      <td>CCAV</td>\n",
       "      <td>2014-01-11 17:52:40.873</td>\n",
       "      <td>http://www.poorwall.com</td>\n",
       "      <td>7333</td>\n",
       "      <td>Limited Liability Partnership</td>\n",
       "      <td>Online Delivery</td>\n",
       "      <td>Photography</td>\n",
       "      <td>Retail</td>\n",
       "      <td>NaN</td>\n",
       "      <td>NaN</td>\n",
       "      <td>75020019.0</td>\n",
       "      <td>75020019.0</td>\n",
       "      <td>NaN</td>\n",
       "      <td>75020019.0</td>\n",
       "      <td>N</td>\n",
       "      <td>CC Need to be Allocated</td>\n",
       "    </tr>\n",
       "    <tr>\n",
       "      <th>3</th>\n",
       "      <td>40</td>\n",
       "      <td>CCAV</td>\n",
       "      <td>2014-01-11 17:52:40.877</td>\n",
       "      <td>http://www.wearyourshine.com</td>\n",
       "      <td>5094</td>\n",
       "      <td>Private Ltd Company</td>\n",
       "      <td>Physical Delivery</td>\n",
       "      <td>Ecom Jewellery site</td>\n",
       "      <td>Retail</td>\n",
       "      <td>NaN</td>\n",
       "      <td>NaN</td>\n",
       "      <td>75020019.0</td>\n",
       "      <td>75020019.0</td>\n",
       "      <td>NaN</td>\n",
       "      <td>75020019.0</td>\n",
       "      <td>N</td>\n",
       "      <td>CC Need to be Allocated</td>\n",
       "    </tr>\n",
       "    <tr>\n",
       "      <th>4</th>\n",
       "      <td>52</td>\n",
       "      <td>CCAV</td>\n",
       "      <td>2014-01-11 17:52:40.890</td>\n",
       "      <td>http://www.uread.com</td>\n",
       "      <td>5942</td>\n",
       "      <td>Partnership</td>\n",
       "      <td>Physical Delivery</td>\n",
       "      <td>Prakash Book Depot was founded in 1948. We are...</td>\n",
       "      <td>Retail</td>\n",
       "      <td>NaN</td>\n",
       "      <td>NaN</td>\n",
       "      <td>75020019.0</td>\n",
       "      <td>75020019.0</td>\n",
       "      <td>NaN</td>\n",
       "      <td>75020019.0</td>\n",
       "      <td>N</td>\n",
       "      <td>CC Need to be Allocated</td>\n",
       "    </tr>\n",
       "  </tbody>\n",
       "</table>\n",
       "</div>"
      ],
      "text/plain": [
       "   reg_id reg_rsl_code        reg_startup_date  \\\n",
       "0      22         CCAV 2014-01-11 17:52:40.837   \n",
       "1      33         CCAV 2014-01-11 17:52:40.863   \n",
       "2      38         CCAV 2014-01-11 17:52:40.873   \n",
       "3      40         CCAV 2014-01-11 17:52:40.877   \n",
       "4      52         CCAV 2014-01-11 17:52:40.890   \n",
       "\n",
       "                              reg_biz_website  setting_merchant_mcc  \\\n",
       "0  http://www.karnatakastatedentalcouncil.com                  8021   \n",
       "1       http://www.hyderabadgiftsdelivery.com                  5947   \n",
       "2                     http://www.poorwall.com                  7333   \n",
       "3                http://www.wearyourshine.com                  5094   \n",
       "4                        http://www.uread.com                  5942   \n",
       "\n",
       "               biz_category_name reg_biz_product_type  \\\n",
       "0              Government Agency      Online Delivery   \n",
       "1                Sole Proprietor    Physical Delivery   \n",
       "2  Limited Liability Partnership      Online Delivery   \n",
       "3            Private Ltd Company    Physical Delivery   \n",
       "4                    Partnership    Physical Delivery   \n",
       "\n",
       "                                        reg_biz_desc cat_mid_code  \\\n",
       "0  Renewal and registration of about 25000 practi...       Retail   \n",
       "1  Delivery of Gifts like flowers, cakes, chocola...       Retail   \n",
       "2                                        Photography       Retail   \n",
       "3                                Ecom Jewellery site       Retail   \n",
       "4  Prakash Book Depot was founded in 1948. We are...       Retail   \n",
       "\n",
       "   CC_VISA_mid  CC_MSTR_mid  DC_MSTR_mid  DC_VISA_mid  CC_Rupay_mid  \\\n",
       "0          NaN          NaN   75020019.0   75020019.0           NaN   \n",
       "1          NaN          NaN   75020019.0   75020019.0           NaN   \n",
       "2          NaN          NaN   75020019.0   75020019.0           NaN   \n",
       "3          NaN          NaN   75020019.0   75020019.0           NaN   \n",
       "4          NaN          NaN   75020019.0   75020019.0           NaN   \n",
       "\n",
       "   DC_Rupay_mid MSP_Allocated                   Remark  \n",
       "0    75020019.0             N  CC Need to be Allocated  \n",
       "1    75020019.0             N  CC Need to be Allocated  \n",
       "2    75020019.0             N  CC Need to be Allocated  \n",
       "3    75020019.0             N  CC Need to be Allocated  \n",
       "4    75020019.0             N  CC Need to be Allocated  "
      ]
     },
     "execution_count": 3,
     "metadata": {},
     "output_type": "execute_result"
    }
   ],
   "source": [
    "df.head()"
   ]
  },
  {
   "cell_type": "code",
   "execution_count": 105,
   "metadata": {},
   "outputs": [
    {
     "data": {
      "text/plain": [
       "38520"
      ]
     },
     "execution_count": 105,
     "metadata": {},
     "output_type": "execute_result"
    }
   ],
   "source": [
    "df.shape[0]"
   ]
  },
  {
   "cell_type": "code",
   "execution_count": 6,
   "metadata": {},
   "outputs": [
    {
     "name": "stdout",
     "output_type": "stream",
     "text": [
      "int64\n",
      "int64\n",
      "datetime64[ns]\n",
      "object\n",
      "object\n",
      "float64\n"
     ]
    }
   ],
   "source": [
    "regex = re.compile('\\'')\n",
    "for i in df:\n",
    "    print(df[i].dtype)\n",
    "    if(df[i].dtype == object):\n",
    "            df[i] = df[i].astype(str)\n",
    "            df[i] = df[i].map(lambda x: re.sub(regex, '', x))"
   ]
  },
  {
   "cell_type": "code",
   "execution_count": 7,
   "metadata": {},
   "outputs": [
    {
     "data": {
      "text/html": [
       "<div>\n",
       "<style scoped>\n",
       "    .dataframe tbody tr th:only-of-type {\n",
       "        vertical-align: middle;\n",
       "    }\n",
       "\n",
       "    .dataframe tbody tr th {\n",
       "        vertical-align: top;\n",
       "    }\n",
       "\n",
       "    .dataframe thead th {\n",
       "        text-align: right;\n",
       "    }\n",
       "</style>\n",
       "<table border=\"1\" class=\"dataframe\">\n",
       "  <thead>\n",
       "    <tr style=\"text-align: right;\">\n",
       "      <th></th>\n",
       "      <th>Column-0</th>\n",
       "      <th>Column-1</th>\n",
       "      <th>Column-2</th>\n",
       "      <th>Column-3</th>\n",
       "      <th>Column-4</th>\n",
       "      <th>Column-5</th>\n",
       "    </tr>\n",
       "  </thead>\n",
       "  <tbody>\n",
       "    <tr>\n",
       "      <th>0</th>\n",
       "      <td>140455305593619</td>\n",
       "      <td>2724129001844</td>\n",
       "      <td>2018-05-08 00:55:14</td>\n",
       "      <td>107412559543</td>\n",
       "      <td>CCAVENUEF</td>\n",
       "      <td>52883.0</td>\n",
       "    </tr>\n",
       "    <tr>\n",
       "      <th>1</th>\n",
       "      <td>165205305591198</td>\n",
       "      <td>2759101053400</td>\n",
       "      <td>2018-05-08 00:41:52</td>\n",
       "      <td>107412556577</td>\n",
       "      <td>CCAVENUE</td>\n",
       "      <td>499.0</td>\n",
       "    </tr>\n",
       "    <tr>\n",
       "      <th>2</th>\n",
       "      <td>192089305597534</td>\n",
       "      <td>4549103000009</td>\n",
       "      <td>2018-05-08 01:33:39</td>\n",
       "      <td>107412565690</td>\n",
       "      <td>CCAVENUEF</td>\n",
       "      <td>85448.0</td>\n",
       "    </tr>\n",
       "    <tr>\n",
       "      <th>3</th>\n",
       "      <td>206651305614769</td>\n",
       "      <td>1217101107681</td>\n",
       "      <td>2018-05-08 07:08:42</td>\n",
       "      <td>107412588495</td>\n",
       "      <td>CCAVENUE</td>\n",
       "      <td>99.0</td>\n",
       "    </tr>\n",
       "    <tr>\n",
       "      <th>4</th>\n",
       "      <td>212974305615863</td>\n",
       "      <td>237201001822</td>\n",
       "      <td>2018-05-08 07:12:21</td>\n",
       "      <td>107412589202</td>\n",
       "      <td>CCAVENUE</td>\n",
       "      <td>995.0</td>\n",
       "    </tr>\n",
       "  </tbody>\n",
       "</table>\n",
       "</div>"
      ],
      "text/plain": [
       "          Column-0       Column-1            Column-2      Column-3  \\\n",
       "0  140455305593619  2724129001844 2018-05-08 00:55:14  107412559543   \n",
       "1  165205305591198  2759101053400 2018-05-08 00:41:52  107412556577   \n",
       "2  192089305597534  4549103000009 2018-05-08 01:33:39  107412565690   \n",
       "3  206651305614769  1217101107681 2018-05-08 07:08:42  107412588495   \n",
       "4  212974305615863   237201001822 2018-05-08 07:12:21  107412589202   \n",
       "\n",
       "    Column-4  Column-5  \n",
       "0  CCAVENUEF   52883.0  \n",
       "1   CCAVENUE     499.0  \n",
       "2  CCAVENUEF   85448.0  \n",
       "3   CCAVENUE      99.0  \n",
       "4   CCAVENUE     995.0  "
      ]
     },
     "execution_count": 7,
     "metadata": {},
     "output_type": "execute_result"
    }
   ],
   "source": [
    "df.head()"
   ]
  },
  {
   "cell_type": "code",
   "execution_count": 8,
   "metadata": {},
   "outputs": [],
   "source": [
    "gte, lte = \"07/05/2018 - 09/05/2018\".split(\" - \")"
   ]
  },
  {
   "cell_type": "code",
   "execution_count": 9,
   "metadata": {},
   "outputs": [
    {
     "data": {
      "text/plain": [
       "'07/05/2018'"
      ]
     },
     "execution_count": 9,
     "metadata": {},
     "output_type": "execute_result"
    }
   ],
   "source": [
    "gte"
   ]
  },
  {
   "cell_type": "code",
   "execution_count": 10,
   "metadata": {},
   "outputs": [],
   "source": [
    "gte = datetime.strptime(gte, '%d/%m/%Y')\n",
    "lte = datetime.strptime(lte, '%d/%m/%Y')"
   ]
  },
  {
   "cell_type": "code",
   "execution_count": 11,
   "metadata": {},
   "outputs": [
    {
     "data": {
      "text/plain": [
       "'2018-05-07T00:00:00'"
      ]
     },
     "execution_count": 11,
     "metadata": {},
     "output_type": "execute_result"
    }
   ],
   "source": [
    "gte.isoformat()"
   ]
  },
  {
   "cell_type": "code",
   "execution_count": 12,
   "metadata": {},
   "outputs": [
    {
     "data": {
      "text/plain": [
       "'2018-05-09T00:00:00'"
      ]
     },
     "execution_count": 12,
     "metadata": {},
     "output_type": "execute_result"
    }
   ],
   "source": [
    "lte.isoformat()"
   ]
  },
  {
   "cell_type": "code",
   "execution_count": null,
   "metadata": {},
   "outputs": [],
   "source": []
  },
  {
   "cell_type": "code",
   "execution_count": 43,
   "metadata": {},
   "outputs": [
    {
     "data": {
      "text/plain": [
       "True"
      ]
     },
     "execution_count": 43,
     "metadata": {},
     "output_type": "execute_result"
    }
   ],
   "source": []
  },
  {
   "cell_type": "code",
   "execution_count": 13,
   "metadata": {},
   "outputs": [
    {
     "data": {
      "text/html": [
       "<div>\n",
       "<style scoped>\n",
       "    .dataframe tbody tr th:only-of-type {\n",
       "        vertical-align: middle;\n",
       "    }\n",
       "\n",
       "    .dataframe tbody tr th {\n",
       "        vertical-align: top;\n",
       "    }\n",
       "\n",
       "    .dataframe thead th {\n",
       "        text-align: right;\n",
       "    }\n",
       "</style>\n",
       "<table border=\"1\" class=\"dataframe\">\n",
       "  <thead>\n",
       "    <tr style=\"text-align: right;\">\n",
       "      <th></th>\n",
       "      <th>Column-0</th>\n",
       "      <th>Column-1</th>\n",
       "      <th>Column-2</th>\n",
       "      <th>Column-3</th>\n",
       "      <th>Column-4</th>\n",
       "      <th>Column-5</th>\n",
       "    </tr>\n",
       "  </thead>\n",
       "  <tbody>\n",
       "    <tr>\n",
       "      <th>0</th>\n",
       "      <td>140455305593619</td>\n",
       "      <td>2724129001844</td>\n",
       "      <td>2018-05-08 00:55:14</td>\n",
       "      <td>107412559543</td>\n",
       "      <td>CCAVENUEF</td>\n",
       "      <td>52883.0</td>\n",
       "    </tr>\n",
       "    <tr>\n",
       "      <th>1</th>\n",
       "      <td>165205305591198</td>\n",
       "      <td>2759101053400</td>\n",
       "      <td>2018-05-08 00:41:52</td>\n",
       "      <td>107412556577</td>\n",
       "      <td>CCAVENUE</td>\n",
       "      <td>499.0</td>\n",
       "    </tr>\n",
       "    <tr>\n",
       "      <th>2</th>\n",
       "      <td>192089305597534</td>\n",
       "      <td>4549103000009</td>\n",
       "      <td>2018-05-08 01:33:39</td>\n",
       "      <td>107412565690</td>\n",
       "      <td>CCAVENUEF</td>\n",
       "      <td>85448.0</td>\n",
       "    </tr>\n",
       "    <tr>\n",
       "      <th>3</th>\n",
       "      <td>206651305614769</td>\n",
       "      <td>1217101107681</td>\n",
       "      <td>2018-05-08 07:08:42</td>\n",
       "      <td>107412588495</td>\n",
       "      <td>CCAVENUE</td>\n",
       "      <td>99.0</td>\n",
       "    </tr>\n",
       "    <tr>\n",
       "      <th>4</th>\n",
       "      <td>212974305615863</td>\n",
       "      <td>237201001822</td>\n",
       "      <td>2018-05-08 07:12:21</td>\n",
       "      <td>107412589202</td>\n",
       "      <td>CCAVENUE</td>\n",
       "      <td>995.0</td>\n",
       "    </tr>\n",
       "  </tbody>\n",
       "</table>\n",
       "</div>"
      ],
      "text/plain": [
       "          Column-0       Column-1            Column-2      Column-3  \\\n",
       "0  140455305593619  2724129001844 2018-05-08 00:55:14  107412559543   \n",
       "1  165205305591198  2759101053400 2018-05-08 00:41:52  107412556577   \n",
       "2  192089305597534  4549103000009 2018-05-08 01:33:39  107412565690   \n",
       "3  206651305614769  1217101107681 2018-05-08 07:08:42  107412588495   \n",
       "4  212974305615863   237201001822 2018-05-08 07:12:21  107412589202   \n",
       "\n",
       "    Column-4  Column-5  \n",
       "0  CCAVENUEF   52883.0  \n",
       "1   CCAVENUE     499.0  \n",
       "2  CCAVENUEF   85448.0  \n",
       "3   CCAVENUE      99.0  \n",
       "4   CCAVENUE     995.0  "
      ]
     },
     "execution_count": 13,
     "metadata": {},
     "output_type": "execute_result"
    }
   ],
   "source": [
    " df.head()"
   ]
  },
  {
   "cell_type": "code",
   "execution_count": 32,
   "metadata": {},
   "outputs": [
    {
     "name": "stdout",
     "output_type": "stream",
     "text": [
      "None\n",
      "2018-05-08 00:20:15\n"
     ]
    }
   ],
   "source": [
    "regex = r'^(-?(?:[1-9][0-9]*)?[0-9]{4})-(1[0-2]|0[1-9])-(3[01]|0[1-9]|[12][0-9])T(2[0-3]|[01][0-9]):([0-5][0-9]):([0-5][0-9])(\\.[0-9]+)?(Z|[+-](?:2[0-3]|[01][0-9]):[0-5][0-9])?$'\n",
    "checkISO = re.compile(regex).match\n",
    "a = '2018-05-08'\n",
    "for i in df['Column-2'].astype(str):\n",
    "    if checkISO(i) is not None:\n",
    "        #logging.info('The date column is not in correct format.\\n')\n",
    "        #exit()\n",
    "        print(\"dg\")\n",
    "print(checkISO(a))\n",
    "print(i)"
   ]
  },
  {
   "cell_type": "code",
   "execution_count": 22,
   "metadata": {},
   "outputs": [],
   "source": [
    "checkISO = re.compile(regex)"
   ]
  },
  {
   "cell_type": "code",
   "execution_count": 30,
   "metadata": {},
   "outputs": [
    {
     "name": "stdout",
     "output_type": "stream",
     "text": [
      "None\n"
     ]
    }
   ],
   "source": [
    "print(checkISO.match(b))"
   ]
  },
  {
   "cell_type": "code",
   "execution_count": 26,
   "metadata": {},
   "outputs": [
    {
     "data": {
      "text/plain": [
       "str"
      ]
     },
     "execution_count": 26,
     "metadata": {},
     "output_type": "execute_result"
    }
   ],
   "source": [
    "type(i)"
   ]
  },
  {
   "cell_type": "code",
   "execution_count": 29,
   "metadata": {},
   "outputs": [],
   "source": [
    "b = '56565'"
   ]
  },
  {
   "cell_type": "code",
   "execution_count": 34,
   "metadata": {},
   "outputs": [],
   "source": [
    "if checkISO(b) is not None:\n",
    "    print(\"yes\")"
   ]
  },
  {
   "cell_type": "code",
   "execution_count": 1,
   "metadata": {},
   "outputs": [
    {
     "ename": "NameError",
     "evalue": "name 'pd' is not defined",
     "output_type": "error",
     "traceback": [
      "\u001b[0;31m---------------------------------------------------------------------------\u001b[0m",
      "\u001b[0;31mNameError\u001b[0m                                 Traceback (most recent call last)",
      "\u001b[0;32m<ipython-input-1-2d9b351a19ce>\u001b[0m in \u001b[0;36m<module>\u001b[0;34m\u001b[0m\n\u001b[0;32m----> 1\u001b[0;31m df[sDbDateField] = pd.to_datetime(\n\u001b[0m\u001b[1;32m      2\u001b[0m         df[sDbDateField], format=dateFormat[sSourceDateFormat], errors='ignore')\n",
      "\u001b[0;31mNameError\u001b[0m: name 'pd' is not defined"
     ]
    }
   ],
   "source": [
    "df[sDbDateField] = pd.to_datetime(\n",
    "        df[sDbDateField], format=dateFormat[sSourceDateFormat], errors='ignore')\n"
   ]
  },
  {
   "cell_type": "code",
   "execution_count": null,
   "metadata": {},
   "outputs": [],
   "source": []
  },
  {
   "cell_type": "code",
   "execution_count": 84,
   "metadata": {},
   "outputs": [],
   "source": [
    "df = pd.read_csv(\"FSS_DB_NOCVV.csv\", sep=',', header=0,  engine='python', warn_bad_lines=True, error_bad_lines=False)"
   ]
  },
  {
   "cell_type": "code",
   "execution_count": 85,
   "metadata": {},
   "outputs": [
    {
     "data": {
      "text/html": [
       "<div>\n",
       "<style scoped>\n",
       "    .dataframe tbody tr th:only-of-type {\n",
       "        vertical-align: middle;\n",
       "    }\n",
       "\n",
       "    .dataframe tbody tr th {\n",
       "        vertical-align: top;\n",
       "    }\n",
       "\n",
       "    .dataframe thead th {\n",
       "        text-align: right;\n",
       "    }\n",
       "</style>\n",
       "<table border=\"1\" class=\"dataframe\">\n",
       "  <thead>\n",
       "    <tr style=\"text-align: right;\">\n",
       "      <th></th>\n",
       "      <th>Column-0</th>\n",
       "      <th>Column-1</th>\n",
       "      <th>Column-2</th>\n",
       "      <th>Column-3</th>\n",
       "      <th>Column-4</th>\n",
       "      <th>Column-5</th>\n",
       "      <th>Column-6</th>\n",
       "      <th>Column-7</th>\n",
       "      <th>Column-8</th>\n",
       "      <th>Column-9</th>\n",
       "      <th>Column-10</th>\n",
       "      <th>Column-11</th>\n",
       "      <th>Column-12</th>\n",
       "      <th>Column-13</th>\n",
       "      <th>Column-14</th>\n",
       "      <th>Column-15</th>\n",
       "      <th>Column-16</th>\n",
       "      <th>Column-17</th>\n",
       "      <th>Column-18</th>\n",
       "      <th>Column-19</th>\n",
       "    </tr>\n",
       "  </thead>\n",
       "  <tbody>\n",
       "    <tr>\n",
       "      <th>0</th>\n",
       "      <td>400046</td>\n",
       "      <td>CCAvenue Ecommerce</td>\n",
       "      <td>SYNDICATE BANK</td>\n",
       "      <td>121821810560232</td>\n",
       "      <td>107413059920</td>\n",
       "      <td>821870000240</td>\n",
       "      <td>708311</td>\n",
       "      <td>295.0</td>\n",
       "      <td>06/08/2018</td>\n",
       "      <td>07:35:20</td>\n",
       "      <td>CAPTURED</td>\n",
       "      <td>https://secure.ccavenue.com/receive/201/servle...</td>\n",
       "      <td>https://secure.ccavenue.com/receive/201/servle...</td>\n",
       "      <td>400046</td>\n",
       "      <td>107413059920</td>\n",
       "      <td>9e16a94ee496b71f674939a7dee4269488ee79f4bc1373...</td>\n",
       "      <td>295.0</td>\n",
       "      <td>0.0</td>\n",
       "      <td>0.0</td>\n",
       "      <td>295.0</td>\n",
       "    </tr>\n",
       "    <tr>\n",
       "      <th>1</th>\n",
       "      <td>400046</td>\n",
       "      <td>CCAvenue Ecommerce</td>\n",
       "      <td>SYNDICATE BANK</td>\n",
       "      <td>121821888519390</td>\n",
       "      <td>107413070308</td>\n",
       "      <td>821870000305</td>\n",
       "      <td>716436</td>\n",
       "      <td>600.0</td>\n",
       "      <td>06/08/2018</td>\n",
       "      <td>08:06:01</td>\n",
       "      <td>CAPTURED</td>\n",
       "      <td>https://secure.ccavenue.com/receive/201/servle...</td>\n",
       "      <td>https://secure.ccavenue.com/receive/201/servle...</td>\n",
       "      <td>400046</td>\n",
       "      <td>107413070308</td>\n",
       "      <td>d219d752af7dedee2b9817cd6716531b66a7e4fc30fb14...</td>\n",
       "      <td>600.0</td>\n",
       "      <td>0.0</td>\n",
       "      <td>0.0</td>\n",
       "      <td>600.0</td>\n",
       "    </tr>\n",
       "    <tr>\n",
       "      <th>2</th>\n",
       "      <td>400046</td>\n",
       "      <td>CCAvenue Ecommerce</td>\n",
       "      <td>SYNDICATE BANK</td>\n",
       "      <td>121821812759745</td>\n",
       "      <td>107413084767</td>\n",
       "      <td>821870000453</td>\n",
       "      <td>732215</td>\n",
       "      <td>328.0</td>\n",
       "      <td>06/08/2018</td>\n",
       "      <td>08:48:39</td>\n",
       "      <td>CAPTURED</td>\n",
       "      <td>https://secure.ccavenue.com/receive/201/servle...</td>\n",
       "      <td>https://secure.ccavenue.com/receive/201/servle...</td>\n",
       "      <td>400046</td>\n",
       "      <td>107413084767</td>\n",
       "      <td>a3f850737cbc9065dd0ce3f4dd8b92c1d53f6afd41df40...</td>\n",
       "      <td>328.0</td>\n",
       "      <td>0.0</td>\n",
       "      <td>0.0</td>\n",
       "      <td>328.0</td>\n",
       "    </tr>\n",
       "    <tr>\n",
       "      <th>3</th>\n",
       "      <td>400046</td>\n",
       "      <td>CCAvenue Ecommerce</td>\n",
       "      <td>SYNDICATE BANK</td>\n",
       "      <td>121821812953140</td>\n",
       "      <td>107413085674</td>\n",
       "      <td>821870000472</td>\n",
       "      <td>735078</td>\n",
       "      <td>100.0</td>\n",
       "      <td>06/08/2018</td>\n",
       "      <td>08:55:06</td>\n",
       "      <td>CAPTURED</td>\n",
       "      <td>https://secure.ccavenue.com/receive/201/servle...</td>\n",
       "      <td>https://secure.ccavenue.com/receive/201/servle...</td>\n",
       "      <td>400046</td>\n",
       "      <td>107413085674</td>\n",
       "      <td>ac40a23b73749659d88cdee3b0db034490587fd3bae758...</td>\n",
       "      <td>100.0</td>\n",
       "      <td>0.0</td>\n",
       "      <td>0.0</td>\n",
       "      <td>100.0</td>\n",
       "    </tr>\n",
       "    <tr>\n",
       "      <th>4</th>\n",
       "      <td>400046</td>\n",
       "      <td>CCAvenue Ecommerce</td>\n",
       "      <td>SYNDICATE BANK</td>\n",
       "      <td>121821885775336</td>\n",
       "      <td>107413101657</td>\n",
       "      <td>821870000647</td>\n",
       "      <td>756337</td>\n",
       "      <td>399.0</td>\n",
       "      <td>06/08/2018</td>\n",
       "      <td>09:37:29</td>\n",
       "      <td>CAPTURED</td>\n",
       "      <td>https://secure.ccavenue.com/receive/201/servle...</td>\n",
       "      <td>https://secure.ccavenue.com/receive/201/servle...</td>\n",
       "      <td>400046</td>\n",
       "      <td>107413101657</td>\n",
       "      <td>7487185c818eb93093a261f867a11ecdfa366aa2e22694...</td>\n",
       "      <td>399.0</td>\n",
       "      <td>0.0</td>\n",
       "      <td>0.0</td>\n",
       "      <td>399.0</td>\n",
       "    </tr>\n",
       "  </tbody>\n",
       "</table>\n",
       "</div>"
      ],
      "text/plain": [
       "   Column-0            Column-1        Column-2         Column-3  \\\n",
       "0    400046  CCAvenue Ecommerce  SYNDICATE BANK  121821810560232   \n",
       "1    400046  CCAvenue Ecommerce  SYNDICATE BANK  121821888519390   \n",
       "2    400046  CCAvenue Ecommerce  SYNDICATE BANK  121821812759745   \n",
       "3    400046  CCAvenue Ecommerce  SYNDICATE BANK  121821812953140   \n",
       "4    400046  CCAvenue Ecommerce  SYNDICATE BANK  121821885775336   \n",
       "\n",
       "       Column-4      Column-5  Column-6  Column-7    Column-8  Column-9  \\\n",
       "0  107413059920  821870000240    708311     295.0  06/08/2018  07:35:20   \n",
       "1  107413070308  821870000305    716436     600.0  06/08/2018  08:06:01   \n",
       "2  107413084767  821870000453    732215     328.0  06/08/2018  08:48:39   \n",
       "3  107413085674  821870000472    735078     100.0  06/08/2018  08:55:06   \n",
       "4  107413101657  821870000647    756337     399.0  06/08/2018  09:37:29   \n",
       "\n",
       "  Column-10                                          Column-11  \\\n",
       "0  CAPTURED  https://secure.ccavenue.com/receive/201/servle...   \n",
       "1  CAPTURED  https://secure.ccavenue.com/receive/201/servle...   \n",
       "2  CAPTURED  https://secure.ccavenue.com/receive/201/servle...   \n",
       "3  CAPTURED  https://secure.ccavenue.com/receive/201/servle...   \n",
       "4  CAPTURED  https://secure.ccavenue.com/receive/201/servle...   \n",
       "\n",
       "                                           Column-12  Column-13     Column-14  \\\n",
       "0  https://secure.ccavenue.com/receive/201/servle...     400046  107413059920   \n",
       "1  https://secure.ccavenue.com/receive/201/servle...     400046  107413070308   \n",
       "2  https://secure.ccavenue.com/receive/201/servle...     400046  107413084767   \n",
       "3  https://secure.ccavenue.com/receive/201/servle...     400046  107413085674   \n",
       "4  https://secure.ccavenue.com/receive/201/servle...     400046  107413101657   \n",
       "\n",
       "                                           Column-15  Column-16  Column-17  \\\n",
       "0  9e16a94ee496b71f674939a7dee4269488ee79f4bc1373...      295.0        0.0   \n",
       "1  d219d752af7dedee2b9817cd6716531b66a7e4fc30fb14...      600.0        0.0   \n",
       "2  a3f850737cbc9065dd0ce3f4dd8b92c1d53f6afd41df40...      328.0        0.0   \n",
       "3  ac40a23b73749659d88cdee3b0db034490587fd3bae758...      100.0        0.0   \n",
       "4  7487185c818eb93093a261f867a11ecdfa366aa2e22694...      399.0        0.0   \n",
       "\n",
       "   Column-18  Column-19  \n",
       "0        0.0      295.0  \n",
       "1        0.0      600.0  \n",
       "2        0.0      328.0  \n",
       "3        0.0      100.0  \n",
       "4        0.0      399.0  "
      ]
     },
     "execution_count": 85,
     "metadata": {},
     "output_type": "execute_result"
    }
   ],
   "source": [
    "df.head()"
   ]
  },
  {
   "cell_type": "code",
   "execution_count": 87,
   "metadata": {},
   "outputs": [
    {
     "data": {
      "text/plain": [
       "dtype('O')"
      ]
     },
     "execution_count": 87,
     "metadata": {},
     "output_type": "execute_result"
    }
   ],
   "source": [
    "df['Column-8'].dtype"
   ]
  },
  {
   "cell_type": "code",
   "execution_count": 88,
   "metadata": {},
   "outputs": [
    {
     "ename": "KeyError",
     "evalue": "2",
     "output_type": "error",
     "traceback": [
      "\u001b[0;31m---------------------------------------------------------------------------\u001b[0m",
      "\u001b[0;31mKeyError\u001b[0m                                  Traceback (most recent call last)",
      "\u001b[0;32m/usr/local/lib/python3.6/dist-packages/pandas/core/indexes/base.py\u001b[0m in \u001b[0;36mget_loc\u001b[0;34m(self, key, method, tolerance)\u001b[0m\n\u001b[1;32m   2656\u001b[0m             \u001b[0;32mtry\u001b[0m\u001b[0;34m:\u001b[0m\u001b[0;34m\u001b[0m\u001b[0;34m\u001b[0m\u001b[0m\n\u001b[0;32m-> 2657\u001b[0;31m                 \u001b[0;32mreturn\u001b[0m \u001b[0mself\u001b[0m\u001b[0;34m.\u001b[0m\u001b[0m_engine\u001b[0m\u001b[0;34m.\u001b[0m\u001b[0mget_loc\u001b[0m\u001b[0;34m(\u001b[0m\u001b[0mkey\u001b[0m\u001b[0;34m)\u001b[0m\u001b[0;34m\u001b[0m\u001b[0;34m\u001b[0m\u001b[0m\n\u001b[0m\u001b[1;32m   2658\u001b[0m             \u001b[0;32mexcept\u001b[0m \u001b[0mKeyError\u001b[0m\u001b[0;34m:\u001b[0m\u001b[0;34m\u001b[0m\u001b[0;34m\u001b[0m\u001b[0m\n",
      "\u001b[0;32mpandas/_libs/index.pyx\u001b[0m in \u001b[0;36mpandas._libs.index.IndexEngine.get_loc\u001b[0;34m()\u001b[0m\n",
      "\u001b[0;32mpandas/_libs/index.pyx\u001b[0m in \u001b[0;36mpandas._libs.index.IndexEngine.get_loc\u001b[0;34m()\u001b[0m\n",
      "\u001b[0;32mpandas/_libs/hashtable_class_helper.pxi\u001b[0m in \u001b[0;36mpandas._libs.hashtable.PyObjectHashTable.get_item\u001b[0;34m()\u001b[0m\n",
      "\u001b[0;32mpandas/_libs/hashtable_class_helper.pxi\u001b[0m in \u001b[0;36mpandas._libs.hashtable.PyObjectHashTable.get_item\u001b[0;34m()\u001b[0m\n",
      "\u001b[0;31mKeyError\u001b[0m: 2",
      "\nDuring handling of the above exception, another exception occurred:\n",
      "\u001b[0;31mKeyError\u001b[0m                                  Traceback (most recent call last)",
      "\u001b[0;32m<ipython-input-88-9e94969d6179>\u001b[0m in \u001b[0;36m<module>\u001b[0;34m\u001b[0m\n\u001b[0;32m----> 1\u001b[0;31m \u001b[0mdf\u001b[0m\u001b[0;34m[\u001b[0m\u001b[0;36m2\u001b[0m\u001b[0;34m]\u001b[0m \u001b[0;34m=\u001b[0m \u001b[0mdf\u001b[0m\u001b[0;34m[\u001b[0m\u001b[0;36m2\u001b[0m\u001b[0;34m]\u001b[0m\u001b[0;34m.\u001b[0m\u001b[0mapply\u001b[0m\u001b[0;34m(\u001b[0m\u001b[0;32mlambda\u001b[0m \u001b[0mx\u001b[0m\u001b[0;34m:\u001b[0m \u001b[0mx\u001b[0m\u001b[0;34m.\u001b[0m\u001b[0mstrip\u001b[0m\u001b[0;34m(\u001b[0m\u001b[0;34m)\u001b[0m\u001b[0;34m)\u001b[0m\u001b[0;34m\u001b[0m\u001b[0;34m\u001b[0m\u001b[0m\n\u001b[0m",
      "\u001b[0;32m/usr/local/lib/python3.6/dist-packages/pandas/core/frame.py\u001b[0m in \u001b[0;36m__getitem__\u001b[0;34m(self, key)\u001b[0m\n\u001b[1;32m   2925\u001b[0m             \u001b[0;32mif\u001b[0m \u001b[0mself\u001b[0m\u001b[0;34m.\u001b[0m\u001b[0mcolumns\u001b[0m\u001b[0;34m.\u001b[0m\u001b[0mnlevels\u001b[0m \u001b[0;34m>\u001b[0m \u001b[0;36m1\u001b[0m\u001b[0;34m:\u001b[0m\u001b[0;34m\u001b[0m\u001b[0;34m\u001b[0m\u001b[0m\n\u001b[1;32m   2926\u001b[0m                 \u001b[0;32mreturn\u001b[0m \u001b[0mself\u001b[0m\u001b[0;34m.\u001b[0m\u001b[0m_getitem_multilevel\u001b[0m\u001b[0;34m(\u001b[0m\u001b[0mkey\u001b[0m\u001b[0;34m)\u001b[0m\u001b[0;34m\u001b[0m\u001b[0;34m\u001b[0m\u001b[0m\n\u001b[0;32m-> 2927\u001b[0;31m             \u001b[0mindexer\u001b[0m \u001b[0;34m=\u001b[0m \u001b[0mself\u001b[0m\u001b[0;34m.\u001b[0m\u001b[0mcolumns\u001b[0m\u001b[0;34m.\u001b[0m\u001b[0mget_loc\u001b[0m\u001b[0;34m(\u001b[0m\u001b[0mkey\u001b[0m\u001b[0;34m)\u001b[0m\u001b[0;34m\u001b[0m\u001b[0;34m\u001b[0m\u001b[0m\n\u001b[0m\u001b[1;32m   2928\u001b[0m             \u001b[0;32mif\u001b[0m \u001b[0mis_integer\u001b[0m\u001b[0;34m(\u001b[0m\u001b[0mindexer\u001b[0m\u001b[0;34m)\u001b[0m\u001b[0;34m:\u001b[0m\u001b[0;34m\u001b[0m\u001b[0;34m\u001b[0m\u001b[0m\n\u001b[1;32m   2929\u001b[0m                 \u001b[0mindexer\u001b[0m \u001b[0;34m=\u001b[0m \u001b[0;34m[\u001b[0m\u001b[0mindexer\u001b[0m\u001b[0;34m]\u001b[0m\u001b[0;34m\u001b[0m\u001b[0;34m\u001b[0m\u001b[0m\n",
      "\u001b[0;32m/usr/local/lib/python3.6/dist-packages/pandas/core/indexes/base.py\u001b[0m in \u001b[0;36mget_loc\u001b[0;34m(self, key, method, tolerance)\u001b[0m\n\u001b[1;32m   2657\u001b[0m                 \u001b[0;32mreturn\u001b[0m \u001b[0mself\u001b[0m\u001b[0;34m.\u001b[0m\u001b[0m_engine\u001b[0m\u001b[0;34m.\u001b[0m\u001b[0mget_loc\u001b[0m\u001b[0;34m(\u001b[0m\u001b[0mkey\u001b[0m\u001b[0;34m)\u001b[0m\u001b[0;34m\u001b[0m\u001b[0;34m\u001b[0m\u001b[0m\n\u001b[1;32m   2658\u001b[0m             \u001b[0;32mexcept\u001b[0m \u001b[0mKeyError\u001b[0m\u001b[0;34m:\u001b[0m\u001b[0;34m\u001b[0m\u001b[0;34m\u001b[0m\u001b[0m\n\u001b[0;32m-> 2659\u001b[0;31m                 \u001b[0;32mreturn\u001b[0m \u001b[0mself\u001b[0m\u001b[0;34m.\u001b[0m\u001b[0m_engine\u001b[0m\u001b[0;34m.\u001b[0m\u001b[0mget_loc\u001b[0m\u001b[0;34m(\u001b[0m\u001b[0mself\u001b[0m\u001b[0;34m.\u001b[0m\u001b[0m_maybe_cast_indexer\u001b[0m\u001b[0;34m(\u001b[0m\u001b[0mkey\u001b[0m\u001b[0;34m)\u001b[0m\u001b[0;34m)\u001b[0m\u001b[0;34m\u001b[0m\u001b[0;34m\u001b[0m\u001b[0m\n\u001b[0m\u001b[1;32m   2660\u001b[0m         \u001b[0mindexer\u001b[0m \u001b[0;34m=\u001b[0m \u001b[0mself\u001b[0m\u001b[0;34m.\u001b[0m\u001b[0mget_indexer\u001b[0m\u001b[0;34m(\u001b[0m\u001b[0;34m[\u001b[0m\u001b[0mkey\u001b[0m\u001b[0;34m]\u001b[0m\u001b[0;34m,\u001b[0m \u001b[0mmethod\u001b[0m\u001b[0;34m=\u001b[0m\u001b[0mmethod\u001b[0m\u001b[0;34m,\u001b[0m \u001b[0mtolerance\u001b[0m\u001b[0;34m=\u001b[0m\u001b[0mtolerance\u001b[0m\u001b[0;34m)\u001b[0m\u001b[0;34m\u001b[0m\u001b[0;34m\u001b[0m\u001b[0m\n\u001b[1;32m   2661\u001b[0m         \u001b[0;32mif\u001b[0m \u001b[0mindexer\u001b[0m\u001b[0;34m.\u001b[0m\u001b[0mndim\u001b[0m \u001b[0;34m>\u001b[0m \u001b[0;36m1\u001b[0m \u001b[0;32mor\u001b[0m \u001b[0mindexer\u001b[0m\u001b[0;34m.\u001b[0m\u001b[0msize\u001b[0m \u001b[0;34m>\u001b[0m \u001b[0;36m1\u001b[0m\u001b[0;34m:\u001b[0m\u001b[0;34m\u001b[0m\u001b[0;34m\u001b[0m\u001b[0m\n",
      "\u001b[0;32mpandas/_libs/index.pyx\u001b[0m in \u001b[0;36mpandas._libs.index.IndexEngine.get_loc\u001b[0;34m()\u001b[0m\n",
      "\u001b[0;32mpandas/_libs/index.pyx\u001b[0m in \u001b[0;36mpandas._libs.index.IndexEngine.get_loc\u001b[0;34m()\u001b[0m\n",
      "\u001b[0;32mpandas/_libs/hashtable_class_helper.pxi\u001b[0m in \u001b[0;36mpandas._libs.hashtable.PyObjectHashTable.get_item\u001b[0;34m()\u001b[0m\n",
      "\u001b[0;32mpandas/_libs/hashtable_class_helper.pxi\u001b[0m in \u001b[0;36mpandas._libs.hashtable.PyObjectHashTable.get_item\u001b[0;34m()\u001b[0m\n",
      "\u001b[0;31mKeyError\u001b[0m: 2"
     ]
    }
   ],
   "source": [
    "df[2] = df[2].apply(lambda x: x.strip())"
   ]
  },
  {
   "cell_type": "code",
   "execution_count": 17,
   "metadata": {},
   "outputs": [],
   "source": [
    "regex = re.compile('\\'')\n",
    "for i in df:\n",
    "    if(df[i].dtype == object):\n",
    "        df[i] = df[i].astype(str)\n",
    "        df[i] = df[i].map(lambda x: re.sub(regex, '', x))\n",
    "        df[i] = df[i].apply(lambda x: x.strip())"
   ]
  },
  {
   "cell_type": "code",
   "execution_count": 18,
   "metadata": {},
   "outputs": [],
   "source": [
    "df['Column-8'] = df['Column-8'].astype(str)"
   ]
  },
  {
   "cell_type": "code",
   "execution_count": 19,
   "metadata": {},
   "outputs": [],
   "source": [
    "df['Column-8'] = df['Column-8'].map(lambda x: datetime.datetime.strptime(str(x), '%d/%m/%Y'))"
   ]
  },
  {
   "cell_type": "code",
   "execution_count": 20,
   "metadata": {},
   "outputs": [],
   "source": [
    "df['Column-8'] = df['Column-8'].map(lambda x: datetime.datetime.strftime(x, '%Y-%m-%d %H:%M:%S'))"
   ]
  },
  {
   "cell_type": "code",
   "execution_count": 14,
   "metadata": {},
   "outputs": [
    {
     "data": {
      "text/html": [
       "<div>\n",
       "<style scoped>\n",
       "    .dataframe tbody tr th:only-of-type {\n",
       "        vertical-align: middle;\n",
       "    }\n",
       "\n",
       "    .dataframe tbody tr th {\n",
       "        vertical-align: top;\n",
       "    }\n",
       "\n",
       "    .dataframe thead th {\n",
       "        text-align: right;\n",
       "    }\n",
       "</style>\n",
       "<table border=\"1\" class=\"dataframe\">\n",
       "  <thead>\n",
       "    <tr style=\"text-align: right;\">\n",
       "      <th></th>\n",
       "      <th>Column-0</th>\n",
       "      <th>Column-1</th>\n",
       "      <th>Column-2</th>\n",
       "      <th>Column-3</th>\n",
       "      <th>Column-4</th>\n",
       "      <th>Column-5</th>\n",
       "      <th>Column-6</th>\n",
       "      <th>Column-7</th>\n",
       "      <th>Column-8</th>\n",
       "      <th>Column-9</th>\n",
       "      <th>Column-10</th>\n",
       "      <th>Column-11</th>\n",
       "      <th>Column-12</th>\n",
       "      <th>Column-13</th>\n",
       "      <th>Column-14</th>\n",
       "      <th>Column-15</th>\n",
       "      <th>Column-16</th>\n",
       "      <th>Column-17</th>\n",
       "      <th>Column-18</th>\n",
       "      <th>Column-19</th>\n",
       "    </tr>\n",
       "  </thead>\n",
       "  <tbody>\n",
       "    <tr>\n",
       "      <th>0</th>\n",
       "      <td>400046</td>\n",
       "      <td>CCAvenue Ecommerce</td>\n",
       "      <td>SYNDICATE BANK</td>\n",
       "      <td>121821810560232</td>\n",
       "      <td>107413059920</td>\n",
       "      <td>821870000240</td>\n",
       "      <td>708311</td>\n",
       "      <td>295.0</td>\n",
       "      <td>2018-08-06T00:00:00Z</td>\n",
       "      <td>07:35:20</td>\n",
       "      <td>CAPTURED</td>\n",
       "      <td>https://secure.ccavenue.com/receive/201/servle...</td>\n",
       "      <td>https://secure.ccavenue.com/receive/201/servle...</td>\n",
       "      <td>400046</td>\n",
       "      <td>107413059920</td>\n",
       "      <td>9e16a94ee496b71f674939a7dee4269488ee79f4bc1373...</td>\n",
       "      <td>295.0</td>\n",
       "      <td>0.0</td>\n",
       "      <td>0.0</td>\n",
       "      <td>295.0</td>\n",
       "    </tr>\n",
       "    <tr>\n",
       "      <th>1</th>\n",
       "      <td>400046</td>\n",
       "      <td>CCAvenue Ecommerce</td>\n",
       "      <td>SYNDICATE BANK</td>\n",
       "      <td>121821888519390</td>\n",
       "      <td>107413070308</td>\n",
       "      <td>821870000305</td>\n",
       "      <td>716436</td>\n",
       "      <td>600.0</td>\n",
       "      <td>2018-08-06T00:00:00Z</td>\n",
       "      <td>08:06:01</td>\n",
       "      <td>CAPTURED</td>\n",
       "      <td>https://secure.ccavenue.com/receive/201/servle...</td>\n",
       "      <td>https://secure.ccavenue.com/receive/201/servle...</td>\n",
       "      <td>400046</td>\n",
       "      <td>107413070308</td>\n",
       "      <td>d219d752af7dedee2b9817cd6716531b66a7e4fc30fb14...</td>\n",
       "      <td>600.0</td>\n",
       "      <td>0.0</td>\n",
       "      <td>0.0</td>\n",
       "      <td>600.0</td>\n",
       "    </tr>\n",
       "    <tr>\n",
       "      <th>2</th>\n",
       "      <td>400046</td>\n",
       "      <td>CCAvenue Ecommerce</td>\n",
       "      <td>SYNDICATE BANK</td>\n",
       "      <td>121821812759745</td>\n",
       "      <td>107413084767</td>\n",
       "      <td>821870000453</td>\n",
       "      <td>732215</td>\n",
       "      <td>328.0</td>\n",
       "      <td>2018-08-06T00:00:00Z</td>\n",
       "      <td>08:48:39</td>\n",
       "      <td>CAPTURED</td>\n",
       "      <td>https://secure.ccavenue.com/receive/201/servle...</td>\n",
       "      <td>https://secure.ccavenue.com/receive/201/servle...</td>\n",
       "      <td>400046</td>\n",
       "      <td>107413084767</td>\n",
       "      <td>a3f850737cbc9065dd0ce3f4dd8b92c1d53f6afd41df40...</td>\n",
       "      <td>328.0</td>\n",
       "      <td>0.0</td>\n",
       "      <td>0.0</td>\n",
       "      <td>328.0</td>\n",
       "    </tr>\n",
       "    <tr>\n",
       "      <th>3</th>\n",
       "      <td>400046</td>\n",
       "      <td>CCAvenue Ecommerce</td>\n",
       "      <td>SYNDICATE BANK</td>\n",
       "      <td>121821812953140</td>\n",
       "      <td>107413085674</td>\n",
       "      <td>821870000472</td>\n",
       "      <td>735078</td>\n",
       "      <td>100.0</td>\n",
       "      <td>2018-08-06T00:00:00Z</td>\n",
       "      <td>08:55:06</td>\n",
       "      <td>CAPTURED</td>\n",
       "      <td>https://secure.ccavenue.com/receive/201/servle...</td>\n",
       "      <td>https://secure.ccavenue.com/receive/201/servle...</td>\n",
       "      <td>400046</td>\n",
       "      <td>107413085674</td>\n",
       "      <td>ac40a23b73749659d88cdee3b0db034490587fd3bae758...</td>\n",
       "      <td>100.0</td>\n",
       "      <td>0.0</td>\n",
       "      <td>0.0</td>\n",
       "      <td>100.0</td>\n",
       "    </tr>\n",
       "    <tr>\n",
       "      <th>4</th>\n",
       "      <td>400046</td>\n",
       "      <td>CCAvenue Ecommerce</td>\n",
       "      <td>SYNDICATE BANK</td>\n",
       "      <td>121821885775336</td>\n",
       "      <td>107413101657</td>\n",
       "      <td>821870000647</td>\n",
       "      <td>756337</td>\n",
       "      <td>399.0</td>\n",
       "      <td>2018-08-06T00:00:00Z</td>\n",
       "      <td>09:37:29</td>\n",
       "      <td>CAPTURED</td>\n",
       "      <td>https://secure.ccavenue.com/receive/201/servle...</td>\n",
       "      <td>https://secure.ccavenue.com/receive/201/servle...</td>\n",
       "      <td>400046</td>\n",
       "      <td>107413101657</td>\n",
       "      <td>7487185c818eb93093a261f867a11ecdfa366aa2e22694...</td>\n",
       "      <td>399.0</td>\n",
       "      <td>0.0</td>\n",
       "      <td>0.0</td>\n",
       "      <td>399.0</td>\n",
       "    </tr>\n",
       "  </tbody>\n",
       "</table>\n",
       "</div>"
      ],
      "text/plain": [
       "   Column-0            Column-1        Column-2         Column-3  \\\n",
       "0    400046  CCAvenue Ecommerce  SYNDICATE BANK  121821810560232   \n",
       "1    400046  CCAvenue Ecommerce  SYNDICATE BANK  121821888519390   \n",
       "2    400046  CCAvenue Ecommerce  SYNDICATE BANK  121821812759745   \n",
       "3    400046  CCAvenue Ecommerce  SYNDICATE BANK  121821812953140   \n",
       "4    400046  CCAvenue Ecommerce  SYNDICATE BANK  121821885775336   \n",
       "\n",
       "       Column-4      Column-5  Column-6  Column-7              Column-8  \\\n",
       "0  107413059920  821870000240    708311     295.0  2018-08-06T00:00:00Z   \n",
       "1  107413070308  821870000305    716436     600.0  2018-08-06T00:00:00Z   \n",
       "2  107413084767  821870000453    732215     328.0  2018-08-06T00:00:00Z   \n",
       "3  107413085674  821870000472    735078     100.0  2018-08-06T00:00:00Z   \n",
       "4  107413101657  821870000647    756337     399.0  2018-08-06T00:00:00Z   \n",
       "\n",
       "   Column-9 Column-10                                          Column-11  \\\n",
       "0  07:35:20  CAPTURED  https://secure.ccavenue.com/receive/201/servle...   \n",
       "1  08:06:01  CAPTURED  https://secure.ccavenue.com/receive/201/servle...   \n",
       "2  08:48:39  CAPTURED  https://secure.ccavenue.com/receive/201/servle...   \n",
       "3  08:55:06  CAPTURED  https://secure.ccavenue.com/receive/201/servle...   \n",
       "4  09:37:29  CAPTURED  https://secure.ccavenue.com/receive/201/servle...   \n",
       "\n",
       "                                           Column-12  Column-13     Column-14  \\\n",
       "0  https://secure.ccavenue.com/receive/201/servle...     400046  107413059920   \n",
       "1  https://secure.ccavenue.com/receive/201/servle...     400046  107413070308   \n",
       "2  https://secure.ccavenue.com/receive/201/servle...     400046  107413084767   \n",
       "3  https://secure.ccavenue.com/receive/201/servle...     400046  107413085674   \n",
       "4  https://secure.ccavenue.com/receive/201/servle...     400046  107413101657   \n",
       "\n",
       "                                           Column-15  Column-16  Column-17  \\\n",
       "0  9e16a94ee496b71f674939a7dee4269488ee79f4bc1373...      295.0        0.0   \n",
       "1  d219d752af7dedee2b9817cd6716531b66a7e4fc30fb14...      600.0        0.0   \n",
       "2  a3f850737cbc9065dd0ce3f4dd8b92c1d53f6afd41df40...      328.0        0.0   \n",
       "3  ac40a23b73749659d88cdee3b0db034490587fd3bae758...      100.0        0.0   \n",
       "4  7487185c818eb93093a261f867a11ecdfa366aa2e22694...      399.0        0.0   \n",
       "\n",
       "   Column-18  Column-19  \n",
       "0        0.0      295.0  \n",
       "1        0.0      600.0  \n",
       "2        0.0      328.0  \n",
       "3        0.0      100.0  \n",
       "4        0.0      399.0  "
      ]
     },
     "execution_count": 14,
     "metadata": {},
     "output_type": "execute_result"
    }
   ],
   "source": [
    "df.head()"
   ]
  },
  {
   "cell_type": "code",
   "execution_count": 11,
   "metadata": {},
   "outputs": [
    {
     "ename": "AttributeError",
     "evalue": "'str' object has no attribute 'dtype'",
     "output_type": "error",
     "traceback": [
      "\u001b[0;31m---------------------------------------------------------------------------\u001b[0m",
      "\u001b[0;31mAttributeError\u001b[0m                            Traceback (most recent call last)",
      "\u001b[0;32m<ipython-input-11-e85cf21ec2df>\u001b[0m in \u001b[0;36m<module>\u001b[0;34m\u001b[0m\n\u001b[0;32m----> 1\u001b[0;31m \u001b[0mdf\u001b[0m\u001b[0;34m[\u001b[0m\u001b[0;36m6\u001b[0m\u001b[0;34m]\u001b[0m\u001b[0;34m[\u001b[0m\u001b[0;36m0\u001b[0m\u001b[0;34m]\u001b[0m\u001b[0;34m.\u001b[0m\u001b[0mdtype\u001b[0m\u001b[0;34m\u001b[0m\u001b[0;34m\u001b[0m\u001b[0m\n\u001b[0m",
      "\u001b[0;31mAttributeError\u001b[0m: 'str' object has no attribute 'dtype'"
     ]
    }
   ],
   "source": [
    "df[6][0].dtype"
   ]
  },
  {
   "cell_type": "code",
   "execution_count": 97,
   "metadata": {},
   "outputs": [],
   "source": [
    "x = ['a', 'b', 'c']\n",
    "y = ['b', 'a']"
   ]
  },
  {
   "cell_type": "code",
   "execution_count": 98,
   "metadata": {},
   "outputs": [
    {
     "data": {
      "text/plain": [
       "False"
      ]
     },
     "execution_count": 98,
     "metadata": {},
     "output_type": "execute_result"
    }
   ],
   "source": [
    "import collections\n",
    "collections.Counter(x) == collections.Counter(y)"
   ]
  },
  {
   "cell_type": "code",
   "execution_count": 114,
   "metadata": {},
   "outputs": [],
   "source": [
    "# List of string \n",
    "list1 = ['Hi' ,  'hello', 'at', 'this', 'there', 'from']\n",
    " \n",
    "# List of string\n",
    "list2 = ['there' , 'hello', 'Hi', 'from']"
   ]
  },
  {
   "cell_type": "code",
   "execution_count": 115,
   "metadata": {},
   "outputs": [
    {
     "data": {
      "text/plain": [
       "True"
      ]
     },
     "execution_count": 115,
     "metadata": {},
     "output_type": "execute_result"
    }
   ],
   "source": [
    "all(elem in list1  for elem in list2)"
   ]
  },
  {
   "cell_type": "code",
   "execution_count": 3,
   "metadata": {},
   "outputs": [],
   "source": [
    "df = pd.DataFrame(\n",
    "        columns=['date', 'client', 'amount', 'transID', 'serialNumber'])\n"
   ]
  },
  {
   "cell_type": "code",
   "execution_count": 4,
   "metadata": {},
   "outputs": [
    {
     "data": {
      "text/plain": [
       "True"
      ]
     },
     "execution_count": 4,
     "metadata": {},
     "output_type": "execute_result"
    }
   ],
   "source": [
    "df.empty"
   ]
  },
  {
   "cell_type": "code",
   "execution_count": 5,
   "metadata": {},
   "outputs": [
    {
     "data": {
      "text/plain": [
       "0"
      ]
     },
     "execution_count": 5,
     "metadata": {},
     "output_type": "execute_result"
    }
   ],
   "source": [
    "df.shape[0]"
   ]
  },
  {
   "cell_type": "code",
   "execution_count": 16,
   "metadata": {},
   "outputs": [],
   "source": [
    "df = pd.read_csv('FSS_DB_NOCVV.csv', sep=',', header=0,\n",
    "                                 engine='python', warn_bad_lines=True, error_bad_lines=False)"
   ]
  },
  {
   "cell_type": "code",
   "execution_count": 9,
   "metadata": {},
   "outputs": [
    {
     "data": {
      "text/html": [
       "<div>\n",
       "<style scoped>\n",
       "    .dataframe tbody tr th:only-of-type {\n",
       "        vertical-align: middle;\n",
       "    }\n",
       "\n",
       "    .dataframe tbody tr th {\n",
       "        vertical-align: top;\n",
       "    }\n",
       "\n",
       "    .dataframe thead th {\n",
       "        text-align: right;\n",
       "    }\n",
       "</style>\n",
       "<table border=\"1\" class=\"dataframe\">\n",
       "  <thead>\n",
       "    <tr style=\"text-align: right;\">\n",
       "      <th></th>\n",
       "      <th>Column-0</th>\n",
       "      <th>Column-1</th>\n",
       "      <th>Column-2</th>\n",
       "      <th>Column-3</th>\n",
       "      <th>Column-4</th>\n",
       "      <th>Column-5</th>\n",
       "      <th>Column-6</th>\n",
       "      <th>Column-7</th>\n",
       "      <th>Column-8</th>\n",
       "      <th>Column-9</th>\n",
       "      <th>Column-10</th>\n",
       "      <th>Column-11</th>\n",
       "      <th>Column-12</th>\n",
       "      <th>Column-13</th>\n",
       "      <th>Column-14</th>\n",
       "      <th>Column-15</th>\n",
       "      <th>Column-16</th>\n",
       "      <th>Column-17</th>\n",
       "      <th>Column-18</th>\n",
       "      <th>Column-19</th>\n",
       "    </tr>\n",
       "  </thead>\n",
       "  <tbody>\n",
       "    <tr>\n",
       "      <th>0</th>\n",
       "      <td>400046</td>\n",
       "      <td>CCAvenue Ecommerce</td>\n",
       "      <td>SYNDICATE BANK</td>\n",
       "      <td>121821810560232</td>\n",
       "      <td>107413059920</td>\n",
       "      <td>821870000240</td>\n",
       "      <td>708311</td>\n",
       "      <td>295.0</td>\n",
       "      <td>06/08/2018</td>\n",
       "      <td>07:35:20</td>\n",
       "      <td>CAPTURED</td>\n",
       "      <td>https://secure.ccavenue.com/receive/201/servle...</td>\n",
       "      <td>https://secure.ccavenue.com/receive/201/servle...</td>\n",
       "      <td>400046</td>\n",
       "      <td>107413059920</td>\n",
       "      <td>9e16a94ee496b71f674939a7dee4269488ee79f4bc1373...</td>\n",
       "      <td>295.0</td>\n",
       "      <td>0.0</td>\n",
       "      <td>0.0</td>\n",
       "      <td>295.0</td>\n",
       "    </tr>\n",
       "    <tr>\n",
       "      <th>1</th>\n",
       "      <td>400046</td>\n",
       "      <td>CCAvenue Ecommerce</td>\n",
       "      <td>SYNDICATE BANK</td>\n",
       "      <td>121821888519390</td>\n",
       "      <td>107413070308</td>\n",
       "      <td>821870000305</td>\n",
       "      <td>716436</td>\n",
       "      <td>600.0</td>\n",
       "      <td>06/08/2018</td>\n",
       "      <td>08:06:01</td>\n",
       "      <td>CAPTURED</td>\n",
       "      <td>https://secure.ccavenue.com/receive/201/servle...</td>\n",
       "      <td>https://secure.ccavenue.com/receive/201/servle...</td>\n",
       "      <td>400046</td>\n",
       "      <td>107413070308</td>\n",
       "      <td>d219d752af7dedee2b9817cd6716531b66a7e4fc30fb14...</td>\n",
       "      <td>600.0</td>\n",
       "      <td>0.0</td>\n",
       "      <td>0.0</td>\n",
       "      <td>600.0</td>\n",
       "    </tr>\n",
       "    <tr>\n",
       "      <th>2</th>\n",
       "      <td>400046</td>\n",
       "      <td>CCAvenue Ecommerce</td>\n",
       "      <td>SYNDICATE BANK</td>\n",
       "      <td>121821812759745</td>\n",
       "      <td>107413084767</td>\n",
       "      <td>821870000453</td>\n",
       "      <td>732215</td>\n",
       "      <td>328.0</td>\n",
       "      <td>06/08/2018</td>\n",
       "      <td>08:48:39</td>\n",
       "      <td>CAPTURED</td>\n",
       "      <td>https://secure.ccavenue.com/receive/201/servle...</td>\n",
       "      <td>https://secure.ccavenue.com/receive/201/servle...</td>\n",
       "      <td>400046</td>\n",
       "      <td>107413084767</td>\n",
       "      <td>a3f850737cbc9065dd0ce3f4dd8b92c1d53f6afd41df40...</td>\n",
       "      <td>328.0</td>\n",
       "      <td>0.0</td>\n",
       "      <td>0.0</td>\n",
       "      <td>328.0</td>\n",
       "    </tr>\n",
       "    <tr>\n",
       "      <th>3</th>\n",
       "      <td>400046</td>\n",
       "      <td>CCAvenue Ecommerce</td>\n",
       "      <td>SYNDICATE BANK</td>\n",
       "      <td>121821812953140</td>\n",
       "      <td>107413085674</td>\n",
       "      <td>821870000472</td>\n",
       "      <td>735078</td>\n",
       "      <td>100.0</td>\n",
       "      <td>06/08/2018</td>\n",
       "      <td>08:55:06</td>\n",
       "      <td>CAPTURED</td>\n",
       "      <td>https://secure.ccavenue.com/receive/201/servle...</td>\n",
       "      <td>https://secure.ccavenue.com/receive/201/servle...</td>\n",
       "      <td>400046</td>\n",
       "      <td>107413085674</td>\n",
       "      <td>ac40a23b73749659d88cdee3b0db034490587fd3bae758...</td>\n",
       "      <td>100.0</td>\n",
       "      <td>0.0</td>\n",
       "      <td>0.0</td>\n",
       "      <td>100.0</td>\n",
       "    </tr>\n",
       "    <tr>\n",
       "      <th>4</th>\n",
       "      <td>400046</td>\n",
       "      <td>CCAvenue Ecommerce</td>\n",
       "      <td>SYNDICATE BANK</td>\n",
       "      <td>121821885775336</td>\n",
       "      <td>107413101657</td>\n",
       "      <td>821870000647</td>\n",
       "      <td>756337</td>\n",
       "      <td>399.0</td>\n",
       "      <td>06/08/2018</td>\n",
       "      <td>09:37:29</td>\n",
       "      <td>CAPTURED</td>\n",
       "      <td>https://secure.ccavenue.com/receive/201/servle...</td>\n",
       "      <td>https://secure.ccavenue.com/receive/201/servle...</td>\n",
       "      <td>400046</td>\n",
       "      <td>107413101657</td>\n",
       "      <td>7487185c818eb93093a261f867a11ecdfa366aa2e22694...</td>\n",
       "      <td>399.0</td>\n",
       "      <td>0.0</td>\n",
       "      <td>0.0</td>\n",
       "      <td>399.0</td>\n",
       "    </tr>\n",
       "  </tbody>\n",
       "</table>\n",
       "</div>"
      ],
      "text/plain": [
       "   Column-0            Column-1        Column-2         Column-3  \\\n",
       "0    400046  CCAvenue Ecommerce  SYNDICATE BANK  121821810560232   \n",
       "1    400046  CCAvenue Ecommerce  SYNDICATE BANK  121821888519390   \n",
       "2    400046  CCAvenue Ecommerce  SYNDICATE BANK  121821812759745   \n",
       "3    400046  CCAvenue Ecommerce  SYNDICATE BANK  121821812953140   \n",
       "4    400046  CCAvenue Ecommerce  SYNDICATE BANK  121821885775336   \n",
       "\n",
       "       Column-4      Column-5  Column-6  Column-7    Column-8  Column-9  \\\n",
       "0  107413059920  821870000240    708311     295.0  06/08/2018  07:35:20   \n",
       "1  107413070308  821870000305    716436     600.0  06/08/2018  08:06:01   \n",
       "2  107413084767  821870000453    732215     328.0  06/08/2018  08:48:39   \n",
       "3  107413085674  821870000472    735078     100.0  06/08/2018  08:55:06   \n",
       "4  107413101657  821870000647    756337     399.0  06/08/2018  09:37:29   \n",
       "\n",
       "  Column-10                                          Column-11  \\\n",
       "0  CAPTURED  https://secure.ccavenue.com/receive/201/servle...   \n",
       "1  CAPTURED  https://secure.ccavenue.com/receive/201/servle...   \n",
       "2  CAPTURED  https://secure.ccavenue.com/receive/201/servle...   \n",
       "3  CAPTURED  https://secure.ccavenue.com/receive/201/servle...   \n",
       "4  CAPTURED  https://secure.ccavenue.com/receive/201/servle...   \n",
       "\n",
       "                                           Column-12  Column-13     Column-14  \\\n",
       "0  https://secure.ccavenue.com/receive/201/servle...     400046  107413059920   \n",
       "1  https://secure.ccavenue.com/receive/201/servle...     400046  107413070308   \n",
       "2  https://secure.ccavenue.com/receive/201/servle...     400046  107413084767   \n",
       "3  https://secure.ccavenue.com/receive/201/servle...     400046  107413085674   \n",
       "4  https://secure.ccavenue.com/receive/201/servle...     400046  107413101657   \n",
       "\n",
       "                                           Column-15  Column-16  Column-17  \\\n",
       "0  9e16a94ee496b71f674939a7dee4269488ee79f4bc1373...      295.0        0.0   \n",
       "1  d219d752af7dedee2b9817cd6716531b66a7e4fc30fb14...      600.0        0.0   \n",
       "2  a3f850737cbc9065dd0ce3f4dd8b92c1d53f6afd41df40...      328.0        0.0   \n",
       "3  ac40a23b73749659d88cdee3b0db034490587fd3bae758...      100.0        0.0   \n",
       "4  7487185c818eb93093a261f867a11ecdfa366aa2e22694...      399.0        0.0   \n",
       "\n",
       "   Column-18  Column-19  \n",
       "0        0.0      295.0  \n",
       "1        0.0      600.0  \n",
       "2        0.0      328.0  \n",
       "3        0.0      100.0  \n",
       "4        0.0      399.0  "
      ]
     },
     "execution_count": 9,
     "metadata": {},
     "output_type": "execute_result"
    }
   ],
   "source": [
    "df.head()"
   ]
  },
  {
   "cell_type": "code",
   "execution_count": null,
   "metadata": {},
   "outputs": [],
   "source": []
  }
 ],
 "metadata": {
  "kernelspec": {
   "display_name": "Python 3",
   "language": "python",
   "name": "python3"
  },
  "language_info": {
   "codemirror_mode": {
    "name": "ipython",
    "version": 3
   },
   "file_extension": ".py",
   "mimetype": "text/x-python",
   "name": "python",
   "nbconvert_exporter": "python",
   "pygments_lexer": "ipython3",
   "version": "3.6.8"
  }
 },
 "nbformat": 4,
 "nbformat_minor": 2
}
