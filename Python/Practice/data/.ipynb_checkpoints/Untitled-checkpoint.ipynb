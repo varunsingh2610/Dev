{
 "cells": [
  {
   "cell_type": "code",
   "execution_count": 75,
   "metadata": {},
   "outputs": [],
   "source": [
    "import pandas as pd\n",
    "import re\n",
    "import dateutil.parser as parser\n",
    "from datetime import datetime"
   ]
  },
  {
   "cell_type": "code",
   "execution_count": 52,
   "metadata": {},
   "outputs": [],
   "source": [
    "df = pd.read_excel(\"CANB_NBK.xls\")"
   ]
  },
  {
   "cell_type": "code",
   "execution_count": 53,
   "metadata": {},
   "outputs": [
    {
     "data": {
      "text/html": [
       "<div>\n",
       "<style scoped>\n",
       "    .dataframe tbody tr th:only-of-type {\n",
       "        vertical-align: middle;\n",
       "    }\n",
       "\n",
       "    .dataframe tbody tr th {\n",
       "        vertical-align: top;\n",
       "    }\n",
       "\n",
       "    .dataframe thead th {\n",
       "        text-align: right;\n",
       "    }\n",
       "</style>\n",
       "<table border=\"1\" class=\"dataframe\">\n",
       "  <thead>\n",
       "    <tr style=\"text-align: right;\">\n",
       "      <th></th>\n",
       "      <th>Column-0</th>\n",
       "      <th>Column-1</th>\n",
       "      <th>Column-2</th>\n",
       "      <th>Column-3</th>\n",
       "      <th>Column-4</th>\n",
       "      <th>Column-5</th>\n",
       "    </tr>\n",
       "  </thead>\n",
       "  <tbody>\n",
       "    <tr>\n",
       "      <th>0</th>\n",
       "      <td>140455305593619</td>\n",
       "      <td>2724129001844</td>\n",
       "      <td>2018-05-08 00:55:14</td>\n",
       "      <td>107412559543</td>\n",
       "      <td>CCAVENUEF</td>\n",
       "      <td>52883.0</td>\n",
       "    </tr>\n",
       "    <tr>\n",
       "      <th>1</th>\n",
       "      <td>165205305591198</td>\n",
       "      <td>2759101053400</td>\n",
       "      <td>2018-05-08 00:41:52</td>\n",
       "      <td>107412556577</td>\n",
       "      <td>CCAVENUE</td>\n",
       "      <td>499.0</td>\n",
       "    </tr>\n",
       "    <tr>\n",
       "      <th>2</th>\n",
       "      <td>192089305597534</td>\n",
       "      <td>4549103000009</td>\n",
       "      <td>2018-05-08 01:33:39</td>\n",
       "      <td>107412565690</td>\n",
       "      <td>CCAVENUEF</td>\n",
       "      <td>85448.0</td>\n",
       "    </tr>\n",
       "    <tr>\n",
       "      <th>3</th>\n",
       "      <td>206651305614769</td>\n",
       "      <td>1217101107681</td>\n",
       "      <td>2018-05-08 07:08:42</td>\n",
       "      <td>107412588495</td>\n",
       "      <td>CCAVENUE</td>\n",
       "      <td>99.0</td>\n",
       "    </tr>\n",
       "    <tr>\n",
       "      <th>4</th>\n",
       "      <td>212974305615863</td>\n",
       "      <td>237201001822</td>\n",
       "      <td>2018-05-08 07:12:21</td>\n",
       "      <td>107412589202</td>\n",
       "      <td>CCAVENUE</td>\n",
       "      <td>995.0</td>\n",
       "    </tr>\n",
       "  </tbody>\n",
       "</table>\n",
       "</div>"
      ],
      "text/plain": [
       "          Column-0       Column-1            Column-2      Column-3  \\\n",
       "0  140455305593619  2724129001844 2018-05-08 00:55:14  107412559543   \n",
       "1  165205305591198  2759101053400 2018-05-08 00:41:52  107412556577   \n",
       "2  192089305597534  4549103000009 2018-05-08 01:33:39  107412565690   \n",
       "3  206651305614769  1217101107681 2018-05-08 07:08:42  107412588495   \n",
       "4  212974305615863   237201001822 2018-05-08 07:12:21  107412589202   \n",
       "\n",
       "    Column-4  Column-5  \n",
       "0  CCAVENUEF   52883.0  \n",
       "1   CCAVENUE     499.0  \n",
       "2  CCAVENUEF   85448.0  \n",
       "3   CCAVENUE      99.0  \n",
       "4   CCAVENUE     995.0  "
      ]
     },
     "execution_count": 53,
     "metadata": {},
     "output_type": "execute_result"
    }
   ],
   "source": [
    "df.head()"
   ]
  },
  {
   "cell_type": "code",
   "execution_count": 54,
   "metadata": {},
   "outputs": [
    {
     "data": {
      "text/plain": [
       "dtype('<M8[ns]')"
      ]
     },
     "execution_count": 54,
     "metadata": {},
     "output_type": "execute_result"
    }
   ],
   "source": [
    "df['Column-2'].dtype"
   ]
  },
  {
   "cell_type": "code",
   "execution_count": 11,
   "metadata": {},
   "outputs": [
    {
     "name": "stdout",
     "output_type": "stream",
     "text": [
      "int64\n",
      "int64\n",
      "datetime64[ns]\n",
      "object\n",
      "object\n",
      "float64\n"
     ]
    }
   ],
   "source": [
    "regex = re.compile('\\'')\n",
    "for i in df:\n",
    "    print(df[i].dtype)\n",
    "    if(df[i].dtype == object):\n",
    "            df[i] = df[i].astype(str)\n",
    "            df[i] = df[i].map(lambda x: re.sub(regex, '', x))"
   ]
  },
  {
   "cell_type": "code",
   "execution_count": 12,
   "metadata": {},
   "outputs": [
    {
     "data": {
      "text/html": [
       "<div>\n",
       "<style scoped>\n",
       "    .dataframe tbody tr th:only-of-type {\n",
       "        vertical-align: middle;\n",
       "    }\n",
       "\n",
       "    .dataframe tbody tr th {\n",
       "        vertical-align: top;\n",
       "    }\n",
       "\n",
       "    .dataframe thead th {\n",
       "        text-align: right;\n",
       "    }\n",
       "</style>\n",
       "<table border=\"1\" class=\"dataframe\">\n",
       "  <thead>\n",
       "    <tr style=\"text-align: right;\">\n",
       "      <th></th>\n",
       "      <th>Column-0</th>\n",
       "      <th>Column-1</th>\n",
       "      <th>Column-2</th>\n",
       "      <th>Column-3</th>\n",
       "      <th>Column-4</th>\n",
       "      <th>Column-5</th>\n",
       "    </tr>\n",
       "  </thead>\n",
       "  <tbody>\n",
       "    <tr>\n",
       "      <th>0</th>\n",
       "      <td>140455305593619</td>\n",
       "      <td>2724129001844</td>\n",
       "      <td>2018-05-08 00:55:14</td>\n",
       "      <td>107412559543</td>\n",
       "      <td>CCAVENUEF</td>\n",
       "      <td>52883.0</td>\n",
       "    </tr>\n",
       "    <tr>\n",
       "      <th>1</th>\n",
       "      <td>165205305591198</td>\n",
       "      <td>2759101053400</td>\n",
       "      <td>2018-05-08 00:41:52</td>\n",
       "      <td>107412556577</td>\n",
       "      <td>CCAVENUE</td>\n",
       "      <td>499.0</td>\n",
       "    </tr>\n",
       "    <tr>\n",
       "      <th>2</th>\n",
       "      <td>192089305597534</td>\n",
       "      <td>4549103000009</td>\n",
       "      <td>2018-05-08 01:33:39</td>\n",
       "      <td>107412565690</td>\n",
       "      <td>CCAVENUEF</td>\n",
       "      <td>85448.0</td>\n",
       "    </tr>\n",
       "    <tr>\n",
       "      <th>3</th>\n",
       "      <td>206651305614769</td>\n",
       "      <td>1217101107681</td>\n",
       "      <td>2018-05-08 07:08:42</td>\n",
       "      <td>107412588495</td>\n",
       "      <td>CCAVENUE</td>\n",
       "      <td>99.0</td>\n",
       "    </tr>\n",
       "    <tr>\n",
       "      <th>4</th>\n",
       "      <td>212974305615863</td>\n",
       "      <td>237201001822</td>\n",
       "      <td>2018-05-08 07:12:21</td>\n",
       "      <td>107412589202</td>\n",
       "      <td>CCAVENUE</td>\n",
       "      <td>995.0</td>\n",
       "    </tr>\n",
       "  </tbody>\n",
       "</table>\n",
       "</div>"
      ],
      "text/plain": [
       "          Column-0       Column-1            Column-2      Column-3  \\\n",
       "0  140455305593619  2724129001844 2018-05-08 00:55:14  107412559543   \n",
       "1  165205305591198  2759101053400 2018-05-08 00:41:52  107412556577   \n",
       "2  192089305597534  4549103000009 2018-05-08 01:33:39  107412565690   \n",
       "3  206651305614769  1217101107681 2018-05-08 07:08:42  107412588495   \n",
       "4  212974305615863   237201001822 2018-05-08 07:12:21  107412589202   \n",
       "\n",
       "    Column-4  Column-5  \n",
       "0  CCAVENUEF   52883.0  \n",
       "1   CCAVENUE     499.0  \n",
       "2  CCAVENUEF   85448.0  \n",
       "3   CCAVENUE      99.0  \n",
       "4   CCAVENUE     995.0  "
      ]
     },
     "execution_count": 12,
     "metadata": {},
     "output_type": "execute_result"
    }
   ],
   "source": [
    "df.head()"
   ]
  },
  {
   "cell_type": "code",
   "execution_count": 89,
   "metadata": {},
   "outputs": [],
   "source": [
    "gte, lte = \"07/05/2018 - 09/05/2018\".split(\" - \")"
   ]
  },
  {
   "cell_type": "code",
   "execution_count": 90,
   "metadata": {},
   "outputs": [
    {
     "data": {
      "text/plain": [
       "'07/05/2018'"
      ]
     },
     "execution_count": 90,
     "metadata": {},
     "output_type": "execute_result"
    }
   ],
   "source": [
    "gte"
   ]
  },
  {
   "cell_type": "code",
   "execution_count": 91,
   "metadata": {},
   "outputs": [],
   "source": [
    "gte = datetime.strptime(gte, '%d/%m/%Y')\n",
    "lte = datetime.strptime(lte, '%d/%m/%Y')"
   ]
  },
  {
   "cell_type": "code",
   "execution_count": 92,
   "metadata": {},
   "outputs": [
    {
     "data": {
      "text/plain": [
       "'2018-05-07T00:00:00'"
      ]
     },
     "execution_count": 92,
     "metadata": {},
     "output_type": "execute_result"
    }
   ],
   "source": [
    "gte.isoformat()"
   ]
  },
  {
   "cell_type": "code",
   "execution_count": 93,
   "metadata": {},
   "outputs": [
    {
     "data": {
      "text/plain": [
       "'2018-05-09T00:00:00'"
      ]
     },
     "execution_count": 93,
     "metadata": {},
     "output_type": "execute_result"
    }
   ],
   "source": [
    "lte.isoformat()"
   ]
  },
  {
   "cell_type": "code",
   "execution_count": 50,
   "metadata": {},
   "outputs": [],
   "source": [
    "df['Column-2'] = pd.to_datetime(df['Column-2'], format='%y%m%d%H%M', errors='ignore')"
   ]
  },
  {
   "cell_type": "code",
   "execution_count": 51,
   "metadata": {},
   "outputs": [
    {
     "data": {
      "text/html": [
       "<div>\n",
       "<style scoped>\n",
       "    .dataframe tbody tr th:only-of-type {\n",
       "        vertical-align: middle;\n",
       "    }\n",
       "\n",
       "    .dataframe tbody tr th {\n",
       "        vertical-align: top;\n",
       "    }\n",
       "\n",
       "    .dataframe thead th {\n",
       "        text-align: right;\n",
       "    }\n",
       "</style>\n",
       "<table border=\"1\" class=\"dataframe\">\n",
       "  <thead>\n",
       "    <tr style=\"text-align: right;\">\n",
       "      <th></th>\n",
       "      <th>Column-0</th>\n",
       "      <th>Column-1</th>\n",
       "      <th>Column-2</th>\n",
       "      <th>Column-3</th>\n",
       "      <th>Column-4</th>\n",
       "      <th>Column-5</th>\n",
       "    </tr>\n",
       "  </thead>\n",
       "  <tbody>\n",
       "    <tr>\n",
       "      <th>0</th>\n",
       "      <td>140455305593619</td>\n",
       "      <td>2724129001844</td>\n",
       "      <td>2018-05-08 00:55:14</td>\n",
       "      <td>107412559543</td>\n",
       "      <td>CCAVENUEF</td>\n",
       "      <td>52883.0</td>\n",
       "    </tr>\n",
       "    <tr>\n",
       "      <th>1</th>\n",
       "      <td>165205305591198</td>\n",
       "      <td>2759101053400</td>\n",
       "      <td>2018-05-08 00:41:52</td>\n",
       "      <td>107412556577</td>\n",
       "      <td>CCAVENUE</td>\n",
       "      <td>499.0</td>\n",
       "    </tr>\n",
       "    <tr>\n",
       "      <th>2</th>\n",
       "      <td>192089305597534</td>\n",
       "      <td>4549103000009</td>\n",
       "      <td>2018-05-08 01:33:39</td>\n",
       "      <td>107412565690</td>\n",
       "      <td>CCAVENUEF</td>\n",
       "      <td>85448.0</td>\n",
       "    </tr>\n",
       "    <tr>\n",
       "      <th>3</th>\n",
       "      <td>206651305614769</td>\n",
       "      <td>1217101107681</td>\n",
       "      <td>2018-05-08 07:08:42</td>\n",
       "      <td>107412588495</td>\n",
       "      <td>CCAVENUE</td>\n",
       "      <td>99.0</td>\n",
       "    </tr>\n",
       "    <tr>\n",
       "      <th>4</th>\n",
       "      <td>212974305615863</td>\n",
       "      <td>237201001822</td>\n",
       "      <td>2018-05-08 07:12:21</td>\n",
       "      <td>107412589202</td>\n",
       "      <td>CCAVENUE</td>\n",
       "      <td>995.0</td>\n",
       "    </tr>\n",
       "  </tbody>\n",
       "</table>\n",
       "</div>"
      ],
      "text/plain": [
       "          Column-0       Column-1            Column-2      Column-3  \\\n",
       "0  140455305593619  2724129001844 2018-05-08 00:55:14  107412559543   \n",
       "1  165205305591198  2759101053400 2018-05-08 00:41:52  107412556577   \n",
       "2  192089305597534  4549103000009 2018-05-08 01:33:39  107412565690   \n",
       "3  206651305614769  1217101107681 2018-05-08 07:08:42  107412588495   \n",
       "4  212974305615863   237201001822 2018-05-08 07:12:21  107412589202   \n",
       "\n",
       "    Column-4  Column-5  \n",
       "0  CCAVENUEF   52883.0  \n",
       "1   CCAVENUE     499.0  \n",
       "2  CCAVENUEF   85448.0  \n",
       "3   CCAVENUE      99.0  \n",
       "4   CCAVENUE     995.0  "
      ]
     },
     "execution_count": 51,
     "metadata": {},
     "output_type": "execute_result"
    }
   ],
   "source": [
    " df.head()"
   ]
  },
  {
   "cell_type": "code",
   "execution_count": null,
   "metadata": {},
   "outputs": [],
   "source": [
    "regex = r'^(-?(?:[1-9][0-9]*)?[0-9]{4})-(1[0-2]|0[1-9])-(3[01]|0[1-9]|[12][0-9])T(2[0-3]|[01][0-9]):([0-5][0-9]):([0-5][0-9])(\\.[0-9]+)?(Z|[+-](?:2[0-3]|[01][0-9]):[0-5][0-9])?$'\n",
    "checkISO = re.compile(regex).match\n",
    "for i in df[Column-2]:\n",
    "    if checkISO(i):\n",
    "        print(\"True\")"
   ]
  }
 ],
 "metadata": {
  "kernelspec": {
   "display_name": "Python 3",
   "language": "python",
   "name": "python3"
  },
  "language_info": {
   "codemirror_mode": {
    "name": "ipython",
    "version": 3
   },
   "file_extension": ".py",
   "mimetype": "text/x-python",
   "name": "python",
   "nbconvert_exporter": "python",
   "pygments_lexer": "ipython3",
   "version": "3.6.7"
  }
 },
 "nbformat": 4,
 "nbformat_minor": 2
}
