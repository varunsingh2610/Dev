{
 "cells": [
  {
   "cell_type": "code",
   "execution_count": 12,
   "metadata": {},
   "outputs": [
    {
     "name": "stdout",
     "output_type": "stream",
     "text": [
      "8\n",
      "11 12 1 2 13 14 3 4\n",
      "4\n"
     ]
    }
   ],
   "source": [
    "count = int(input())\n",
    "array = input()\n",
    "array = array.split()\n",
    "intArray = [int(i) for i in array]\n",
    "\n",
    "def check(count):\n",
    "    for i in range(1, count):\n",
    "        if intArray[i-1] > intArray[i]:\n",
    "            return False\n",
    "    return True\n",
    "\n",
    "if(not check()):\n",
    "    count = len(intArray)//2\n",
    "    check(count)\n",
    "print(count)\n"
   ]
  },
  {
   "cell_type": "code",
   "execution_count": null,
   "metadata": {},
   "outputs": [],
   "source": []
  },
  {
   "cell_type": "code",
   "execution_count": 12,
   "metadata": {},
   "outputs": [
    {
     "name": "stdout",
     "output_type": "stream",
     "text": [
      "(0, 'eat')\n",
      "(1, 'sleep')\n",
      "(2, 'repeat')\n",
      "\n",
      "0 eat\n",
      "1 sleep\n",
      "2 repeat\n"
     ]
    }
   ],
   "source": [
    "# Python program to illustrate \n",
    "# enumerate function in loops \n",
    "l1 = [\"eat\",\"sleep\",\"repeat\"] \n",
    "\n",
    "# printing the tuples in object directly \n",
    "for ele in enumerate(l1): \n",
    "    print (ele )\n",
    "print()\n",
    "# changing index and printing separately \n",
    "for count,ele in enumerate(l1): \n",
    "    print (count,ele) \n"
   ]
  },
  {
   "cell_type": "code",
   "execution_count": null,
   "metadata": {},
   "outputs": [],
   "source": []
  }
 ],
 "metadata": {
  "kernelspec": {
   "display_name": "Python 3",
   "language": "python",
   "name": "python3"
  },
  "language_info": {
   "codemirror_mode": {
    "name": "ipython",
    "version": 3
   },
   "file_extension": ".py",
   "mimetype": "text/x-python",
   "name": "python",
   "nbconvert_exporter": "python",
   "pygments_lexer": "ipython3",
   "version": "3.6.8"
  }
 },
 "nbformat": 4,
 "nbformat_minor": 2
}
