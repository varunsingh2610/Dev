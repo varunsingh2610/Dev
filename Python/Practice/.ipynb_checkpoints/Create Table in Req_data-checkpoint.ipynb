{
 "cells": [
  {
   "cell_type": "code",
   "execution_count": 4,
   "metadata": {},
   "outputs": [],
   "source": [
    "from sqlalchemy.ext.automap import automap_base\n",
    "from sqlalchemy.orm import Session\n",
    "import pymssql\n",
    "from sqlalchemy import MetaData, create_engine\n",
    "from sqlalchemy.orm import Session\n",
    "from sqlalchemy import (MetaData, Table, Column, Integer, Numeric, String,\n",
    "                        DateTime, ForeignKey, create_engine, func)\n",
    "from sqlalchemy import select\n",
    "from datetime import datetime\n",
    "import pandas as pd\n",
    "from pymongo import MongoClient\n",
    "from pprint import pprint\n",
    "import logging\n",
    "import os\n",
    "import sys"
   ]
  },
  {
   "cell_type": "code",
   "execution_count": 5,
   "metadata": {},
   "outputs": [],
   "source": [
    "db_username = 'avn_monitor'\n",
    "db_password = 'Pass@123'\n",
    "db_ip = '192.168.1.30'\n",
    "db_name = 'Req_data'\n",
    "\n",
    "engine = create_engine('mssql+pymssql://{0}:{1}@{2}/{3}'.\n",
    "                       format(db_username, db_password,\n",
    "                              db_ip, db_name), pool_pre_ping=True, pool_recycle=3600)\n"
   ]
  },
  {
   "cell_type": "code",
   "execution_count": 7,
   "metadata": {},
   "outputs": [],
   "source": [
    "metadata = MetaData()"
   ]
  },
  {
   "cell_type": "code",
   "execution_count": 8,
   "metadata": {},
   "outputs": [],
   "source": [
    "All_Merchant_Details = Table('All_Merchant_Details', metadata,\n",
    "                 Column('id', Integer(), primary_key=True),\n",
    "                 Column('col_1', String(250)),\n",
    "                 Column('Bank_MID', String(250)),\n",
    "                 Column('Date', String(250)),\n",
    "                 Column('col_2', String(250)),\n",
    "                 Column('Card_No', String(250)),\n",
    "                 Column('Bank_Reference', String(250)),\n",
    "                 Column('col_3', String(250)),\n",
    "                 Column('col_4', String(250)),\n",
    "                 Column('Bank_Rate', String(250)),\n",
    "                 Column('Transaction_Amt', String(250)),\n",
    "                 Column('col_5', String(250)),\n",
    "                 Column('col_6', String(250)),\n",
    "                 Column('col_7', String(250)),\n",
    "                 Column('bank_Commission', String(250)),\n",
    "                 Column('col_8', String(250)),\n",
    "                 Column('Vat', String(250)),\n",
    "                 Column('col_9', String(250)),\n",
    "                 Column('col_10', String(250)),\n",
    "                 Column('col_11', String(250)),\n",
    "                 Column('col_12', String(250)),\n",
    "                 Column('col_13', String(250)),\n",
    "                 Column('col_14', String(250)),\n",
    "                 Column('col_15', String(250)),\n",
    "                 Column('col_16', String(250)),\n",
    "                 Column('col_17', String(250)),\n",
    "                 Column('col_18', String(250)),\n",
    "                 Column('Amount', String(250)),\n",
    "                 Column('col_19', String(250)),\n",
    "                 Column('col_20', String(250)),\n",
    "                 Column('Order_receipt', String(250)),\n",
    "                 Column('col_21', String(250)),\n",
    "                 Column('col_22', String(250)),\n",
    "                 Column('col_23', String(250)),\n",
    "                 Column('CC_reference_no', String(250)),\n",
    "                 Column('col_24', String(250)),\n",
    "                 Column('col_25', String(250)),\n",
    "\n",
    "                 )\n"
   ]
  },
  {
   "cell_type": "code",
   "execution_count": 9,
   "metadata": {},
   "outputs": [],
   "source": [
    "Base = automap_base()\n",
    "Base.prepare(engine, reflect=True)\n",
    "\n",
    "metadata.create_all(engine)"
   ]
  },
  {
   "cell_type": "code",
   "execution_count": null,
   "metadata": {},
   "outputs": [],
   "source": []
  }
 ],
 "metadata": {
  "kernelspec": {
   "display_name": "Python 3",
   "language": "python",
   "name": "python3"
  },
  "language_info": {
   "codemirror_mode": {
    "name": "ipython",
    "version": 3
   },
   "file_extension": ".py",
   "mimetype": "text/x-python",
   "name": "python",
   "nbconvert_exporter": "python",
   "pygments_lexer": "ipython3",
   "version": "3.6.8"
  }
 },
 "nbformat": 4,
 "nbformat_minor": 2
}
