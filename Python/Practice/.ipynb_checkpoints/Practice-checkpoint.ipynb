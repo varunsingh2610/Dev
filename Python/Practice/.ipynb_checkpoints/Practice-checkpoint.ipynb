{
 "cells": [
  {
   "cell_type": "code",
   "execution_count": 2,
   "metadata": {},
   "outputs": [],
   "source": [
    "import pandas as pd\n",
    "import re\n",
    "import dateutil.parser as parser\n",
    "import datetime\n",
    "import os"
   ]
  },
  {
   "cell_type": "code",
   "execution_count": 37,
   "metadata": {},
   "outputs": [],
   "source": [
    "df = pd.read_excel(\"output.xlsx\")"
   ]
  },
  {
   "cell_type": "code",
   "execution_count": 38,
   "metadata": {},
   "outputs": [
    {
     "data": {
      "text/html": [
       "<div>\n",
       "<style scoped>\n",
       "    .dataframe tbody tr th:only-of-type {\n",
       "        vertical-align: middle;\n",
       "    }\n",
       "\n",
       "    .dataframe tbody tr th {\n",
       "        vertical-align: top;\n",
       "    }\n",
       "\n",
       "    .dataframe thead th {\n",
       "        text-align: right;\n",
       "    }\n",
       "</style>\n",
       "<table border=\"1\" class=\"dataframe\">\n",
       "  <thead>\n",
       "    <tr style=\"text-align: right;\">\n",
       "      <th></th>\n",
       "      <th>Unnamed: 0</th>\n",
       "      <th>date</th>\n",
       "      <th>client</th>\n",
       "      <th>amount</th>\n",
       "      <th>transID</th>\n",
       "      <th>serialNumber</th>\n",
       "    </tr>\n",
       "  </thead>\n",
       "  <tbody>\n",
       "    <tr>\n",
       "      <th>0</th>\n",
       "      <td>0</td>\n",
       "      <td>2018-05-08T00:00:00Z</td>\n",
       "      <td>92533000</td>\n",
       "      <td>246.0</td>\n",
       "      <td>107412792529</td>\n",
       "      <td>332602010439864</td>\n",
       "    </tr>\n",
       "    <tr>\n",
       "      <th>1</th>\n",
       "      <td>1</td>\n",
       "      <td>2018-05-08T00:00:00Z</td>\n",
       "      <td>92526574</td>\n",
       "      <td>215.0</td>\n",
       "      <td>107412653736</td>\n",
       "      <td>514302070026135</td>\n",
       "    </tr>\n",
       "    <tr>\n",
       "      <th>2</th>\n",
       "      <td>2</td>\n",
       "      <td>2018-05-08T00:00:00Z</td>\n",
       "      <td>92526329</td>\n",
       "      <td>149.0</td>\n",
       "      <td>107412650111</td>\n",
       "      <td>537202010054193</td>\n",
       "    </tr>\n",
       "    <tr>\n",
       "      <th>3</th>\n",
       "      <td>3</td>\n",
       "      <td>2018-05-08T00:00:00Z</td>\n",
       "      <td>92530604</td>\n",
       "      <td>100.0</td>\n",
       "      <td>107412741040</td>\n",
       "      <td>513002010004250</td>\n",
       "    </tr>\n",
       "    <tr>\n",
       "      <th>4</th>\n",
       "      <td>4</td>\n",
       "      <td>2018-05-08T00:00:00Z</td>\n",
       "      <td>92528751</td>\n",
       "      <td>209.0</td>\n",
       "      <td>CCAFH2GGN932</td>\n",
       "      <td>452502010014685</td>\n",
       "    </tr>\n",
       "  </tbody>\n",
       "</table>\n",
       "</div>"
      ],
      "text/plain": [
       "   Unnamed: 0                  date    client  amount       transID  \\\n",
       "0           0  2018-05-08T00:00:00Z  92533000   246.0  107412792529   \n",
       "1           1  2018-05-08T00:00:00Z  92526574   215.0  107412653736   \n",
       "2           2  2018-05-08T00:00:00Z  92526329   149.0  107412650111   \n",
       "3           3  2018-05-08T00:00:00Z  92530604   100.0  107412741040   \n",
       "4           4  2018-05-08T00:00:00Z  92528751   209.0  CCAFH2GGN932   \n",
       "\n",
       "      serialNumber  \n",
       "0  332602010439864  \n",
       "1  514302070026135  \n",
       "2  537202010054193  \n",
       "3  513002010004250  \n",
       "4  452502010014685  "
      ]
     },
     "execution_count": 38,
     "metadata": {},
     "output_type": "execute_result"
    }
   ],
   "source": [
    "df.head()"
   ]
  },
  {
   "cell_type": "code",
   "execution_count": 39,
   "metadata": {},
   "outputs": [],
   "source": [
    "df = df[['date','client', 'amount', 'transID','serialNumber']]"
   ]
  },
  {
   "cell_type": "code",
   "execution_count": 40,
   "metadata": {},
   "outputs": [
    {
     "data": {
      "text/html": [
       "<div>\n",
       "<style scoped>\n",
       "    .dataframe tbody tr th:only-of-type {\n",
       "        vertical-align: middle;\n",
       "    }\n",
       "\n",
       "    .dataframe tbody tr th {\n",
       "        vertical-align: top;\n",
       "    }\n",
       "\n",
       "    .dataframe thead th {\n",
       "        text-align: right;\n",
       "    }\n",
       "</style>\n",
       "<table border=\"1\" class=\"dataframe\">\n",
       "  <thead>\n",
       "    <tr style=\"text-align: right;\">\n",
       "      <th></th>\n",
       "      <th>date</th>\n",
       "      <th>client</th>\n",
       "      <th>amount</th>\n",
       "      <th>transID</th>\n",
       "      <th>serialNumber</th>\n",
       "    </tr>\n",
       "  </thead>\n",
       "  <tbody>\n",
       "    <tr>\n",
       "      <th>0</th>\n",
       "      <td>2018-05-08T00:00:00Z</td>\n",
       "      <td>92533000</td>\n",
       "      <td>246.0</td>\n",
       "      <td>107412792529</td>\n",
       "      <td>332602010439864</td>\n",
       "    </tr>\n",
       "    <tr>\n",
       "      <th>1</th>\n",
       "      <td>2018-05-08T00:00:00Z</td>\n",
       "      <td>92526574</td>\n",
       "      <td>215.0</td>\n",
       "      <td>107412653736</td>\n",
       "      <td>514302070026135</td>\n",
       "    </tr>\n",
       "    <tr>\n",
       "      <th>2</th>\n",
       "      <td>2018-05-08T00:00:00Z</td>\n",
       "      <td>92526329</td>\n",
       "      <td>149.0</td>\n",
       "      <td>107412650111</td>\n",
       "      <td>537202010054193</td>\n",
       "    </tr>\n",
       "    <tr>\n",
       "      <th>3</th>\n",
       "      <td>2018-05-08T00:00:00Z</td>\n",
       "      <td>92530604</td>\n",
       "      <td>100.0</td>\n",
       "      <td>107412741040</td>\n",
       "      <td>513002010004250</td>\n",
       "    </tr>\n",
       "    <tr>\n",
       "      <th>4</th>\n",
       "      <td>2018-05-08T00:00:00Z</td>\n",
       "      <td>92528751</td>\n",
       "      <td>209.0</td>\n",
       "      <td>CCAFH2GGN932</td>\n",
       "      <td>452502010014685</td>\n",
       "    </tr>\n",
       "  </tbody>\n",
       "</table>\n",
       "</div>"
      ],
      "text/plain": [
       "                   date    client  amount       transID     serialNumber\n",
       "0  2018-05-08T00:00:00Z  92533000   246.0  107412792529  332602010439864\n",
       "1  2018-05-08T00:00:00Z  92526574   215.0  107412653736  514302070026135\n",
       "2  2018-05-08T00:00:00Z  92526329   149.0  107412650111  537202010054193\n",
       "3  2018-05-08T00:00:00Z  92530604   100.0  107412741040  513002010004250\n",
       "4  2018-05-08T00:00:00Z  92528751   209.0  CCAFH2GGN932  452502010014685"
      ]
     },
     "execution_count": 40,
     "metadata": {},
     "output_type": "execute_result"
    }
   ],
   "source": [
    "df.head()"
   ]
  },
  {
   "cell_type": "code",
   "execution_count": 41,
   "metadata": {},
   "outputs": [],
   "source": [
    "regex = re.compile('\\'')\n",
    "for i in df:\n",
    "    if(df[i].dtype == object):\n",
    "        df.loc[:,i] = df.loc[:,i].astype(str)\n",
    "        df[i] = df[i].map(lambda x: re.sub(regex, '', x))\n",
    "        df[i] = df[i].apply(lambda x: x.strip())"
   ]
  },
  {
   "cell_type": "code",
   "execution_count": 42,
   "metadata": {},
   "outputs": [
    {
     "data": {
      "text/html": [
       "<div>\n",
       "<style scoped>\n",
       "    .dataframe tbody tr th:only-of-type {\n",
       "        vertical-align: middle;\n",
       "    }\n",
       "\n",
       "    .dataframe tbody tr th {\n",
       "        vertical-align: top;\n",
       "    }\n",
       "\n",
       "    .dataframe thead th {\n",
       "        text-align: right;\n",
       "    }\n",
       "</style>\n",
       "<table border=\"1\" class=\"dataframe\">\n",
       "  <thead>\n",
       "    <tr style=\"text-align: right;\">\n",
       "      <th></th>\n",
       "      <th>date</th>\n",
       "      <th>client</th>\n",
       "      <th>amount</th>\n",
       "      <th>transID</th>\n",
       "      <th>serialNumber</th>\n",
       "    </tr>\n",
       "  </thead>\n",
       "  <tbody>\n",
       "    <tr>\n",
       "      <th>0</th>\n",
       "      <td>2018-05-08T00:00:00Z</td>\n",
       "      <td>92533000</td>\n",
       "      <td>246.0</td>\n",
       "      <td>107412792529</td>\n",
       "      <td>332602010439864</td>\n",
       "    </tr>\n",
       "    <tr>\n",
       "      <th>1</th>\n",
       "      <td>2018-05-08T00:00:00Z</td>\n",
       "      <td>92526574</td>\n",
       "      <td>215.0</td>\n",
       "      <td>107412653736</td>\n",
       "      <td>514302070026135</td>\n",
       "    </tr>\n",
       "    <tr>\n",
       "      <th>2</th>\n",
       "      <td>2018-05-08T00:00:00Z</td>\n",
       "      <td>92526329</td>\n",
       "      <td>149.0</td>\n",
       "      <td>107412650111</td>\n",
       "      <td>537202010054193</td>\n",
       "    </tr>\n",
       "    <tr>\n",
       "      <th>3</th>\n",
       "      <td>2018-05-08T00:00:00Z</td>\n",
       "      <td>92530604</td>\n",
       "      <td>100.0</td>\n",
       "      <td>107412741040</td>\n",
       "      <td>513002010004250</td>\n",
       "    </tr>\n",
       "    <tr>\n",
       "      <th>4</th>\n",
       "      <td>2018-05-08T00:00:00Z</td>\n",
       "      <td>92528751</td>\n",
       "      <td>209.0</td>\n",
       "      <td>CCAFH2GGN932</td>\n",
       "      <td>452502010014685</td>\n",
       "    </tr>\n",
       "  </tbody>\n",
       "</table>\n",
       "</div>"
      ],
      "text/plain": [
       "                   date    client  amount       transID     serialNumber\n",
       "0  2018-05-08T00:00:00Z  92533000   246.0  107412792529  332602010439864\n",
       "1  2018-05-08T00:00:00Z  92526574   215.0  107412653736  514302070026135\n",
       "2  2018-05-08T00:00:00Z  92526329   149.0  107412650111  537202010054193\n",
       "3  2018-05-08T00:00:00Z  92530604   100.0  107412741040  513002010004250\n",
       "4  2018-05-08T00:00:00Z  92528751   209.0  CCAFH2GGN932  452502010014685"
      ]
     },
     "execution_count": 42,
     "metadata": {},
     "output_type": "execute_result"
    }
   ],
   "source": [
    "df.head()"
   ]
  },
  {
   "cell_type": "code",
   "execution_count": 43,
   "metadata": {},
   "outputs": [],
   "source": [
    "df.loc[:,'date'] = df.loc[:,'date'].astype(str)"
   ]
  },
  {
   "cell_type": "code",
   "execution_count": 44,
   "metadata": {},
   "outputs": [],
   "source": [
    "df['date'] = df['date'].map(lambda x: datetime.datetime.strptime(str(x), '%Y-%m-%dT%H:%M:%SZ'))"
   ]
  },
  {
   "cell_type": "code",
   "execution_count": 45,
   "metadata": {},
   "outputs": [],
   "source": [
    "df['date'] = df['date'].map(lambda x: datetime.datetime.strftime(x, '%Y-%m-%d %H:%M:%S'))"
   ]
  },
  {
   "cell_type": "code",
   "execution_count": 46,
   "metadata": {},
   "outputs": [
    {
     "data": {
      "text/html": [
       "<div>\n",
       "<style scoped>\n",
       "    .dataframe tbody tr th:only-of-type {\n",
       "        vertical-align: middle;\n",
       "    }\n",
       "\n",
       "    .dataframe tbody tr th {\n",
       "        vertical-align: top;\n",
       "    }\n",
       "\n",
       "    .dataframe thead th {\n",
       "        text-align: right;\n",
       "    }\n",
       "</style>\n",
       "<table border=\"1\" class=\"dataframe\">\n",
       "  <thead>\n",
       "    <tr style=\"text-align: right;\">\n",
       "      <th></th>\n",
       "      <th>date</th>\n",
       "      <th>client</th>\n",
       "      <th>amount</th>\n",
       "      <th>transID</th>\n",
       "      <th>serialNumber</th>\n",
       "    </tr>\n",
       "  </thead>\n",
       "  <tbody>\n",
       "    <tr>\n",
       "      <th>0</th>\n",
       "      <td>2018-05-08 00:00:00</td>\n",
       "      <td>92533000</td>\n",
       "      <td>246.0</td>\n",
       "      <td>107412792529</td>\n",
       "      <td>332602010439864</td>\n",
       "    </tr>\n",
       "    <tr>\n",
       "      <th>1</th>\n",
       "      <td>2018-05-08 00:00:00</td>\n",
       "      <td>92526574</td>\n",
       "      <td>215.0</td>\n",
       "      <td>107412653736</td>\n",
       "      <td>514302070026135</td>\n",
       "    </tr>\n",
       "    <tr>\n",
       "      <th>2</th>\n",
       "      <td>2018-05-08 00:00:00</td>\n",
       "      <td>92526329</td>\n",
       "      <td>149.0</td>\n",
       "      <td>107412650111</td>\n",
       "      <td>537202010054193</td>\n",
       "    </tr>\n",
       "    <tr>\n",
       "      <th>3</th>\n",
       "      <td>2018-05-08 00:00:00</td>\n",
       "      <td>92530604</td>\n",
       "      <td>100.0</td>\n",
       "      <td>107412741040</td>\n",
       "      <td>513002010004250</td>\n",
       "    </tr>\n",
       "    <tr>\n",
       "      <th>4</th>\n",
       "      <td>2018-05-08 00:00:00</td>\n",
       "      <td>92528751</td>\n",
       "      <td>209.0</td>\n",
       "      <td>CCAFH2GGN932</td>\n",
       "      <td>452502010014685</td>\n",
       "    </tr>\n",
       "  </tbody>\n",
       "</table>\n",
       "</div>"
      ],
      "text/plain": [
       "                  date    client  amount       transID     serialNumber\n",
       "0  2018-05-08 00:00:00  92533000   246.0  107412792529  332602010439864\n",
       "1  2018-05-08 00:00:00  92526574   215.0  107412653736  514302070026135\n",
       "2  2018-05-08 00:00:00  92526329   149.0  107412650111  537202010054193\n",
       "3  2018-05-08 00:00:00  92530604   100.0  107412741040  513002010004250\n",
       "4  2018-05-08 00:00:00  92528751   209.0  CCAFH2GGN932  452502010014685"
      ]
     },
     "execution_count": 46,
     "metadata": {},
     "output_type": "execute_result"
    }
   ],
   "source": [
    "df.head()"
   ]
  },
  {
   "cell_type": "code",
   "execution_count": 2,
   "metadata": {},
   "outputs": [],
   "source": [
    "import pymssql\n",
    "server = '172.16.2.15', \n",
    "user = 'avmntr.19818' , \n",
    "password = 'M0n1tor$2' , \n",
    "port = '12625',"
   ]
  },
  {
   "cell_type": "code",
   "execution_count": 10,
   "metadata": {},
   "outputs": [
    {
     "ename": "OperationalError",
     "evalue": "(20009, b'DB-Lib error message 20009, severity 9:\\nUnable to connect: Adaptive Server is unavailable or does not exist (172.16.2.15:12625)\\nNet-Lib error during Connection refused (111)\\n')",
     "output_type": "error",
     "traceback": [
      "\u001b[0;31m---------------------------------------------------------------------------\u001b[0m",
      "\u001b[0;31mMSSQLDatabaseException\u001b[0m                    Traceback (most recent call last)",
      "\u001b[0;32msrc/pymssql.pyx\u001b[0m in \u001b[0;36mpymssql.connect\u001b[0;34m()\u001b[0m\n",
      "\u001b[0;32msrc/_mssql.pyx\u001b[0m in \u001b[0;36m_mssql.connect\u001b[0;34m()\u001b[0m\n",
      "\u001b[0;32msrc/_mssql.pyx\u001b[0m in \u001b[0;36m_mssql.MSSQLConnection.__init__\u001b[0;34m()\u001b[0m\n",
      "\u001b[0;32msrc/_mssql.pyx\u001b[0m in \u001b[0;36m_mssql.maybe_raise_MSSQLDatabaseException\u001b[0;34m()\u001b[0m\n",
      "\u001b[0;31mMSSQLDatabaseException\u001b[0m: (20009, b'DB-Lib error message 20009, severity 9:\\nUnable to connect: Adaptive Server is unavailable or does not exist (172.16.2.15:12625)\\nNet-Lib error during Connection refused (111)\\n')",
      "\nDuring handling of the above exception, another exception occurred:\n",
      "\u001b[0;31mOperationalError\u001b[0m                          Traceback (most recent call last)",
      "\u001b[0;32m<ipython-input-10-9221ae703ae8>\u001b[0m in \u001b[0;36m<module>\u001b[0;34m\u001b[0m\n\u001b[0;32m----> 1\u001b[0;31m \u001b[0mconn\u001b[0m \u001b[0;34m=\u001b[0m \u001b[0mpymssql\u001b[0m\u001b[0;34m.\u001b[0m\u001b[0mconnect\u001b[0m\u001b[0;34m(\u001b[0m\u001b[0mserver\u001b[0m\u001b[0;34m=\u001b[0m\u001b[0;34m'172.16.2.15'\u001b[0m\u001b[0;34m,\u001b[0m \u001b[0muser\u001b[0m\u001b[0;34m=\u001b[0m\u001b[0;34m'avmntr.19818'\u001b[0m\u001b[0;34m,\u001b[0m \u001b[0mpassword\u001b[0m\u001b[0;34m=\u001b[0m\u001b[0;34m'M0n1tor$2'\u001b[0m\u001b[0;34m,\u001b[0m \u001b[0mdatabase\u001b[0m\u001b[0;34m=\u001b[0m\u001b[0;34m''\u001b[0m\u001b[0;34m,\u001b[0m \u001b[0mport\u001b[0m\u001b[0;34m=\u001b[0m\u001b[0;34m'12625'\u001b[0m\u001b[0;34m,\u001b[0m  \u001b[0mcharset\u001b[0m\u001b[0;34m=\u001b[0m\u001b[0;34m\"utf8\"\u001b[0m\u001b[0;34m)\u001b[0m\u001b[0;34m\u001b[0m\u001b[0;34m\u001b[0m\u001b[0m\n\u001b[0m\u001b[1;32m      2\u001b[0m \u001b[0mcursor\u001b[0m \u001b[0;34m=\u001b[0m \u001b[0mconn\u001b[0m\u001b[0;34m.\u001b[0m\u001b[0mcursor\u001b[0m\u001b[0;34m(\u001b[0m\u001b[0;34m)\u001b[0m\u001b[0;34m\u001b[0m\u001b[0;34m\u001b[0m\u001b[0m\n\u001b[1;32m      3\u001b[0m \u001b[0mcursor\u001b[0m\u001b[0;34m.\u001b[0m\u001b[0mexecute\u001b[0m\u001b[0;34m(\u001b[0m\u001b[0;34m'SELECT LTRIM(RTRIM(hostname)) hostname,LTRIM(RTRIM(loginame)) loginame,COUNT(DISTINCT spid) Count,MAX(spid) Max_Session_Id FROM sys.sysprocesses GROUP BY LTRIM(RTRIM(hostname)),LTRIM(RTRIM(loginame)) order by Count desc'\u001b[0m\u001b[0;34m)\u001b[0m\u001b[0;34m\u001b[0m\u001b[0;34m\u001b[0m\u001b[0m\n\u001b[1;32m      4\u001b[0m \u001b[0mrow\u001b[0m \u001b[0;34m=\u001b[0m \u001b[0mcursor\u001b[0m\u001b[0;34m.\u001b[0m\u001b[0mfetchall\u001b[0m\u001b[0;34m(\u001b[0m\u001b[0;34m)\u001b[0m\u001b[0;34m\u001b[0m\u001b[0;34m\u001b[0m\u001b[0m\n",
      "\u001b[0;32msrc/pymssql.pyx\u001b[0m in \u001b[0;36mpymssql.connect\u001b[0;34m()\u001b[0m\n",
      "\u001b[0;31mOperationalError\u001b[0m: (20009, b'DB-Lib error message 20009, severity 9:\\nUnable to connect: Adaptive Server is unavailable or does not exist (172.16.2.15:12625)\\nNet-Lib error during Connection refused (111)\\n')"
     ]
    }
   ],
   "source": [
    "conn = pymssql.connect(server='172.16.2.15', user='avmntr.19818', password='M0n1tor$2', database='', port='12625',  charset=\"utf8\")\n",
    "cursor = conn.cursor()\n",
    "cursor.execute('SELECT LTRIM(RTRIM(hostname)) hostname,LTRIM(RTRIM(loginame)) loginame,COUNT(DISTINCT spid) Count,MAX(spid) Max_Session_Id FROM sys.sysprocesses GROUP BY LTRIM(RTRIM(hostname)),LTRIM(RTRIM(loginame)) order by Count desc')\n",
    "row = cursor.fetchall()"
   ]
  },
  {
   "cell_type": "code",
   "execution_count": 165,
   "metadata": {},
   "outputs": [],
   "source": [
    "line = \"this is, a. test *10/31/1981 we ┬áUDUPI match only:^'\\\";_-*&^%$#!`~\"\n",
    "line = re.sub(r\"[^a-z0-9.,\\- ]\", \"\", line)"
   ]
  },
  {
   "cell_type": "code",
   "execution_count": 166,
   "metadata": {},
   "outputs": [
    {
     "data": {
      "text/plain": [
       "'this is, a. test 10311981 we  match only-'"
      ]
     },
     "execution_count": 166,
     "metadata": {},
     "output_type": "execute_result"
    }
   ],
   "source": [
    "line"
   ]
  },
  {
   "cell_type": "code",
   "execution_count": 8,
   "metadata": {},
   "outputs": [
    {
     "data": {
      "text/plain": [
       "'Specialcharactersspaces888323'"
      ]
     },
     "execution_count": 8,
     "metadata": {},
     "output_type": "execute_result"
    }
   ],
   "source": [
    "string = \"Special $#! characters ,  spaces 888323┬áUDUPI\"\n",
    "''.join(e for e in string if e.isalnum())"
   ]
  },
  {
   "cell_type": "code",
   "execution_count": 182,
   "metadata": {},
   "outputs": [],
   "source": [
    "df = pd.read_excel(\"SBI.xlsx\")"
   ]
  },
  {
   "cell_type": "code",
   "execution_count": 183,
   "metadata": {},
   "outputs": [
    {
     "name": "stdout",
     "output_type": "stream",
     "text": [
      "TIRUVURU ROAD,MARLAPADU,DIST KHAMMAM, TELANGANA-507164\n",
      "TRILOKPUR CHOWK,RAIPUR RANI,DISTT.PANCHKULA.HARYANA 134204\n",
      "ROWRIAH TINALI,P.O ROWRIAH,JORHAT,DISTT.JORHAT.ASSAM 785005\n"
     ]
    }
   ],
   "source": [
    "print(df['ADDRESS'][0])\n",
    "print(df['ADDRESS'][1])\n",
    "print(df['ADDRESS'][2])"
   ]
  },
  {
   "cell_type": "code",
   "execution_count": 184,
   "metadata": {},
   "outputs": [],
   "source": [
    "regex = re.compile(\"[^A-Za-z0-9.,\\- ]\")\n",
    "for i in df:\n",
    "    df.loc[:,i] = df.loc[:,i].astype(str)\n",
    "    df[i] = df[i].map(lambda x: re.sub(regex, '', x))\n",
    "    df[i] = df[i].apply(lambda x: x.strip())"
   ]
  },
  {
   "cell_type": "code",
   "execution_count": 185,
   "metadata": {},
   "outputs": [
    {
     "name": "stdout",
     "output_type": "stream",
     "text": [
      "TIRUVURU ROAD,MARLAPADU,DIST KHAMMAM, TELANGANA-507164\n",
      "TRILOKPUR CHOWK,RAIPUR RANI,DISTT.PANCHKULA.HARYANA 134204\n",
      "ROWRIAH TINALI,P.O ROWRIAH,JORHAT,DISTT.JORHAT.ASSAM 785005\n"
     ]
    }
   ],
   "source": [
    "print(df['ADDRESS'][0])\n",
    "print(df['ADDRESS'][1])\n",
    "print(df['ADDRESS'][2])"
   ]
  },
  {
   "cell_type": "code",
   "execution_count": 39,
   "metadata": {},
   "outputs": [
    {
     "data": {
      "text/plain": [
       "Index(['BANK_NAME', 'IFSC_CODE', 'BRANCH_NAME', 'CITY_NAME', 'ADDRESS',\n",
       "       'DISTRICT', 'STATE', 'PHONE_NO'],\n",
       "      dtype='object')"
      ]
     },
     "execution_count": 39,
     "metadata": {},
     "output_type": "execute_result"
    }
   ],
   "source": [
    "df.columns"
   ]
  },
  {
   "cell_type": "code",
   "execution_count": null,
   "metadata": {},
   "outputs": [],
   "source": [
    "columns = {'BANK_NAME':'bank_name','IFSC_CODE':'bank_ifsc_code','BRANCH_NAME':'bank_branch','ADDRESS':'bank_address','PHONE_NO':'bank_contact','CITY_NAME':'bank_city',\n",
    "                'DISTRICT':'bank_district','STATE':'bank_state'}"
   ]
  },
  {
   "cell_type": "code",
   "execution_count": 40,
   "metadata": {},
   "outputs": [],
   "source": [
    "df1 = pd.read_excel(\"../Office/BankFiles/Bank of Baroda.xlsx\")"
   ]
  },
  {
   "cell_type": "code",
   "execution_count": 41,
   "metadata": {},
   "outputs": [
    {
     "data": {
      "text/plain": [
       "Index(['BANK NAME', 'IFSC', 'OFFICE', 'ADDRESS', 'DISTRICT', 'CITY', 'STATE',\n",
       "       'PHONE'],\n",
       "      dtype='object')"
      ]
     },
     "execution_count": 41,
     "metadata": {},
     "output_type": "execute_result"
    }
   ],
   "source": [
    "df1.columns"
   ]
  },
  {
   "cell_type": "code",
   "execution_count": 47,
   "metadata": {},
   "outputs": [
    {
     "data": {
      "text/plain": [
       "232"
      ]
     },
     "execution_count": 47,
     "metadata": {},
     "output_type": "execute_result"
    }
   ],
   "source": [
    "from os import listdir\n",
    "len(listdir(\"../Office/BankFiles/\"))"
   ]
  },
  {
   "cell_type": "code",
   "execution_count": 192,
   "metadata": {},
   "outputs": [
    {
     "name": "stdout",
     "output_type": "stream",
     "text": [
      ": There is no data available for this Bank.\n"
     ]
    }
   ],
   "source": [
    "columns = []\n",
    "data =  pd.DataFrame()\n",
    "a = 1\n",
    "for i in listdir(\"../Office/BankFiles/\"):\n",
    "#     print(i)\n",
    "    try:\n",
    "        df = pd.read_excel(\"../Office/BankFiles/\"+i)\n",
    "        regex = re.compile(\"[^A-Za-z0-9.,\\- ]\")\n",
    "        for i in df:\n",
    "            df.loc[:,i] = df.loc[:,i].astype(str)\n",
    "            df[i] = df[i].map(lambda x: re.sub(regex, '', x))\n",
    "            df[i] = df[i].apply(lambda x: x.strip())\n",
    "    #         print(list(df.columns))\n",
    "        if list(df.columns) not in columns:\n",
    "            columns.append(list(df.columns))\n",
    "            df.head().to_excel(str(a)+\".xlsx\")\n",
    "            a +=1\n",
    "    except:\n",
    "        print(\": There is no data available for this Bank.\")"
   ]
  },
  {
   "cell_type": "code",
   "execution_count": 99,
   "metadata": {},
   "outputs": [
    {
     "data": {
      "text/html": [
       "<div>\n",
       "<style scoped>\n",
       "    .dataframe tbody tr th:only-of-type {\n",
       "        vertical-align: middle;\n",
       "    }\n",
       "\n",
       "    .dataframe tbody tr th {\n",
       "        vertical-align: top;\n",
       "    }\n",
       "\n",
       "    .dataframe thead th {\n",
       "        text-align: right;\n",
       "    }\n",
       "</style>\n",
       "<table border=\"1\" class=\"dataframe\">\n",
       "  <thead>\n",
       "    <tr style=\"text-align: right;\">\n",
       "      <th></th>\n",
       "      <th>BANK NAME</th>\n",
       "      <th>IFSC</th>\n",
       "      <th>OFFICE</th>\n",
       "      <th>ADDRESS</th>\n",
       "      <th>DISTRICT</th>\n",
       "      <th>CITY</th>\n",
       "      <th>STATE</th>\n",
       "      <th>PHONE</th>\n",
       "    </tr>\n",
       "  </thead>\n",
       "  <tbody>\n",
       "    <tr>\n",
       "      <th>0</th>\n",
       "      <td>The Kerala State Co Operative Bank Ltd</td>\n",
       "      <td>KSBK0000002</td>\n",
       "      <td>STATUE</td>\n",
       "      <td>KERALA STATE CO-OPERATIVE AGRL. &amp; RURAL DEVELO...</td>\n",
       "      <td>THIRUVANANTHAPURAM</td>\n",
       "      <td>THIRUVANANTHAPURAM</td>\n",
       "      <td>KERALA</td>\n",
       "      <td>2478040</td>\n",
       "    </tr>\n",
       "    <tr>\n",
       "      <th>1</th>\n",
       "      <td>The Kerala State Co Operative Bank Ltd</td>\n",
       "      <td>KSBK0000003</td>\n",
       "      <td>PEROORKADA, THIRUVANANTHAPURAM</td>\n",
       "      <td>KERALA LAW ACADEMY CAMPUS,PEROORKADA</td>\n",
       "      <td>THIRUVANANTHAPURAM</td>\n",
       "      <td>THIRUVANANTHAPURAM</td>\n",
       "      <td>KERALA</td>\n",
       "      <td>2432734</td>\n",
       "    </tr>\n",
       "    <tr>\n",
       "      <th>0</th>\n",
       "      <td>The Kerala State Co Operative Bank Ltd</td>\n",
       "      <td>KSBK0000002</td>\n",
       "      <td>STATUE</td>\n",
       "      <td>KERALA STATE CO-OPERATIVE AGRL. &amp; RURAL DEVELO...</td>\n",
       "      <td>THIRUVANANTHAPURAM</td>\n",
       "      <td>THIRUVANANTHAPURAM</td>\n",
       "      <td>KERALA</td>\n",
       "      <td>2478040</td>\n",
       "    </tr>\n",
       "    <tr>\n",
       "      <th>1</th>\n",
       "      <td>The Kerala State Co Operative Bank Ltd</td>\n",
       "      <td>KSBK0000003</td>\n",
       "      <td>PEROORKADA, THIRUVANANTHAPURAM</td>\n",
       "      <td>KERALA LAW ACADEMY CAMPUS,PEROORKADA</td>\n",
       "      <td>THIRUVANANTHAPURAM</td>\n",
       "      <td>THIRUVANANTHAPURAM</td>\n",
       "      <td>KERALA</td>\n",
       "      <td>2432734</td>\n",
       "    </tr>\n",
       "  </tbody>\n",
       "</table>\n",
       "</div>"
      ],
      "text/plain": [
       "                                BANK NAME         IFSC  \\\n",
       "0  The Kerala State Co Operative Bank Ltd  KSBK0000002   \n",
       "1  The Kerala State Co Operative Bank Ltd  KSBK0000003   \n",
       "0  The Kerala State Co Operative Bank Ltd  KSBK0000002   \n",
       "1  The Kerala State Co Operative Bank Ltd  KSBK0000003   \n",
       "\n",
       "                           OFFICE  \\\n",
       "0                          STATUE   \n",
       "1  PEROORKADA, THIRUVANANTHAPURAM   \n",
       "0                          STATUE   \n",
       "1  PEROORKADA, THIRUVANANTHAPURAM   \n",
       "\n",
       "                                             ADDRESS            DISTRICT  \\\n",
       "0  KERALA STATE CO-OPERATIVE AGRL. & RURAL DEVELO...  THIRUVANANTHAPURAM   \n",
       "1               KERALA LAW ACADEMY CAMPUS,PEROORKADA  THIRUVANANTHAPURAM   \n",
       "0  KERALA STATE CO-OPERATIVE AGRL. & RURAL DEVELO...  THIRUVANANTHAPURAM   \n",
       "1               KERALA LAW ACADEMY CAMPUS,PEROORKADA  THIRUVANANTHAPURAM   \n",
       "\n",
       "                 CITY   STATE    PHONE  \n",
       "0  THIRUVANANTHAPURAM  KERALA  2478040  \n",
       "1  THIRUVANANTHAPURAM  KERALA  2432734  \n",
       "0  THIRUVANANTHAPURAM  KERALA  2478040  \n",
       "1  THIRUVANANTHAPURAM  KERALA  2432734  "
      ]
     },
     "execution_count": 99,
     "metadata": {},
     "output_type": "execute_result"
    }
   ],
   "source": [
    "pd.concat([df.head(2), df.head(2)])"
   ]
  },
  {
   "cell_type": "code",
   "execution_count": 91,
   "metadata": {},
   "outputs": [
    {
     "data": {
      "text/html": [
       "<div>\n",
       "<style scoped>\n",
       "    .dataframe tbody tr th:only-of-type {\n",
       "        vertical-align: middle;\n",
       "    }\n",
       "\n",
       "    .dataframe tbody tr th {\n",
       "        vertical-align: top;\n",
       "    }\n",
       "\n",
       "    .dataframe thead th {\n",
       "        text-align: right;\n",
       "    }\n",
       "</style>\n",
       "<table border=\"1\" class=\"dataframe\">\n",
       "  <thead>\n",
       "    <tr style=\"text-align: right;\">\n",
       "      <th></th>\n",
       "    </tr>\n",
       "  </thead>\n",
       "  <tbody>\n",
       "  </tbody>\n",
       "</table>\n",
       "</div>"
      ],
      "text/plain": [
       "Empty DataFrame\n",
       "Columns: []\n",
       "Index: []"
      ]
     },
     "execution_count": 91,
     "metadata": {},
     "output_type": "execute_result"
    }
   ],
   "source": [
    "\n",
    "df"
   ]
  },
  {
   "cell_type": "code",
   "execution_count": 69,
   "metadata": {},
   "outputs": [
    {
     "name": "stdout",
     "output_type": "stream",
     "text": [
      "['BANK NAME', 'IFSC ', 'BRANCH 1', 'BRANCH 2', 'ADDRESS', 'CITY 1', 'CITY 2', 'STATE']\n",
      "['BANK NAME', 'IFSC', 'OFFICE', 'ADDRESS', 'DISTRICT', 'CITY', 'STATE', 'PHONE']\n",
      "['BANK', 'IFSC', 'MICR', 'BRANCH', 'ADDRESS', 'CONTACT', 'CITY', 'DISTRICT', 'STATE']\n",
      "['BANK', 'IFSC', 'MICR CODE', 'BRANCH', 'ADDRESS', 'CONTACT', 'CITY', 'DISTRICT', 'STATE']\n",
      "['BANK NAME', 'IFSC', 'BRANCH', 'ADDRESS', 'CITY 1', 'CITY 2', 'STATE', 'PHONE']\n",
      "['BANK_NAME', 'IFSC_CODE', 'BRANCH_NAME', 'CITY_NAME', 'ADDRESS', 'DISTRICT', 'STATE', 'PHONE_NO']\n",
      "['BANK NAME', 'IFSC', 'BRANCH', 'ADDRESS', 'DISTRICT', 'CITY ', 'STATE', 'PHONE']\n",
      "['BANK NAME', 'IFSC', 'BRANCH', 'ADDRESS', 'CITY', 'DISTRICT', 'STATE', 'PHONE']\n",
      "['BANK ', 'IFSC CODE', 'MICR CODE', 'BRANCH NAME', 'ADDRESS', 'CONTACT', 'CITY', 'DISTRICT', 'STATE']\n",
      "['BANKNAME', 'IFSC', 'MICR_CODE', 'BRANCH', 'ADDRESS', 'CONTACT1', 'CENTRE', 'DISTRICT', 'STATE']\n",
      "['BANK NAME', 'IFSC', 'BRANCH', 'ADDRESS', 'CITY1', 'CITY2', 'STATE', 'PHONE']\n"
     ]
    }
   ],
   "source": [
    "for i in columns:\n",
    "    print(i)"
   ]
  },
  {
   "cell_type": "code",
   "execution_count": null,
   "metadata": {},
   "outputs": [],
   "source": [
    "['BANK ', 'IFSC CODE', 'MICR CODE', 'BRANCH 1', 'BRANCH 2', 'ADDRESS', 'CONTACT', 'CITY1', 'CITY2', 'DISTRICT', 'STATE']"
   ]
  },
  {
   "cell_type": "code",
   "execution_count": 70,
   "metadata": {},
   "outputs": [
    {
     "data": {
      "text/plain": [
       "['BANK NAME',\n",
       " 'IFSC ',\n",
       " 'BRANCH 1',\n",
       " 'BRANCH 2',\n",
       " 'ADDRESS',\n",
       " 'CITY 1',\n",
       " 'CITY 2',\n",
       " 'STATE']"
      ]
     },
     "execution_count": 70,
     "metadata": {},
     "output_type": "execute_result"
    }
   ],
   "source": [
    "z = ['BANK NAME', 'IFSC ', 'BRANCH 1', 'BRANCH 2', 'ADDRESS', 'CITY 1', 'CITY 2', 'STATE']\n",
    "z"
   ]
  },
  {
   "cell_type": "code",
   "execution_count": 71,
   "metadata": {},
   "outputs": [
    {
     "data": {
      "text/plain": [
       "\"['BANK NAME', 'IFSC ', 'BRANCH 1', 'BRANCH 2', 'ADDRESS', 'CITY 1', 'CITY 2', 'STATE']\""
      ]
     },
     "execution_count": 71,
     "metadata": {},
     "output_type": "execute_result"
    }
   ],
   "source": [
    "str(z)"
   ]
  },
  {
   "cell_type": "code",
   "execution_count": 72,
   "metadata": {},
   "outputs": [
    {
     "data": {
      "text/plain": [
       "'BANK NAME, IFSC , BRANCH 1, BRANCH 2, ADDRESS, CITY 1, CITY 2, STATE'"
      ]
     },
     "execution_count": 72,
     "metadata": {},
     "output_type": "execute_result"
    }
   ],
   "source": [
    "', '.join(z)"
   ]
  },
  {
   "cell_type": "code",
   "execution_count": null,
   "metadata": {},
   "outputs": [],
   "source": [
    "df = pd.read_csv(\"/home/varun.singh/Dev/Python/Practice/data/\"+sys.argv[1], sep=\"|\", index_col=False)\n",
    "df.columns = pd.RangeIndex(1, len(df.columns)+1)\n",
    "\n",
    "ext = (\".xls\", \".xlsx\")\n",
    "if(sys.argv[1].endswith(sys.argv[1])):\n",
    "    df = pd.read_excel(\"/home/varun.singh/Dev/Python/Practice/data/\"+sys.argv[1])\n",
    "else:\n",
    "    if bFileHeaderCheck == 1:\n",
    "            df = pd.read_csv(\"/home/varun.singh/Dev/Python/Practice/data/\"+sys.argv[1], sep=qTemplate.sFileDelimeter, header=0)\n",
    "    else:\n",
    "        df = pd.read_csv(\"/home/varun.singh/Dev/Python/Practice/data/\"+sys.argv[1], sep=qTemplate.sFileDelimeter, header=None)"
   ]
  },
  {
   "cell_type": "code",
   "execution_count": 4,
   "metadata": {},
   "outputs": [
    {
     "ename": "TypeError",
     "evalue": "initial_value must be str or None, not bytes",
     "output_type": "error",
     "traceback": [
      "\u001b[0;31m---------------------------------------------------------------------------\u001b[0m",
      "\u001b[0;31mTypeError\u001b[0m                                 Traceback (most recent call last)",
      "\u001b[0;32m<ipython-input-4-5fa42ffe29c3>\u001b[0m in \u001b[0;36m<module>\u001b[0;34m\u001b[0m\n\u001b[1;32m      2\u001b[0m \u001b[0;32mwith\u001b[0m \u001b[0mopen\u001b[0m\u001b[0;34m(\u001b[0m\u001b[0;34m'/home/varun.singh/Dev/Python/Practice/data/FSS_DB_NOCVV.csv'\u001b[0m\u001b[0;34m,\u001b[0m \u001b[0;34m'rb'\u001b[0m\u001b[0;34m)\u001b[0m \u001b[0;32mas\u001b[0m \u001b[0mcsvfile\u001b[0m\u001b[0;34m:\u001b[0m\u001b[0;34m\u001b[0m\u001b[0;34m\u001b[0m\u001b[0m\n\u001b[1;32m      3\u001b[0m     \u001b[0msniffer\u001b[0m \u001b[0;34m=\u001b[0m \u001b[0mcsv\u001b[0m\u001b[0;34m.\u001b[0m\u001b[0mSniffer\u001b[0m\u001b[0;34m(\u001b[0m\u001b[0;34m)\u001b[0m\u001b[0;34m\u001b[0m\u001b[0;34m\u001b[0m\u001b[0m\n\u001b[0;32m----> 4\u001b[0;31m     \u001b[0mhas_header\u001b[0m \u001b[0;34m=\u001b[0m \u001b[0msniffer\u001b[0m\u001b[0;34m.\u001b[0m\u001b[0mhas_header\u001b[0m\u001b[0;34m(\u001b[0m\u001b[0mcsvfile\u001b[0m\u001b[0;34m.\u001b[0m\u001b[0mread\u001b[0m\u001b[0;34m(\u001b[0m\u001b[0;36m2048\u001b[0m\u001b[0;34m)\u001b[0m\u001b[0;34m)\u001b[0m\u001b[0;34m\u001b[0m\u001b[0;34m\u001b[0m\u001b[0m\n\u001b[0m\u001b[1;32m      5\u001b[0m     \u001b[0mcsvfile\u001b[0m\u001b[0;34m.\u001b[0m\u001b[0mseek\u001b[0m\u001b[0;34m(\u001b[0m\u001b[0;36m0\u001b[0m\u001b[0;34m)\u001b[0m\u001b[0;34m\u001b[0m\u001b[0;34m\u001b[0m\u001b[0m\n",
      "\u001b[0;32m/usr/lib/python3.6/csv.py\u001b[0m in \u001b[0;36mhas_header\u001b[0;34m(self, sample)\u001b[0m\n\u001b[1;32m    392\u001b[0m         \u001b[0;31m# subtracting from the likelihood of the first row being a header.\u001b[0m\u001b[0;34m\u001b[0m\u001b[0;34m\u001b[0m\u001b[0;34m\u001b[0m\u001b[0m\n\u001b[1;32m    393\u001b[0m \u001b[0;34m\u001b[0m\u001b[0m\n\u001b[0;32m--> 394\u001b[0;31m         \u001b[0mrdr\u001b[0m \u001b[0;34m=\u001b[0m \u001b[0mreader\u001b[0m\u001b[0;34m(\u001b[0m\u001b[0mStringIO\u001b[0m\u001b[0;34m(\u001b[0m\u001b[0msample\u001b[0m\u001b[0;34m)\u001b[0m\u001b[0;34m,\u001b[0m \u001b[0mself\u001b[0m\u001b[0;34m.\u001b[0m\u001b[0msniff\u001b[0m\u001b[0;34m(\u001b[0m\u001b[0msample\u001b[0m\u001b[0;34m)\u001b[0m\u001b[0;34m)\u001b[0m\u001b[0;34m\u001b[0m\u001b[0;34m\u001b[0m\u001b[0m\n\u001b[0m\u001b[1;32m    395\u001b[0m \u001b[0;34m\u001b[0m\u001b[0m\n\u001b[1;32m    396\u001b[0m         \u001b[0mheader\u001b[0m \u001b[0;34m=\u001b[0m \u001b[0mnext\u001b[0m\u001b[0;34m(\u001b[0m\u001b[0mrdr\u001b[0m\u001b[0;34m)\u001b[0m \u001b[0;31m# assume first row is header\u001b[0m\u001b[0;34m\u001b[0m\u001b[0;34m\u001b[0m\u001b[0m\n",
      "\u001b[0;31mTypeError\u001b[0m: initial_value must be str or None, not bytes"
     ]
    }
   ],
   "source": [
    "import csv\n",
    "with open('/home/varun.singh/Dev/Python/Practice/data/FSS_DB_NOCVV.csv', 'rb') as csvfile:\n",
    "    sniffer = csv.Sniffer()\n",
    "    has_header = sniffer.has_header(csvfile.read(2048))\n",
    "    csvfile.seek(0)"
   ]
  },
  {
   "cell_type": "code",
   "execution_count": 7,
   "metadata": {},
   "outputs": [],
   "source": [
    "df = pd.read_csv('/home/varun.singh/Dev/Python/Practice/data/FSS_DB_NOCVV.csv', header=None)"
   ]
  },
  {
   "cell_type": "code",
   "execution_count": 8,
   "metadata": {},
   "outputs": [
    {
     "data": {
      "text/html": [
       "<div>\n",
       "<style scoped>\n",
       "    .dataframe tbody tr th:only-of-type {\n",
       "        vertical-align: middle;\n",
       "    }\n",
       "\n",
       "    .dataframe tbody tr th {\n",
       "        vertical-align: top;\n",
       "    }\n",
       "\n",
       "    .dataframe thead th {\n",
       "        text-align: right;\n",
       "    }\n",
       "</style>\n",
       "<table border=\"1\" class=\"dataframe\">\n",
       "  <thead>\n",
       "    <tr style=\"text-align: right;\">\n",
       "      <th></th>\n",
       "      <th>0</th>\n",
       "      <th>1</th>\n",
       "      <th>2</th>\n",
       "      <th>3</th>\n",
       "      <th>4</th>\n",
       "      <th>5</th>\n",
       "      <th>6</th>\n",
       "      <th>7</th>\n",
       "      <th>8</th>\n",
       "      <th>9</th>\n",
       "      <th>10</th>\n",
       "      <th>11</th>\n",
       "      <th>12</th>\n",
       "      <th>13</th>\n",
       "      <th>14</th>\n",
       "      <th>15</th>\n",
       "      <th>16</th>\n",
       "      <th>17</th>\n",
       "      <th>18</th>\n",
       "      <th>19</th>\n",
       "    </tr>\n",
       "  </thead>\n",
       "  <tbody>\n",
       "    <tr>\n",
       "      <th>0</th>\n",
       "      <td>Column-0</td>\n",
       "      <td>Column-1</td>\n",
       "      <td>Column-2</td>\n",
       "      <td>Column-3</td>\n",
       "      <td>Column-4</td>\n",
       "      <td>Column-5</td>\n",
       "      <td>Column-6</td>\n",
       "      <td>Column-7</td>\n",
       "      <td>Column-8</td>\n",
       "      <td>Column-9</td>\n",
       "      <td>Column-10</td>\n",
       "      <td>Column-11</td>\n",
       "      <td>Column-12</td>\n",
       "      <td>Column-13</td>\n",
       "      <td>Column-14</td>\n",
       "      <td>Column-15</td>\n",
       "      <td>Column-16</td>\n",
       "      <td>Column-17</td>\n",
       "      <td>Column-18</td>\n",
       "      <td>Column-19</td>\n",
       "    </tr>\n",
       "    <tr>\n",
       "      <th>1</th>\n",
       "      <td>400046</td>\n",
       "      <td>CCAvenue Ecommerce</td>\n",
       "      <td>SYNDICATE BANK</td>\n",
       "      <td>121821810560232</td>\n",
       "      <td>107413059920</td>\n",
       "      <td>821870000240</td>\n",
       "      <td>708311</td>\n",
       "      <td>295</td>\n",
       "      <td>06/08/2018</td>\n",
       "      <td>07:35:20</td>\n",
       "      <td>CAPTURED</td>\n",
       "      <td>https://secure.ccavenue.com/receive/201/servle...</td>\n",
       "      <td>https://secure.ccavenue.com/receive/201/servle...</td>\n",
       "      <td>400046</td>\n",
       "      <td>107413059920</td>\n",
       "      <td>9e16a94ee496b71f674939a7dee4269488ee79f4bc1373...</td>\n",
       "      <td>295</td>\n",
       "      <td>0</td>\n",
       "      <td>0</td>\n",
       "      <td>295</td>\n",
       "    </tr>\n",
       "    <tr>\n",
       "      <th>2</th>\n",
       "      <td>400046</td>\n",
       "      <td>CCAvenue Ecommerce</td>\n",
       "      <td>SYNDICATE BANK</td>\n",
       "      <td>121821888519390</td>\n",
       "      <td>107413070308</td>\n",
       "      <td>821870000305</td>\n",
       "      <td>716436</td>\n",
       "      <td>600</td>\n",
       "      <td>06/08/2018</td>\n",
       "      <td>08:06:01</td>\n",
       "      <td>CAPTURED</td>\n",
       "      <td>https://secure.ccavenue.com/receive/201/servle...</td>\n",
       "      <td>https://secure.ccavenue.com/receive/201/servle...</td>\n",
       "      <td>400046</td>\n",
       "      <td>107413070308</td>\n",
       "      <td>d219d752af7dedee2b9817cd6716531b66a7e4fc30fb14...</td>\n",
       "      <td>600</td>\n",
       "      <td>0</td>\n",
       "      <td>0</td>\n",
       "      <td>600</td>\n",
       "    </tr>\n",
       "    <tr>\n",
       "      <th>3</th>\n",
       "      <td>400046</td>\n",
       "      <td>CCAvenue Ecommerce</td>\n",
       "      <td>SYNDICATE BANK</td>\n",
       "      <td>121821812759745</td>\n",
       "      <td>107413084767</td>\n",
       "      <td>821870000453</td>\n",
       "      <td>732215</td>\n",
       "      <td>328</td>\n",
       "      <td>06/08/2018</td>\n",
       "      <td>08:48:39</td>\n",
       "      <td>CAPTURED</td>\n",
       "      <td>https://secure.ccavenue.com/receive/201/servle...</td>\n",
       "      <td>https://secure.ccavenue.com/receive/201/servle...</td>\n",
       "      <td>400046</td>\n",
       "      <td>107413084767</td>\n",
       "      <td>a3f850737cbc9065dd0ce3f4dd8b92c1d53f6afd41df40...</td>\n",
       "      <td>328</td>\n",
       "      <td>0</td>\n",
       "      <td>0</td>\n",
       "      <td>328</td>\n",
       "    </tr>\n",
       "    <tr>\n",
       "      <th>4</th>\n",
       "      <td>400046</td>\n",
       "      <td>CCAvenue Ecommerce</td>\n",
       "      <td>SYNDICATE BANK</td>\n",
       "      <td>121821812953140</td>\n",
       "      <td>107413085674</td>\n",
       "      <td>821870000472</td>\n",
       "      <td>735078</td>\n",
       "      <td>100</td>\n",
       "      <td>06/08/2018</td>\n",
       "      <td>08:55:06</td>\n",
       "      <td>CAPTURED</td>\n",
       "      <td>https://secure.ccavenue.com/receive/201/servle...</td>\n",
       "      <td>https://secure.ccavenue.com/receive/201/servle...</td>\n",
       "      <td>400046</td>\n",
       "      <td>107413085674</td>\n",
       "      <td>ac40a23b73749659d88cdee3b0db034490587fd3bae758...</td>\n",
       "      <td>100</td>\n",
       "      <td>0</td>\n",
       "      <td>0</td>\n",
       "      <td>100</td>\n",
       "    </tr>\n",
       "  </tbody>\n",
       "</table>\n",
       "</div>"
      ],
      "text/plain": [
       "         0                   1               2                3   \\\n",
       "0  Column-0            Column-1        Column-2         Column-3   \n",
       "1    400046  CCAvenue Ecommerce  SYNDICATE BANK  121821810560232   \n",
       "2    400046  CCAvenue Ecommerce  SYNDICATE BANK  121821888519390   \n",
       "3    400046  CCAvenue Ecommerce  SYNDICATE BANK  121821812759745   \n",
       "4    400046  CCAvenue Ecommerce  SYNDICATE BANK  121821812953140   \n",
       "\n",
       "             4             5         6         7           8         9   \\\n",
       "0      Column-4      Column-5  Column-6  Column-7    Column-8  Column-9   \n",
       "1  107413059920  821870000240    708311       295  06/08/2018  07:35:20   \n",
       "2  107413070308  821870000305    716436       600  06/08/2018  08:06:01   \n",
       "3  107413084767  821870000453    732215       328  06/08/2018  08:48:39   \n",
       "4  107413085674  821870000472    735078       100  06/08/2018  08:55:06   \n",
       "\n",
       "          10                                                 11  \\\n",
       "0  Column-10                                          Column-11   \n",
       "1   CAPTURED  https://secure.ccavenue.com/receive/201/servle...   \n",
       "2   CAPTURED  https://secure.ccavenue.com/receive/201/servle...   \n",
       "3   CAPTURED  https://secure.ccavenue.com/receive/201/servle...   \n",
       "4   CAPTURED  https://secure.ccavenue.com/receive/201/servle...   \n",
       "\n",
       "                                                  12         13            14  \\\n",
       "0                                          Column-12  Column-13     Column-14   \n",
       "1  https://secure.ccavenue.com/receive/201/servle...     400046  107413059920   \n",
       "2  https://secure.ccavenue.com/receive/201/servle...     400046  107413070308   \n",
       "3  https://secure.ccavenue.com/receive/201/servle...     400046  107413084767   \n",
       "4  https://secure.ccavenue.com/receive/201/servle...     400046  107413085674   \n",
       "\n",
       "                                                  15         16         17  \\\n",
       "0                                          Column-15  Column-16  Column-17   \n",
       "1  9e16a94ee496b71f674939a7dee4269488ee79f4bc1373...        295          0   \n",
       "2  d219d752af7dedee2b9817cd6716531b66a7e4fc30fb14...        600          0   \n",
       "3  a3f850737cbc9065dd0ce3f4dd8b92c1d53f6afd41df40...        328          0   \n",
       "4  ac40a23b73749659d88cdee3b0db034490587fd3bae758...        100          0   \n",
       "\n",
       "          18         19  \n",
       "0  Column-18  Column-19  \n",
       "1          0        295  \n",
       "2          0        600  \n",
       "3          0        328  \n",
       "4          0        100  "
      ]
     },
     "execution_count": 8,
     "metadata": {},
     "output_type": "execute_result"
    }
   ],
   "source": [
    "df.head()"
   ]
  },
  {
   "cell_type": "code",
   "execution_count": 9,
   "metadata": {},
   "outputs": [],
   "source": [
    "df = pd.read_excel('/home/varun.singh/Dev/Python/Practice/data/ANDB_DB.xls', header=None)"
   ]
  },
  {
   "cell_type": "code",
   "execution_count": 10,
   "metadata": {},
   "outputs": [
    {
     "data": {
      "text/html": [
       "<div>\n",
       "<style scoped>\n",
       "    .dataframe tbody tr th:only-of-type {\n",
       "        vertical-align: middle;\n",
       "    }\n",
       "\n",
       "    .dataframe tbody tr th {\n",
       "        vertical-align: top;\n",
       "    }\n",
       "\n",
       "    .dataframe thead th {\n",
       "        text-align: right;\n",
       "    }\n",
       "</style>\n",
       "<table border=\"1\" class=\"dataframe\">\n",
       "  <thead>\n",
       "    <tr style=\"text-align: right;\">\n",
       "      <th></th>\n",
       "      <th>0</th>\n",
       "      <th>1</th>\n",
       "      <th>2</th>\n",
       "      <th>3</th>\n",
       "      <th>4</th>\n",
       "      <th>5</th>\n",
       "    </tr>\n",
       "  </thead>\n",
       "  <tbody>\n",
       "    <tr>\n",
       "      <th>0</th>\n",
       "      <td>Column-0</td>\n",
       "      <td>Column-1</td>\n",
       "      <td>Column-2</td>\n",
       "      <td>Column-3</td>\n",
       "      <td>Column-4</td>\n",
       "      <td>Column-5</td>\n",
       "    </tr>\n",
       "    <tr>\n",
       "      <th>1</th>\n",
       "      <td>02-AUG-18</td>\n",
       "      <td>S8478666</td>\n",
       "      <td>5002001</td>\n",
       "      <td>821480002475</td>\n",
       "      <td>348</td>\n",
       "      <td>'107411302346</td>\n",
       "    </tr>\n",
       "    <tr>\n",
       "      <th>2</th>\n",
       "      <td>02-AUG-18</td>\n",
       "      <td>S7372090</td>\n",
       "      <td>5002001</td>\n",
       "      <td>821470002498</td>\n",
       "      <td>499</td>\n",
       "      <td>'107411047372</td>\n",
       "    </tr>\n",
       "    <tr>\n",
       "      <th>3</th>\n",
       "      <td>02-AUG-18</td>\n",
       "      <td>S7364733</td>\n",
       "      <td>5002001</td>\n",
       "      <td>821480001143</td>\n",
       "      <td>149</td>\n",
       "      <td>'107411044908</td>\n",
       "    </tr>\n",
       "    <tr>\n",
       "      <th>4</th>\n",
       "      <td>02-AUG-18</td>\n",
       "      <td>S7774083</td>\n",
       "      <td>5002001</td>\n",
       "      <td>821480001793</td>\n",
       "      <td>10000</td>\n",
       "      <td>'107411167199</td>\n",
       "    </tr>\n",
       "  </tbody>\n",
       "</table>\n",
       "</div>"
      ],
      "text/plain": [
       "           0         1         2             3         4              5\n",
       "0   Column-0  Column-1  Column-2      Column-3  Column-4       Column-5\n",
       "1  02-AUG-18  S8478666   5002001  821480002475       348  '107411302346\n",
       "2  02-AUG-18  S7372090   5002001  821470002498       499  '107411047372\n",
       "3  02-AUG-18  S7364733   5002001  821480001143       149  '107411044908\n",
       "4  02-AUG-18  S7774083   5002001  821480001793     10000  '107411167199"
      ]
     },
     "execution_count": 10,
     "metadata": {},
     "output_type": "execute_result"
    }
   ],
   "source": [
    "df.head()"
   ]
  },
  {
   "cell_type": "code",
   "execution_count": 34,
   "metadata": {},
   "outputs": [
    {
     "data": {
      "text/html": [
       "<div>\n",
       "<style scoped>\n",
       "    .dataframe tbody tr th:only-of-type {\n",
       "        vertical-align: middle;\n",
       "    }\n",
       "\n",
       "    .dataframe tbody tr th {\n",
       "        vertical-align: top;\n",
       "    }\n",
       "\n",
       "    .dataframe thead th {\n",
       "        text-align: right;\n",
       "    }\n",
       "</style>\n",
       "<table border=\"1\" class=\"dataframe\">\n",
       "  <thead>\n",
       "    <tr style=\"text-align: right;\">\n",
       "      <th></th>\n",
       "      <th>1</th>\n",
       "      <th>2</th>\n",
       "      <th>3</th>\n",
       "      <th>4</th>\n",
       "      <th>5</th>\n",
       "      <th>6</th>\n",
       "    </tr>\n",
       "  </thead>\n",
       "  <tbody>\n",
       "    <tr>\n",
       "      <th>0</th>\n",
       "      <td>Column-0</td>\n",
       "      <td>Column-1</td>\n",
       "      <td>Column-2</td>\n",
       "      <td>Column-3</td>\n",
       "      <td>Column-4</td>\n",
       "      <td>Column-5</td>\n",
       "    </tr>\n",
       "    <tr>\n",
       "      <th>1</th>\n",
       "      <td>02-AUG-18</td>\n",
       "      <td>S8478666</td>\n",
       "      <td>5002001</td>\n",
       "      <td>821480002475</td>\n",
       "      <td>348</td>\n",
       "      <td>'107411302346</td>\n",
       "    </tr>\n",
       "    <tr>\n",
       "      <th>2</th>\n",
       "      <td>02-AUG-18</td>\n",
       "      <td>S7372090</td>\n",
       "      <td>5002001</td>\n",
       "      <td>821470002498</td>\n",
       "      <td>499</td>\n",
       "      <td>'107411047372</td>\n",
       "    </tr>\n",
       "    <tr>\n",
       "      <th>3</th>\n",
       "      <td>02-AUG-18</td>\n",
       "      <td>S7364733</td>\n",
       "      <td>5002001</td>\n",
       "      <td>821480001143</td>\n",
       "      <td>149</td>\n",
       "      <td>'107411044908</td>\n",
       "    </tr>\n",
       "    <tr>\n",
       "      <th>4</th>\n",
       "      <td>02-AUG-18</td>\n",
       "      <td>S7774083</td>\n",
       "      <td>5002001</td>\n",
       "      <td>821480001793</td>\n",
       "      <td>10000</td>\n",
       "      <td>'107411167199</td>\n",
       "    </tr>\n",
       "  </tbody>\n",
       "</table>\n",
       "</div>"
      ],
      "text/plain": [
       "           1         2         3             4         5              6\n",
       "0   Column-0  Column-1  Column-2      Column-3  Column-4       Column-5\n",
       "1  02-AUG-18  S8478666   5002001  821480002475       348  '107411302346\n",
       "2  02-AUG-18  S7372090   5002001  821470002498       499  '107411047372\n",
       "3  02-AUG-18  S7364733   5002001  821480001143       149  '107411044908\n",
       "4  02-AUG-18  S7774083   5002001  821480001793     10000  '107411167199"
      ]
     },
     "execution_count": 34,
     "metadata": {},
     "output_type": "execute_result"
    }
   ],
   "source": [
    "file = \"ANDB_DB.xls\"\n",
    "ext = (\".xls\", \".xlsx\")\n",
    "if(file.endswith(ext)):\n",
    "    df = pd.read_excel(\"/home/varun.singh/Dev/Python/Practice/data/\"+file, header=None)\n",
    "else:\n",
    "    df = pd.read_csv(\"/home/varun.singh/Dev/Python/Practice/data/\"+file, engine='python', sep=\"[,^|]\", header=None)\n",
    "df.columns = pd.RangeIndex(1, len(df.columns)+1)\n",
    "df.head()\n"
   ]
  },
  {
   "cell_type": "code",
   "execution_count": 15,
   "metadata": {},
   "outputs": [
    {
     "data": {
      "text/html": [
       "<div>\n",
       "<style scoped>\n",
       "    .dataframe tbody tr th:only-of-type {\n",
       "        vertical-align: middle;\n",
       "    }\n",
       "\n",
       "    .dataframe tbody tr th {\n",
       "        vertical-align: top;\n",
       "    }\n",
       "\n",
       "    .dataframe thead th {\n",
       "        text-align: right;\n",
       "    }\n",
       "</style>\n",
       "<table border=\"1\" class=\"dataframe\">\n",
       "  <thead>\n",
       "    <tr style=\"text-align: right;\">\n",
       "      <th></th>\n",
       "      <th>1</th>\n",
       "      <th>2</th>\n",
       "      <th>3</th>\n",
       "      <th>4</th>\n",
       "      <th>5</th>\n",
       "      <th>6</th>\n",
       "      <th>7</th>\n",
       "      <th>8</th>\n",
       "      <th>9</th>\n",
       "      <th>10</th>\n",
       "      <th>11</th>\n",
       "      <th>12</th>\n",
       "      <th>13</th>\n",
       "      <th>14</th>\n",
       "      <th>15</th>\n",
       "      <th>16</th>\n",
       "      <th>17</th>\n",
       "      <th>18</th>\n",
       "      <th>19</th>\n",
       "      <th>20</th>\n",
       "    </tr>\n",
       "  </thead>\n",
       "  <tbody>\n",
       "    <tr>\n",
       "      <th>0</th>\n",
       "      <td>Column-0</td>\n",
       "      <td>Column-1</td>\n",
       "      <td>Column-2</td>\n",
       "      <td>Column-3</td>\n",
       "      <td>Column-4</td>\n",
       "      <td>Column-5</td>\n",
       "      <td>Column-6</td>\n",
       "      <td>Column-7</td>\n",
       "      <td>Column-8</td>\n",
       "      <td>Column-9</td>\n",
       "      <td>Column-10</td>\n",
       "      <td>Column-11</td>\n",
       "      <td>Column-12</td>\n",
       "      <td>Column-13</td>\n",
       "      <td>Column-14</td>\n",
       "      <td>Column-15</td>\n",
       "      <td>Column-16</td>\n",
       "      <td>Column-17</td>\n",
       "      <td>Column-18</td>\n",
       "      <td>Column-19</td>\n",
       "    </tr>\n",
       "    <tr>\n",
       "      <th>1</th>\n",
       "      <td>400046</td>\n",
       "      <td>CCAvenue Ecommerce</td>\n",
       "      <td>SYNDICATE BANK</td>\n",
       "      <td>121821810560232</td>\n",
       "      <td>107413059920</td>\n",
       "      <td>821870000240</td>\n",
       "      <td>708311</td>\n",
       "      <td>295</td>\n",
       "      <td>06/08/2018</td>\n",
       "      <td>07:35:20</td>\n",
       "      <td>CAPTURED</td>\n",
       "      <td>https://secure.ccavenue.com/receive/201/servle...</td>\n",
       "      <td>https://secure.ccavenue.com/receive/201/servle...</td>\n",
       "      <td>400046</td>\n",
       "      <td>107413059920</td>\n",
       "      <td>9e16a94ee496b71f674939a7dee4269488ee79f4bc1373...</td>\n",
       "      <td>295</td>\n",
       "      <td>0</td>\n",
       "      <td>0</td>\n",
       "      <td>295</td>\n",
       "    </tr>\n",
       "    <tr>\n",
       "      <th>2</th>\n",
       "      <td>400046</td>\n",
       "      <td>CCAvenue Ecommerce</td>\n",
       "      <td>SYNDICATE BANK</td>\n",
       "      <td>121821888519390</td>\n",
       "      <td>107413070308</td>\n",
       "      <td>821870000305</td>\n",
       "      <td>716436</td>\n",
       "      <td>600</td>\n",
       "      <td>06/08/2018</td>\n",
       "      <td>08:06:01</td>\n",
       "      <td>CAPTURED</td>\n",
       "      <td>https://secure.ccavenue.com/receive/201/servle...</td>\n",
       "      <td>https://secure.ccavenue.com/receive/201/servle...</td>\n",
       "      <td>400046</td>\n",
       "      <td>107413070308</td>\n",
       "      <td>d219d752af7dedee2b9817cd6716531b66a7e4fc30fb14...</td>\n",
       "      <td>600</td>\n",
       "      <td>0</td>\n",
       "      <td>0</td>\n",
       "      <td>600</td>\n",
       "    </tr>\n",
       "    <tr>\n",
       "      <th>3</th>\n",
       "      <td>400046</td>\n",
       "      <td>CCAvenue Ecommerce</td>\n",
       "      <td>SYNDICATE BANK</td>\n",
       "      <td>121821812759745</td>\n",
       "      <td>107413084767</td>\n",
       "      <td>821870000453</td>\n",
       "      <td>732215</td>\n",
       "      <td>328</td>\n",
       "      <td>06/08/2018</td>\n",
       "      <td>08:48:39</td>\n",
       "      <td>CAPTURED</td>\n",
       "      <td>https://secure.ccavenue.com/receive/201/servle...</td>\n",
       "      <td>https://secure.ccavenue.com/receive/201/servle...</td>\n",
       "      <td>400046</td>\n",
       "      <td>107413084767</td>\n",
       "      <td>a3f850737cbc9065dd0ce3f4dd8b92c1d53f6afd41df40...</td>\n",
       "      <td>328</td>\n",
       "      <td>0</td>\n",
       "      <td>0</td>\n",
       "      <td>328</td>\n",
       "    </tr>\n",
       "    <tr>\n",
       "      <th>4</th>\n",
       "      <td>400046</td>\n",
       "      <td>CCAvenue Ecommerce</td>\n",
       "      <td>SYNDICATE BANK</td>\n",
       "      <td>121821812953140</td>\n",
       "      <td>107413085674</td>\n",
       "      <td>821870000472</td>\n",
       "      <td>735078</td>\n",
       "      <td>100</td>\n",
       "      <td>06/08/2018</td>\n",
       "      <td>08:55:06</td>\n",
       "      <td>CAPTURED</td>\n",
       "      <td>https://secure.ccavenue.com/receive/201/servle...</td>\n",
       "      <td>https://secure.ccavenue.com/receive/201/servle...</td>\n",
       "      <td>400046</td>\n",
       "      <td>107413085674</td>\n",
       "      <td>ac40a23b73749659d88cdee3b0db034490587fd3bae758...</td>\n",
       "      <td>100</td>\n",
       "      <td>0</td>\n",
       "      <td>0</td>\n",
       "      <td>100</td>\n",
       "    </tr>\n",
       "  </tbody>\n",
       "</table>\n",
       "</div>"
      ],
      "text/plain": [
       "         1                   2               3                4   \\\n",
       "0  Column-0            Column-1        Column-2         Column-3   \n",
       "1    400046  CCAvenue Ecommerce  SYNDICATE BANK  121821810560232   \n",
       "2    400046  CCAvenue Ecommerce  SYNDICATE BANK  121821888519390   \n",
       "3    400046  CCAvenue Ecommerce  SYNDICATE BANK  121821812759745   \n",
       "4    400046  CCAvenue Ecommerce  SYNDICATE BANK  121821812953140   \n",
       "\n",
       "             5             6         7         8           9         10  \\\n",
       "0      Column-4      Column-5  Column-6  Column-7    Column-8  Column-9   \n",
       "1  107413059920  821870000240    708311       295  06/08/2018  07:35:20   \n",
       "2  107413070308  821870000305    716436       600  06/08/2018  08:06:01   \n",
       "3  107413084767  821870000453    732215       328  06/08/2018  08:48:39   \n",
       "4  107413085674  821870000472    735078       100  06/08/2018  08:55:06   \n",
       "\n",
       "          11                                                 12  \\\n",
       "0  Column-10                                          Column-11   \n",
       "1   CAPTURED  https://secure.ccavenue.com/receive/201/servle...   \n",
       "2   CAPTURED  https://secure.ccavenue.com/receive/201/servle...   \n",
       "3   CAPTURED  https://secure.ccavenue.com/receive/201/servle...   \n",
       "4   CAPTURED  https://secure.ccavenue.com/receive/201/servle...   \n",
       "\n",
       "                                                  13         14            15  \\\n",
       "0                                          Column-12  Column-13     Column-14   \n",
       "1  https://secure.ccavenue.com/receive/201/servle...     400046  107413059920   \n",
       "2  https://secure.ccavenue.com/receive/201/servle...     400046  107413070308   \n",
       "3  https://secure.ccavenue.com/receive/201/servle...     400046  107413084767   \n",
       "4  https://secure.ccavenue.com/receive/201/servle...     400046  107413085674   \n",
       "\n",
       "                                                  16         17         18  \\\n",
       "0                                          Column-15  Column-16  Column-17   \n",
       "1  9e16a94ee496b71f674939a7dee4269488ee79f4bc1373...        295          0   \n",
       "2  d219d752af7dedee2b9817cd6716531b66a7e4fc30fb14...        600          0   \n",
       "3  a3f850737cbc9065dd0ce3f4dd8b92c1d53f6afd41df40...        328          0   \n",
       "4  ac40a23b73749659d88cdee3b0db034490587fd3bae758...        100          0   \n",
       "\n",
       "          19         20  \n",
       "0  Column-18  Column-19  \n",
       "1          0        295  \n",
       "2          0        600  \n",
       "3          0        328  \n",
       "4          0        100  "
      ]
     },
     "execution_count": 15,
     "metadata": {},
     "output_type": "execute_result"
    }
   ],
   "source": [
    "df = pd.read_csv(\"/home/varun.singh/Dev/Python/Practice/data/FSS_DB_NOCVV.csv\", sep=\",\", header=None)\n",
    "df.columns = pd.RangeIndex(1, len(df.columns)+1)\n",
    "df.head()"
   ]
  },
  {
   "cell_type": "code",
   "execution_count": null,
   "metadata": {},
   "outputs": [],
   "source": []
  },
  {
   "cell_type": "code",
   "execution_count": null,
   "metadata": {},
   "outputs": [],
   "source": []
  },
  {
   "cell_type": "code",
   "execution_count": null,
   "metadata": {},
   "outputs": [],
   "source": []
  },
  {
   "cell_type": "code",
   "execution_count": null,
   "metadata": {},
   "outputs": [],
   "source": []
  },
  {
   "cell_type": "code",
   "execution_count": null,
   "metadata": {},
   "outputs": [],
   "source": []
  },
  {
   "cell_type": "code",
   "execution_count": null,
   "metadata": {},
   "outputs": [],
   "source": []
  },
  {
   "cell_type": "code",
   "execution_count": null,
   "metadata": {},
   "outputs": [],
   "source": []
  },
  {
   "cell_type": "code",
   "execution_count": null,
   "metadata": {},
   "outputs": [],
   "source": []
  },
  {
   "cell_type": "code",
   "execution_count": null,
   "metadata": {},
   "outputs": [],
   "source": []
  },
  {
   "cell_type": "code",
   "execution_count": null,
   "metadata": {},
   "outputs": [],
   "source": []
  },
  {
   "cell_type": "code",
   "execution_count": 1,
   "metadata": {},
   "outputs": [],
   "source": [
    "from os import path\n",
    "from shutil import disk_usage"
   ]
  },
  {
   "cell_type": "code",
   "execution_count": 17,
   "metadata": {},
   "outputs": [],
   "source": [
    "total_bytes, used_bytes, free_bytes = disk_usage(path.realpath('D:'))"
   ]
  },
  {
   "cell_type": "code",
   "execution_count": 18,
   "metadata": {},
   "outputs": [
    {
     "name": "stdout",
     "output_type": "stream",
     "text": [
      "889160.986624\n",
      "754616.102912\n",
      "134544.883712\n"
     ]
    }
   ],
   "source": [
    "print(total_bytes / 1000000) # for Mb\n",
    "print(used_bytes / 1000000)\n",
    "print(free_bytes / 1000000)"
   ]
  },
  {
   "cell_type": "code",
   "execution_count": 19,
   "metadata": {},
   "outputs": [],
   "source": [
    "free_bytes = free_bytes/1024"
   ]
  },
  {
   "cell_type": "code",
   "execution_count": 20,
   "metadata": {},
   "outputs": [],
   "source": [
    "free_bytes = free_bytes/1024"
   ]
  },
  {
   "cell_type": "code",
   "execution_count": 21,
   "metadata": {},
   "outputs": [],
   "source": [
    "free_bytes = free_bytes/1024"
   ]
  },
  {
   "cell_type": "code",
   "execution_count": 22,
   "metadata": {},
   "outputs": [],
   "source": [
    "# free_bytes = free_bytes/1024"
   ]
  },
  {
   "cell_type": "code",
   "execution_count": 23,
   "metadata": {},
   "outputs": [
    {
     "data": {
      "text/plain": [
       "125.3046875"
      ]
     },
     "execution_count": 23,
     "metadata": {},
     "output_type": "execute_result"
    }
   ],
   "source": [
    "free_bytes"
   ]
  },
  {
   "cell_type": "code",
   "execution_count": null,
   "metadata": {},
   "outputs": [],
   "source": []
  },
  {
   "cell_type": "code",
   "execution_count": null,
   "metadata": {},
   "outputs": [],
   "source": []
  },
  {
   "cell_type": "code",
   "execution_count": null,
   "metadata": {},
   "outputs": [],
   "source": []
  },
  {
   "cell_type": "code",
   "execution_count": 26,
   "metadata": {},
   "outputs": [
    {
     "ename": "NameError",
     "evalue": "name 'python3' is not defined",
     "output_type": "error",
     "traceback": [
      "\u001b[1;31m---------------------------------------------------------------------------\u001b[0m",
      "\u001b[1;31mNameError\u001b[0m                                 Traceback (most recent call last)",
      "\u001b[1;32m<ipython-input-26-3a1d755a46bc>\u001b[0m in \u001b[0;36m<module>\u001b[1;34m\u001b[0m\n\u001b[1;32m----> 1\u001b[1;33m \u001b[0mpython3\u001b[0m \u001b[1;33m-\u001b[0m\u001b[0mV\u001b[0m\u001b[1;33m\u001b[0m\u001b[1;33m\u001b[0m\u001b[0m\n\u001b[0m",
      "\u001b[1;31mNameError\u001b[0m: name 'python3' is not defined"
     ]
    }
   ],
   "source": []
  },
  {
   "cell_type": "code",
   "execution_count": 25,
   "metadata": {},
   "outputs": [],
   "source": [
    "import win32api\n",
    "import win32net"
   ]
  },
  {
   "cell_type": "code",
   "execution_count": 29,
   "metadata": {},
   "outputs": [
    {
     "ename": "NameError",
     "evalue": "name 'unicode' is not defined",
     "output_type": "error",
     "traceback": [
      "\u001b[1;31m---------------------------------------------------------------------------\u001b[0m",
      "\u001b[1;31mNameError\u001b[0m                                 Traceback (most recent call last)",
      "\u001b[1;32m<ipython-input-29-f2e62a7143bf>\u001b[0m in \u001b[0;36m<module>\u001b[1;34m\u001b[0m\n\u001b[0;32m      4\u001b[0m \u001b[1;33m\u001b[0m\u001b[0m\n\u001b[0;32m      5\u001b[0m \u001b[0muse_dict\u001b[0m\u001b[1;33m=\u001b[0m\u001b[1;33m{\u001b[0m\u001b[1;33m}\u001b[0m\u001b[1;33m\u001b[0m\u001b[1;33m\u001b[0m\u001b[0m\n\u001b[1;32m----> 6\u001b[1;33m \u001b[0muse_dict\u001b[0m\u001b[1;33m[\u001b[0m\u001b[1;34m'remote'\u001b[0m\u001b[1;33m]\u001b[0m\u001b[1;33m=\u001b[0m\u001b[0municode\u001b[0m\u001b[1;33m(\u001b[0m\u001b[1;34m'\\\\\\\\192.168.31.155\\C$'\u001b[0m\u001b[1;33m)\u001b[0m\u001b[1;33m\u001b[0m\u001b[1;33m\u001b[0m\u001b[0m\n\u001b[0m\u001b[0;32m      7\u001b[0m \u001b[0muse_dict\u001b[0m\u001b[1;33m[\u001b[0m\u001b[1;34m'password'\u001b[0m\u001b[1;33m]\u001b[0m\u001b[1;33m=\u001b[0m\u001b[0municode\u001b[0m\u001b[1;33m(\u001b[0m\u001b[0mpassword\u001b[0m\u001b[1;33m)\u001b[0m\u001b[1;33m\u001b[0m\u001b[1;33m\u001b[0m\u001b[0m\n\u001b[0;32m      8\u001b[0m \u001b[0muse_dict\u001b[0m\u001b[1;33m[\u001b[0m\u001b[1;34m'username'\u001b[0m\u001b[1;33m]\u001b[0m\u001b[1;33m=\u001b[0m\u001b[0municode\u001b[0m\u001b[1;33m(\u001b[0m\u001b[0musername\u001b[0m\u001b[1;33m)\u001b[0m\u001b[1;33m\u001b[0m\u001b[1;33m\u001b[0m\u001b[0m\n",
      "\u001b[1;31mNameError\u001b[0m: name 'unicode' is not defined"
     ]
    }
   ],
   "source": [
    "ip = '192.168.31.155'\n",
    "username = 'ram'\n",
    "password = 'ram@123'\n",
    "\n",
    "use_dict={}\n",
    "use_dict['remote']=unicode('\\\\\\\\192.168.31.155\\C$')\n",
    "use_dict['password']=unicode(password)\n",
    "use_dict['username']=unicode(username)\n",
    "win32net.NetUseAdd(None, 2, use_dict)"
   ]
  },
  {
   "cell_type": "code",
   "execution_count": null,
   "metadata": {},
   "outputs": [],
   "source": []
  },
  {
   "cell_type": "code",
   "execution_count": null,
   "metadata": {},
   "outputs": [],
   "source": []
  },
  {
   "cell_type": "code",
   "execution_count": null,
   "metadata": {},
   "outputs": [],
   "source": []
  },
  {
   "cell_type": "code",
   "execution_count": null,
   "metadata": {},
   "outputs": [],
   "source": []
  },
  {
   "cell_type": "code",
   "execution_count": null,
   "metadata": {},
   "outputs": [],
   "source": []
  },
  {
   "cell_type": "code",
   "execution_count": null,
   "metadata": {},
   "outputs": [],
   "source": []
  },
  {
   "cell_type": "code",
   "execution_count": null,
   "metadata": {},
   "outputs": [],
   "source": []
  },
  {
   "cell_type": "code",
   "execution_count": 28,
   "metadata": {},
   "outputs": [
    {
     "name": "stdout",
     "output_type": "stream",
     "text": [
      "134544879616\n"
     ]
    }
   ],
   "source": [
    "import psutil\n",
    "print(psutil.disk_usage(\".\").free)"
   ]
  },
  {
   "cell_type": "code",
   "execution_count": null,
   "metadata": {},
   "outputs": [],
   "source": []
  },
  {
   "cell_type": "code",
   "execution_count": 5,
   "metadata": {},
   "outputs": [
    {
     "ename": "NoValidConnectionsError",
     "evalue": "[Errno None] Unable to connect to port 22 on 192.168.1.30",
     "output_type": "error",
     "traceback": [
      "\u001b[0;31m---------------------------------------------------------------------------\u001b[0m",
      "\u001b[0;31mNoValidConnectionsError\u001b[0m                   Traceback (most recent call last)",
      "\u001b[0;32m<ipython-input-5-61f32118c0e5>\u001b[0m in \u001b[0;36m<module>\u001b[0;34m\u001b[0m\n\u001b[1;32m      9\u001b[0m \u001b[0mssh\u001b[0m \u001b[0;34m=\u001b[0m \u001b[0mparamiko\u001b[0m\u001b[0;34m.\u001b[0m\u001b[0mSSHClient\u001b[0m\u001b[0;34m(\u001b[0m\u001b[0;34m)\u001b[0m\u001b[0;34m\u001b[0m\u001b[0;34m\u001b[0m\u001b[0m\n\u001b[1;32m     10\u001b[0m \u001b[0mssh\u001b[0m\u001b[0;34m.\u001b[0m\u001b[0mset_missing_host_key_policy\u001b[0m\u001b[0;34m(\u001b[0m\u001b[0mparamiko\u001b[0m\u001b[0;34m.\u001b[0m\u001b[0mAutoAddPolicy\u001b[0m\u001b[0;34m(\u001b[0m\u001b[0;34m)\u001b[0m\u001b[0;34m)\u001b[0m\u001b[0;34m\u001b[0m\u001b[0;34m\u001b[0m\u001b[0m\n\u001b[0;32m---> 11\u001b[0;31m \u001b[0mssh\u001b[0m\u001b[0;34m.\u001b[0m\u001b[0mconnect\u001b[0m\u001b[0;34m(\u001b[0m\u001b[0mhostname\u001b[0m\u001b[0;34m,\u001b[0m\u001b[0musername\u001b[0m\u001b[0;34m=\u001b[0m\u001b[0musername\u001b[0m\u001b[0;34m,\u001b[0m\u001b[0mpassword\u001b[0m\u001b[0;34m=\u001b[0m\u001b[0mpassword\u001b[0m\u001b[0;34m)\u001b[0m\u001b[0;34m\u001b[0m\u001b[0;34m\u001b[0m\u001b[0m\n\u001b[0m\u001b[1;32m     12\u001b[0m \u001b[0mprint\u001b[0m\u001b[0;34m(\u001b[0m\u001b[0;34m\"Connected to %s\"\u001b[0m \u001b[0;34m%\u001b[0m \u001b[0mhostname\u001b[0m\u001b[0;34m)\u001b[0m\u001b[0;34m\u001b[0m\u001b[0;34m\u001b[0m\u001b[0m\n",
      "\u001b[0;32m/srv/python/environments/newEnv/lib/python3.6/site-packages/paramiko/client.py\u001b[0m in \u001b[0;36mconnect\u001b[0;34m(self, hostname, port, username, password, pkey, key_filename, timeout, allow_agent, look_for_keys, compress, sock, gss_auth, gss_kex, gss_deleg_creds, gss_host, banner_timeout, auth_timeout, gss_trust_dns, passphrase, disabled_algorithms)\u001b[0m\n\u001b[1;32m    366\u001b[0m             \u001b[0;31m# (socket.error)\u001b[0m\u001b[0;34m\u001b[0m\u001b[0;34m\u001b[0m\u001b[0;34m\u001b[0m\u001b[0m\n\u001b[1;32m    367\u001b[0m             \u001b[0;32mif\u001b[0m \u001b[0mlen\u001b[0m\u001b[0;34m(\u001b[0m\u001b[0merrors\u001b[0m\u001b[0;34m)\u001b[0m \u001b[0;34m==\u001b[0m \u001b[0mlen\u001b[0m\u001b[0;34m(\u001b[0m\u001b[0mto_try\u001b[0m\u001b[0;34m)\u001b[0m\u001b[0;34m:\u001b[0m\u001b[0;34m\u001b[0m\u001b[0;34m\u001b[0m\u001b[0m\n\u001b[0;32m--> 368\u001b[0;31m                 \u001b[0;32mraise\u001b[0m \u001b[0mNoValidConnectionsError\u001b[0m\u001b[0;34m(\u001b[0m\u001b[0merrors\u001b[0m\u001b[0;34m)\u001b[0m\u001b[0;34m\u001b[0m\u001b[0;34m\u001b[0m\u001b[0m\n\u001b[0m\u001b[1;32m    369\u001b[0m \u001b[0;34m\u001b[0m\u001b[0m\n\u001b[1;32m    370\u001b[0m         t = self._transport = Transport(\n",
      "\u001b[0;31mNoValidConnectionsError\u001b[0m: [Errno None] Unable to connect to port 22 on 192.168.1.30"
     ]
    }
   ],
   "source": [
    "import paramiko\n",
    "\n",
    "hostname = \"192.168.1.30\"\n",
    "username = \"avn.monitor\"\n",
    "password = \"Pass1234\"\n",
    "cmd = 'dir'\n",
    "\n",
    "\n",
    "ssh = paramiko.SSHClient()\n",
    "ssh.set_missing_host_key_policy(paramiko.AutoAddPolicy())\n",
    "ssh.connect(hostname,username=username,password=password)\n",
    "print(\"Connected to %s\" % hostname)\n"
   ]
  },
  {
   "cell_type": "code",
   "execution_count": null,
   "metadata": {},
   "outputs": [],
   "source": []
  },
  {
   "cell_type": "code",
   "execution_count": 3,
   "metadata": {},
   "outputs": [
    {
     "ename": "KerberosExchangeError",
     "evalue": "authGSSClientInit() failed: (('Unspecified GSS failure.  Minor code may provide more information', 851968), (\"Can't find client principal avn.monitor@AVINDIA.COM in cache collection\", -1765328243))",
     "output_type": "error",
     "traceback": [
      "\u001b[0;31m---------------------------------------------------------------------------\u001b[0m",
      "\u001b[0;31mGSSError\u001b[0m                                  Traceback (most recent call last)",
      "\u001b[0;32m/srv/python/environments/newEnv/lib/python3.6/site-packages/winrm/vendor/requests_kerberos/kerberos_.py\u001b[0m in \u001b[0;36mgenerate_request_header\u001b[0;34m(self, response, host, is_preemptive)\u001b[0m\n\u001b[1;32m    228\u001b[0m             result, self.context[host] = kerberos.authGSSClientInit(kerb_spn,\n\u001b[0;32m--> 229\u001b[0;31m                 gssflags=gssflags, principal=self.principal)\n\u001b[0m\u001b[1;32m    230\u001b[0m \u001b[0;34m\u001b[0m\u001b[0m\n",
      "\u001b[0;31mGSSError\u001b[0m: (('Unspecified GSS failure.  Minor code may provide more information', 851968), (\"Can't find client principal avn.monitor@AVINDIA.COM in cache collection\", -1765328243))",
      "\nDuring handling of the above exception, another exception occurred:\n",
      "\u001b[0;31mKerberosExchangeError\u001b[0m                     Traceback (most recent call last)",
      "\u001b[0;32m<ipython-input-3-4571b51529ba>\u001b[0m in \u001b[0;36m<module>\u001b[0;34m\u001b[0m\n\u001b[1;32m      4\u001b[0m \u001b[0;31m# Create winrm connection.\u001b[0m\u001b[0;34m\u001b[0m\u001b[0;34m\u001b[0m\u001b[0;34m\u001b[0m\u001b[0m\n\u001b[1;32m      5\u001b[0m \u001b[0msess\u001b[0m \u001b[0;34m=\u001b[0m \u001b[0mwinrm\u001b[0m\u001b[0;34m.\u001b[0m\u001b[0mSession\u001b[0m\u001b[0;34m(\u001b[0m\u001b[0;34m'https://192.168.1.30'\u001b[0m\u001b[0;34m,\u001b[0m \u001b[0mauth\u001b[0m\u001b[0;34m=\u001b[0m\u001b[0;34m(\u001b[0m\u001b[0;34m'avn.monitor'\u001b[0m\u001b[0;34m,\u001b[0m \u001b[0;34m'Pass1234'\u001b[0m\u001b[0;34m)\u001b[0m\u001b[0;34m,\u001b[0m \u001b[0mtransport\u001b[0m\u001b[0;34m=\u001b[0m\u001b[0;34m'kerberos'\u001b[0m\u001b[0;34m)\u001b[0m\u001b[0;34m\u001b[0m\u001b[0;34m\u001b[0m\u001b[0m\n\u001b[0;32m----> 6\u001b[0;31m \u001b[0mresult\u001b[0m \u001b[0;34m=\u001b[0m \u001b[0msess\u001b[0m\u001b[0;34m.\u001b[0m\u001b[0mrun_cmd\u001b[0m\u001b[0;34m(\u001b[0m\u001b[0;34m'ipconfig'\u001b[0m\u001b[0;34m,\u001b[0m \u001b[0;34m[\u001b[0m\u001b[0;34m'/all'\u001b[0m\u001b[0;34m]\u001b[0m\u001b[0;34m)\u001b[0m\u001b[0;34m\u001b[0m\u001b[0;34m\u001b[0m\u001b[0m\n\u001b[0m",
      "\u001b[0;32m/srv/python/environments/newEnv/lib/python3.6/site-packages/winrm/__init__.py\u001b[0m in \u001b[0;36mrun_cmd\u001b[0;34m(self, command, args)\u001b[0m\n\u001b[1;32m     37\u001b[0m     \u001b[0;32mdef\u001b[0m \u001b[0mrun_cmd\u001b[0m\u001b[0;34m(\u001b[0m\u001b[0mself\u001b[0m\u001b[0;34m,\u001b[0m \u001b[0mcommand\u001b[0m\u001b[0;34m,\u001b[0m \u001b[0margs\u001b[0m\u001b[0;34m=\u001b[0m\u001b[0;34m(\u001b[0m\u001b[0;34m)\u001b[0m\u001b[0;34m)\u001b[0m\u001b[0;34m:\u001b[0m\u001b[0;34m\u001b[0m\u001b[0;34m\u001b[0m\u001b[0m\n\u001b[1;32m     38\u001b[0m         \u001b[0;31m# TODO optimize perf. Do not call open/close shell every time\u001b[0m\u001b[0;34m\u001b[0m\u001b[0;34m\u001b[0m\u001b[0;34m\u001b[0m\u001b[0m\n\u001b[0;32m---> 39\u001b[0;31m         \u001b[0mshell_id\u001b[0m \u001b[0;34m=\u001b[0m \u001b[0mself\u001b[0m\u001b[0;34m.\u001b[0m\u001b[0mprotocol\u001b[0m\u001b[0;34m.\u001b[0m\u001b[0mopen_shell\u001b[0m\u001b[0;34m(\u001b[0m\u001b[0;34m)\u001b[0m\u001b[0;34m\u001b[0m\u001b[0;34m\u001b[0m\u001b[0m\n\u001b[0m\u001b[1;32m     40\u001b[0m         \u001b[0mcommand_id\u001b[0m \u001b[0;34m=\u001b[0m \u001b[0mself\u001b[0m\u001b[0;34m.\u001b[0m\u001b[0mprotocol\u001b[0m\u001b[0;34m.\u001b[0m\u001b[0mrun_command\u001b[0m\u001b[0;34m(\u001b[0m\u001b[0mshell_id\u001b[0m\u001b[0;34m,\u001b[0m \u001b[0mcommand\u001b[0m\u001b[0;34m,\u001b[0m \u001b[0margs\u001b[0m\u001b[0;34m)\u001b[0m\u001b[0;34m\u001b[0m\u001b[0;34m\u001b[0m\u001b[0m\n\u001b[1;32m     41\u001b[0m         \u001b[0mrs\u001b[0m \u001b[0;34m=\u001b[0m \u001b[0mResponse\u001b[0m\u001b[0;34m(\u001b[0m\u001b[0mself\u001b[0m\u001b[0;34m.\u001b[0m\u001b[0mprotocol\u001b[0m\u001b[0;34m.\u001b[0m\u001b[0mget_command_output\u001b[0m\u001b[0;34m(\u001b[0m\u001b[0mshell_id\u001b[0m\u001b[0;34m,\u001b[0m \u001b[0mcommand_id\u001b[0m\u001b[0;34m)\u001b[0m\u001b[0;34m)\u001b[0m\u001b[0;34m\u001b[0m\u001b[0;34m\u001b[0m\u001b[0m\n",
      "\u001b[0;32m/srv/python/environments/newEnv/lib/python3.6/site-packages/winrm/protocol.py\u001b[0m in \u001b[0;36mopen_shell\u001b[0;34m(self, i_stream, o_stream, working_directory, env_vars, noprofile, codepage, lifetime, idle_timeout)\u001b[0m\n\u001b[1;32m    164\u001b[0m                 \u001b[0menv\u001b[0m\u001b[0;34m.\u001b[0m\u001b[0mappend\u001b[0m\u001b[0;34m(\u001b[0m\u001b[0;34m{\u001b[0m\u001b[0;34m'@Name'\u001b[0m\u001b[0;34m:\u001b[0m \u001b[0mkey\u001b[0m\u001b[0;34m,\u001b[0m \u001b[0;34m'#text'\u001b[0m\u001b[0;34m:\u001b[0m \u001b[0mvalue\u001b[0m\u001b[0;34m}\u001b[0m\u001b[0;34m)\u001b[0m\u001b[0;34m\u001b[0m\u001b[0;34m\u001b[0m\u001b[0m\n\u001b[1;32m    165\u001b[0m \u001b[0;34m\u001b[0m\u001b[0m\n\u001b[0;32m--> 166\u001b[0;31m         \u001b[0mres\u001b[0m \u001b[0;34m=\u001b[0m \u001b[0mself\u001b[0m\u001b[0;34m.\u001b[0m\u001b[0msend_message\u001b[0m\u001b[0;34m(\u001b[0m\u001b[0mxmltodict\u001b[0m\u001b[0;34m.\u001b[0m\u001b[0munparse\u001b[0m\u001b[0;34m(\u001b[0m\u001b[0mreq\u001b[0m\u001b[0;34m)\u001b[0m\u001b[0;34m)\u001b[0m\u001b[0;34m\u001b[0m\u001b[0;34m\u001b[0m\u001b[0m\n\u001b[0m\u001b[1;32m    167\u001b[0m \u001b[0;34m\u001b[0m\u001b[0m\n\u001b[1;32m    168\u001b[0m         \u001b[0;31m# res = xmltodict.parse(res)\u001b[0m\u001b[0;34m\u001b[0m\u001b[0;34m\u001b[0m\u001b[0;34m\u001b[0m\u001b[0m\n",
      "\u001b[0;32m/srv/python/environments/newEnv/lib/python3.6/site-packages/winrm/protocol.py\u001b[0m in \u001b[0;36msend_message\u001b[0;34m(self, message)\u001b[0m\n\u001b[1;32m    241\u001b[0m         \u001b[0;31m# TODO port error handling code\u001b[0m\u001b[0;34m\u001b[0m\u001b[0;34m\u001b[0m\u001b[0;34m\u001b[0m\u001b[0m\n\u001b[1;32m    242\u001b[0m         \u001b[0;32mtry\u001b[0m\u001b[0;34m:\u001b[0m\u001b[0;34m\u001b[0m\u001b[0;34m\u001b[0m\u001b[0m\n\u001b[0;32m--> 243\u001b[0;31m             \u001b[0mresp\u001b[0m \u001b[0;34m=\u001b[0m \u001b[0mself\u001b[0m\u001b[0;34m.\u001b[0m\u001b[0mtransport\u001b[0m\u001b[0;34m.\u001b[0m\u001b[0msend_message\u001b[0m\u001b[0;34m(\u001b[0m\u001b[0mmessage\u001b[0m\u001b[0;34m)\u001b[0m\u001b[0;34m\u001b[0m\u001b[0;34m\u001b[0m\u001b[0m\n\u001b[0m\u001b[1;32m    244\u001b[0m             \u001b[0;32mreturn\u001b[0m \u001b[0mresp\u001b[0m\u001b[0;34m\u001b[0m\u001b[0;34m\u001b[0m\u001b[0m\n\u001b[1;32m    245\u001b[0m         \u001b[0;32mexcept\u001b[0m \u001b[0mWinRMTransportError\u001b[0m \u001b[0;32mas\u001b[0m \u001b[0mex\u001b[0m\u001b[0;34m:\u001b[0m\u001b[0;34m\u001b[0m\u001b[0;34m\u001b[0m\u001b[0m\n",
      "\u001b[0;32m/srv/python/environments/newEnv/lib/python3.6/site-packages/winrm/transport.py\u001b[0m in \u001b[0;36msend_message\u001b[0;34m(self, message)\u001b[0m\n\u001b[1;32m    319\u001b[0m         \u001b[0;32melse\u001b[0m\u001b[0;34m:\u001b[0m\u001b[0;34m\u001b[0m\u001b[0;34m\u001b[0m\u001b[0m\n\u001b[1;32m    320\u001b[0m             \u001b[0mrequest\u001b[0m \u001b[0;34m=\u001b[0m \u001b[0mrequests\u001b[0m\u001b[0;34m.\u001b[0m\u001b[0mRequest\u001b[0m\u001b[0;34m(\u001b[0m\u001b[0;34m'POST'\u001b[0m\u001b[0;34m,\u001b[0m \u001b[0mself\u001b[0m\u001b[0;34m.\u001b[0m\u001b[0mendpoint\u001b[0m\u001b[0;34m,\u001b[0m \u001b[0mdata\u001b[0m\u001b[0;34m=\u001b[0m\u001b[0mmessage\u001b[0m\u001b[0;34m)\u001b[0m\u001b[0;34m\u001b[0m\u001b[0;34m\u001b[0m\u001b[0m\n\u001b[0;32m--> 321\u001b[0;31m             \u001b[0mprepared_request\u001b[0m \u001b[0;34m=\u001b[0m \u001b[0mself\u001b[0m\u001b[0;34m.\u001b[0m\u001b[0msession\u001b[0m\u001b[0;34m.\u001b[0m\u001b[0mprepare_request\u001b[0m\u001b[0;34m(\u001b[0m\u001b[0mrequest\u001b[0m\u001b[0;34m)\u001b[0m\u001b[0;34m\u001b[0m\u001b[0;34m\u001b[0m\u001b[0m\n\u001b[0m\u001b[1;32m    322\u001b[0m \u001b[0;34m\u001b[0m\u001b[0m\n\u001b[1;32m    323\u001b[0m         \u001b[0mresponse\u001b[0m \u001b[0;34m=\u001b[0m \u001b[0mself\u001b[0m\u001b[0;34m.\u001b[0m\u001b[0m_send_message_request\u001b[0m\u001b[0;34m(\u001b[0m\u001b[0mprepared_request\u001b[0m\u001b[0;34m,\u001b[0m \u001b[0mmessage\u001b[0m\u001b[0;34m)\u001b[0m\u001b[0;34m\u001b[0m\u001b[0;34m\u001b[0m\u001b[0m\n",
      "\u001b[0;32m/srv/python/environments/newEnv/lib/python3.6/site-packages/requests/sessions.py\u001b[0m in \u001b[0;36mprepare_request\u001b[0;34m(self, request)\u001b[0m\n\u001b[1;32m    457\u001b[0m             \u001b[0mauth\u001b[0m\u001b[0;34m=\u001b[0m\u001b[0mmerge_setting\u001b[0m\u001b[0;34m(\u001b[0m\u001b[0mauth\u001b[0m\u001b[0;34m,\u001b[0m \u001b[0mself\u001b[0m\u001b[0;34m.\u001b[0m\u001b[0mauth\u001b[0m\u001b[0;34m)\u001b[0m\u001b[0;34m,\u001b[0m\u001b[0;34m\u001b[0m\u001b[0;34m\u001b[0m\u001b[0m\n\u001b[1;32m    458\u001b[0m             \u001b[0mcookies\u001b[0m\u001b[0;34m=\u001b[0m\u001b[0mmerged_cookies\u001b[0m\u001b[0;34m,\u001b[0m\u001b[0;34m\u001b[0m\u001b[0;34m\u001b[0m\u001b[0m\n\u001b[0;32m--> 459\u001b[0;31m             \u001b[0mhooks\u001b[0m\u001b[0;34m=\u001b[0m\u001b[0mmerge_hooks\u001b[0m\u001b[0;34m(\u001b[0m\u001b[0mrequest\u001b[0m\u001b[0;34m.\u001b[0m\u001b[0mhooks\u001b[0m\u001b[0;34m,\u001b[0m \u001b[0mself\u001b[0m\u001b[0;34m.\u001b[0m\u001b[0mhooks\u001b[0m\u001b[0;34m)\u001b[0m\u001b[0;34m,\u001b[0m\u001b[0;34m\u001b[0m\u001b[0;34m\u001b[0m\u001b[0m\n\u001b[0m\u001b[1;32m    460\u001b[0m         )\n\u001b[1;32m    461\u001b[0m         \u001b[0;32mreturn\u001b[0m \u001b[0mp\u001b[0m\u001b[0;34m\u001b[0m\u001b[0;34m\u001b[0m\u001b[0m\n",
      "\u001b[0;32m/srv/python/environments/newEnv/lib/python3.6/site-packages/requests/models.py\u001b[0m in \u001b[0;36mprepare\u001b[0;34m(self, method, url, headers, files, data, params, auth, cookies, hooks, json)\u001b[0m\n\u001b[1;32m    316\u001b[0m         \u001b[0mself\u001b[0m\u001b[0;34m.\u001b[0m\u001b[0mprepare_cookies\u001b[0m\u001b[0;34m(\u001b[0m\u001b[0mcookies\u001b[0m\u001b[0;34m)\u001b[0m\u001b[0;34m\u001b[0m\u001b[0;34m\u001b[0m\u001b[0m\n\u001b[1;32m    317\u001b[0m         \u001b[0mself\u001b[0m\u001b[0;34m.\u001b[0m\u001b[0mprepare_body\u001b[0m\u001b[0;34m(\u001b[0m\u001b[0mdata\u001b[0m\u001b[0;34m,\u001b[0m \u001b[0mfiles\u001b[0m\u001b[0;34m,\u001b[0m \u001b[0mjson\u001b[0m\u001b[0;34m)\u001b[0m\u001b[0;34m\u001b[0m\u001b[0;34m\u001b[0m\u001b[0m\n\u001b[0;32m--> 318\u001b[0;31m         \u001b[0mself\u001b[0m\u001b[0;34m.\u001b[0m\u001b[0mprepare_auth\u001b[0m\u001b[0;34m(\u001b[0m\u001b[0mauth\u001b[0m\u001b[0;34m,\u001b[0m \u001b[0murl\u001b[0m\u001b[0;34m)\u001b[0m\u001b[0;34m\u001b[0m\u001b[0;34m\u001b[0m\u001b[0m\n\u001b[0m\u001b[1;32m    319\u001b[0m \u001b[0;34m\u001b[0m\u001b[0m\n\u001b[1;32m    320\u001b[0m         \u001b[0;31m# Note that prepare_auth must be last to enable authentication schemes\u001b[0m\u001b[0;34m\u001b[0m\u001b[0;34m\u001b[0m\u001b[0;34m\u001b[0m\u001b[0m\n",
      "\u001b[0;32m/srv/python/environments/newEnv/lib/python3.6/site-packages/requests/models.py\u001b[0m in \u001b[0;36mprepare_auth\u001b[0;34m(self, auth, url)\u001b[0m\n\u001b[1;32m    547\u001b[0m \u001b[0;34m\u001b[0m\u001b[0m\n\u001b[1;32m    548\u001b[0m             \u001b[0;31m# Allow auth to make its changes.\u001b[0m\u001b[0;34m\u001b[0m\u001b[0;34m\u001b[0m\u001b[0;34m\u001b[0m\u001b[0m\n\u001b[0;32m--> 549\u001b[0;31m             \u001b[0mr\u001b[0m \u001b[0;34m=\u001b[0m \u001b[0mauth\u001b[0m\u001b[0;34m(\u001b[0m\u001b[0mself\u001b[0m\u001b[0;34m)\u001b[0m\u001b[0;34m\u001b[0m\u001b[0;34m\u001b[0m\u001b[0m\n\u001b[0m\u001b[1;32m    550\u001b[0m \u001b[0;34m\u001b[0m\u001b[0m\n\u001b[1;32m    551\u001b[0m             \u001b[0;31m# Update self to reflect the auth changes.\u001b[0m\u001b[0;34m\u001b[0m\u001b[0;34m\u001b[0m\u001b[0;34m\u001b[0m\u001b[0m\n",
      "\u001b[0;32m/srv/python/environments/newEnv/lib/python3.6/site-packages/winrm/vendor/requests_kerberos/kerberos_.py\u001b[0m in \u001b[0;36m__call__\u001b[0;34m(self, request)\u001b[0m\n\u001b[1;32m    451\u001b[0m             \u001b[0mhost\u001b[0m \u001b[0;34m=\u001b[0m \u001b[0murlparse\u001b[0m\u001b[0;34m(\u001b[0m\u001b[0mrequest\u001b[0m\u001b[0;34m.\u001b[0m\u001b[0murl\u001b[0m\u001b[0;34m)\u001b[0m\u001b[0;34m.\u001b[0m\u001b[0mhostname\u001b[0m\u001b[0;34m\u001b[0m\u001b[0;34m\u001b[0m\u001b[0m\n\u001b[1;32m    452\u001b[0m \u001b[0;34m\u001b[0m\u001b[0m\n\u001b[0;32m--> 453\u001b[0;31m             \u001b[0mauth_header\u001b[0m \u001b[0;34m=\u001b[0m \u001b[0mself\u001b[0m\u001b[0;34m.\u001b[0m\u001b[0mgenerate_request_header\u001b[0m\u001b[0;34m(\u001b[0m\u001b[0;32mNone\u001b[0m\u001b[0;34m,\u001b[0m \u001b[0mhost\u001b[0m\u001b[0;34m,\u001b[0m \u001b[0mis_preemptive\u001b[0m\u001b[0;34m=\u001b[0m\u001b[0;32mTrue\u001b[0m\u001b[0;34m)\u001b[0m\u001b[0;34m\u001b[0m\u001b[0;34m\u001b[0m\u001b[0m\n\u001b[0m\u001b[1;32m    454\u001b[0m \u001b[0;34m\u001b[0m\u001b[0m\n\u001b[1;32m    455\u001b[0m             \u001b[0mlog\u001b[0m\u001b[0;34m.\u001b[0m\u001b[0mdebug\u001b[0m\u001b[0;34m(\u001b[0m\u001b[0;34m\"HTTPKerberosAuth: Preemptive Authorization header: {0}\"\u001b[0m\u001b[0;34m.\u001b[0m\u001b[0mformat\u001b[0m\u001b[0;34m(\u001b[0m\u001b[0mauth_header\u001b[0m\u001b[0;34m)\u001b[0m\u001b[0;34m)\u001b[0m\u001b[0;34m\u001b[0m\u001b[0;34m\u001b[0m\u001b[0m\n",
      "\u001b[0;32m/srv/python/environments/newEnv/lib/python3.6/site-packages/winrm/vendor/requests_kerberos/kerberos_.py\u001b[0m in \u001b[0;36mgenerate_request_header\u001b[0;34m(self, response, host, is_preemptive)\u001b[0m\n\u001b[1;32m    258\u001b[0m                 \"generate_request_header(): {0} failed:\".format(kerb_stage))\n\u001b[1;32m    259\u001b[0m             \u001b[0mlog\u001b[0m\u001b[0;34m.\u001b[0m\u001b[0mexception\u001b[0m\u001b[0;34m(\u001b[0m\u001b[0merror\u001b[0m\u001b[0;34m)\u001b[0m\u001b[0;34m\u001b[0m\u001b[0;34m\u001b[0m\u001b[0m\n\u001b[0;32m--> 260\u001b[0;31m             \u001b[0;32mraise\u001b[0m \u001b[0mKerberosExchangeError\u001b[0m\u001b[0;34m(\u001b[0m\u001b[0;34m\"%s failed: %s\"\u001b[0m \u001b[0;34m%\u001b[0m \u001b[0;34m(\u001b[0m\u001b[0mkerb_stage\u001b[0m\u001b[0;34m,\u001b[0m \u001b[0mstr\u001b[0m\u001b[0;34m(\u001b[0m\u001b[0merror\u001b[0m\u001b[0;34m.\u001b[0m\u001b[0margs\u001b[0m\u001b[0;34m)\u001b[0m\u001b[0;34m)\u001b[0m\u001b[0;34m)\u001b[0m\u001b[0;34m\u001b[0m\u001b[0;34m\u001b[0m\u001b[0m\n\u001b[0m\u001b[1;32m    261\u001b[0m \u001b[0;34m\u001b[0m\u001b[0m\n\u001b[1;32m    262\u001b[0m         \u001b[0;32mexcept\u001b[0m \u001b[0mEnvironmentError\u001b[0m \u001b[0;32mas\u001b[0m \u001b[0merror\u001b[0m\u001b[0;34m:\u001b[0m\u001b[0;34m\u001b[0m\u001b[0;34m\u001b[0m\u001b[0m\n",
      "\u001b[0;31mKerberosExchangeError\u001b[0m: authGSSClientInit() failed: (('Unspecified GSS failure.  Minor code may provide more information', 851968), (\"Can't find client principal avn.monitor@AVINDIA.COM in cache collection\", -1765328243))"
     ]
    }
   ],
   "source": [
    "#!/usr/bin/env python\n",
    "import winrm\n",
    "\n",
    "# Create winrm connection.\n",
    "sess = winrm.Session('https://192.168.1.30', auth=('avn.monitor', 'Pass1234'), transport='kerberos')\n",
    "result = sess.run_cmd('ipconfig', ['/all'])"
   ]
  },
  {
   "cell_type": "code",
   "execution_count": null,
   "metadata": {},
   "outputs": [],
   "source": []
  },
  {
   "cell_type": "code",
   "execution_count": null,
   "metadata": {},
   "outputs": [],
   "source": []
  },
  {
   "cell_type": "code",
   "execution_count": 6,
   "metadata": {},
   "outputs": [],
   "source": [
    "from easysnmp import snmp_get, snmp_set, snmp_walk"
   ]
  },
  {
   "cell_type": "code",
   "execution_count": 117,
   "metadata": {},
   "outputs": [
    {
     "data": {
      "text/plain": [
       "[<SNMPVariable value='4096' (oid='hrStorageAllocationUnits', oid_index='1', snmp_type='INTEGER')>,\n",
       " <SNMPVariable value='4096' (oid='hrStorageAllocationUnits', oid_index='2', snmp_type='INTEGER')>,\n",
       " <SNMPVariable value='4096' (oid='hrStorageAllocationUnits', oid_index='3', snmp_type='INTEGER')>,\n",
       " <SNMPVariable value='4096' (oid='hrStorageAllocationUnits', oid_index='4', snmp_type='INTEGER')>,\n",
       " <SNMPVariable value='0' (oid='hrStorageAllocationUnits', oid_index='5', snmp_type='INTEGER')>,\n",
       " <SNMPVariable value='0' (oid='hrStorageAllocationUnits', oid_index='6', snmp_type='INTEGER')>,\n",
       " <SNMPVariable value='65536' (oid='hrStorageAllocationUnits', oid_index='7', snmp_type='INTEGER')>,\n",
       " <SNMPVariable value='65536' (oid='hrStorageAllocationUnits', oid_index='8', snmp_type='INTEGER')>]"
      ]
     },
     "execution_count": 117,
     "metadata": {},
     "output_type": "execute_result"
    }
   ],
   "source": [
    "snmp_walk('HOST-RESOURCES-MIB::hrStorageAllocationUnits', hostname='192.168.1.30', community='avitglocal', version=1)"
   ]
  },
  {
   "cell_type": "code",
   "execution_count": 75,
   "metadata": {},
   "outputs": [
    {
     "data": {
      "text/plain": [
       "[<SNMPVariable value='30953647' (oid='hrStorageUsed', oid_index='1', snmp_type='INTEGER')>,\n",
       " <SNMPVariable value='101361795' (oid='hrStorageUsed', oid_index='2', snmp_type='INTEGER')>,\n",
       " <SNMPVariable value='87765833' (oid='hrStorageUsed', oid_index='3', snmp_type='INTEGER')>,\n",
       " <SNMPVariable value='34893275' (oid='hrStorageUsed', oid_index='4', snmp_type='INTEGER')>,\n",
       " <SNMPVariable value='0' (oid='hrStorageUsed', oid_index='5', snmp_type='INTEGER')>,\n",
       " <SNMPVariable value='0' (oid='hrStorageUsed', oid_index='6', snmp_type='INTEGER')>,\n",
       " <SNMPVariable value='1059510' (oid='hrStorageUsed', oid_index='7', snmp_type='INTEGER')>,\n",
       " <SNMPVariable value='1032667' (oid='hrStorageUsed', oid_index='8', snmp_type='INTEGER')>]"
      ]
     },
     "execution_count": 75,
     "metadata": {},
     "output_type": "execute_result"
    }
   ],
   "source": [
    "snmp_walk('HOST-RESOURCES-MIB::hrStorageUsed', hostname='192.168.1.30', community='avitglocal', version=1)"
   ]
  },
  {
   "cell_type": "code",
   "execution_count": 92,
   "metadata": {},
   "outputs": [],
   "source": [
    "driveStorage = snmp_walk(oids=u'.1.3.6.1.2.1.25.2.3.1.5', hostname='192.168.1.30', community='avitglocal', version=1)"
   ]
  },
  {
   "cell_type": "code",
   "execution_count": 93,
   "metadata": {},
   "outputs": [
    {
     "data": {
      "text/plain": [
       "[<SNMPVariable value='39398143' (oid='hrStorageSize', oid_index='1', snmp_type='INTEGER')>,\n",
       " <SNMPVariable value='104857599' (oid='hrStorageSize', oid_index='2', snmp_type='INTEGER')>,\n",
       " <SNMPVariable value='104857599' (oid='hrStorageSize', oid_index='3', snmp_type='INTEGER')>,\n",
       " <SNMPVariable value='52428799' (oid='hrStorageSize', oid_index='4', snmp_type='INTEGER')>,\n",
       " <SNMPVariable value='0' (oid='hrStorageSize', oid_index='5', snmp_type='INTEGER')>,\n",
       " <SNMPVariable value='0' (oid='hrStorageSize', oid_index='6', snmp_type='INTEGER')>,\n",
       " <SNMPVariable value='2094028' (oid='hrStorageSize', oid_index='7', snmp_type='INTEGER')>,\n",
       " <SNMPVariable value='1047028' (oid='hrStorageSize', oid_index='8', snmp_type='INTEGER')>]"
      ]
     },
     "execution_count": 93,
     "metadata": {},
     "output_type": "execute_result"
    }
   ],
   "source": [
    "driveStorage"
   ]
  },
  {
   "cell_type": "code",
   "execution_count": 55,
   "metadata": {},
   "outputs": [
    {
     "data": {
      "text/plain": [
       "<SNMPVariable value='39398143' (oid='hrStorageSize', oid_index='1', snmp_type='INTEGER')>"
      ]
     },
     "execution_count": 55,
     "metadata": {},
     "output_type": "execute_result"
    }
   ],
   "source": [
    "driveStorage[:4][0]"
   ]
  },
  {
   "cell_type": "code",
   "execution_count": 78,
   "metadata": {},
   "outputs": [],
   "source": [
    "from easysnmp import Session"
   ]
  },
  {
   "cell_type": "code",
   "execution_count": 99,
   "metadata": {},
   "outputs": [],
   "source": [
    "session = Session(hostname='192.168.1.30', community='avitglocal', version=1)"
   ]
  },
  {
   "cell_type": "code",
   "execution_count": 120,
   "metadata": {},
   "outputs": [
    {
     "data": {
      "text/plain": [
       "'39398143'"
      ]
     },
     "execution_count": 120,
     "metadata": {},
     "output_type": "execute_result"
    }
   ],
   "source": [
    "session.get('HOST-RESOURCES-MIB::hrStorageSize.1').value"
   ]
  },
  {
   "cell_type": "code",
   "execution_count": 121,
   "metadata": {},
   "outputs": [
    {
     "data": {
      "text/plain": [
       "'4096'"
      ]
     },
     "execution_count": 121,
     "metadata": {},
     "output_type": "execute_result"
    }
   ],
   "source": [
    "session.get('HOST-RESOURCES-MIB::hrStorageAllocationUnits.1').value"
   ]
  },
  {
   "cell_type": "code",
   "execution_count": 134,
   "metadata": {},
   "outputs": [],
   "source": [
    "storageSize = session.get(('HOST-RESOURCES-MIB::hrStorageSize.2')).value"
   ]
  },
  {
   "cell_type": "code",
   "execution_count": 135,
   "metadata": {},
   "outputs": [],
   "source": [
    "allocationUnits = session.get('HOST-RESOURCES-MIB::hrStorageAllocationUnits.2').value"
   ]
  },
  {
   "cell_type": "code",
   "execution_count": 136,
   "metadata": {},
   "outputs": [],
   "source": [
    "totalSize = int(storageSize) * int(allocationUnits)"
   ]
  },
  {
   "cell_type": "code",
   "execution_count": 137,
   "metadata": {},
   "outputs": [
    {
     "data": {
      "text/plain": [
       "'30953776'"
      ]
     },
     "execution_count": 137,
     "metadata": {},
     "output_type": "execute_result"
    }
   ],
   "source": [
    "session.get(('HOST-RESOURCES-MIB::hrStorageUsed.1')).value"
   ]
  },
  {
   "cell_type": "code",
   "execution_count": 138,
   "metadata": {},
   "outputs": [],
   "source": [
    "usedStorageSize = session.get(('HOST-RESOURCES-MIB::hrStorageUsed.2')).value"
   ]
  },
  {
   "cell_type": "code",
   "execution_count": 139,
   "metadata": {},
   "outputs": [],
   "source": [
    "usedSize = int(usedStorageSize) * int(allocationUnits)"
   ]
  },
  {
   "cell_type": "code",
   "execution_count": 140,
   "metadata": {},
   "outputs": [],
   "source": [
    "freeSpace = int(totalSize) - int(usedSize)"
   ]
  },
  {
   "cell_type": "code",
   "execution_count": 141,
   "metadata": {},
   "outputs": [
    {
     "data": {
      "text/plain": [
       "14316163072"
      ]
     },
     "execution_count": 141,
     "metadata": {},
     "output_type": "execute_result"
    }
   ],
   "source": [
    "freeSpace"
   ]
  },
  {
   "cell_type": "code",
   "execution_count": 142,
   "metadata": {},
   "outputs": [
    {
     "data": {
      "text/plain": [
       "399.99999618530273"
      ]
     },
     "execution_count": 142,
     "metadata": {},
     "output_type": "execute_result"
    }
   ],
   "source": [
    "(totalSize / 1024) / 1024 /1024"
   ]
  },
  {
   "cell_type": "code",
   "execution_count": 143,
   "metadata": {},
   "outputs": [
    {
     "data": {
      "text/plain": [
       "13.332965850830078"
      ]
     },
     "execution_count": 143,
     "metadata": {},
     "output_type": "execute_result"
    }
   ],
   "source": [
    "(freeSpace / 1024) / 1024 /1024"
   ]
  },
  {
   "cell_type": "code",
   "execution_count": 145,
   "metadata": {},
   "outputs": [
    {
     "name": "stdout",
     "output_type": "stream",
     "text": [
      "400.0\n",
      "13.2\n"
     ]
    }
   ],
   "source": [
    "from easysnmp import Session\n",
    "import requests\n",
    "\n",
    "drive = {\"C:\":\"1\", \"D:\":\"2\", \"E:\":\"3\", \"F:\":\"4\"}\n",
    "message = 'Server DiskSpace Monitoring\\n\\nServer: 192.168.1.30\\n'\n",
    "\n",
    "session = Session(hostname='192.168.1.30', community='avitglocal', version=1)\n",
    "\n",
    "for i in drive:\n",
    "    storageSize = session.get('HOST-RESOURCES-MIB::hrStorageSize.'+drive[i]).value\n",
    "    allocationUnits = session.get('HOST-RESOURCES-MIB::hrStorageAllocationUnits.'+drive[i]).value\n",
    "\n",
    "    totalSize = int(storageSize) * int(allocationUnits)\n",
    "\n",
    "    usedStorageSize = session.get('HOST-RESOURCES-MIB::hrStorageUsed.'+drive[i]).value\n",
    "\n",
    "    usedSize = int(usedStorageSize) * int(allocationUnits)\n",
    "\n",
    "    freeSpace = totalSize - usedSize\n",
    "\n",
    "    totalSize = totalSize / 1024 / 1024 /1024\n",
    "    freeSpace = freeSpace / 1024 / 1024 /1024\n",
    "    \n",
    "    freeSpacePercent = str(round((freeSpace/totalSize) * 100, 2)) + \"%\"\n",
    "    totalSize = str(round(totalSize, 2)) +\" GB\"\n",
    "    freeSpace = str(round(freeSpace, 2)) +\" GB\"\n",
    "    \n",
    "    print( totalSize )\n",
    "    print(freeSpace )\n",
    "    print(freeSpacePercent)\n",
    "    \n",
    "    message = message + '\\n' + i + \"  FreeSpace Left: \" + freeSpacePercent\n",
    "\n",
    "\n",
    "print(message)\n",
    "\n",
    "URL = \"http://sms6.rmlconnect.net/bulksms/bulksms?\"\n",
    "destination = \"8109055354\"\n",
    "destination2 = \"9930605997\"\n",
    "\n",
    "PARAMS = {'username': \"avenues\", \"password\": \"zerb5rv\", \"type\": \"0\",\n",
    "          \"dlr\": \"1\", \"source\": \"CCAVEN\"}\n",
    "\n",
    "PARAMS[\"message\"] = message\n",
    "PARAMS[\"destination\"] = destination2\n",
    "response = requests.get(url=URL, params=PARAMS)"
   ]
  },
  {
   "cell_type": "code",
   "execution_count": null,
   "metadata": {},
   "outputs": [],
   "source": []
  },
  {
   "cell_type": "code",
   "execution_count": null,
   "metadata": {},
   "outputs": [],
   "source": []
  },
  {
   "cell_type": "code",
   "execution_count": null,
   "metadata": {},
   "outputs": [],
   "source": []
  },
  {
   "cell_type": "code",
   "execution_count": null,
   "metadata": {},
   "outputs": [],
   "source": []
  },
  {
   "cell_type": "code",
   "execution_count": 9,
   "metadata": {},
   "outputs": [],
   "source": [
    "from pysnmp.hlapi import *"
   ]
  },
  {
   "cell_type": "code",
   "execution_count": 10,
   "metadata": {},
   "outputs": [
    {
     "data": {
      "text/plain": [
       "SnmpEngine(snmpEngineID=<SnmpEngineID value object, tagSet <TagSet object, tags 0:0:4>, subtypeSpec <ConstraintsIntersection object, consts <ValueSizeConstraint object, consts 0, 65535>, <ValueSizeConstraint object, consts 5, 32>>, encoding iso-8859-1, payload [0x80004fb8056176...32313334444bca48]>)"
      ]
     },
     "execution_count": 10,
     "metadata": {},
     "output_type": "execute_result"
    }
   ],
   "source": [
    "SnmpEngine()"
   ]
  },
  {
   "cell_type": "code",
   "execution_count": 11,
   "metadata": {},
   "outputs": [
    {
     "data": {
      "text/plain": [
       "['bulkCmd', 'getCmd', 'nextCmd', 'setCmd']"
      ]
     },
     "execution_count": 11,
     "metadata": {},
     "output_type": "execute_result"
    }
   ],
   "source": [
    "[ x for x in dir() if 'Cmd' in x]"
   ]
  },
  {
   "cell_type": "code",
   "execution_count": 42,
   "metadata": {},
   "outputs": [],
   "source": [
    "g = getCmd(SnmpEngine(), CommunityData('avitglocal'), UdpTransportTarget(('192.168.1.30', 161)), ContextData(), ObjectType(ObjectIdentity('HOST-RESOURCES-MIB', 'hrStorageSize', 0)))"
   ]
  },
  {
   "cell_type": "code",
   "execution_count": 43,
   "metadata": {},
   "outputs": [
    {
     "ename": "SmiError",
     "evalue": "Instance index (0,) to OID conversion failure at object 'hrStorageSize': <ConstraintsIntersection object, consts <ValueRangeConstraint object, consts -2147483648, 2147483647>, <ValueRangeConstraint object, consts 1, 2147483647>> failed at: ValueConstraintError('<ValueRangeConstraint object, consts 1, 2147483647> failed at: ValueConstraintError(0,)',) at Integer32caused by <class 'pyasn1.type.error.ValueConstraintError'>: <ConstraintsIntersection object, consts <ValueRangeConstraint object, consts -2147483648, 2147483647>, <ValueRangeConstraint object, consts 1, 2147483647>> failed at: ValueConstraintError('<ValueRangeConstraint object, consts 1, 2147483647> failed at: ValueConstraintError(0,)',) at Integer32",
     "output_type": "error",
     "traceback": [
      "\u001b[0;31m---------------------------------------------------------------------------\u001b[0m",
      "\u001b[0;31mValueConstraintError\u001b[0m                      Traceback (most recent call last)",
      "\u001b[0;32m/srv/python/environments/newEnv/lib/python3.6/site-packages/pyasn1/type/constraint.py\u001b[0m in \u001b[0;36m__call__\u001b[0;34m(self, value, idx)\u001b[0m\n\u001b[1;32m     31\u001b[0m         \u001b[0;32mtry\u001b[0m\u001b[0;34m:\u001b[0m\u001b[0;34m\u001b[0m\u001b[0;34m\u001b[0m\u001b[0m\n\u001b[0;32m---> 32\u001b[0;31m             \u001b[0mself\u001b[0m\u001b[0;34m.\u001b[0m\u001b[0m_testValue\u001b[0m\u001b[0;34m(\u001b[0m\u001b[0mvalue\u001b[0m\u001b[0;34m,\u001b[0m \u001b[0midx\u001b[0m\u001b[0;34m)\u001b[0m\u001b[0;34m\u001b[0m\u001b[0;34m\u001b[0m\u001b[0m\n\u001b[0m\u001b[1;32m     33\u001b[0m \u001b[0;34m\u001b[0m\u001b[0m\n",
      "\u001b[0;32m/srv/python/environments/newEnv/lib/python3.6/site-packages/pyasn1/type/constraint.py\u001b[0m in \u001b[0;36m_testValue\u001b[0;34m(self, value, idx)\u001b[0m\n\u001b[1;32m    244\u001b[0m         \u001b[0;32mif\u001b[0m \u001b[0mvalue\u001b[0m \u001b[0;34m<\u001b[0m \u001b[0mself\u001b[0m\u001b[0;34m.\u001b[0m\u001b[0mstart\u001b[0m \u001b[0;32mor\u001b[0m \u001b[0mvalue\u001b[0m \u001b[0;34m>\u001b[0m \u001b[0mself\u001b[0m\u001b[0;34m.\u001b[0m\u001b[0mstop\u001b[0m\u001b[0;34m:\u001b[0m\u001b[0;34m\u001b[0m\u001b[0;34m\u001b[0m\u001b[0m\n\u001b[0;32m--> 245\u001b[0;31m             \u001b[0;32mraise\u001b[0m \u001b[0merror\u001b[0m\u001b[0;34m.\u001b[0m\u001b[0mValueConstraintError\u001b[0m\u001b[0;34m(\u001b[0m\u001b[0mvalue\u001b[0m\u001b[0;34m)\u001b[0m\u001b[0;34m\u001b[0m\u001b[0;34m\u001b[0m\u001b[0m\n\u001b[0m\u001b[1;32m    246\u001b[0m \u001b[0;34m\u001b[0m\u001b[0m\n",
      "\u001b[0;31mValueConstraintError\u001b[0m: 0",
      "\nDuring handling of the above exception, another exception occurred:\n",
      "\u001b[0;31mValueConstraintError\u001b[0m                      Traceback (most recent call last)",
      "\u001b[0;32m/srv/python/environments/newEnv/lib/python3.6/site-packages/pyasn1/type/constraint.py\u001b[0m in \u001b[0;36m__call__\u001b[0;34m(self, value, idx)\u001b[0m\n\u001b[1;32m     31\u001b[0m         \u001b[0;32mtry\u001b[0m\u001b[0;34m:\u001b[0m\u001b[0;34m\u001b[0m\u001b[0;34m\u001b[0m\u001b[0m\n\u001b[0;32m---> 32\u001b[0;31m             \u001b[0mself\u001b[0m\u001b[0;34m.\u001b[0m\u001b[0m_testValue\u001b[0m\u001b[0;34m(\u001b[0m\u001b[0mvalue\u001b[0m\u001b[0;34m,\u001b[0m \u001b[0midx\u001b[0m\u001b[0;34m)\u001b[0m\u001b[0;34m\u001b[0m\u001b[0;34m\u001b[0m\u001b[0m\n\u001b[0m\u001b[1;32m     33\u001b[0m \u001b[0;34m\u001b[0m\u001b[0m\n",
      "\u001b[0;32m/srv/python/environments/newEnv/lib/python3.6/site-packages/pyasn1/type/constraint.py\u001b[0m in \u001b[0;36m_testValue\u001b[0;34m(self, value, idx)\u001b[0m\n\u001b[1;32m    696\u001b[0m         \u001b[0;32mfor\u001b[0m \u001b[0mconstraint\u001b[0m \u001b[0;32min\u001b[0m \u001b[0mself\u001b[0m\u001b[0;34m.\u001b[0m\u001b[0m_values\u001b[0m\u001b[0;34m:\u001b[0m\u001b[0;34m\u001b[0m\u001b[0;34m\u001b[0m\u001b[0m\n\u001b[0;32m--> 697\u001b[0;31m             \u001b[0mconstraint\u001b[0m\u001b[0;34m(\u001b[0m\u001b[0mvalue\u001b[0m\u001b[0;34m,\u001b[0m \u001b[0midx\u001b[0m\u001b[0;34m)\u001b[0m\u001b[0;34m\u001b[0m\u001b[0;34m\u001b[0m\u001b[0m\n\u001b[0m\u001b[1;32m    698\u001b[0m \u001b[0;34m\u001b[0m\u001b[0m\n",
      "\u001b[0;32m/srv/python/environments/newEnv/lib/python3.6/site-packages/pyasn1/type/constraint.py\u001b[0m in \u001b[0;36m__call__\u001b[0;34m(self, value, idx)\u001b[0m\n\u001b[1;32m     35\u001b[0m             raise error.ValueConstraintError(\n\u001b[0;32m---> 36\u001b[0;31m                 \u001b[0;34m'%s failed at: %r'\u001b[0m \u001b[0;34m%\u001b[0m \u001b[0;34m(\u001b[0m\u001b[0mself\u001b[0m\u001b[0;34m,\u001b[0m \u001b[0msys\u001b[0m\u001b[0;34m.\u001b[0m\u001b[0mexc_info\u001b[0m\u001b[0;34m(\u001b[0m\u001b[0;34m)\u001b[0m\u001b[0;34m[\u001b[0m\u001b[0;36m1\u001b[0m\u001b[0;34m]\u001b[0m\u001b[0;34m)\u001b[0m\u001b[0;34m\u001b[0m\u001b[0;34m\u001b[0m\u001b[0m\n\u001b[0m\u001b[1;32m     37\u001b[0m             )\n",
      "\u001b[0;31mValueConstraintError\u001b[0m: <ValueRangeConstraint object, consts 1, 2147483647> failed at: ValueConstraintError(0,)",
      "\nDuring handling of the above exception, another exception occurred:\n",
      "\u001b[0;31mValueConstraintError\u001b[0m                      Traceback (most recent call last)",
      "\u001b[0;32m/srv/python/environments/newEnv/lib/python3.6/site-packages/pyasn1/type/base.py\u001b[0m in \u001b[0;36m__init__\u001b[0;34m(self, value, **kwargs)\u001b[0m\n\u001b[1;32m    268\u001b[0m             \u001b[0;32mtry\u001b[0m\u001b[0;34m:\u001b[0m\u001b[0;34m\u001b[0m\u001b[0;34m\u001b[0m\u001b[0m\n\u001b[0;32m--> 269\u001b[0;31m                 \u001b[0mself\u001b[0m\u001b[0;34m.\u001b[0m\u001b[0msubtypeSpec\u001b[0m\u001b[0;34m(\u001b[0m\u001b[0mvalue\u001b[0m\u001b[0;34m)\u001b[0m\u001b[0;34m\u001b[0m\u001b[0;34m\u001b[0m\u001b[0m\n\u001b[0m\u001b[1;32m    270\u001b[0m \u001b[0;34m\u001b[0m\u001b[0m\n",
      "\u001b[0;32m/srv/python/environments/newEnv/lib/python3.6/site-packages/pyasn1/type/constraint.py\u001b[0m in \u001b[0;36m__call__\u001b[0;34m(self, value, idx)\u001b[0m\n\u001b[1;32m     35\u001b[0m             raise error.ValueConstraintError(\n\u001b[0;32m---> 36\u001b[0;31m                 \u001b[0;34m'%s failed at: %r'\u001b[0m \u001b[0;34m%\u001b[0m \u001b[0;34m(\u001b[0m\u001b[0mself\u001b[0m\u001b[0;34m,\u001b[0m \u001b[0msys\u001b[0m\u001b[0;34m.\u001b[0m\u001b[0mexc_info\u001b[0m\u001b[0;34m(\u001b[0m\u001b[0;34m)\u001b[0m\u001b[0;34m[\u001b[0m\u001b[0;36m1\u001b[0m\u001b[0;34m]\u001b[0m\u001b[0;34m)\u001b[0m\u001b[0;34m\u001b[0m\u001b[0;34m\u001b[0m\u001b[0m\n\u001b[0m\u001b[1;32m     37\u001b[0m             )\n",
      "\u001b[0;31mValueConstraintError\u001b[0m: <ConstraintsIntersection object, consts <ValueRangeConstraint object, consts -2147483648, 2147483647>, <ValueRangeConstraint object, consts 1, 2147483647>> failed at: ValueConstraintError('<ValueRangeConstraint object, consts 1, 2147483647> failed at: ValueConstraintError(0,)',)",
      "\nDuring handling of the above exception, another exception occurred:\n",
      "\u001b[0;31mValueConstraintError\u001b[0m                      Traceback (most recent call last)",
      "\u001b[0;32m/srv/python/environments/newEnv/lib/python3.6/site-packages/pysnmp/smi/rfc1902.py\u001b[0m in \u001b[0;36mresolveWithMib\u001b[0;34m(self, mibViewController)\u001b[0m\n\u001b[1;32m    504\u001b[0m                     \u001b[0;32mtry\u001b[0m\u001b[0;34m:\u001b[0m\u001b[0;34m\u001b[0m\u001b[0;34m\u001b[0m\u001b[0m\n\u001b[0;32m--> 505\u001b[0;31m                         \u001b[0minstIds\u001b[0m \u001b[0;34m=\u001b[0m \u001b[0mrowNode\u001b[0m\u001b[0;34m.\u001b[0m\u001b[0mgetInstIdFromIndices\u001b[0m\u001b[0;34m(\u001b[0m\u001b[0;34m*\u001b[0m\u001b[0mself\u001b[0m\u001b[0;34m.\u001b[0m\u001b[0m__args\u001b[0m\u001b[0;34m[\u001b[0m\u001b[0;36m2\u001b[0m\u001b[0;34m:\u001b[0m\u001b[0;34m]\u001b[0m\u001b[0;34m)\u001b[0m\u001b[0;34m\u001b[0m\u001b[0;34m\u001b[0m\u001b[0m\n\u001b[0m\u001b[1;32m    506\u001b[0m                         \u001b[0mself\u001b[0m\u001b[0;34m.\u001b[0m\u001b[0m__oid\u001b[0m \u001b[0;34m+=\u001b[0m \u001b[0minstIds\u001b[0m\u001b[0;34m\u001b[0m\u001b[0;34m\u001b[0m\u001b[0m\n",
      "\u001b[0;32m/srv/python/environments/newEnv/lib/python3.6/site-packages/pysnmp/smi/mibs/SNMPv2-SMI.py\u001b[0m in \u001b[0;36mgetInstIdFromIndices\u001b[0;34m(self, *indices)\u001b[0m\n\u001b[1;32m   1280\u001b[0m             \u001b[0mmibObj\u001b[0m\u001b[0;34m,\u001b[0m \u001b[0;34m=\u001b[0m \u001b[0mmibBuilder\u001b[0m\u001b[0;34m.\u001b[0m\u001b[0mimportSymbols\u001b[0m\u001b[0;34m(\u001b[0m\u001b[0mmodName\u001b[0m\u001b[0;34m,\u001b[0m \u001b[0msymName\u001b[0m\u001b[0;34m)\u001b[0m\u001b[0;34m\u001b[0m\u001b[0;34m\u001b[0m\u001b[0m\n\u001b[0;32m-> 1281\u001b[0;31m             \u001b[0msyntax\u001b[0m \u001b[0;34m=\u001b[0m \u001b[0mmibObj\u001b[0m\u001b[0;34m.\u001b[0m\u001b[0msyntax\u001b[0m\u001b[0;34m.\u001b[0m\u001b[0mclone\u001b[0m\u001b[0;34m(\u001b[0m\u001b[0mindices\u001b[0m\u001b[0;34m[\u001b[0m\u001b[0midx\u001b[0m\u001b[0;34m]\u001b[0m\u001b[0;34m)\u001b[0m\u001b[0;34m\u001b[0m\u001b[0;34m\u001b[0m\u001b[0m\n\u001b[0m\u001b[1;32m   1282\u001b[0m             \u001b[0minstId\u001b[0m \u001b[0;34m+=\u001b[0m \u001b[0mself\u001b[0m\u001b[0;34m.\u001b[0m\u001b[0mgetAsName\u001b[0m\u001b[0;34m(\u001b[0m\u001b[0msyntax\u001b[0m\u001b[0;34m,\u001b[0m \u001b[0mimpliedFlag\u001b[0m\u001b[0;34m,\u001b[0m \u001b[0mparentIndices\u001b[0m\u001b[0;34m)\u001b[0m\u001b[0;34m\u001b[0m\u001b[0;34m\u001b[0m\u001b[0m\n",
      "\u001b[0;32m/srv/python/environments/newEnv/lib/python3.6/site-packages/pyasn1/type/base.py\u001b[0m in \u001b[0;36mclone\u001b[0;34m(self, value, **kwargs)\u001b[0m\n\u001b[1;32m    375\u001b[0m \u001b[0;34m\u001b[0m\u001b[0m\n\u001b[0;32m--> 376\u001b[0;31m         \u001b[0;32mreturn\u001b[0m \u001b[0mself\u001b[0m\u001b[0;34m.\u001b[0m\u001b[0m__class__\u001b[0m\u001b[0;34m(\u001b[0m\u001b[0mvalue\u001b[0m\u001b[0;34m,\u001b[0m \u001b[0;34m**\u001b[0m\u001b[0minitializers\u001b[0m\u001b[0;34m)\u001b[0m\u001b[0;34m\u001b[0m\u001b[0;34m\u001b[0m\u001b[0m\n\u001b[0m\u001b[1;32m    377\u001b[0m \u001b[0;34m\u001b[0m\u001b[0m\n",
      "\u001b[0;32m/srv/python/environments/newEnv/lib/python3.6/site-packages/pyasn1/type/univ.py\u001b[0m in \u001b[0;36m__init__\u001b[0;34m(self, value, **kwargs)\u001b[0m\n\u001b[1;32m    106\u001b[0m \u001b[0;34m\u001b[0m\u001b[0m\n\u001b[0;32m--> 107\u001b[0;31m         \u001b[0mbase\u001b[0m\u001b[0;34m.\u001b[0m\u001b[0mSimpleAsn1Type\u001b[0m\u001b[0;34m.\u001b[0m\u001b[0m__init__\u001b[0m\u001b[0;34m(\u001b[0m\u001b[0mself\u001b[0m\u001b[0;34m,\u001b[0m \u001b[0mvalue\u001b[0m\u001b[0;34m,\u001b[0m \u001b[0;34m**\u001b[0m\u001b[0mkwargs\u001b[0m\u001b[0;34m)\u001b[0m\u001b[0;34m\u001b[0m\u001b[0;34m\u001b[0m\u001b[0m\n\u001b[0m\u001b[1;32m    108\u001b[0m \u001b[0;34m\u001b[0m\u001b[0m\n",
      "\u001b[0;32m/srv/python/environments/newEnv/lib/python3.6/site-packages/pyasn1/type/base.py\u001b[0m in \u001b[0;36m__init__\u001b[0;34m(self, value, **kwargs)\u001b[0m\n\u001b[1;32m    272\u001b[0m                 \u001b[0mexType\u001b[0m\u001b[0;34m,\u001b[0m \u001b[0mexValue\u001b[0m\u001b[0;34m,\u001b[0m \u001b[0mexTb\u001b[0m \u001b[0;34m=\u001b[0m \u001b[0msys\u001b[0m\u001b[0;34m.\u001b[0m\u001b[0mexc_info\u001b[0m\u001b[0;34m(\u001b[0m\u001b[0;34m)\u001b[0m\u001b[0;34m\u001b[0m\u001b[0;34m\u001b[0m\u001b[0m\n\u001b[0;32m--> 273\u001b[0;31m                 \u001b[0;32mraise\u001b[0m \u001b[0mexType\u001b[0m\u001b[0;34m(\u001b[0m\u001b[0;34m'%s at %s'\u001b[0m \u001b[0;34m%\u001b[0m \u001b[0;34m(\u001b[0m\u001b[0mexValue\u001b[0m\u001b[0;34m,\u001b[0m \u001b[0mself\u001b[0m\u001b[0;34m.\u001b[0m\u001b[0m__class__\u001b[0m\u001b[0;34m.\u001b[0m\u001b[0m__name__\u001b[0m\u001b[0;34m)\u001b[0m\u001b[0;34m)\u001b[0m\u001b[0;34m\u001b[0m\u001b[0;34m\u001b[0m\u001b[0m\n\u001b[0m\u001b[1;32m    274\u001b[0m \u001b[0;34m\u001b[0m\u001b[0m\n",
      "\u001b[0;31mValueConstraintError\u001b[0m: <ConstraintsIntersection object, consts <ValueRangeConstraint object, consts -2147483648, 2147483647>, <ValueRangeConstraint object, consts 1, 2147483647>> failed at: ValueConstraintError('<ValueRangeConstraint object, consts 1, 2147483647> failed at: ValueConstraintError(0,)',) at Integer32",
      "\nDuring handling of the above exception, another exception occurred:\n",
      "\u001b[0;31mSmiError\u001b[0m                                  Traceback (most recent call last)",
      "\u001b[0;32m<ipython-input-43-e734f8aca5ac>\u001b[0m in \u001b[0;36m<module>\u001b[0;34m\u001b[0m\n\u001b[0;32m----> 1\u001b[0;31m \u001b[0mnext\u001b[0m\u001b[0;34m(\u001b[0m\u001b[0mg\u001b[0m\u001b[0;34m)\u001b[0m\u001b[0;34m\u001b[0m\u001b[0;34m\u001b[0m\u001b[0m\n\u001b[0m",
      "\u001b[0;32m/srv/python/environments/newEnv/lib/python3.6/site-packages/pysnmp/hlapi/asyncore/sync/cmdgen.py\u001b[0m in \u001b[0;36mgetCmd\u001b[0;34m(snmpEngine, authData, transportTarget, contextData, *varBinds, **options)\u001b[0m\n\u001b[1;32m    109\u001b[0m                           \u001b[0mcontextData\u001b[0m\u001b[0;34m,\u001b[0m \u001b[0;34m*\u001b[0m\u001b[0mvarBinds\u001b[0m\u001b[0;34m,\u001b[0m\u001b[0;34m\u001b[0m\u001b[0;34m\u001b[0m\u001b[0m\n\u001b[1;32m    110\u001b[0m                           **dict(cbFun=cbFun, cbCtx=cbCtx,\n\u001b[0;32m--> 111\u001b[0;31m                                  lookupMib=options.get('lookupMib', True)))\n\u001b[0m\u001b[1;32m    112\u001b[0m \u001b[0;34m\u001b[0m\u001b[0m\n\u001b[1;32m    113\u001b[0m             \u001b[0msnmpEngine\u001b[0m\u001b[0;34m.\u001b[0m\u001b[0mtransportDispatcher\u001b[0m\u001b[0;34m.\u001b[0m\u001b[0mrunDispatcher\u001b[0m\u001b[0;34m(\u001b[0m\u001b[0;34m)\u001b[0m\u001b[0;34m\u001b[0m\u001b[0;34m\u001b[0m\u001b[0m\n",
      "\u001b[0;32m/srv/python/environments/newEnv/lib/python3.6/site-packages/pysnmp/hlapi/asyncore/cmdgen.py\u001b[0m in \u001b[0;36mgetCmd\u001b[0;34m(snmpEngine, authData, transportTarget, contextData, *varBinds, **options)\u001b[0m\n\u001b[1;32m    128\u001b[0m         \u001b[0msnmpEngine\u001b[0m\u001b[0;34m,\u001b[0m \u001b[0maddrName\u001b[0m\u001b[0;34m,\u001b[0m \u001b[0mcontextData\u001b[0m\u001b[0;34m.\u001b[0m\u001b[0mcontextEngineId\u001b[0m\u001b[0;34m,\u001b[0m\u001b[0;34m\u001b[0m\u001b[0;34m\u001b[0m\u001b[0m\n\u001b[1;32m    129\u001b[0m         \u001b[0mcontextData\u001b[0m\u001b[0;34m.\u001b[0m\u001b[0mcontextName\u001b[0m\u001b[0;34m,\u001b[0m\u001b[0;34m\u001b[0m\u001b[0;34m\u001b[0m\u001b[0m\n\u001b[0;32m--> 130\u001b[0;31m         \u001b[0mvbProcessor\u001b[0m\u001b[0;34m.\u001b[0m\u001b[0mmakeVarBinds\u001b[0m\u001b[0;34m(\u001b[0m\u001b[0msnmpEngine\u001b[0m\u001b[0;34m,\u001b[0m \u001b[0mvarBinds\u001b[0m\u001b[0;34m)\u001b[0m\u001b[0;34m,\u001b[0m \u001b[0m__cbFun\u001b[0m\u001b[0;34m,\u001b[0m\u001b[0;34m\u001b[0m\u001b[0;34m\u001b[0m\u001b[0m\n\u001b[0m\u001b[1;32m    131\u001b[0m         (options.get('lookupMib', True),\n\u001b[1;32m    132\u001b[0m          options.get('cbFun'), options.get('cbCtx'))\n",
      "\u001b[0;32m/srv/python/environments/newEnv/lib/python3.6/site-packages/pysnmp/hlapi/varbinds.py\u001b[0m in \u001b[0;36mmakeVarBinds\u001b[0;34m(self, snmpEngine, varBinds)\u001b[0m\n\u001b[1;32m     37\u001b[0m                 \u001b[0mvarBind\u001b[0m \u001b[0;34m=\u001b[0m \u001b[0mObjectType\u001b[0m\u001b[0;34m(\u001b[0m\u001b[0mObjectIdentity\u001b[0m\u001b[0;34m(\u001b[0m\u001b[0mvarBind\u001b[0m\u001b[0;34m[\u001b[0m\u001b[0;36m0\u001b[0m\u001b[0;34m]\u001b[0m\u001b[0;34m)\u001b[0m\u001b[0;34m,\u001b[0m \u001b[0mvarBind\u001b[0m\u001b[0;34m[\u001b[0m\u001b[0;36m1\u001b[0m\u001b[0;34m]\u001b[0m\u001b[0;34m)\u001b[0m\u001b[0;34m\u001b[0m\u001b[0;34m\u001b[0m\u001b[0m\n\u001b[1;32m     38\u001b[0m \u001b[0;34m\u001b[0m\u001b[0m\n\u001b[0;32m---> 39\u001b[0;31m             \u001b[0m__varBinds\u001b[0m\u001b[0;34m.\u001b[0m\u001b[0mappend\u001b[0m\u001b[0;34m(\u001b[0m\u001b[0mvarBind\u001b[0m\u001b[0;34m.\u001b[0m\u001b[0mresolveWithMib\u001b[0m\u001b[0;34m(\u001b[0m\u001b[0mmibViewController\u001b[0m\u001b[0;34m,\u001b[0m \u001b[0mignoreErrors\u001b[0m\u001b[0;34m=\u001b[0m\u001b[0;32mFalse\u001b[0m\u001b[0;34m)\u001b[0m\u001b[0;34m)\u001b[0m\u001b[0;34m\u001b[0m\u001b[0;34m\u001b[0m\u001b[0m\n\u001b[0m\u001b[1;32m     40\u001b[0m \u001b[0;34m\u001b[0m\u001b[0m\n\u001b[1;32m     41\u001b[0m         \u001b[0;32mreturn\u001b[0m \u001b[0m__varBinds\u001b[0m\u001b[0;34m\u001b[0m\u001b[0;34m\u001b[0m\u001b[0m\n",
      "\u001b[0;32m/srv/python/environments/newEnv/lib/python3.6/site-packages/pysnmp/smi/rfc1902.py\u001b[0m in \u001b[0;36mresolveWithMib\u001b[0;34m(self, mibViewController, ignoreErrors)\u001b[0m\n\u001b[1;32m    851\u001b[0m             \u001b[0;32mreturn\u001b[0m \u001b[0mself\u001b[0m\u001b[0;34m\u001b[0m\u001b[0;34m\u001b[0m\u001b[0m\n\u001b[1;32m    852\u001b[0m \u001b[0;34m\u001b[0m\u001b[0m\n\u001b[0;32m--> 853\u001b[0;31m         \u001b[0mself\u001b[0m\u001b[0;34m.\u001b[0m\u001b[0m__args\u001b[0m\u001b[0;34m[\u001b[0m\u001b[0;36m0\u001b[0m\u001b[0;34m]\u001b[0m\u001b[0;34m.\u001b[0m\u001b[0mresolveWithMib\u001b[0m\u001b[0;34m(\u001b[0m\u001b[0mmibViewController\u001b[0m\u001b[0;34m)\u001b[0m\u001b[0;34m\u001b[0m\u001b[0;34m\u001b[0m\u001b[0m\n\u001b[0m\u001b[1;32m    854\u001b[0m \u001b[0;34m\u001b[0m\u001b[0m\n\u001b[1;32m    855\u001b[0m         MibScalar, MibTableColumn = mibViewController.mibBuilder.importSymbols('SNMPv2-SMI', 'MibScalar',\n",
      "\u001b[0;32m/srv/python/environments/newEnv/lib/python3.6/site-packages/pysnmp/smi/rfc1902.py\u001b[0m in \u001b[0;36mresolveWithMib\u001b[0;34m(self, mibViewController)\u001b[0m\n\u001b[1;32m    508\u001b[0m                     \u001b[0;32mexcept\u001b[0m \u001b[0mPyAsn1Error\u001b[0m\u001b[0;34m:\u001b[0m\u001b[0;34m\u001b[0m\u001b[0;34m\u001b[0m\u001b[0m\n\u001b[1;32m    509\u001b[0m                         raise SmiError('Instance index %r to OID conversion failure at object %r: %s' % (\n\u001b[0;32m--> 510\u001b[0;31m                             self.__args[2:], mibNode.getLabel(), sys.exc_info()[1]))\n\u001b[0m\u001b[1;32m    511\u001b[0m             \u001b[0;32melif\u001b[0m \u001b[0mself\u001b[0m\u001b[0;34m.\u001b[0m\u001b[0m__args\u001b[0m\u001b[0;34m[\u001b[0m\u001b[0;36m2\u001b[0m\u001b[0;34m:\u001b[0m\u001b[0;34m]\u001b[0m\u001b[0;34m:\u001b[0m  \u001b[0;31m# any other kind of MIB node with indices\u001b[0m\u001b[0;34m\u001b[0m\u001b[0;34m\u001b[0m\u001b[0m\n\u001b[1;32m    512\u001b[0m                 \u001b[0;32mif\u001b[0m \u001b[0mself\u001b[0m\u001b[0;34m.\u001b[0m\u001b[0m__args\u001b[0m\u001b[0;34m[\u001b[0m\u001b[0;36m2\u001b[0m\u001b[0;34m:\u001b[0m\u001b[0;34m]\u001b[0m\u001b[0;34m:\u001b[0m\u001b[0;34m\u001b[0m\u001b[0;34m\u001b[0m\u001b[0m\n",
      "\u001b[0;31mSmiError\u001b[0m: Instance index (0,) to OID conversion failure at object 'hrStorageSize': <ConstraintsIntersection object, consts <ValueRangeConstraint object, consts -2147483648, 2147483647>, <ValueRangeConstraint object, consts 1, 2147483647>> failed at: ValueConstraintError('<ValueRangeConstraint object, consts 1, 2147483647> failed at: ValueConstraintError(0,)',) at Integer32caused by <class 'pyasn1.type.error.ValueConstraintError'>: <ConstraintsIntersection object, consts <ValueRangeConstraint object, consts -2147483648, 2147483647>, <ValueRangeConstraint object, consts 1, 2147483647>> failed at: ValueConstraintError('<ValueRangeConstraint object, consts 1, 2147483647> failed at: ValueConstraintError(0,)',) at Integer32"
     ]
    }
   ],
   "source": [
    "next(g)"
   ]
  },
  {
   "cell_type": "code",
   "execution_count": 22,
   "metadata": {},
   "outputs": [],
   "source": [
    "from pysnmp.hlapi.asyncore import UdpTransportTarget"
   ]
  },
  {
   "cell_type": "code",
   "execution_count": 23,
   "metadata": {},
   "outputs": [
    {
     "data": {
      "text/plain": [
       "UdpTransportTarget(('192.168.1.30', 161), timeout=1, retries=5, tagList=b'')"
      ]
     },
     "execution_count": 23,
     "metadata": {},
     "output_type": "execute_result"
    }
   ],
   "source": [
    "UdpTransportTarget(('192.168.1.30', 161))"
   ]
  },
  {
   "cell_type": "code",
   "execution_count": 45,
   "metadata": {},
   "outputs": [
    {
     "name": "stdout",
     "output_type": "stream",
     "text": [
      "No SNMP response received before timeout\n"
     ]
    }
   ],
   "source": [
    "from pysnmp.hlapi import *\n",
    "\n",
    "def walk(host, oid):\n",
    "    for (errorIndication,errorStatus,errorIndex,varBinds) in nextCmd(SnmpEngine(), \n",
    "        CommunityData('public'), UdpTransportTarget((host, 161)), ContextData(), \n",
    "        ObjectType(ObjectIdentity(oid)),\n",
    "        lexicographicMode=False):\n",
    "        if errorIndication:\n",
    "            print(errorIndication)\n",
    "            break\n",
    "        elif errorStatus:\n",
    "            print('%s at %s' % (errorStatus.prettyPrint(),\n",
    "                                errorIndex and varBinds[int(errorIndex) - 1][0] or '?'), \n",
    "                                file=sys.stderr)             \n",
    "            break\n",
    "        else:\n",
    "            for varBind in varBinds:\n",
    "                print(varBind)\n",
    "\n",
    "walk('192.168.1.30','1.3.6.1.2.1.25.2.3.1.5')"
   ]
  },
  {
   "cell_type": "code",
   "execution_count": 46,
   "metadata": {},
   "outputs": [],
   "source": [
    "from pysnmp.hlapi import *\n",
    "host = '192.168.1.30'\n",
    "oid = '1.3.6.1.2.1.25.2.3.1.5'\n",
    "\n",
    "g = getCmd(SnmpEngine(), CommunityData('public'), UdpTransportTarget((host, 161)), ContextData(), ObjectType(ObjectIdentity(oid)), lexicographicMode=False)\n",
    "\n"
   ]
  },
  {
   "cell_type": "code",
   "execution_count": 47,
   "metadata": {},
   "outputs": [
    {
     "data": {
      "text/plain": [
       "(pysnmp.proto.errind.RequestTimedOut('No SNMP response received before timeout'),\n",
       " 0,\n",
       " 0,\n",
       " [])"
      ]
     },
     "execution_count": 47,
     "metadata": {},
     "output_type": "execute_result"
    }
   ],
   "source": [
    "next(g)"
   ]
  },
  {
   "cell_type": "code",
   "execution_count": 37,
   "metadata": {},
   "outputs": [],
   "source": [
    "x = ObjectIdentity('HOST-RESOURCES-MIB', 'hrStorageSize', 0)"
   ]
  },
  {
   "cell_type": "code",
   "execution_count": 38,
   "metadata": {},
   "outputs": [
    {
     "ename": "SmiError",
     "evalue": "ObjectIdentity object not properly initialized",
     "output_type": "error",
     "traceback": [
      "\u001b[0;31m---------------------------------------------------------------------------\u001b[0m",
      "\u001b[0;31mSmiError\u001b[0m                                  Traceback (most recent call last)",
      "\u001b[0;32m<ipython-input-38-596612539da9>\u001b[0m in \u001b[0;36m<module>\u001b[0;34m\u001b[0m\n\u001b[0;32m----> 1\u001b[0;31m \u001b[0mstr\u001b[0m\u001b[0;34m(\u001b[0m\u001b[0mx\u001b[0m\u001b[0;34m)\u001b[0m\u001b[0;34m\u001b[0m\u001b[0;34m\u001b[0m\u001b[0m\n\u001b[0m",
      "\u001b[0;32m/srv/python/environments/newEnv/lib/python3.6/site-packages/pysnmp/smi/rfc1902.py\u001b[0m in \u001b[0;36m__str__\u001b[0;34m(self)\u001b[0m\n\u001b[1;32m    544\u001b[0m             \u001b[0;32mreturn\u001b[0m \u001b[0mstr\u001b[0m\u001b[0;34m(\u001b[0m\u001b[0mself\u001b[0m\u001b[0;34m.\u001b[0m\u001b[0m__oid\u001b[0m\u001b[0;34m)\u001b[0m\u001b[0;34m\u001b[0m\u001b[0;34m\u001b[0m\u001b[0m\n\u001b[1;32m    545\u001b[0m         \u001b[0;32melse\u001b[0m\u001b[0;34m:\u001b[0m\u001b[0;34m\u001b[0m\u001b[0;34m\u001b[0m\u001b[0m\n\u001b[0;32m--> 546\u001b[0;31m             \u001b[0;32mraise\u001b[0m \u001b[0mSmiError\u001b[0m\u001b[0;34m(\u001b[0m\u001b[0;34m'%s object not properly initialized'\u001b[0m \u001b[0;34m%\u001b[0m \u001b[0mself\u001b[0m\u001b[0;34m.\u001b[0m\u001b[0m__class__\u001b[0m\u001b[0;34m.\u001b[0m\u001b[0m__name__\u001b[0m\u001b[0;34m)\u001b[0m\u001b[0;34m\u001b[0m\u001b[0;34m\u001b[0m\u001b[0m\n\u001b[0m\u001b[1;32m    547\u001b[0m \u001b[0;34m\u001b[0m\u001b[0m\n\u001b[1;32m    548\u001b[0m     \u001b[0;32mdef\u001b[0m \u001b[0m__eq__\u001b[0m\u001b[0;34m(\u001b[0m\u001b[0mself\u001b[0m\u001b[0;34m,\u001b[0m \u001b[0mother\u001b[0m\u001b[0;34m)\u001b[0m\u001b[0;34m:\u001b[0m\u001b[0;34m\u001b[0m\u001b[0;34m\u001b[0m\u001b[0m\n",
      "\u001b[0;31mSmiError\u001b[0m: ObjectIdentity object not properly initialized"
     ]
    }
   ],
   "source": [
    "str(x)"
   ]
  },
  {
   "cell_type": "code",
   "execution_count": 13,
   "metadata": {},
   "outputs": [
    {
     "name": "stdout",
     "output_type": "stream",
     "text": [
      "C:D:E:F:\n"
     ]
    }
   ],
   "source": [
    "a='Server DiskSpace Monitoring\\n\\nServer: 192.168.1.30'\n",
    "drive = {\"C:\":\"1\", \"D:\":\"2\", \"E:\":\"3\", \"F:\":\"4\"}\n",
    "ab = ['150.29 GB','32.21 GB', '400.0 GB', '12.72 GB', '400.0 GB', '65.19 GB', '200.0 GB' , '66.89 GB']\n",
    "\n",
    "for i in drive:\n",
    "#     print(drive[i])\n",
    "    a = a + i\n",
    "print(a)"
   ]
  },
  {
   "cell_type": "code",
   "execution_count": 18,
   "metadata": {},
   "outputs": [],
   "source": [
    "a='Server DiskSpace Monitoring\\n\\nServer: 192.168.1.30\\n1 Total Size: 150.29 GB Free Space: 32.21 GB\n",
    "2 Total Size: 400.0 GB Free Space: 12.72 GB\n",
    "3 Total Size: 400.0 GB Free Space: 65.18 GB\n",
    "4 Total Size: 200.0 GB Free Space: 66.89 GB'"
   ]
  },
  {
   "cell_type": "code",
   "execution_count": 19,
   "metadata": {},
   "outputs": [
    {
     "data": {
      "text/plain": [
       "'Server DiskSpace Monitoring\\nServer: 192.168.1.30'"
      ]
     },
     "execution_count": 19,
     "metadata": {},
     "output_type": "execute_result"
    }
   ],
   "source": [
    "a"
   ]
  },
  {
   "cell_type": "code",
   "execution_count": 20,
   "metadata": {},
   "outputs": [],
   "source": [
    "import requests\n",
    "URL = \"http://sms6.rmlconnect.net/bulksms/bulksms?\"\n",
    "destination = \"8109055354\"\n",
    "destination2 = \"9892727524\"\n",
    "\n",
    "PARAMS = {'username': \"avenues\", \"password\": \"zerb5rv\", \"type\": \"0\",\n",
    "          \"dlr\": \"1\", \"source\": \"CCAVEN\"}\n",
    "\n",
    "PARAMS[\"message\"] = a\n",
    "PARAMS[\"destination\"] = destination\n",
    "response = requests.get(url=URL, params=PARAMS)"
   ]
  },
  {
   "cell_type": "code",
   "execution_count": null,
   "metadata": {},
   "outputs": [],
   "source": []
  }
 ],
 "metadata": {
  "kernelspec": {
   "display_name": "Python 3",
   "language": "python",
   "name": "python3"
  },
  "language_info": {
   "codemirror_mode": {
    "name": "ipython",
    "version": 3
   },
   "file_extension": ".py",
   "mimetype": "text/x-python",
   "name": "python",
   "nbconvert_exporter": "python",
   "pygments_lexer": "ipython3",
   "version": "3.7.4"
  }
 },
 "nbformat": 4,
 "nbformat_minor": 2
}
