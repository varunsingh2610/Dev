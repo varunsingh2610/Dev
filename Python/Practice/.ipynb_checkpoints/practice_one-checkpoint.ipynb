{
 "cells": [
  {
   "cell_type": "code",
   "execution_count": 1,
   "metadata": {},
   "outputs": [],
   "source": [
    "import datetime"
   ]
  },
  {
   "cell_type": "code",
   "execution_count": 2,
   "metadata": {},
   "outputs": [],
   "source": [
    "day = datetime.datetime.today().weekday()"
   ]
  },
  {
   "cell_type": "code",
   "execution_count": 3,
   "metadata": {},
   "outputs": [],
   "source": [
    "date = datetime.datetime.now().day"
   ]
  },
  {
   "cell_type": "code",
   "execution_count": 27,
   "metadata": {},
   "outputs": [
    {
     "name": "stdout",
     "output_type": "stream",
     "text": [
      "Saturday\n"
     ]
    }
   ],
   "source": [
    "if day == 5 and date < 15:\n",
    "    print(\"Saturday\")"
   ]
  },
  {
   "cell_type": "code",
   "execution_count": null,
   "metadata": {},
   "outputs": [],
   "source": [
    "if day == 6:\n",
    "    pass\n",
    "elif day == 5:\n",
    "    if (7 < date < 15) or (21 < date < 29):\n",
    "        pass\n",
    "    else:\n",
    "        \n"
   ]
  },
  {
   "cell_type": "code",
   "execution_count": 96,
   "metadata": {},
   "outputs": [],
   "source": [
    "# Monday is 0 and Sunday is 6.\n",
    "day = 5\n",
    "date = 4"
   ]
  },
  {
   "cell_type": "code",
   "execution_count": 4,
   "metadata": {},
   "outputs": [
    {
     "name": "stdout",
     "output_type": "stream",
     "text": [
      "Normal Working day\n"
     ]
    }
   ],
   "source": [
    "if day == 6:\n",
    "    pass\n",
    "else:\n",
    "    if day == 5:\n",
    "        if (7 < date < 15) or (21 < date < 29):\n",
    "            pass\n",
    "        else:\n",
    "            print(\" Working Saturday\")\n",
    "    else:\n",
    "        print(\"Normal Working day\")"
   ]
  },
  {
   "cell_type": "code",
   "execution_count": null,
   "metadata": {},
   "outputs": [],
   "source": [
    "if day == 6:\n",
    "    pass\n",
    "else:\n",
    "    if day == 5:\n",
    "        if (7 < date < 15) or (21 < date < 29):\n",
    "            pass\n",
    "        else:\n",
    "            schedule.every().day.at(\"09:30\").do(punch)\n",
    "            schedule.every().day.at(\"14:00\").do(punch)\n",
    "    else:\n",
    "        schedule.every().day.at(\"09:30\").do(punch)\n",
    "        schedule.every().day.at(\"19:00\").do(punch)"
   ]
  },
  {
   "cell_type": "code",
   "execution_count": 11,
   "metadata": {},
   "outputs": [
    {
     "name": "stdout",
     "output_type": "stream",
     "text": [
      "working\n"
     ]
    },
    {
     "ename": "KeyboardInterrupt",
     "evalue": "",
     "output_type": "error",
     "traceback": [
      "\u001b[0;31m---------------------------------------------------------------------------\u001b[0m",
      "\u001b[0;31mKeyboardInterrupt\u001b[0m                         Traceback (most recent call last)",
      "\u001b[0;32m<ipython-input-11-4aa47fb9aca0>\u001b[0m in \u001b[0;36m<module>\u001b[0;34m\u001b[0m\n\u001b[1;32m     24\u001b[0m \u001b[0;32mwhile\u001b[0m \u001b[0;32mTrue\u001b[0m\u001b[0;34m:\u001b[0m\u001b[0;34m\u001b[0m\u001b[0;34m\u001b[0m\u001b[0m\n\u001b[1;32m     25\u001b[0m     \u001b[0mschedule\u001b[0m\u001b[0;34m.\u001b[0m\u001b[0mrun_pending\u001b[0m\u001b[0;34m(\u001b[0m\u001b[0;34m)\u001b[0m\u001b[0;34m\u001b[0m\u001b[0;34m\u001b[0m\u001b[0m\n\u001b[0;32m---> 26\u001b[0;31m     \u001b[0mtime\u001b[0m\u001b[0;34m.\u001b[0m\u001b[0msleep\u001b[0m\u001b[0;34m(\u001b[0m\u001b[0;36m1\u001b[0m\u001b[0;34m)\u001b[0m\u001b[0;34m\u001b[0m\u001b[0;34m\u001b[0m\u001b[0m\n\u001b[0m",
      "\u001b[0;31mKeyboardInterrupt\u001b[0m: "
     ]
    }
   ],
   "source": [
    "import datetime\n",
    "import schedule\n",
    "import time\n",
    "\n",
    "day = datetime.datetime.today().weekday()\n",
    "date = datetime.datetime.now().day\n",
    "\n",
    "\n",
    "def punch():\n",
    "\n",
    "    print(\"working\")\n",
    "\n",
    "if day == 6:\n",
    "    pass\n",
    "else:\n",
    "    if day == 5:\n",
    "        if (7 < date < 15) or (21 < date < 29):\n",
    "            pass\n",
    "        else:\n",
    "            schedule.every().day.at(\"23:30\").do(punch)\n",
    "    else:\n",
    "        schedule.every().tuesday.at(\"02:40\").do(punch)\n",
    "\n",
    "while True:\n",
    "    schedule.run_pending()\n",
    "    time.sleep(1)\n"
   ]
  },
  {
   "cell_type": "code",
   "execution_count": null,
   "metadata": {},
   "outputs": [],
   "source": [
    "#!/usr/bin/python3\n",
    "\n",
    "from selenium import webdriver\n",
    "import schedule\n",
    "import time\n",
    "import datetime\n",
    "\n",
    "data = {\"varun\":{\"username\":\"IA0892\", \"password\":\"Pass@1234\"},\n",
    "        \"shweta\":{\"username\":\"IA0597\", \"password\":\"Anvi@2819\"}}\n",
    "\n",
    "day = datetime.datetime.today().weekday()\n",
    "date = datetime.datetime.now().day\n",
    "\n",
    "\n",
    "def punch():\n",
    "\n",
    "    for i in data:\n",
    "\n",
    "        browser = webdriver.Firefox()\n",
    "        browser.get(\"http://hralign.avenues.info/HRAlign_Avenue_LIVE/login.spr\")\n",
    "\n",
    "        time.sleep(10)\n",
    "\n",
    "        username = browser.find_element_by_id(\"username\")\n",
    "        password = browser.find_element_by_id(\"password\")\n",
    "\n",
    "        username.send_keys(data[i][\"username\"])\n",
    "        password.send_keys(data[i][\"password\"])\n",
    "\n",
    "        browser.find_element_by_xpath('//*[@id=\"contact\"]/div/div/div[4]/button').click()\n",
    "\n",
    "        time.sleep(5)\n",
    "\n",
    "        # try:\n",
    "        #     browser.find_element_by_xpath('//*[@id=\"moodIe\"]/div/div/ul/li[1]/img').click()\n",
    "        # except:\n",
    "        #     print(\"Unable to locate element: Sad Smiley\")\n",
    "        # try:\n",
    "        #     time.sleep(5)\n",
    "        #     browser.find_element_by_xpath('//*[@id=\"header\"]/header/ul/li[1]').click()\n",
    "        #\n",
    "        #     time.sleep(5)\n",
    "        #     try:\n",
    "        #         browser.find_element_by_xpath('/html/body/div[6]/div/div[4]/div[1]/button').click()\n",
    "        #     except:\n",
    "        #         browser.find_element_by_xpath('/html/body/div[3]/div/div[4]/div[1]/button').click()\n",
    "        #     time.sleep(10)\n",
    "        #     browser.quit()\n",
    "        #     time.sleep(60)\n",
    "        # except:\n",
    "        #     print(\"Unable to locate element: Log Button\")\n",
    "\n",
    "if day == 6:\n",
    "    print(\"Sunday\")\n",
    "    pass\n",
    "else:\n",
    "\n",
    "    if day == 5:\n",
    "        if (7 < date < 15) or (21 < date < 29):\n",
    "            pass\n",
    "        else:\n",
    "            print(\"Working Saturday\")\n",
    "            schedule.every().day.at(\"09:30\").do(punch)\n",
    "            schedule.every().day.at(\"02:00\").do(punch)\n",
    "    else:\n",
    "        print(\"WeekDay\")\n",
    "        schedule.every().day.at(\"01:49\").do(punch)\n",
    "        schedule.every().day.at(\"01:51\").do(punch)\n",
    "\n",
    "while True:\n",
    "    schedule.run_pending()\n",
    "    time.sleep(1)\n"
   ]
  },
  {
   "cell_type": "code",
   "execution_count": 10,
   "metadata": {},
   "outputs": [
    {
     "ename": "KeyboardInterrupt",
     "evalue": "",
     "output_type": "error",
     "traceback": [
      "\u001b[0;31m---------------------------------------------------------------------------\u001b[0m",
      "\u001b[0;31mKeyboardInterrupt\u001b[0m                         Traceback (most recent call last)",
      "\u001b[0;32m<ipython-input-10-a035736d1979>\u001b[0m in \u001b[0;36m<module>\u001b[0;34m\u001b[0m\n\u001b[1;32m     56\u001b[0m \u001b[0;32mwhile\u001b[0m \u001b[0;32mTrue\u001b[0m\u001b[0;34m:\u001b[0m\u001b[0;34m\u001b[0m\u001b[0;34m\u001b[0m\u001b[0m\n\u001b[1;32m     57\u001b[0m     \u001b[0mschedule\u001b[0m\u001b[0;34m.\u001b[0m\u001b[0mrun_pending\u001b[0m\u001b[0;34m(\u001b[0m\u001b[0;34m)\u001b[0m\u001b[0;34m\u001b[0m\u001b[0;34m\u001b[0m\u001b[0m\n\u001b[0;32m---> 58\u001b[0;31m     \u001b[0mtime\u001b[0m\u001b[0;34m.\u001b[0m\u001b[0msleep\u001b[0m\u001b[0;34m(\u001b[0m\u001b[0;36m1\u001b[0m\u001b[0;34m)\u001b[0m\u001b[0;34m\u001b[0m\u001b[0;34m\u001b[0m\u001b[0m\n\u001b[0m",
      "\u001b[0;31mKeyboardInterrupt\u001b[0m: "
     ]
    }
   ],
   "source": [
    "#!/usr/bin/python3\n",
    "\n",
    "from selenium import webdriver\n",
    "import schedule\n",
    "import time\n",
    "import datetime\n",
    "\n",
    "data = {\"varun\":{\"username\":\"IA0892\", \"password\":\"Pass@1234\"},\n",
    "        \"shweta\":{\"username\":\"IA0597\", \"password\":\"Anvi@2819\"}}\n",
    "\n",
    "\n",
    "def punch():\n",
    "    \n",
    "    day = datetime.datetime.today().weekday()\n",
    "    date = datetime.datetime.now().day\n",
    "    \n",
    "    if (day == 5) and 7 < date < 15) or (21 < date < 29):\n",
    "        pass\n",
    "    \n",
    "    else:\n",
    "\n",
    "        for i in data:\n",
    "\n",
    "            browser = webdriver.Firefox()\n",
    "            browser.get(\"http://hralign.avenues.info/HRAlign_Avenue_LIVE/login.spr\")\n",
    "\n",
    "            time.sleep(10)\n",
    "\n",
    "            username = browser.find_element_by_id(\"username\")\n",
    "            password = browser.find_element_by_id(\"password\")\n",
    "\n",
    "            username.send_keys(data[i][\"username\"])\n",
    "            password.send_keys(data[i][\"password\"])\n",
    "\n",
    "            browser.find_element_by_xpath('//*[@id=\"contact\"]/div/div/div[4]/button').click()\n",
    "\n",
    "            time.sleep(5)\n",
    "\n",
    "            try:\n",
    "                browser.find_element_by_xpath('//*[@id=\"moodIe\"]/div/div/ul/li[1]/img').click()\n",
    "            except:\n",
    "                print(\"Unable to locate element: Sad Smiley\")\n",
    "            try:\n",
    "                time.sleep(5)\n",
    "                browser.find_element_by_xpath('//*[@id=\"header\"]/header/ul/li[1]').click()\n",
    "\n",
    "                time.sleep(5)\n",
    "                try:\n",
    "                    browser.find_element_by_xpath('/html/body/div[6]/div/div[4]/div[1]/button').click()\n",
    "                except:\n",
    "                    browser.find_element_by_xpath('/html/body/div[3]/div/div[4]/div[1]/button').click()\n",
    "                time.sleep(10)\n",
    "                browser.quit()\n",
    "                time.sleep(60)\n",
    "            except:\n",
    "                print(\"Unable to locate element: Log Button\")\n",
    "        \n",
    "\n",
    "schedule.every().monday.at(\"09:30\").do(punch)\n",
    "schedule.every().monday.at(\"19:00\").do(punch)\n",
    "\n",
    "schedule.every().tuesday.at(\"09:30\").do(punch)\n",
    "schedule.every().tuesday.at(\"19:00\").do(punch)\n",
    "\n",
    "schedule.every().wednesday.at(\"09:30\").do(punch)\n",
    "schedule.every().wednesday.at(\"19:00\").do(punch)\n",
    "\n",
    "schedule.every().thursday.at(\"09:30\").do(punch)\n",
    "schedule.every().thursday.at(\"19:00\").do(punch)\n",
    "\n",
    "schedule.every().friday.at(\"09:30\").do(punch)\n",
    "schedule.every().friday.at(\"19:00\").do(punch)\n",
    "\n",
    "schedule.every().saturday.at(\"09:30\").do(punchSat)\n",
    "schedule.every().saturday.at(\"14:00\").do(punchSat)\n",
    "\n",
    "\n",
    "\n",
    "while True:\n",
    "    schedule.run_pending()\n",
    "    time.sleep(1)\n"
   ]
  },
  {
   "cell_type": "code",
   "execution_count": 2,
   "metadata": {},
   "outputs": [
    {
     "name": "stdout",
     "output_type": "stream",
     "text": [
      "03:25:14\n"
     ]
    }
   ],
   "source": [
    "from datetime import datetime\n",
    "from datetime import timedelta\n",
    "\n",
    "\n",
    "timee = (datetime.now()+ timedelta(seconds=60)).strftime('%H:%M:%S')\n",
    "day = 3\n",
    "date = 18\n",
    "print(timee)"
   ]
  },
  {
   "cell_type": "code",
   "execution_count": null,
   "metadata": {},
   "outputs": [
    {
     "name": "stdout",
     "output_type": "stream",
     "text": [
      "Punch!\n",
      "Punch!\n"
     ]
    }
   ],
   "source": [
    "#!/usr/bin/python3\n",
    "\n",
    "from selenium import webdriver\n",
    "import schedule\n",
    "import time\n",
    "import datetime\n",
    "\n",
    "def punch():\n",
    "    \n",
    "    if (day == 5) and ((7 < date < 15) or (21 < date < 29)):\n",
    "        print(\"pass\")\n",
    "        pass\n",
    "    \n",
    "    else:\n",
    "\n",
    "        print(\"Punch!\")\n",
    "        \n",
    "\n",
    "schedule.every().monday.at(timee).do(punch)\n",
    "schedule.every().monday.at(timee).do(punch)\n",
    "\n",
    "schedule.every().tuesday.at(timee).do(punch)\n",
    "schedule.every().tuesday.at(timee).do(punch)\n",
    "\n",
    "schedule.every().wednesday.at(timee).do(punch)\n",
    "schedule.every().wednesday.at(timee).do(punch)\n",
    "\n",
    "schedule.every().thursday.at(timee).do(punch)\n",
    "schedule.every().thursday.at(timee).do(punch)\n",
    "\n",
    "schedule.every().friday.at(timee).do(punch)\n",
    "schedule.every().friday.at(timee).do(punch)\n",
    "\n",
    "schedule.every().saturday.at(timee).do(punch)\n",
    "schedule.every().saturday.at(timee).do(punch)\n",
    "\n",
    "\n",
    "\n",
    "while True:\n",
    "    schedule.run_pending()\n",
    "    time.sleep(1)\n"
   ]
  },
  {
   "cell_type": "code",
   "execution_count": 43,
   "metadata": {},
   "outputs": [
    {
     "name": "stdout",
     "output_type": "stream",
     "text": [
      "03:41:42\n",
      "03:42:12\n"
     ]
    }
   ],
   "source": [
    "from datetime import datetime\n",
    "from datetime import timedelta\n",
    "\n",
    "# datetime(2009, 1, 6, 15, 8, 24, 78915)\n",
    "print(datetime.now().strftime('%H:%M:%S'))\n",
    "print((datetime.now()+ timedelta(seconds=30)).strftime('%H:%M:%S'))"
   ]
  },
  {
   "cell_type": "code",
   "execution_count": 48,
   "metadata": {},
   "outputs": [],
   "source": [
    "time = (datetime.now()+ timedelta(seconds=30)).strftime('%H:%M')"
   ]
  },
  {
   "cell_type": "code",
   "execution_count": 54,
   "metadata": {},
   "outputs": [
    {
     "data": {
      "text/plain": [
       "'03:43'"
      ]
     },
     "execution_count": 54,
     "metadata": {},
     "output_type": "execute_result"
    }
   ],
   "source": [
    "timee"
   ]
  },
  {
   "cell_type": "code",
   "execution_count": null,
   "metadata": {},
   "outputs": [],
   "source": [
    "import datetime\n",
    "\n",
    "day = datetime.datetime.today().weekday()\n",
    "date = datetime.datetime.now().day\n",
    "\n",
    "print(day, date)"
   ]
  },
  {
   "cell_type": "code",
   "execution_count": null,
   "metadata": {},
   "outputs": [],
   "source": []
  }
 ],
 "metadata": {
  "kernelspec": {
   "display_name": "Python 3",
   "language": "python",
   "name": "python3"
  },
  "language_info": {
   "codemirror_mode": {
    "name": "ipython",
    "version": 3
   },
   "file_extension": ".py",
   "mimetype": "text/x-python",
   "name": "python",
   "nbconvert_exporter": "python",
   "pygments_lexer": "ipython3",
   "version": "3.8.2"
  }
 },
 "nbformat": 4,
 "nbformat_minor": 2
}
