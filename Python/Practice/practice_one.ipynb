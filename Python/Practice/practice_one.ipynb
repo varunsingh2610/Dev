{
 "cells": [
  {
   "cell_type": "code",
   "execution_count": 1,
   "metadata": {},
   "outputs": [],
   "source": [
    "import datetime"
   ]
  },
  {
   "cell_type": "code",
   "execution_count": 2,
   "metadata": {},
   "outputs": [],
   "source": [
    "day = datetime.datetime.today().weekday()"
   ]
  },
  {
   "cell_type": "code",
   "execution_count": 3,
   "metadata": {},
   "outputs": [],
   "source": [
    "date = datetime.datetime.now().day"
   ]
  },
  {
   "cell_type": "code",
   "execution_count": 27,
   "metadata": {},
   "outputs": [
    {
     "name": "stdout",
     "output_type": "stream",
     "text": [
      "Saturday\n"
     ]
    }
   ],
   "source": [
    "if day == 5 and date < 15:\n",
    "    print(\"Saturday\")"
   ]
  },
  {
   "cell_type": "code",
   "execution_count": null,
   "metadata": {},
   "outputs": [],
   "source": [
    "if day == 6:\n",
    "    pass\n",
    "elif day == 5:\n",
    "    if (7 < date < 15) or (21 < date < 29):\n",
    "        pass\n",
    "    else:\n",
    "        \n"
   ]
  },
  {
   "cell_type": "code",
   "execution_count": 96,
   "metadata": {},
   "outputs": [],
   "source": [
    "# Monday is 0 and Sunday is 6.\n",
    "day = 5\n",
    "date = 4"
   ]
  },
  {
   "cell_type": "code",
   "execution_count": 4,
   "metadata": {},
   "outputs": [
    {
     "name": "stdout",
     "output_type": "stream",
     "text": [
      "Normal Working day\n"
     ]
    }
   ],
   "source": [
    "if day == 6:\n",
    "    pass\n",
    "else:\n",
    "    if day == 5:\n",
    "        if (7 < date < 15) or (21 < date < 29):\n",
    "            pass\n",
    "        else:\n",
    "            print(\" Working Saturday\")\n",
    "    else:\n",
    "        print(\"Normal Working day\")"
   ]
  },
  {
   "cell_type": "code",
   "execution_count": null,
   "metadata": {},
   "outputs": [],
   "source": [
    "if day == 6:\n",
    "    pass\n",
    "else:\n",
    "    if day == 5:\n",
    "        if (7 < date < 15) or (21 < date < 29):\n",
    "            pass\n",
    "        else:\n",
    "            schedule.every().day.at(\"09:30\").do(punch)\n",
    "            schedule.every().day.at(\"14:00\").do(punch)\n",
    "    else:\n",
    "        schedule.every().day.at(\"09:30\").do(punch)\n",
    "        schedule.every().day.at(\"19:00\").do(punch)"
   ]
  },
  {
   "cell_type": "code",
   "execution_count": 11,
   "metadata": {},
   "outputs": [
    {
     "name": "stdout",
     "output_type": "stream",
     "text": [
      "working\n"
     ]
    },
    {
     "ename": "KeyboardInterrupt",
     "evalue": "",
     "output_type": "error",
     "traceback": [
      "\u001b[0;31m---------------------------------------------------------------------------\u001b[0m",
      "\u001b[0;31mKeyboardInterrupt\u001b[0m                         Traceback (most recent call last)",
      "\u001b[0;32m<ipython-input-11-4aa47fb9aca0>\u001b[0m in \u001b[0;36m<module>\u001b[0;34m\u001b[0m\n\u001b[1;32m     24\u001b[0m \u001b[0;32mwhile\u001b[0m \u001b[0;32mTrue\u001b[0m\u001b[0;34m:\u001b[0m\u001b[0;34m\u001b[0m\u001b[0;34m\u001b[0m\u001b[0m\n\u001b[1;32m     25\u001b[0m     \u001b[0mschedule\u001b[0m\u001b[0;34m.\u001b[0m\u001b[0mrun_pending\u001b[0m\u001b[0;34m(\u001b[0m\u001b[0;34m)\u001b[0m\u001b[0;34m\u001b[0m\u001b[0;34m\u001b[0m\u001b[0m\n\u001b[0;32m---> 26\u001b[0;31m     \u001b[0mtime\u001b[0m\u001b[0;34m.\u001b[0m\u001b[0msleep\u001b[0m\u001b[0;34m(\u001b[0m\u001b[0;36m1\u001b[0m\u001b[0;34m)\u001b[0m\u001b[0;34m\u001b[0m\u001b[0;34m\u001b[0m\u001b[0m\n\u001b[0m",
      "\u001b[0;31mKeyboardInterrupt\u001b[0m: "
     ]
    }
   ],
   "source": [
    "import datetime\n",
    "import schedule\n",
    "import time\n",
    "\n",
    "day = datetime.datetime.today().weekday()\n",
    "date = datetime.datetime.now().day\n",
    "\n",
    "\n",
    "def punch():\n",
    "\n",
    "    print(\"working\")\n",
    "\n",
    "if day == 6:\n",
    "    pass\n",
    "else:\n",
    "    if day == 5:\n",
    "        if (7 < date < 15) or (21 < date < 29):\n",
    "            pass\n",
    "        else:\n",
    "            schedule.every().day.at(\"23:30\").do(punch)\n",
    "    else:\n",
    "        schedule.every().tuesday.at(\"02:40\").do(punch)\n",
    "\n",
    "while True:\n",
    "    schedule.run_pending()\n",
    "    time.sleep(1)\n"
   ]
  },
  {
   "cell_type": "code",
   "execution_count": null,
   "metadata": {},
   "outputs": [],
   "source": [
    "#!/usr/bin/python3\n",
    "\n",
    "from selenium import webdriver\n",
    "import schedule\n",
    "import time\n",
    "import datetime\n",
    "\n",
    "data = {\"varun\":{\"username\":\"IA0892\", \"password\":\"Pass@1234\"},\n",
    "        \"shweta\":{\"username\":\"IA0597\", \"password\":\"Anvi@2819\"}}\n",
    "\n",
    "day = datetime.datetime.today().weekday()\n",
    "date = datetime.datetime.now().day\n",
    "\n",
    "\n",
    "def punch():\n",
    "\n",
    "    for i in data:\n",
    "\n",
    "        browser = webdriver.Firefox()\n",
    "        browser.get(\"http://hralign.avenues.info/HRAlign_Avenue_LIVE/login.spr\")\n",
    "\n",
    "        time.sleep(10)\n",
    "\n",
    "        username = browser.find_element_by_id(\"username\")\n",
    "        password = browser.find_element_by_id(\"password\")\n",
    "\n",
    "        username.send_keys(data[i][\"username\"])\n",
    "        password.send_keys(data[i][\"password\"])\n",
    "\n",
    "        browser.find_element_by_xpath('//*[@id=\"contact\"]/div/div/div[4]/button').click()\n",
    "\n",
    "        time.sleep(5)\n",
    "\n",
    "        # try:\n",
    "        #     browser.find_element_by_xpath('//*[@id=\"moodIe\"]/div/div/ul/li[1]/img').click()\n",
    "        # except:\n",
    "        #     print(\"Unable to locate element: Sad Smiley\")\n",
    "        # try:\n",
    "        #     time.sleep(5)\n",
    "        #     browser.find_element_by_xpath('//*[@id=\"header\"]/header/ul/li[1]').click()\n",
    "        #\n",
    "        #     time.sleep(5)\n",
    "        #     try:\n",
    "        #         browser.find_element_by_xpath('/html/body/div[6]/div/div[4]/div[1]/button').click()\n",
    "        #     except:\n",
    "        #         browser.find_element_by_xpath('/html/body/div[3]/div/div[4]/div[1]/button').click()\n",
    "        #     time.sleep(10)\n",
    "        #     browser.quit()\n",
    "        #     time.sleep(60)\n",
    "        # except:\n",
    "        #     print(\"Unable to locate element: Log Button\")\n",
    "\n",
    "if day == 6:\n",
    "    print(\"Sunday\")\n",
    "    pass\n",
    "else:\n",
    "\n",
    "    if day == 5:\n",
    "        if (7 < date < 15) or (21 < date < 29):\n",
    "            pass\n",
    "        else:\n",
    "            print(\"Working Saturday\")\n",
    "            schedule.every().day.at(\"09:30\").do(punch)\n",
    "            schedule.every().day.at(\"02:00\").do(punch)\n",
    "    else:\n",
    "        print(\"WeekDay\")\n",
    "        schedule.every().day.at(\"01:49\").do(punch)\n",
    "        schedule.every().day.at(\"01:51\").do(punch)\n",
    "\n",
    "while True:\n",
    "    schedule.run_pending()\n",
    "    time.sleep(1)\n"
   ]
  },
  {
   "cell_type": "code",
   "execution_count": 10,
   "metadata": {},
   "outputs": [
    {
     "ename": "KeyboardInterrupt",
     "evalue": "",
     "output_type": "error",
     "traceback": [
      "\u001b[0;31m---------------------------------------------------------------------------\u001b[0m",
      "\u001b[0;31mKeyboardInterrupt\u001b[0m                         Traceback (most recent call last)",
      "\u001b[0;32m<ipython-input-10-a035736d1979>\u001b[0m in \u001b[0;36m<module>\u001b[0;34m\u001b[0m\n\u001b[1;32m     56\u001b[0m \u001b[0;32mwhile\u001b[0m \u001b[0;32mTrue\u001b[0m\u001b[0;34m:\u001b[0m\u001b[0;34m\u001b[0m\u001b[0;34m\u001b[0m\u001b[0m\n\u001b[1;32m     57\u001b[0m     \u001b[0mschedule\u001b[0m\u001b[0;34m.\u001b[0m\u001b[0mrun_pending\u001b[0m\u001b[0;34m(\u001b[0m\u001b[0;34m)\u001b[0m\u001b[0;34m\u001b[0m\u001b[0;34m\u001b[0m\u001b[0m\n\u001b[0;32m---> 58\u001b[0;31m     \u001b[0mtime\u001b[0m\u001b[0;34m.\u001b[0m\u001b[0msleep\u001b[0m\u001b[0;34m(\u001b[0m\u001b[0;36m1\u001b[0m\u001b[0;34m)\u001b[0m\u001b[0;34m\u001b[0m\u001b[0;34m\u001b[0m\u001b[0m\n\u001b[0m",
      "\u001b[0;31mKeyboardInterrupt\u001b[0m: "
     ]
    }
   ],
   "source": [
    "#!/usr/bin/python3\n",
    "\n",
    "from selenium import webdriver\n",
    "import schedule\n",
    "import time\n",
    "import datetime\n",
    "\n",
    "data = {\"varun\":{\"username\":\"IA0892\", \"password\":\"Pass@1234\"},\n",
    "        \"shweta\":{\"username\":\"IA0597\", \"password\":\"Anvi@2819\"}}\n",
    "\n",
    "\n",
    "def punch():\n",
    "    \n",
    "    day = datetime.datetime.today().weekday()\n",
    "    date = datetime.datetime.now().day\n",
    "    \n",
    "    if (day == 5) and 7 < date < 15) or (21 < date < 29):\n",
    "        pass\n",
    "    \n",
    "    else:\n",
    "\n",
    "        for i in data:\n",
    "\n",
    "            browser = webdriver.Firefox()\n",
    "            browser.get(\"http://hralign.avenues.info/HRAlign_Avenue_LIVE/login.spr\")\n",
    "\n",
    "            time.sleep(10)\n",
    "\n",
    "            username = browser.find_element_by_id(\"username\")\n",
    "            password = browser.find_element_by_id(\"password\")\n",
    "\n",
    "            username.send_keys(data[i][\"username\"])\n",
    "            password.send_keys(data[i][\"password\"])\n",
    "\n",
    "            browser.find_element_by_xpath('//*[@id=\"contact\"]/div/div/div[4]/button').click()\n",
    "\n",
    "            time.sleep(5)\n",
    "\n",
    "            try:\n",
    "                browser.find_element_by_xpath('//*[@id=\"moodIe\"]/div/div/ul/li[1]/img').click()\n",
    "            except:\n",
    "                print(\"Unable to locate element: Sad Smiley\")\n",
    "            try:\n",
    "                time.sleep(5)\n",
    "                browser.find_element_by_xpath('//*[@id=\"header\"]/header/ul/li[1]').click()\n",
    "\n",
    "                time.sleep(5)\n",
    "                try:\n",
    "                    browser.find_element_by_xpath('/html/body/div[6]/div/div[4]/div[1]/button').click()\n",
    "                except:\n",
    "                    browser.find_element_by_xpath('/html/body/div[3]/div/div[4]/div[1]/button').click()\n",
    "                time.sleep(10)\n",
    "                browser.quit()\n",
    "                time.sleep(60)\n",
    "            except:\n",
    "                print(\"Unable to locate element: Log Button\")\n",
    "        \n",
    "\n",
    "schedule.every().monday.at(\"09:30\").do(punch)\n",
    "schedule.every().monday.at(\"19:00\").do(punch)\n",
    "\n",
    "schedule.every().tuesday.at(\"09:30\").do(punch)\n",
    "schedule.every().tuesday.at(\"19:00\").do(punch)\n",
    "\n",
    "schedule.every().wednesday.at(\"09:30\").do(punch)\n",
    "schedule.every().wednesday.at(\"19:00\").do(punch)\n",
    "\n",
    "schedule.every().thursday.at(\"09:30\").do(punch)\n",
    "schedule.every().thursday.at(\"19:00\").do(punch)\n",
    "\n",
    "schedule.every().friday.at(\"09:30\").do(punch)\n",
    "schedule.every().friday.at(\"19:00\").do(punch)\n",
    "\n",
    "schedule.every().saturday.at(\"09:30\").do(punchSat)\n",
    "schedule.every().saturday.at(\"14:00\").do(punchSat)\n",
    "\n",
    "\n",
    "\n",
    "while True:\n",
    "    schedule.run_pending()\n",
    "    time.sleep(1)\n"
   ]
  },
  {
   "cell_type": "code",
   "execution_count": 2,
   "metadata": {},
   "outputs": [
    {
     "name": "stdout",
     "output_type": "stream",
     "text": [
      "03:25:14\n"
     ]
    }
   ],
   "source": [
    "from datetime import datetime\n",
    "from datetime import timedelta\n",
    "\n",
    "\n",
    "timee = (datetime.now()+ timedelta(seconds=60)).strftime('%H:%M:%S')\n",
    "day = 3\n",
    "date = 18\n",
    "print(timee)"
   ]
  },
  {
   "cell_type": "code",
   "execution_count": null,
   "metadata": {},
   "outputs": [
    {
     "name": "stdout",
     "output_type": "stream",
     "text": [
      "Punch!\n",
      "Punch!\n"
     ]
    }
   ],
   "source": [
    "#!/usr/bin/python3\n",
    "\n",
    "from selenium import webdriver\n",
    "import schedule\n",
    "import time\n",
    "import datetime\n",
    "\n",
    "def punch():\n",
    "    \n",
    "    if (day == 5) and ((7 < date < 15) or (21 < date < 29)):\n",
    "        print(\"pass\")\n",
    "        pass\n",
    "    \n",
    "    else:\n",
    "\n",
    "        print(\"Punch!\")\n",
    "        \n",
    "\n",
    "schedule.every().monday.at(timee).do(punch)\n",
    "schedule.every().monday.at(timee).do(punch)\n",
    "\n",
    "schedule.every().tuesday.at(timee).do(punch)\n",
    "schedule.every().tuesday.at(timee).do(punch)\n",
    "\n",
    "schedule.every().wednesday.at(timee).do(punch)\n",
    "schedule.every().wednesday.at(timee).do(punch)\n",
    "\n",
    "schedule.every().thursday.at(timee).do(punch)\n",
    "schedule.every().thursday.at(timee).do(punch)\n",
    "\n",
    "schedule.every().friday.at(timee).do(punch)\n",
    "schedule.every().friday.at(timee).do(punch)\n",
    "\n",
    "schedule.every().saturday.at(timee).do(punch)\n",
    "schedule.every().saturday.at(timee).do(punch)\n",
    "\n",
    "\n",
    "\n",
    "while True:\n",
    "    schedule.run_pending()\n",
    "    time.sleep(1)\n"
   ]
  },
  {
   "cell_type": "code",
   "execution_count": 43,
   "metadata": {},
   "outputs": [
    {
     "name": "stdout",
     "output_type": "stream",
     "text": [
      "03:41:42\n",
      "03:42:12\n"
     ]
    }
   ],
   "source": [
    "from datetime import datetime\n",
    "from datetime import timedelta\n",
    "\n",
    "# datetime(2009, 1, 6, 15, 8, 24, 78915)\n",
    "print(datetime.now().strftime('%H:%M:%S'))\n",
    "print((datetime.now()+ timedelta(seconds=30)).strftime('%H:%M:%S'))"
   ]
  },
  {
   "cell_type": "code",
   "execution_count": 48,
   "metadata": {},
   "outputs": [],
   "source": [
    "time = (datetime.now()+ timedelta(seconds=30)).strftime('%H:%M')"
   ]
  },
  {
   "cell_type": "code",
   "execution_count": 54,
   "metadata": {},
   "outputs": [
    {
     "data": {
      "text/plain": [
       "'03:43'"
      ]
     },
     "execution_count": 54,
     "metadata": {},
     "output_type": "execute_result"
    }
   ],
   "source": [
    "timee"
   ]
  },
  {
   "cell_type": "code",
   "execution_count": null,
   "metadata": {},
   "outputs": [],
   "source": [
    "import datetime\n",
    "\n",
    "day = datetime.datetime.today().weekday()\n",
    "date = datetime.datetime.now().day\n",
    "\n",
    "print(day, date)"
   ]
  },
  {
   "cell_type": "code",
   "execution_count": 2,
   "metadata": {},
   "outputs": [],
   "source": [
    "class Computer:\n",
    "    def __init__(self):\n",
    "        self.name = \"varun\"\n",
    "        self.age = 28\n",
    "        \n",
    "c1 = Computer()\n",
    "c2 = Computer()\n",
    "\n"
   ]
  },
  {
   "cell_type": "code",
   "execution_count": 3,
   "metadata": {},
   "outputs": [
    {
     "data": {
      "text/plain": [
       "False"
      ]
     },
     "execution_count": 3,
     "metadata": {},
     "output_type": "execute_result"
    }
   ],
   "source": [
    "c1 == c2"
   ]
  },
  {
   "cell_type": "code",
   "execution_count": 4,
   "metadata": {},
   "outputs": [
    {
     "data": {
      "text/plain": [
       "True"
      ]
     },
     "execution_count": 4,
     "metadata": {},
     "output_type": "execute_result"
    }
   ],
   "source": [
    "c1.age == c2.age"
   ]
  },
  {
   "cell_type": "code",
   "execution_count": 6,
   "metadata": {},
   "outputs": [
    {
     "ename": "TypeError",
     "evalue": "__init__() missing 2 required positional arguments: 'coffee_name' and 'price'",
     "output_type": "error",
     "traceback": [
      "\u001b[1;31m---------------------------------------------------------------------------\u001b[0m",
      "\u001b[1;31mTypeError\u001b[0m                                 Traceback (most recent call last)",
      "\u001b[1;32m<ipython-input-6-fe2a5a2b6680>\u001b[0m in \u001b[0;36m<module>\u001b[1;34m\u001b[0m\n\u001b[0;32m      5\u001b[0m \u001b[1;33m\u001b[0m\u001b[0m\n\u001b[0;32m      6\u001b[0m \u001b[1;31m# customer_order = CoffeeOrder(\"Espresso\", 2.10)\u001b[0m\u001b[1;33m\u001b[0m\u001b[1;33m\u001b[0m\u001b[1;33m\u001b[0m\u001b[0m\n\u001b[1;32m----> 7\u001b[1;33m \u001b[0mcustomer_order\u001b[0m \u001b[1;33m=\u001b[0m \u001b[0mCoffeeOrder\u001b[0m\u001b[1;33m(\u001b[0m\u001b[1;33m)\u001b[0m\u001b[1;33m\u001b[0m\u001b[1;33m\u001b[0m\u001b[0m\n\u001b[0m\u001b[0;32m      8\u001b[0m \u001b[0mprint\u001b[0m\u001b[1;33m(\u001b[0m\u001b[0mcustomer_order\u001b[0m\u001b[1;33m.\u001b[0m\u001b[0mcoffee_name\u001b[0m\u001b[1;33m)\u001b[0m\u001b[1;33m\u001b[0m\u001b[1;33m\u001b[0m\u001b[0m\n\u001b[0;32m      9\u001b[0m \u001b[0mprint\u001b[0m\u001b[1;33m(\u001b[0m\u001b[0mcustomer_order\u001b[0m\u001b[1;33m.\u001b[0m\u001b[0mprice\u001b[0m\u001b[1;33m)\u001b[0m\u001b[1;33m\u001b[0m\u001b[1;33m\u001b[0m\u001b[0m\n",
      "\u001b[1;31mTypeError\u001b[0m: __init__() missing 2 required positional arguments: 'coffee_name' and 'price'"
     ]
    }
   ],
   "source": [
    "class CoffeeOrder:\n",
    "    def __init__(self, coffee_name, price):\n",
    "        self.coffee_name = coffee_name\n",
    "        self.price = price\n",
    "\n",
    "# customer_order = CoffeeOrder(\"Espresso\", 2.10)\n",
    "customer_order = CoffeeOrder()\n",
    "print(customer_order.coffee_name)\n",
    "print(customer_order.price)\n"
   ]
  },
  {
   "cell_type": "code",
   "execution_count": 10,
   "metadata": {},
   "outputs": [
    {
     "ename": "TypeError",
     "evalue": "unhashable type: 'list'",
     "output_type": "error",
     "traceback": [
      "\u001b[1;31m---------------------------------------------------------------------------\u001b[0m",
      "\u001b[1;31mTypeError\u001b[0m                                 Traceback (most recent call last)",
      "\u001b[1;32m~\\anaconda3\\envs\\env\\lib\\site-packages\\IPython\\core\\formatters.py\u001b[0m in \u001b[0;36m__call__\u001b[1;34m(self, obj)\u001b[0m\n\u001b[0;32m    700\u001b[0m                 \u001b[0mtype_pprinters\u001b[0m\u001b[1;33m=\u001b[0m\u001b[0mself\u001b[0m\u001b[1;33m.\u001b[0m\u001b[0mtype_printers\u001b[0m\u001b[1;33m,\u001b[0m\u001b[1;33m\u001b[0m\u001b[1;33m\u001b[0m\u001b[0m\n\u001b[0;32m    701\u001b[0m                 deferred_pprinters=self.deferred_printers)\n\u001b[1;32m--> 702\u001b[1;33m             \u001b[0mprinter\u001b[0m\u001b[1;33m.\u001b[0m\u001b[0mpretty\u001b[0m\u001b[1;33m(\u001b[0m\u001b[0mobj\u001b[0m\u001b[1;33m)\u001b[0m\u001b[1;33m\u001b[0m\u001b[1;33m\u001b[0m\u001b[0m\n\u001b[0m\u001b[0;32m    703\u001b[0m             \u001b[0mprinter\u001b[0m\u001b[1;33m.\u001b[0m\u001b[0mflush\u001b[0m\u001b[1;33m(\u001b[0m\u001b[1;33m)\u001b[0m\u001b[1;33m\u001b[0m\u001b[1;33m\u001b[0m\u001b[0m\n\u001b[0;32m    704\u001b[0m             \u001b[1;32mreturn\u001b[0m \u001b[0mstream\u001b[0m\u001b[1;33m.\u001b[0m\u001b[0mgetvalue\u001b[0m\u001b[1;33m(\u001b[0m\u001b[1;33m)\u001b[0m\u001b[1;33m\u001b[0m\u001b[1;33m\u001b[0m\u001b[0m\n",
      "\u001b[1;32m~\\anaconda3\\envs\\env\\lib\\site-packages\\IPython\\lib\\pretty.py\u001b[0m in \u001b[0;36mpretty\u001b[1;34m(self, obj)\u001b[0m\n\u001b[0;32m    392\u001b[0m                         \u001b[1;32mif\u001b[0m \u001b[0mcls\u001b[0m \u001b[1;32mis\u001b[0m \u001b[1;32mnot\u001b[0m \u001b[0mobject\u001b[0m\u001b[0;31m \u001b[0m\u001b[0;31m\\\u001b[0m\u001b[1;33m\u001b[0m\u001b[1;33m\u001b[0m\u001b[0m\n\u001b[0;32m    393\u001b[0m                                 \u001b[1;32mand\u001b[0m \u001b[0mcallable\u001b[0m\u001b[1;33m(\u001b[0m\u001b[0mcls\u001b[0m\u001b[1;33m.\u001b[0m\u001b[0m__dict__\u001b[0m\u001b[1;33m.\u001b[0m\u001b[0mget\u001b[0m\u001b[1;33m(\u001b[0m\u001b[1;34m'__repr__'\u001b[0m\u001b[1;33m)\u001b[0m\u001b[1;33m)\u001b[0m\u001b[1;33m:\u001b[0m\u001b[1;33m\u001b[0m\u001b[1;33m\u001b[0m\u001b[0m\n\u001b[1;32m--> 394\u001b[1;33m                             \u001b[1;32mreturn\u001b[0m \u001b[0m_repr_pprint\u001b[0m\u001b[1;33m(\u001b[0m\u001b[0mobj\u001b[0m\u001b[1;33m,\u001b[0m \u001b[0mself\u001b[0m\u001b[1;33m,\u001b[0m \u001b[0mcycle\u001b[0m\u001b[1;33m)\u001b[0m\u001b[1;33m\u001b[0m\u001b[1;33m\u001b[0m\u001b[0m\n\u001b[0m\u001b[0;32m    395\u001b[0m \u001b[1;33m\u001b[0m\u001b[0m\n\u001b[0;32m    396\u001b[0m             \u001b[1;32mreturn\u001b[0m \u001b[0m_default_pprint\u001b[0m\u001b[1;33m(\u001b[0m\u001b[0mobj\u001b[0m\u001b[1;33m,\u001b[0m \u001b[0mself\u001b[0m\u001b[1;33m,\u001b[0m \u001b[0mcycle\u001b[0m\u001b[1;33m)\u001b[0m\u001b[1;33m\u001b[0m\u001b[1;33m\u001b[0m\u001b[0m\n",
      "\u001b[1;32m~\\anaconda3\\envs\\env\\lib\\site-packages\\IPython\\lib\\pretty.py\u001b[0m in \u001b[0;36m_repr_pprint\u001b[1;34m(obj, p, cycle)\u001b[0m\n\u001b[0;32m    698\u001b[0m     \u001b[1;34m\"\"\"A pprint that just redirects to the normal repr function.\"\"\"\u001b[0m\u001b[1;33m\u001b[0m\u001b[1;33m\u001b[0m\u001b[0m\n\u001b[0;32m    699\u001b[0m     \u001b[1;31m# Find newlines and replace them with p.break_()\u001b[0m\u001b[1;33m\u001b[0m\u001b[1;33m\u001b[0m\u001b[1;33m\u001b[0m\u001b[0m\n\u001b[1;32m--> 700\u001b[1;33m     \u001b[0moutput\u001b[0m \u001b[1;33m=\u001b[0m \u001b[0mrepr\u001b[0m\u001b[1;33m(\u001b[0m\u001b[0mobj\u001b[0m\u001b[1;33m)\u001b[0m\u001b[1;33m\u001b[0m\u001b[1;33m\u001b[0m\u001b[0m\n\u001b[0m\u001b[0;32m    701\u001b[0m     \u001b[0mlines\u001b[0m \u001b[1;33m=\u001b[0m \u001b[0moutput\u001b[0m\u001b[1;33m.\u001b[0m\u001b[0msplitlines\u001b[0m\u001b[1;33m(\u001b[0m\u001b[1;33m)\u001b[0m\u001b[1;33m\u001b[0m\u001b[1;33m\u001b[0m\u001b[0m\n\u001b[0;32m    702\u001b[0m     \u001b[1;32mwith\u001b[0m \u001b[0mp\u001b[0m\u001b[1;33m.\u001b[0m\u001b[0mgroup\u001b[0m\u001b[1;33m(\u001b[0m\u001b[1;33m)\u001b[0m\u001b[1;33m:\u001b[0m\u001b[1;33m\u001b[0m\u001b[1;33m\u001b[0m\u001b[0m\n",
      "\u001b[1;32m<ipython-input-10-bca13b662066>\u001b[0m in \u001b[0;36m__repr__\u001b[1;34m(self)\u001b[0m\n\u001b[0;32m      4\u001b[0m \u001b[1;33m\u001b[0m\u001b[0m\n\u001b[0;32m      5\u001b[0m     \u001b[1;32mdef\u001b[0m \u001b[0m__repr__\u001b[0m\u001b[1;33m(\u001b[0m\u001b[0mself\u001b[0m\u001b[1;33m)\u001b[0m\u001b[1;33m:\u001b[0m\u001b[1;33m\u001b[0m\u001b[1;33m\u001b[0m\u001b[0m\n\u001b[1;32m----> 6\u001b[1;33m         \u001b[1;32mreturn\u001b[0m \u001b[0mPizza\u001b[0m\u001b[1;33m(\u001b[0m\u001b[1;33m{\u001b[0m\u001b[0mself\u001b[0m\u001b[1;33m.\u001b[0m\u001b[0mingredients\u001b[0m\u001b[1;33m}\u001b[0m\u001b[1;33m)\u001b[0m\u001b[1;33m\u001b[0m\u001b[1;33m\u001b[0m\u001b[0m\n\u001b[0m\u001b[0;32m      7\u001b[0m \u001b[1;33m\u001b[0m\u001b[0m\n\u001b[0;32m      8\u001b[0m \u001b[1;33m\u001b[0m\u001b[0m\n",
      "\u001b[1;31mTypeError\u001b[0m: unhashable type: 'list'"
     ]
    }
   ],
   "source": [
    "class Pizza:\n",
    "    def __init__(self, ingredients):\n",
    "        self.ingredients = ingredients\n",
    "\n",
    "    def __repr__(self):\n",
    "        return Pizza({self.ingredients})\n",
    " \n",
    "\n",
    "Pizza(['cheese', 'tomatoes'])"
   ]
  },
  {
   "cell_type": "code",
   "execution_count": 7,
   "metadata": {},
   "outputs": [
    {
     "name": "stdout",
     "output_type": "stream",
     "text": [
      "Enter the first integer: \n",
      "1\n",
      "Enter the second integer: \n",
      "2\n",
      "1 + 2 = 3\n",
      "1 - 2 = -1\n",
      "1 * 2 = 2\n",
      "1 / 2 = 0.5\n",
      "1 // 2 = 0\n",
      "1 % 2 = 1\n",
      "1 ** 2 = 1\n"
     ]
    }
   ],
   "source": [
    "a = input('Enter the first integer: \\n')\n",
    "b = input('Enter the second integer: \\n')\n",
    "print(a + ' + ' + b + ' = ' + str(int(a) + int(b)))\n",
    "print(a + ' - ' + b + ' = ' + str(int(a) - int(b)))\n",
    "print(a + ' * ' + b + ' = ' + str(int(a) * int(b)))\n",
    "print(a + ' / ' + b + ' = ' + str(int(a) / int(b)))\n",
    "print(a + ' // ' + b + ' = ' + str(int(a) // int(b)))\n",
    "print(a + ' % ' + b + ' = ' + str(int(a) % int(b)))\n",
    "print(a + ' ** ' + b + ' = ' + str(int(a) ** int(b)))"
   ]
  },
  {
   "cell_type": "code",
   "execution_count": null,
   "metadata": {},
   "outputs": [],
   "source": []
  },
  {
   "cell_type": "code",
   "execution_count": null,
   "metadata": {},
   "outputs": [],
   "source": []
  },
  {
   "cell_type": "code",
   "execution_count": null,
   "metadata": {},
   "outputs": [],
   "source": []
  },
  {
   "cell_type": "code",
   "execution_count": null,
   "metadata": {},
   "outputs": [],
   "source": []
  },
  {
   "cell_type": "code",
   "execution_count": null,
   "metadata": {},
   "outputs": [],
   "source": []
  },
  {
   "cell_type": "code",
   "execution_count": 1,
   "metadata": {},
   "outputs": [
    {
     "name": "stdout",
     "output_type": "stream",
     "text": [
      "[11, 12, 22, 25, 34, 64, 90]\n"
     ]
    }
   ],
   "source": [
    "arr = [64, 34, 25, 12, 22, 11, 90]\n",
    "\n",
    "for i in range(len(arr)):\n",
    "    for j in range(0,len(arr)-1-i):\n",
    "        if arr[j] > arr[j+1]:\n",
    "            arr[j], arr[j+1] = arr[j+1], arr[j]\n",
    "            \n",
    "print(arr)"
   ]
  },
  {
   "cell_type": "code",
   "execution_count": 2,
   "metadata": {},
   "outputs": [
    {
     "name": "stdout",
     "output_type": "stream",
     "text": [
      "          * \n",
      "         * * \n",
      "        * * * \n",
      "       * * * * \n",
      "      * * * * * \n"
     ]
    }
   ],
   "source": [
    "num = 10\n",
    "for i in range(1, 6):\n",
    "    print(' '*num, end='')\n",
    "    print('* '*(i))\n",
    "    num -=1"
   ]
  },
  {
   "cell_type": "code",
   "execution_count": 8,
   "metadata": {},
   "outputs": [
    {
     "name": "stdout",
     "output_type": "stream",
     "text": [
      "*\n",
      "**\n",
      "***\n",
      "****\n",
      "*****\n",
      "6\n"
     ]
    }
   ],
   "source": [
    "num = 1\n",
    "for i in range(5):\n",
    "    print('*'*num)\n",
    "    num += 1\n",
    "print(num)"
   ]
  },
  {
   "cell_type": "code",
   "execution_count": 11,
   "metadata": {},
   "outputs": [
    {
     "name": "stdout",
     "output_type": "stream",
     "text": [
      "aa\n"
     ]
    }
   ],
   "source": [
    "print('a', end='')\n",
    "print('a')"
   ]
  },
  {
   "cell_type": "code",
   "execution_count": 2,
   "metadata": {},
   "outputs": [
    {
     "ename": "TypeError",
     "evalue": "my_sum() takes 1 positional argument but 3 were given",
     "output_type": "error",
     "traceback": [
      "\u001b[1;31m---------------------------------------------------------------------------\u001b[0m",
      "\u001b[1;31mTypeError\u001b[0m                                 Traceback (most recent call last)",
      "\u001b[1;32m<ipython-input-2-da715ebea8f2>\u001b[0m in \u001b[0;36m<module>\u001b[1;34m\u001b[0m\n\u001b[0;32m      6\u001b[0m     \u001b[1;32mreturn\u001b[0m \u001b[0mresult\u001b[0m\u001b[1;33m\u001b[0m\u001b[1;33m\u001b[0m\u001b[0m\n\u001b[0;32m      7\u001b[0m \u001b[1;33m\u001b[0m\u001b[0m\n\u001b[1;32m----> 8\u001b[1;33m \u001b[0mprint\u001b[0m\u001b[1;33m(\u001b[0m\u001b[0mmy_sum\u001b[0m\u001b[1;33m(\u001b[0m\u001b[1;36m1\u001b[0m\u001b[1;33m,\u001b[0m \u001b[1;36m2\u001b[0m\u001b[1;33m,\u001b[0m \u001b[1;36m3\u001b[0m\u001b[1;33m)\u001b[0m\u001b[1;33m)\u001b[0m\u001b[1;33m\u001b[0m\u001b[1;33m\u001b[0m\u001b[0m\n\u001b[0m",
      "\u001b[1;31mTypeError\u001b[0m: my_sum() takes 1 positional argument but 3 were given"
     ]
    }
   ],
   "source": [
    "def my_sum(args):\n",
    "    result = 0\n",
    "    # Iterating over the Python args tuple\n",
    "    for x in args:\n",
    "        result += x\n",
    "    return result\n",
    "\n",
    "print(my_sum(1, 2, 3))"
   ]
  },
  {
   "cell_type": "code",
   "execution_count": 6,
   "metadata": {},
   "outputs": [
    {
     "ename": "NameError",
     "evalue": "name 'list_iterator' is not defined",
     "output_type": "error",
     "traceback": [
      "\u001b[1;31m---------------------------------------------------------------------------\u001b[0m",
      "\u001b[1;31mNameError\u001b[0m                                 Traceback (most recent call last)",
      "\u001b[1;32m<ipython-input-6-3f841c7bf029>\u001b[0m in \u001b[0;36m<module>\u001b[1;34m\u001b[0m\n\u001b[1;32m----> 1\u001b[1;33m \u001b[0miter\u001b[0m\u001b[1;33m(\u001b[0m\u001b[0ma\u001b[0m\u001b[1;33m)\u001b[0m \u001b[1;33m==\u001b[0m \u001b[0mlist_iterator\u001b[0m\u001b[1;33m\u001b[0m\u001b[1;33m\u001b[0m\u001b[0m\n\u001b[0m",
      "\u001b[1;31mNameError\u001b[0m: name 'list_iterator' is not defined"
     ]
    }
   ],
   "source": [
    "iter(a) == list_iterator "
   ]
  },
  {
   "cell_type": "code",
   "execution_count": 7,
   "metadata": {},
   "outputs": [],
   "source": [
    "a = [1,2,3,[1,2,3,4,[3,4],5],0,[],5]"
   ]
  },
  {
   "cell_type": "code",
   "execution_count": 5,
   "metadata": {},
   "outputs": [
    {
     "ename": "TypeError",
     "evalue": "'int' object is not iterable",
     "output_type": "error",
     "traceback": [
      "\u001b[1;31m---------------------------------------------------------------------------\u001b[0m",
      "\u001b[1;31mTypeError\u001b[0m                                 Traceback (most recent call last)",
      "\u001b[1;32m<ipython-input-5-4540bb0e44c7>\u001b[0m in \u001b[0;36m<module>\u001b[1;34m\u001b[0m\n\u001b[0;32m      1\u001b[0m \u001b[1;32mfor\u001b[0m \u001b[0mi\u001b[0m \u001b[1;32min\u001b[0m \u001b[0ma\u001b[0m\u001b[1;33m:\u001b[0m\u001b[1;33m\u001b[0m\u001b[1;33m\u001b[0m\u001b[0m\n\u001b[1;32m----> 2\u001b[1;33m     \u001b[0mprint\u001b[0m\u001b[1;33m(\u001b[0m\u001b[1;34m\" \"\u001b[0m\u001b[1;33m.\u001b[0m\u001b[0mjoin\u001b[0m\u001b[1;33m(\u001b[0m\u001b[0mmap\u001b[0m\u001b[1;33m(\u001b[0m\u001b[0mstr\u001b[0m\u001b[1;33m,\u001b[0m\u001b[0mi\u001b[0m\u001b[1;33m)\u001b[0m\u001b[1;33m)\u001b[0m\u001b[1;33m)\u001b[0m\u001b[1;33m\u001b[0m\u001b[1;33m\u001b[0m\u001b[0m\n\u001b[0m",
      "\u001b[1;31mTypeError\u001b[0m: 'int' object is not iterable"
     ]
    }
   ],
   "source": [
    "for i in a:\n",
    "    print(\" \".join(map(str,i)))"
   ]
  },
  {
   "cell_type": "code",
   "execution_count": 19,
   "metadata": {},
   "outputs": [],
   "source": [
    "out=[]\n",
    "def itrs(a):\n",
    "    for i in a:\n",
    "        if type(i) == list:\n",
    "            itrs(i)\n",
    "        else:\n",
    "            print(i)"
   ]
  },
  {
   "cell_type": "code",
   "execution_count": 20,
   "metadata": {},
   "outputs": [
    {
     "name": "stdout",
     "output_type": "stream",
     "text": [
      "1\n",
      "2\n",
      "3\n",
      "1\n",
      "2\n",
      "3\n",
      "4\n",
      "3\n",
      "4\n",
      "5\n",
      "0\n",
      "5\n"
     ]
    }
   ],
   "source": [
    "itrs(a)"
   ]
  },
  {
   "cell_type": "code",
   "execution_count": 17,
   "metadata": {},
   "outputs": [
    {
     "data": {
      "text/plain": [
       "[1, 2, 3, [1, 2, 3, 4, [3, 4], 5], 0, [], 5]"
      ]
     },
     "execution_count": 17,
     "metadata": {},
     "output_type": "execute_result"
    }
   ],
   "source": [
    "out"
   ]
  },
  {
   "cell_type": "code",
   "execution_count": 18,
   "metadata": {},
   "outputs": [
    {
     "name": "stdout",
     "output_type": "stream",
     "text": [
      "The original list:  [1, 2, [3, 4, [5, 6]], 7, 8, [9, [10]]]\n",
      "The list after removing nesting:  [1, 2, 3, 4, 5, 6, 7, 8, 9, 10]\n"
     ]
    }
   ],
   "source": [
    "l = [1, 2, [3, 4, [5, 6]], 7, 8, [9, [10]]]\n",
    "  \n",
    "# output list\n",
    "output = []\n",
    "  \n",
    "# function used for removing nested \n",
    "# lists in python. \n",
    "def reemovNestings(l):\n",
    "    for i in l:\n",
    "        if type(i) == list:\n",
    "            reemovNestings(i)\n",
    "        else:\n",
    "            output.append(i)\n",
    "  \n",
    "# Driver code\n",
    "print ('The original list: ', l)\n",
    "reemovNestings(l)\n",
    "print ('The list after removing nesting: ', output)"
   ]
  },
  {
   "cell_type": "code",
   "execution_count": null,
   "metadata": {},
   "outputs": [],
   "source": []
  }
 ],
 "metadata": {
  "kernelspec": {
   "display_name": "Python 3",
   "language": "python",
   "name": "python3"
  },
  "language_info": {
   "codemirror_mode": {
    "name": "ipython",
    "version": 3
   },
   "file_extension": ".py",
   "mimetype": "text/x-python",
   "name": "python",
   "nbconvert_exporter": "python",
   "pygments_lexer": "ipython3",
   "version": "3.8.5"
  }
 },
 "nbformat": 4,
 "nbformat_minor": 2
}
