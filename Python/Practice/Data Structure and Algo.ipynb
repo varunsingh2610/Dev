{
 "cells": [
  {
   "cell_type": "code",
   "execution_count": null,
   "metadata": {},
   "outputs": [],
   "source": [
    "# Recursion\n",
    "SampleRecursion(parameter):\n",
    "    if(base case is satisfied):\n",
    "        return some base case value\n",
    "    else:\n",
    "        SampleRecursion(modified parameter)"
   ]
  },
  {
   "cell_type": "code",
   "execution_count": null,
   "metadata": {},
   "outputs": [],
   "source": [
    "# Find Biggest Number\n",
    "FindBiggestNUmber(int arrr[]):        \n",
    "    biggestNumber = arr[0]               --O(1)\n",
    "    loop: i = 1 to length(arr)-1               --O(n)\n",
    "        if arr[i] > biggestNUmber:               --O(1)\n",
    "            biggestNumber = arr[i]               --O(1)\n",
    "    return biggestNumber               --O(1)\n",
    "        \n",
    "# Time complexity -> O(n)"
   ]
  },
  {
   "cell_type": "code",
   "execution_count": null,
   "metadata": {},
   "outputs": [],
   "source": []
  }
 ],
 "metadata": {
  "kernelspec": {
   "display_name": "Python 3",
   "language": "python",
   "name": "python3"
  },
  "language_info": {
   "codemirror_mode": {
    "name": "ipython",
    "version": 3
   },
   "file_extension": ".py",
   "mimetype": "text/x-python",
   "name": "python",
   "nbconvert_exporter": "python",
   "pygments_lexer": "ipython3",
   "version": "3.8.5"
  }
 },
 "nbformat": 4,
 "nbformat_minor": 4
}
