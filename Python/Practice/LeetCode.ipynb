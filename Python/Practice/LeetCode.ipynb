{
 "cells": [
  {
   "cell_type": "code",
   "execution_count": 2,
   "metadata": {},
   "outputs": [
    {
     "name": "stdout",
     "output_type": "stream",
     "text": [
      "6\n",
      "6\n"
     ]
    },
    {
     "data": {
      "text/plain": [
       "6"
      ]
     },
     "execution_count": 2,
     "metadata": {},
     "output_type": "execute_result"
    }
   ],
   "source": [
    "accounts = [[1,2,3],[3,2,1]]\n",
    "\n",
    "\n",
    "total = 0\n",
    "for i in range(len(accounts)):\n",
    "    sum = 0\n",
    "    for j in range(len(accounts[i])):\n",
    "        sum = sum + accounts[i][j]\n",
    "    print(sum)\n",
    "    if sum > total:\n",
    "        total = sum\n",
    "total"
   ]
  },
  {
   "cell_type": "code",
   "execution_count": 6,
   "metadata": {},
   "outputs": [
    {
     "name": "stdout",
     "output_type": "stream",
     "text": [
      "1 1\n",
      "1 1\n",
      "1 1\n",
      "2 2\n",
      "3 3\n",
      "3 3\n",
      "1 1\n",
      "1 1\n",
      "1 1\n",
      "1 1\n",
      "1 1\n",
      "1 1\n",
      "3 3\n",
      "3 3\n"
     ]
    },
    {
     "data": {
      "text/plain": [
       "14"
      ]
     },
     "execution_count": 6,
     "metadata": {},
     "output_type": "execute_result"
    }
   ],
   "source": [
    "# Number of Good Pairs\n",
    "nums = [1,2,3,1,1,3]\n",
    "count = 0\n",
    "\n",
    "for i in range(len(nums)):\n",
    "    for j in range(len(nums)):\n",
    "        if nums[i] == nums[j]:\n",
    "            count += 1\n",
    "            print(nums[i], nums[j])\n",
    "            \n",
    "count"
   ]
  },
  {
   "cell_type": "code",
   "execution_count": 24,
   "metadata": {},
   "outputs": [],
   "source": [
    "def search(lst, num):\n",
    "    low = 0\n",
    "    high = len(lst) - 1\n",
    "    mid = 0\n",
    " \n",
    "    while low <= high:\n",
    " \n",
    "        mid = (high + low) // 2\n",
    " \n",
    "        if lst[mid] < num:\n",
    "            low = mid + 1\n",
    " \n",
    "        elif lst[mid] > num:\n",
    "            high = mid - 1\n",
    " \n",
    "        else:\n",
    "            return mid\n",
    " \n",
    "    return f\"Element {num} is not present in array\""
   ]
  },
  {
   "cell_type": "code",
   "execution_count": 25,
   "metadata": {},
   "outputs": [],
   "source": [
    "lst = [1,2,3,4,5,6,7,8,9,10,11,12]"
   ]
  },
  {
   "cell_type": "code",
   "execution_count": 29,
   "metadata": {},
   "outputs": [
    {
     "data": {
      "text/plain": [
       "11"
      ]
     },
     "execution_count": 29,
     "metadata": {},
     "output_type": "execute_result"
    }
   ],
   "source": [
    "search(lst, 12)"
   ]
  },
  {
   "cell_type": "code",
   "execution_count": 130,
   "metadata": {},
   "outputs": [],
   "source": [
    "# 9. Palindrome Number\n",
    "def isPalindrome(x):\n",
    "    if x < 0:\n",
    "        return False\n",
    "    elif x > 0 and x < 10:\n",
    "        return True\n",
    "    \n",
    "    lst = []\n",
    "    while x > 0:\n",
    "        one = x/10\n",
    "        two = x//10\n",
    "        lst.insert(0, round((one - two) * 10))\n",
    "        x = two\n",
    "        \n",
    "    half = len(lst)//2\n",
    "    if len(lst)%2 == 0:\n",
    "        lst_two = lst[half:]\n",
    "        return lst[:half] == lst_two[::-1]\n",
    "    else:\n",
    "        lst_two = lst[half+1:]\n",
    "        return lst[:half] == lst_two[::-1]\n",
    "    return False\n",
    "        \n",
    "    "
   ]
  },
  {
   "cell_type": "code",
   "execution_count": 56,
   "metadata": {},
   "outputs": [],
   "source": [
    "x = -123"
   ]
  },
  {
   "cell_type": "code",
   "execution_count": 19,
   "metadata": {},
   "outputs": [],
   "source": [
    "def reverse(x: int) -> int:\n",
    "    negative = 0\n",
    "    if x < 0:\n",
    "        negative = 1\n",
    "        x = -(x)\n",
    "\n",
    "    lst = []\n",
    "    while x > 0:\n",
    "        one = x/10\n",
    "        two = x//10\n",
    "        lst.insert(0, round((one - two) * 10))\n",
    "        x = two\n",
    "\n",
    "    lst = lst[::-1]    \n",
    "\n",
    "    num = 0\n",
    "    for i in range(-1, -len(lst)-1, -1):\n",
    "        num += lst[i]*(10**abs(i))\n",
    "    num = num//10\n",
    "\n",
    "    if negative:\n",
    "        num = -(num)\n",
    "    if -2**31 >= num or num >= 2**31:\n",
    "        return 0\n",
    "    return num"
   ]
  },
  {
   "cell_type": "code",
   "execution_count": 21,
   "metadata": {},
   "outputs": [
    {
     "data": {
      "text/plain": [
       "646324351"
      ]
     },
     "execution_count": 21,
     "metadata": {},
     "output_type": "execute_result"
    }
   ],
   "source": [
    "reverse(153423646)"
   ]
  },
  {
   "cell_type": "code",
   "execution_count": null,
   "metadata": {},
   "outputs": [],
   "source": []
  },
  {
   "cell_type": "code",
   "execution_count": 12,
   "metadata": {},
   "outputs": [],
   "source": [
    "def romanToInt(s: str) -> int:\n",
    "    dicts ={'I':1, 'V':5, 'X':10, 'L':50, 'C':100, 'D':500, 'M':1000 }\n",
    "    num=0\n",
    "    nums=0\n",
    "    for i in reversed(s):\n",
    "        if dicts[i] < num:\n",
    "            nums -= dicts[i]\n",
    "        else:\n",
    "            nums += dicts[i]\n",
    "        num = dicts[i]\n",
    "    print(nums)"
   ]
  },
  {
   "cell_type": "code",
   "execution_count": 17,
   "metadata": {},
   "outputs": [
    {
     "name": "stdout",
     "output_type": "stream",
     "text": [
      "1994\n"
     ]
    }
   ],
   "source": [
    "romanToInt(\"MCMXCIV\")"
   ]
  },
  {
   "cell_type": "code",
   "execution_count": 9,
   "metadata": {},
   "outputs": [],
   "source": [
    "def longestCommonPrefix(strs):\n",
    "    count = 0\n",
    "    dicts = {}\n",
    "    while(1):\n",
    "        strs[0][0] == strs[1][0]\n"
   ]
  },
  {
   "cell_type": "code",
   "execution_count": 10,
   "metadata": {},
   "outputs": [
    {
     "data": {
      "text/plain": [
       "['flower', 'flow', 'flight']"
      ]
     },
     "execution_count": 10,
     "metadata": {},
     "output_type": "execute_result"
    }
   ],
   "source": [
    "longestCommonPrefix(strs)"
   ]
  },
  {
   "cell_type": "code",
   "execution_count": 1,
   "metadata": {},
   "outputs": [],
   "source": [
    "strs = [\"flower\",\"flow\",\"flight\"]"
   ]
  },
  {
   "cell_type": "code",
   "execution_count": 2,
   "metadata": {},
   "outputs": [
    {
     "data": {
      "text/plain": [
       "True"
      ]
     },
     "execution_count": 2,
     "metadata": {},
     "output_type": "execute_result"
    }
   ],
   "source": [
    "strs[0][0] == strs[1][0] == strs[2][0]\n",
    "strs[0][1] == strs[1][1] == strs[2][1]"
   ]
  },
  {
   "cell_type": "code",
   "execution_count": null,
   "metadata": {},
   "outputs": [],
   "source": []
  }
 ],
 "metadata": {
  "kernelspec": {
   "display_name": "Python 3",
   "language": "python",
   "name": "python3"
  },
  "language_info": {
   "codemirror_mode": {
    "name": "ipython",
    "version": 3
   },
   "file_extension": ".py",
   "mimetype": "text/x-python",
   "name": "python",
   "nbconvert_exporter": "python",
   "pygments_lexer": "ipython3",
   "version": "3.8.5"
  }
 },
 "nbformat": 4,
 "nbformat_minor": 4
}
