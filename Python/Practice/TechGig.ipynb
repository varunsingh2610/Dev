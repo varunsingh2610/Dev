{
 "cells": [
  {
   "cell_type": "markdown",
   "metadata": {},
   "source": [
    "Virus Outbreak (100 Marks)\n",
    "In the Martian land faraway, a new virus has evolved and is attacking the individuals at a fast pace. The scientists have figured out the virus composition, V. The big task is to identify the people who are infected. The sample of N people is taken to check if they are POSITIVE or NEGATIVE. A report is generated which provides the current blood composition B of the person. \n",
    "\n",
    "\n",
    "POSITIVE or NEGATIVE ?\n",
    "\n",
    "If the blood composition of the person is a subsequence of the virus composition V, then the person is identified as POSITIVE otherwise NEGATIVE.\n",
    "\n",
    "\n",
    "Example:\n",
    "\n",
    "Virus Composition, V = coronavirus\n",
    "\n",
    "Blood Composition of the person , B = ravus\n",
    "\n",
    "\n",
    "The person in question is POSITIVE as B is the subsequence of the V. \n",
    "\n",
    " \n",
    "\n",
    "The scientists are busy with their research for medicine and request you to build a program which can quickly figure out if the person is POSITIVE or NEGATIVE. They will provide you with the virus composition V and all the people’s current blood composition. Can you help them?\n",
    "\n",
    "\n",
    "Note: The virus and blood compositions are lowercase alphabet strings.\n",
    "\n",
    "Input Format\n",
    "The first line of the input consists of the virus composition, V\n",
    "\n",
    "The second line of he input consists of the number of people, N\n",
    "\n",
    "Next N lines each consist of the blood composition of the ith person, Bi\n",
    "\n",
    "\n",
    "\n",
    "\n",
    "Constraints\n",
    "1<= N <=10\n",
    "\n",
    "1<= |B|<= |V|<= 10^5\n",
    "\n",
    "\n",
    "\n",
    "Output Format\n",
    "For each person, print POSITIVE or NEGATIVE in a separate line\n",
    "\n",
    "Sample TestCase 1\n",
    "\n",
    "Input\n",
    "\n",
    "coronavirus\n",
    "3\n",
    "abcde\n",
    "crnas\n",
    "onarous\n",
    "\n",
    "Output\n",
    "\n",
    "NEGATIVE\n",
    "POSITIVE\n",
    "NEGATIVE\n"
   ]
  },
  {
   "cell_type": "code",
   "execution_count": 21,
   "metadata": {},
   "outputs": [
    {
     "name": "stdout",
     "output_type": "stream",
     "text": [
      "coronavirus\n",
      "1\n",
      "crnas\n",
      "NEGATIVE\n"
     ]
    }
   ],
   "source": [
    "virus = list(input())\n",
    "num = int(input())\n",
    "\n",
    "\n",
    "for _ in range(num):\n",
    "    blood = list(input())\n",
    "    \n",
    "    if len(blood) == 0:\n",
    "        print('POSITIVE')\n",
    "        continue\n",
    "    \n",
    "    i = 0\n",
    "    j = 0\n",
    "    flag = 0\n",
    "    while i < len(blood) and j < len(virus):\n",
    "        if blood[i] == virus[j]:\n",
    "            i += 1\n",
    "        if i == len(blood):\n",
    "            print('POSITIVE')\n",
    "            flag = 1\n",
    "        j += 1\n",
    "    if flag == 0:\n",
    "        print('NEGATIVE')\n",
    "    "
   ]
  },
  {
   "cell_type": "code",
   "execution_count": null,
   "metadata": {},
   "outputs": [],
   "source": []
  }
 ],
 "metadata": {
  "kernelspec": {
   "display_name": "Python 3",
   "language": "python",
   "name": "python3"
  },
  "language_info": {
   "codemirror_mode": {
    "name": "ipython",
    "version": 3
   },
   "file_extension": ".py",
   "mimetype": "text/x-python",
   "name": "python",
   "nbconvert_exporter": "python",
   "pygments_lexer": "ipython3",
   "version": "3.8.5"
  }
 },
 "nbformat": 4,
 "nbformat_minor": 4
}
