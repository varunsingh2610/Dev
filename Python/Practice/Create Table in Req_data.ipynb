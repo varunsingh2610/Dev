{
 "cells": [
  {
   "cell_type": "code",
   "execution_count": 10,
   "metadata": {},
   "outputs": [],
   "source": [
    "from sqlalchemy.ext.automap import automap_base\n",
    "from sqlalchemy.orm import Session\n",
    "import pymssql\n",
    "from sqlalchemy import MetaData, create_engine\n",
    "from sqlalchemy.orm import Session\n",
    "from sqlalchemy import (MetaData, Table, Column, Integer, Numeric, String,\n",
    "                        DateTime, ForeignKey, create_engine, func)\n",
    "from sqlalchemy import select"
   ]
  },
  {
   "cell_type": "code",
   "execution_count": 11,
   "metadata": {},
   "outputs": [],
   "source": [
    "db_username = 'avn_monitor'\n",
    "db_password = 'Pass@123'\n",
    "db_ip = '192.168.1.30'\n",
    "db_name = 'Req_data'\n",
    "\n",
    "engine = create_engine('mssql+pymssql://{0}:{1}@{2}/{3}'.\n",
    "                       format(db_username, db_password,\n",
    "                              db_ip, db_name), pool_pre_ping=True, pool_recycle=3600)\n"
   ]
  },
  {
   "cell_type": "code",
   "execution_count": 12,
   "metadata": {},
   "outputs": [],
   "source": [
    "metadata = MetaData()"
   ]
  },
  {
   "cell_type": "code",
   "execution_count": 1,
   "metadata": {},
   "outputs": [],
   "source": [
    "columns = ['SUPERMERCHANT_ID', 'MERCHANT_ID', 'TERMINAL_ID', 'CARD_NO',\n",
    "       'TRANSACTION_TYPE', 'TRAN_DATE', 'TRACE_NO', 'TXN_REF',\n",
    "       'MERCHANT_TXNNO', 'EPG_TXN_REFNO', 'APPROVE_CODE', 'GROSS_AMT', 'MDR',\n",
    "       'NET_AMT', 'TXN_AMT', 'TXN_CURR', 'ARN', 'INST BASE CURR',\n",
    "       'MAP_PAYM_NAME', 'MTS_TRAN_MCC', 'MGI_ITCH_NAME', 'ONUS_INDC',\n",
    "       'MTS_MSF_PERC', 'MTS_MSF_FIXFEE', 'MTS_CSF_PERC', 'MTS_CSF_FIXFEE',\n",
    "       'MTS_TOTL_CSF_AMT', 'VAT_AMT', 'PRCHS_RRN', 'PRCHS_PG_TXN_REFNO',\n",
    "       'PAYMENT_ID', 'PRCHS_ MERCHANT_TXNNO']"
   ]
  },
  {
   "cell_type": "code",
   "execution_count": 13,
   "metadata": {},
   "outputs": [],
   "source": [
    "All_Merchant_Details = Table('All_Merchant_Details', metadata,\n",
    "#                  Column('id', Integer(), primary_key=True),\n",
    "                 Column('SUPERMERCHANT_ID', String(250)),\n",
    "                 Column('MERCHANT_ID', String(250)),\n",
    "                 Column('TERMINAL_ID', String(250)),\n",
    "                 Column('TRANSACTION_TYPE', String(250)),\n",
    "                 Column('TRAN_DATE', String(250)),\n",
    "                 Column('TRACE_NO', String(250)),\n",
    "                 Column('TXN_REF', String(250)),\n",
    "                 Column('MERCHANT_TXNNO', String(250)),\n",
    "                 Column('EPG_TXN_REFNO', String(250)),\n",
    "                 Column('Transaction_Amt', String(250)),\n",
    "                 Column('APPROVE_CODE', String(250)),\n",
    "                 Column('GROSS_AMT', String(250)),\n",
    "                 Column('MDR', String(250)),\n",
    "                 Column('NET_AMT', String(250)),\n",
    "                 Column('TXN_AMT', String(250)),\n",
    "                 Column('TXN_CURR', String(250)),\n",
    "                 Column('ARN', String(250)),\n",
    "                 Column('INST BASE CURR', String(250)),\n",
    "                 Column('col_11', String(250)),\n",
    "                 Column('col_12', String(250)),\n",
    "                 Column('col_13', String(250)),\n",
    "                 Column('col_14', String(250)),\n",
    "                 Column('col_15', String(250)),\n",
    "                 Column('col_16', String(250)),\n",
    "                 Column('col_17', String(250)),\n",
    "                 Column('col_18', String(250)),\n",
    "                 Column('Amount', String(250)),\n",
    "                 Column('col_19', String(250)),\n",
    "                 Column('col_20', String(250)),\n",
    "                 Column('Order_receipt', String(250)),\n",
    "                 Column('col_21', String(250)),\n",
    "                 Column('col_22', String(250)),\n",
    "                 Column('col_23', String(250)),\n",
    "                 Column('CC_reference_no', String(250)),\n",
    "                 Column('col_24', String(250)),\n",
    "                 Column('col_25', String(250)),\n",
    "\n",
    "                 )\n"
   ]
  },
  {
   "cell_type": "code",
   "execution_count": 14,
   "metadata": {},
   "outputs": [],
   "source": [
    "Base = automap_base()\n",
    "Base.prepare(engine, reflect=True)\n",
    "\n",
    "metadata.create_all(engine)"
   ]
  },
  {
   "cell_type": "code",
   "execution_count": null,
   "metadata": {},
   "outputs": [],
   "source": []
  }
 ],
 "metadata": {
  "kernelspec": {
   "display_name": "Python 3",
   "language": "python",
   "name": "python3"
  },
  "language_info": {
   "codemirror_mode": {
    "name": "ipython",
    "version": 3
   },
   "file_extension": ".py",
   "mimetype": "text/x-python",
   "name": "python",
   "nbconvert_exporter": "python",
   "pygments_lexer": "ipython3",
   "version": "3.8.5"
  }
 },
 "nbformat": 4,
 "nbformat_minor": 2
}
