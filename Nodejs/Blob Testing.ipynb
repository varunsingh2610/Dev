{
 "cells": [
  {
   "cell_type": "code",
   "execution_count": 1,
   "id": "9de58a8b",
   "metadata": {},
   "outputs": [],
   "source": [
    "const { BlobServiceClient } = require(\"@azure/storage-blob\");\n",
    "\n",
    "const connStr = \"DefaultEndpointsProtocol=https;AccountName=storagebusinesstravel;AccountKey=RCV4bjqaCAvUB6aL8WrdeZ7UYBSlE1E3eedrSouE2cIsOsxfRGGM1VreBpgtRDRBP+oJWp7HhHNl1w1BdNNxlA==;EndpointSuffix=core.windows.net\";\n",
    "\n",
    "const blobServiceClient = BlobServiceClient.fromConnectionString(connStr);"
   ]
  },
  {
   "cell_type": "code",
   "execution_count": 13,
   "id": "a7f6d868",
   "metadata": {},
   "outputs": [
    {
     "ename": "SyntaxError",
     "evalue": "Identifier 'BlobServiceClient' has already been declared",
     "output_type": "error",
     "traceback": [
      "evalmachine.<anonymous>:1",
      "const { BlobServiceClient } = require(\"@azure/storage-blob\");",
      "^",
      "",
      "SyntaxError: Identifier 'BlobServiceClient' has already been declared",
      "    at Script.runInThisContext (node:vm:129:12)",
      "    at Object.runInThisContext (node:vm:305:38)",
      "    at run ([eval]:1054:15)",
      "    at onRunRequest ([eval]:888:18)",
      "    at onMessage ([eval]:848:13)",
      "    at process.emit (node:events:390:28)",
      "    at emit (node:internal/child_process:917:12)",
      "    at processTicksAndRejections (node:internal/process/task_queues:84:21)"
     ]
    }
   ],
   "source": [
    "const { BlobServiceClient } = require(\"@azure/storage-blob\");\n",
    "const { DefaultAzureCredential } = require(\"@azure/identity\");"
   ]
  },
  {
   "cell_type": "code",
   "execution_count": 5,
   "id": "4469ee8e",
   "metadata": {},
   "outputs": [
    {
     "data": {
      "text/plain": [
       "BlobServiceClient {\n",
       "  url: 'https://storagebusinesstravel.blob.core.windows.net/',\n",
       "  accountName: 'storagebusinesstravel',\n",
       "  pipeline: Pipeline {\n",
       "    factories: [\n",
       "      [Object],\n",
       "      [Object],\n",
       "      [TelemetryPolicyFactory],\n",
       "      [Object],\n",
       "      StorageBrowserPolicyFactory {},\n",
       "      [StorageRetryPolicyFactory],\n",
       "      [Object],\n",
       "      [Object],\n",
       "      [Object],\n",
       "      [Object],\n",
       "      [StorageSharedKeyCredential]\n",
       "    ],\n",
       "    options: { proxyOptions: undefined, httpClient: [NodeFetchHttpClient] }\n",
       "  },\n",
       "  storageClientContext: StorageClientContext {\n",
       "    _withCredentials: false,\n",
       "    _httpClient: NodeFetchHttpClient {\n",
       "      proxyAgentMap: Map(0) {},\n",
       "      keepAliveAgents: {},\n",
       "      cookieJar: [CookieJar]\n",
       "    },\n",
       "    _requestPolicyOptions: RequestPolicyOptions { _logger: undefined },\n",
       "    _requestPolicyFactories: [\n",
       "      [Object],\n",
       "      [Object],\n",
       "      [TelemetryPolicyFactory],\n",
       "      [Object],\n",
       "      StorageBrowserPolicyFactory {},\n",
       "      [StorageRetryPolicyFactory],\n",
       "      [Object],\n",
       "      [Object],\n",
       "      [Object],\n",
       "      [Object],\n",
       "      [StorageSharedKeyCredential]\n",
       "    ],\n",
       "    requestContentType: undefined,\n",
       "    baseUri: '{url}',\n",
       "    url: 'https://storagebusinesstravel.blob.core.windows.net/',\n",
       "    version: '2020-10-02'\n",
       "  },\n",
       "  isHttps: true,\n",
       "  credential: StorageSharedKeyCredential {\n",
       "    accountName: 'storagebusinesstravel',\n",
       "    accountKey: <Buffer 44 25 78 6e 3a 9a 08 0b d4 07 a6 8b f1 6a dd 79 9e d4 60 14 a5 13 51 37 79 e7 6b 4a 8b 84 d9 c2 2c 3a cc 5f 44 61 8c d5 5a de 06 98 2d 44 34 41 3f ea ... 14 more bytes>\n",
       "  },\n",
       "  serviceContext: Service {\n",
       "    client: StorageClientContext {\n",
       "      _withCredentials: false,\n",
       "      _httpClient: [NodeFetchHttpClient],\n",
       "      _requestPolicyOptions: [RequestPolicyOptions],\n",
       "      _requestPolicyFactories: [Array],\n",
       "      requestContentType: undefined,\n",
       "      baseUri: '{url}',\n",
       "      url: 'https://storagebusinesstravel.blob.core.windows.net/',\n",
       "      version: '2020-10-02'\n",
       "    }\n",
       "  }\n",
       "}"
      ]
     },
     "execution_count": 5,
     "metadata": {},
     "output_type": "execute_result"
    }
   ],
   "source": [
    "blobServiceClient"
   ]
  },
  {
   "cell_type": "code",
   "execution_count": null,
   "id": "18315421",
   "metadata": {},
   "outputs": [],
   "source": []
  },
  {
   "cell_type": "code",
   "execution_count": 22,
   "id": "64408fe4",
   "metadata": {},
   "outputs": [
    {
     "ename": "SyntaxError",
     "evalue": "Identifier 'account' has already been declared",
     "output_type": "error",
     "traceback": [
      "evalmachine.<anonymous>:1",
      "const account = \"storagebusinesstravel\";",
      "^",
      "",
      "SyntaxError: Identifier 'account' has already been declared",
      "    at Script.runInThisContext (node:vm:129:12)",
      "    at Object.runInThisContext (node:vm:305:38)",
      "    at run ([eval]:1054:15)",
      "    at onRunRequest ([eval]:888:18)",
      "    at onMessage ([eval]:848:13)",
      "    at process.emit (node:events:390:28)",
      "    at emit (node:internal/child_process:917:12)",
      "    at processTicksAndRejections (node:internal/process/task_queues:84:21)"
     ]
    }
   ],
   "source": [
    "const account = \"storagebusinesstravel\";"
   ]
  },
  {
   "cell_type": "code",
   "execution_count": null,
   "id": "0b8c1920",
   "metadata": {},
   "outputs": [],
   "source": [
    "const defaultAzureCredential = new DefaultAzureCredential();\n",
    "\n",
    "const blobServiceClient = new BlobServiceClient(\n",
    "  `https://${account}.blob.core.windows.net`,\n",
    "  defaultAzureCredential\n",
    ");"
   ]
  },
  {
   "cell_type": "code",
   "execution_count": 25,
   "id": "54ed5b80",
   "metadata": {},
   "outputs": [
    {
     "name": "stdout",
     "output_type": "stream",
     "text": [
      "Upload block blob newblob1643351935706 successfully 7bb165c9-701e-001d-8011-14010c000000\n"
     ]
    }
   ],
   "source": [
    "const containerName = \"tax-base-test\";\n",
    "\n",
    "async function main() {\n",
    "  const containerClient = blobServiceClient.getContainerClient(containerName);\n",
    "\n",
    "  const content = \"Hello world!\";\n",
    "  const blobName = \"newblob\" + new Date().getTime();\n",
    "  const blockBlobClient = containerClient.getBlockBlobClient(blobName);\n",
    "  const uploadBlobResponse = await blockBlobClient.upload(content, content.length);\n",
    "  console.log(`Upload block blob ${blobName} successfully`, uploadBlobResponse.requestId);\n",
    "}\n",
    "\n",
    "main();"
   ]
  },
  {
   "cell_type": "code",
   "execution_count": null,
   "id": "01d2183e",
   "metadata": {},
   "outputs": [],
   "source": [
    "const { DefaultAzureCredential } = require(\"@azure/identity\");\n",
    "const { BlobServiceClient } = require(\"@azure/storage-blob\");\n",
    "\n",
    "const account = \"<account>\";\n",
    "const defaultAzureCredential = new DefaultAzureCredential();\n",
    "\n",
    "const blobServiceClient = new BlobServiceClient(\n",
    "  `https://${account}.blob.core.windows.net`,\n",
    "  defaultAzureCredential\n",
    ");\n"
   ]
  },
  {
   "cell_type": "code",
   "execution_count": 26,
   "id": "fdd76427",
   "metadata": {},
   "outputs": [],
   "source": [
    "async function main() {\n",
    "  let i = 1;\n",
    "  let containers = blobServiceClient.listContainers();\n",
    "  for await (const container of containers) {\n",
    "    console.log(`Container ${i++}: ${container.name}`);\n",
    "  }\n",
    "}\n",
    "\n",
    "main();"
   ]
  },
  {
   "cell_type": "code",
   "execution_count": 8,
   "id": "eaad9cf2",
   "metadata": {},
   "outputs": [
    {
     "ename": "SyntaxError",
     "evalue": "Unexpected identifier",
     "output_type": "error",
     "traceback": [
      "evalmachine.<anonymous>:7",
      "const downloadBlockBlobResponse = async blockBlobClient.download(0);",
      "                                        ^^^^^^^^^^^^^^^",
      "",
      "SyntaxError: Unexpected identifier",
      "    at new Script (node:vm:100:7)",
      "    at createScript (node:vm:257:10)",
      "    at Object.runInThisContext (node:vm:305:10)",
      "    at run ([eval]:1054:15)",
      "    at onRunRequest ([eval]:888:18)",
      "    at onMessage ([eval]:848:13)",
      "    at process.emit (node:events:390:28)",
      "    at emit (node:internal/child_process:917:12)",
      "    at processTicksAndRejections (node:internal/process/task_queues:84:21)"
     ]
    }
   ],
   "source": [
    "const containerName = \"tax-base-test\";\n",
    "// Get a reference to a container\n",
    "const containerClient = blobServiceClient.getContainerClient(containerName);\n",
    "// Get blob content from position 0 to the end\n",
    "// In Node.js, get downloaded data by accessing downloadBlockBlobResponse.readableStreamBody\n",
    "// In browsers, get downloaded data by accessing downloadBlockBlobResponse.blobBody\n",
    "const downloadBlockBlobResponse = await blockBlobClient.download(0);\n",
    "console.log('\\nDownloaded blob content...');\n",
    "console.log('\\t', await streamToString(downloadBlockBlobResponse.readableStreamBody));"
   ]
  },
  {
   "cell_type": "code",
   "execution_count": 10,
   "id": "c9dab96c",
   "metadata": {},
   "outputs": [
    {
     "name": "stdout",
     "output_type": "stream",
     "text": [
      "Azure Blob storage v12 - JavaScript quickstart sample\n",
      "Done\n"
     ]
    }
   ],
   "source": [
    "const { BlobServiceClient } = require('@azure/storage-blob');\n",
    "const { v1: uuidv1} = require('uuid');\n",
    "\n",
    "async function main() {\n",
    "    console.log('Azure Blob storage v12 - JavaScript quickstart sample');\n",
    "    // Quick start code goes here\n",
    "}\n",
    "\n",
    "main().then(() => console.log('Done')).catch((ex) => console.log(ex.message));"
   ]
  },
  {
   "cell_type": "code",
   "execution_count": null,
   "id": "eabe9cb9",
   "metadata": {},
   "outputs": [],
   "source": [
    "setx AZURE_STORAGE_CONNECTION_STRING DefaultEndpointsProtocol=https;AccountName=storagebusinesstravel;AccountKey=RCV4bjqaCAvUB6aL8WrdeZ7UYBSlE1E3eedrSouE2cIsOsxfRGGM1VreBpgtRDRBP+oJWp7HhHNl1w1BdNNxlA==;EndpointSuffix=core.windows.net\""
   ]
  }
 ],
 "metadata": {
  "kernelspec": {
   "display_name": "JavaScript (Node.js)",
   "language": "javascript",
   "name": "javascript"
  },
  "language_info": {
   "file_extension": ".js",
   "mimetype": "application/javascript",
   "name": "javascript",
   "version": "16.13.1"
  }
 },
 "nbformat": 4,
 "nbformat_minor": 5
}
