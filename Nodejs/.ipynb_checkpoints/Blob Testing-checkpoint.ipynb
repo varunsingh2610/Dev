{
 "cells": [
  {
   "cell_type": "code",
   "execution_count": 23,
   "id": "b0cb257f",
   "metadata": {},
   "outputs": [],
   "source": [
    "const { BlobServiceClient } = require(\"@azure/storage-blob\");\n",
    "\n",
    "const connStr = \"DefaultEndpointsProtocol=https;AccountName=storagebusinesstravel;AccountKey=RCV4bjqaCAvUB6aL8WrdeZ7UYBSlE1E3eedrSouE2cIsOsxfRGGM1VreBpgtRDRBP+oJWp7HhHNl1w1BdNNxlA==;EndpointSuffix=core.windows.net\";\n",
    "\n",
    "const blobServiceClient = BlobServiceClient.fromConnectionString(connStr);"
   ]
  },
  {
   "cell_type": "code",
   "execution_count": 13,
   "id": "22334266",
   "metadata": {},
   "outputs": [
    {
     "ename": "SyntaxError",
     "evalue": "Identifier 'BlobServiceClient' has already been declared",
     "output_type": "error",
     "traceback": [
      "evalmachine.<anonymous>:1",
      "const { BlobServiceClient } = require(\"@azure/storage-blob\");",
      "^",
      "",
      "SyntaxError: Identifier 'BlobServiceClient' has already been declared",
      "    at Script.runInThisContext (node:vm:129:12)",
      "    at Object.runInThisContext (node:vm:305:38)",
      "    at run ([eval]:1054:15)",
      "    at onRunRequest ([eval]:888:18)",
      "    at onMessage ([eval]:848:13)",
      "    at process.emit (node:events:390:28)",
      "    at emit (node:internal/child_process:917:12)",
      "    at processTicksAndRejections (node:internal/process/task_queues:84:21)"
     ]
    }
   ],
   "source": [
    "const { BlobServiceClient } = require(\"@azure/storage-blob\");\n",
    "const { DefaultAzureCredential } = require(\"@azure/identity\");"
   ]
  },
  {
   "cell_type": "code",
   "execution_count": null,
   "id": "e029cecf",
   "metadata": {},
   "outputs": [],
   "source": []
  },
  {
   "cell_type": "code",
   "execution_count": null,
   "id": "6a498951",
   "metadata": {},
   "outputs": [],
   "source": []
  },
  {
   "cell_type": "code",
   "execution_count": 22,
   "id": "f9421853",
   "metadata": {},
   "outputs": [
    {
     "ename": "SyntaxError",
     "evalue": "Identifier 'account' has already been declared",
     "output_type": "error",
     "traceback": [
      "evalmachine.<anonymous>:1",
      "const account = \"storagebusinesstravel\";",
      "^",
      "",
      "SyntaxError: Identifier 'account' has already been declared",
      "    at Script.runInThisContext (node:vm:129:12)",
      "    at Object.runInThisContext (node:vm:305:38)",
      "    at run ([eval]:1054:15)",
      "    at onRunRequest ([eval]:888:18)",
      "    at onMessage ([eval]:848:13)",
      "    at process.emit (node:events:390:28)",
      "    at emit (node:internal/child_process:917:12)",
      "    at processTicksAndRejections (node:internal/process/task_queues:84:21)"
     ]
    }
   ],
   "source": [
    "const account = \"storagebusinesstravel\";"
   ]
  },
  {
   "cell_type": "code",
   "execution_count": 24,
   "id": "3eccec46",
   "metadata": {},
   "outputs": [
    {
     "ename": "SyntaxError",
     "evalue": "Identifier 'blobServiceClient' has already been declared",
     "output_type": "error",
     "traceback": [
      "evalmachine.<anonymous>:1",
      "",
      "",
      "SyntaxError: Identifier 'blobServiceClient' has already been declared",
      "    at Script.runInThisContext (node:vm:129:12)",
      "    at Object.runInThisContext (node:vm:305:38)",
      "    at run ([eval]:1054:15)",
      "    at onRunRequest ([eval]:888:18)",
      "    at onMessage ([eval]:848:13)",
      "    at process.emit (node:events:390:28)",
      "    at emit (node:internal/child_process:917:12)",
      "    at processTicksAndRejections (node:internal/process/task_queues:84:21)"
     ]
    }
   ],
   "source": [
    "\n",
    "\n",
    "\n",
    "const containerName = \"<container name>\";\n",
    "\n",
    "async function main() {\n",
    "  const containerClient = blobServiceClient.getContainerClient(containerName);\n",
    "\n",
    "  const content = \"Hello world!\";\n",
    "  const blobName = \"newblob\" + new Date().getTime();\n",
    "  const blockBlobClient = containerClient.getBlockBlobClient(blobName);\n",
    "  const uploadBlobResponse = await blockBlobClient.upload(content, content.length);\n",
    "  console.log(`Upload block blob ${blobName} successfully`, uploadBlobResponse.requestId);\n",
    "}\n",
    "\n",
    "main();"
   ]
  },
  {
   "cell_type": "code",
   "execution_count": null,
   "id": "360b8912",
   "metadata": {},
   "outputs": [],
   "source": []
  }
 ],
 "metadata": {
  "kernelspec": {
   "display_name": "JavaScript (Node.js)",
   "language": "javascript",
   "name": "javascript"
  },
  "language_info": {
   "file_extension": ".js",
   "mimetype": "application/javascript",
   "name": "javascript",
   "version": "16.13.1"
  }
 },
 "nbformat": 4,
 "nbformat_minor": 5
}
